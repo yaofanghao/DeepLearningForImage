{
 "cells": [
  {
   "cell_type": "markdown",
   "metadata": {
    "collapsed": false
   },
   "source": [
    "# 第八章 注意力机制\n",
    "\n",
    "\n",
    "注意力机制（Attention Mechanism）是目前在深度学习中使用非常多的信息选择机制。注意力机制可以作为一种资源分配方案，将从大量的候选信息中选择和任务更相关或更重要的信息，是解决信息超载问题的有效手段。注意力机制可以单独使用，但是更多地用作神经网络中的一个组件。\n",
    "\n",
    "本章内容基于《神经网络与深度学习》第8章：注意力机制相关内容进行设计。在阅读本章之前，建议先了解如图8.1所示的关键知识点，以便更好的理解和掌握相应的理论和实践知识。\n",
    "\n",
    "本章内容主要包含两部分：\n",
    "\n",
    "* **模型解读**：实现注意力机制的基本模式和其变体，并设计了一个文本分类的实验，验证通过注意力机制和LSTM模型的组合应用，验证对模型处理信息能力的提升效果；并进一步实现多头自注意力模型来实现文本分类。\n",
    "\n",
    "* **案例与实践**：实现基于Transformer模型的文本语义匹配任务。\n",
    "\n",
    "<center><img src=\"https://ai-studio-static-online.cdn.bcebos.com/843904864e314fc099c2eb38ff26447f6197aab319ca4c82a6de2d4cae2279a5\" width=\"600px\"></center>\n",
    "<br><center>图8.1 注意力机制关键知识点回顾</center></br>\n"
   ]
  },
  {
   "cell_type": "markdown",
   "metadata": {
    "collapsed": false
   },
   "source": [
    "# 8.1. 基于双向LSTM和注意力机制的文本分类\n",
    "\n",
    "\n",
    "注意力机制的计算可以分为两步：一是在所有序列元素上计算注意力分布，二是根据注意力分布来计算序列中所有元素表示的加权平均得到的聚合表示。\n",
    "\n",
    "为了从$N$个**输入向量**$[x_{1};...;x_{N}]$中选择出和某个特定任务相关的信息，需要引入一个和任务相关的表示，称为**查询向量**{Query Vector}，并通过一个打分函数来计算每个输入向量和查询向量之间的相关性。\n",
    "\n",
    "给定一个和任务相关的查询向量$q$，首先计算**注意力分布**{Attention Distribution}，即选择第$n$个输入向量的概率$\\alpha_{n}$：\n",
    "\n",
    "$$\n",
    "\\alpha_{n}=softmax(s(\\mathbf x_{n},\\mathbf q))\n",
    "$$\n",
    "\n",
    "其中$s(x,q)$为**注意力打分函数**，可以使用**加性模型**、**点积模型**、**缩放点积模型**和**双线性模型**的方式来计算。\n"
   ]
  },
  {
   "cell_type": "markdown",
   "metadata": {
    "collapsed": false
   },
   "source": [
    "得到注意力分布之后，可以对输入向量进行加权平均，得到整个序列的最终表示。\n",
    "$$\n",
    "\\mathbf z = \\sum_{n=1}^{N}\\alpha_{n} \\mathbf x_n.\n",
    "$$"
   ]
  },
  {
   "cell_type": "markdown",
   "metadata": {
    "collapsed": false
   },
   "source": [
    "在第6.4节中的文本分类任务中，经过双向LSTM层之后，直接将序列中所有元素的表示进行平均，得到的平均表示作为整个输入序列的聚合表示。这种平均的聚合方式虽然达到不错的效果，但是还不够精确。\n",
    "在本节中，我们首先在第6.4节中实现的基于LSTM网络进行文本分类任务的基础上，通过在LSTM层上再叠加一层的注意力机制来从LSTM的隐状态中的自动选择有用的信息。\n",
    "\n",
    "\n",
    "如图8.2所示，输入一个文本序列The movie is nice进行情感分析，直观上单词nice应该比其它词更重要。这时可以利用注意力机制来挑选对任务更相关的信息。假设给定一个和任务相关的查询向量为sentiment，我们先用查询向量sentiment和文本序列中所有词计算注意力分布，并根据注意力分布对所有词进行加权平均，得到整个序列的聚合表示。\n",
    "\n",
    "\n",
    "<center><img src=\"https://ai-studio-static-online.cdn.bcebos.com/eaf583596e934cc8a266a42b998356453d7241c05a774c7f89e828d23ca31093\" width=\"800px\"></center>\n",
    "<br><center>图8.2 使用注意力机制来计算序列的聚合表示示例</center></br>\n",
    "\n"
   ]
  },
  {
   "cell_type": "code",
   "execution_count": 1,
   "metadata": {
    "collapsed": false
   },
   "outputs": [],
   "source": [
    "import warnings\n",
    "warnings.filterwarnings('ignore')"
   ]
  },
  {
   "cell_type": "markdown",
   "metadata": {
    "collapsed": false
   },
   "source": [
    "## 8.1.1 数据\n",
    "\n",
    "\n",
    "\n",
    "本实验使用和第6.4.1节相同的数据集：IMDB电影评论数据集"
   ]
  },
  {
   "cell_type": "code",
   "execution_count": 2,
   "metadata": {
    "collapsed": false
   },
   "outputs": [
    {
     "name": "stdout",
     "output_type": "stream",
     "text": [
      "Train data:\n",
      "Text: it does seem like this film is polarizing us. you either love it or hate it. i loved it.<br /><br />i agree with the comment(s) that said, you just gotta \"feel\" this one.<br /><br />also, early in the film, tom cruise shows his girlfriend a painting done by monet--an impressionist painter. monet's style is to paint in little dabs so up close the painting looks like a mess, but from a distance, you can tell what the subject is. cruise mentions that the painting has a \"vanilla sky\". i believe this is a hint to the moviegoer. this movie is like that impressionist painting. it's impressionist filmmaking! and it's no coincidence that the title of the movie refers to that painting.<br /><br />this is not your typical linear plot. it requires more thought. there is symbolism and there are scenes that jump around and no, you're not always going to be sure what's going on. but at the end, all is explained.<br /><br />you will need to concentrate on this movie but i think people are making the mistake of concentrating way too hard on it. after it ends is when you should think about it. if you try to figure it out as it's unfolding, you will overwhelm yourself. just let it happen...\"go\" with it...keep an open mind. remember what you see and save the analysis for later.<br /><br />i found all the performances top notch and thought it to be tremendously unique, wildly creative, and spellbinding.<br /><br />but i will not critize the intelligence of those of you who didn't enjoy it. it appeals to a certain taste. if you like existential, psychedelic, philosophical, thought-provoking, challenging, spiritual movies, then see it. if you prefer something a little lighter, then skip it.<br /><br />but if you do like what i described, then you will surely enjoy it.; Label 1\n"
     ]
    }
   ],
   "source": [
    "from data import load_vocab,load_imdb_data\n",
    "train_data, dev_data, test_data = load_imdb_data(\"./dataset\") # 加载IMDB数据集和word2id词典\n",
    "word2id_dict= load_vocab(\"dataset/vocab.txt\") # 加载词典\n",
    "# 显示一条训练样本\n",
    "print(\"Train data:\")\n",
    "text,label=train_data[0]\n",
    "print(f\"Text: {text}; Label {label}\")"
   ]
  },
  {
   "cell_type": "code",
   "execution_count": 3,
   "metadata": {
    "collapsed": false
   },
   "outputs": [
    {
     "name": "stdout",
     "output_type": "stream",
     "text": [
      "训练集样本数： 25000\n",
      "处理后的第一条样本： ([12, 114, 268, 37, 10, 24, 7, 84022, 2440, 25, 452, 120, 12, 40, 779, 112, 9, 403, 619, 13, 165, 1041, 17, 2, 146466, 11, 1100, 25, 39, 3633, 28663, 10, 2506, 13, 4158, 358, 8, 2, 151, 877, 4597, 287, 21, 1384, 3, 4644, 247, 31, 146467, 25606, 26222, 146468, 507, 7, 6, 2858, 8, 105, 146469, 38, 65, 547, 2, 4644, 251, 37, 3, 5877, 18, 34, 3, 19243, 25, 64, 337, 48, 2, 961, 701, 4597, 5165, 11, 2, 4644, 41, 3, 63486, 60235, 9, 250, 10, 7, 3, 3275, 6, 2, 63493, 10, 20, 7, 37, 11, 25606, 15503, 44, 25606, 146470, 4, 44, 60, 9045, 11, 2, 490, 5, 2, 20, 6415, 6, 11, 46562, 13, 255, 7, 23, 111, 716, 9899, 1076, 12, 3616, 51, 5492, 52, 7, 5302, 4, 52, 22, 159, 11, 2051, 197, 4, 1375, 298, 23, 206, 162, 6, 28, 274, 777, 162, 774, 18, 29, 2, 656, 35, 7, 26138, 13, 2230, 74, 311, 6, 6864, 19, 10, 20, 18, 9, 98, 89, 22, 242, 2, 1887, 5, 14977, 108, 104, 261, 19, 112, 94, 12, 654, 7, 50, 25, 128, 98, 43, 112, 46, 25, 325, 6, 848, 12, 47, 15, 44, 47240, 25, 74, 14975, 3782, 39, 347, 12, 146471, 17, 146472, 32, 990, 1954, 366, 48, 25, 67, 4, 544, 2, 7625, 16, 9074, 13, 165, 236, 35, 2, 423, 426, 5339, 4, 199, 12, 6, 28, 8730, 7704, 5944, 14683, 4, 146473, 13, 688, 9, 74, 23, 146474, 2, 2199], 1)\n"
     ]
    }
   ],
   "source": [
    "from nndl import IMDBDataset\n",
    "\n",
    "batch_size = 128\n",
    "max_seq_len = 256\n",
    "train_set = IMDBDataset(train_data, word2id_dict, max_seq_len)\n",
    "dev_set = IMDBDataset(dev_data, word2id_dict, max_seq_len)\n",
    "test_set = IMDBDataset(test_data, word2id_dict, max_seq_len)\n",
    "\n",
    "print('训练集样本数：', len(train_set))\n",
    "print('处理后的第一条样本：', train_set[0])"
   ]
  },
  {
   "cell_type": "code",
   "execution_count": 4,
   "metadata": {
    "collapsed": false
   },
   "outputs": [
    {
     "name": "stdout",
     "output_type": "stream",
     "text": [
      "[[Tensor(shape=[128, 256], dtype=int64, place=Place(gpu:0), stop_gradient=True,\n",
      "       [[12    , 114   , 268   , ..., 146474, 2     , 2199  ],\n",
      "        [10    , 20    , 7     , ..., 1     , 1     , 1     ],\n",
      "        [9     , 98    , 11    , ..., 31    , 2798  , 3398  ],\n",
      "        ...,\n",
      "        [9     , 309   , 6     , ..., 13    , 4328  , 99    ],\n",
      "        [10506 , 11342 , 41    , ..., 10    , 160   , 77    ],\n",
      "        [10    , 14    , 30    , ..., 1     , 1     , 1     ]]), Tensor(shape=[128], dtype=int64, place=Place(gpu:0), stop_gradient=True,\n",
      "       [256, 198, 256, 256, 174, 174, 256, 150, 132, 256, 128, 102, 123, 79 ,\n",
      "        171, 115, 254, 122, 149, 117, 130, 256, 116, 212, 89 , 177, 194, 113,\n",
      "        123, 179, 135, 49 , 194, 256, 125, 91 , 256, 256, 92 , 128, 218, 137,\n",
      "        256, 256, 255, 173, 145, 116, 45 , 167, 256, 154, 129, 76 , 131, 157,\n",
      "        193, 134, 226, 256, 256, 122, 256, 151, 256, 156, 192, 197, 256, 173,\n",
      "        71 , 256, 105, 55 , 141, 163, 256, 256, 142, 256, 41 , 93 , 110, 78 ,\n",
      "        60 , 256, 133, 256, 256, 256, 256, 28 , 256, 190, 256, 256, 115, 145,\n",
      "        256, 61 , 134, 151, 123, 134, 135, 149, 256, 256, 256, 256, 204, 47 ,\n",
      "        124, 88 , 176, 83 , 256, 129, 187, 73 , 80 , 93 , 256, 256, 208, 256,\n",
      "        256, 45 ])], Tensor(shape=[128, 1], dtype=int64, place=Place(gpu:0), stop_gradient=True,\n",
      "       [[1],\n",
      "        [0],\n",
      "        [0],\n",
      "        [0],\n",
      "        [0],\n",
      "        [1],\n",
      "        [0],\n",
      "        [1],\n",
      "        [0],\n",
      "        [0],\n",
      "        [0],\n",
      "        [1],\n",
      "        [1],\n",
      "        [1],\n",
      "        [0],\n",
      "        [1],\n",
      "        [1],\n",
      "        [0],\n",
      "        [1],\n",
      "        [0],\n",
      "        [0],\n",
      "        [1],\n",
      "        [0],\n",
      "        [0],\n",
      "        [1],\n",
      "        [0],\n",
      "        [0],\n",
      "        [0],\n",
      "        [1],\n",
      "        [1],\n",
      "        [0],\n",
      "        [0],\n",
      "        [0],\n",
      "        [1],\n",
      "        [1],\n",
      "        [0],\n",
      "        [0],\n",
      "        [0],\n",
      "        [0],\n",
      "        [0],\n",
      "        [1],\n",
      "        [1],\n",
      "        [0],\n",
      "        [1],\n",
      "        [0],\n",
      "        [1],\n",
      "        [1],\n",
      "        [1],\n",
      "        [0],\n",
      "        [0],\n",
      "        [1],\n",
      "        [1],\n",
      "        [0],\n",
      "        [1],\n",
      "        [0],\n",
      "        [0],\n",
      "        [0],\n",
      "        [0],\n",
      "        [1],\n",
      "        [1],\n",
      "        [1],\n",
      "        [0],\n",
      "        [0],\n",
      "        [0],\n",
      "        [1],\n",
      "        [0],\n",
      "        [0],\n",
      "        [0],\n",
      "        [1],\n",
      "        [0],\n",
      "        [1],\n",
      "        [1],\n",
      "        [1],\n",
      "        [1],\n",
      "        [1],\n",
      "        [0],\n",
      "        [0],\n",
      "        [1],\n",
      "        [0],\n",
      "        [1],\n",
      "        [0],\n",
      "        [0],\n",
      "        [1],\n",
      "        [0],\n",
      "        [1],\n",
      "        [1],\n",
      "        [1],\n",
      "        [1],\n",
      "        [1],\n",
      "        [1],\n",
      "        [0],\n",
      "        [1],\n",
      "        [0],\n",
      "        [0],\n",
      "        [1],\n",
      "        [1],\n",
      "        [1],\n",
      "        [0],\n",
      "        [0],\n",
      "        [1],\n",
      "        [1],\n",
      "        [0],\n",
      "        [1],\n",
      "        [1],\n",
      "        [1],\n",
      "        [1],\n",
      "        [0],\n",
      "        [0],\n",
      "        [1],\n",
      "        [0],\n",
      "        [1],\n",
      "        [1],\n",
      "        [0],\n",
      "        [1],\n",
      "        [1],\n",
      "        [0],\n",
      "        [0],\n",
      "        [0],\n",
      "        [0],\n",
      "        [1],\n",
      "        [1],\n",
      "        [1],\n",
      "        [0],\n",
      "        [0],\n",
      "        [1],\n",
      "        [0],\n",
      "        [0],\n",
      "        [1]])]\n"
     ]
    }
   ],
   "source": [
    "from functools import partial\n",
    "import paddle\n",
    "from paddle.io import DataLoader\n",
    "\n",
    "def collate_fn(batch_data, pad_val=1):\n",
    "    seqs, labels, lens = [], [], []\n",
    "    for seq, label in batch_data:\n",
    "        seqs.append(seq)\n",
    "        labels.append([label])\n",
    "        lens.append(len(seq))\n",
    "    \n",
    "    max_len = max(lens)\n",
    "    for i in range(len(seqs)):\n",
    "        seqs[i] = seqs[i] + [pad_val] * (max_len - len(seqs[i]))\n",
    "    \n",
    "    return (paddle.to_tensor(seqs), paddle.to_tensor(lens)),paddle.to_tensor(labels)\n",
    "\n",
    "\n",
    "train_loader = DataLoader(train_set, batch_size=batch_size, shuffle=False, drop_last=False, collate_fn=collate_fn)\n",
    "dev_loader = DataLoader(dev_set, batch_size=batch_size, shuffle=False, drop_last=False, collate_fn=collate_fn)\n",
    "test_loader = DataLoader(test_set, batch_size=batch_size, shuffle=False, drop_last=False, collate_fn=collate_fn)\n",
    "\n",
    "for ix,  batch in enumerate(train_loader):\n",
    "    if ix == 0:\n",
    "        print(batch)\n",
    "        break"
   ]
  },
  {
   "cell_type": "markdown",
   "metadata": {
    "collapsed": false
   },
   "source": [
    "## 8.1.2 模型构建\n",
    "\n",
    "本实验的模型结构如图所示。整个模型由以下几个部分组成：\n",
    "\n",
    "1） 嵌入层：将输入句子中的词语转换为向量表示；\n",
    "\n",
    "2） LSTM层：基于双向LSTM网络来建模句子中词语的上下文表示；\n",
    "\n",
    "3） 注意力层：使用注意力机制来从LSTM层的输出中筛选和聚合有效的特征；\n",
    "\n",
    "4） 线性层：输出层，预测对应的类别得分。\n",
    "\n",
    "我们直接使用第6.4节中实现的嵌入层和双向LSTM层，这里主要介绍注意力层的实现。"
   ]
  },
  {
   "cell_type": "markdown",
   "metadata": {
    "collapsed": false
   },
   "source": [
    "<center><img src=\"https://ai-studio-static-online.cdn.bcebos.com/1849e001101c4b8695889a1eb0c6f82368d467c0a2434780aa1f2314cb1c525f\" width=\"800px\"></center>\n",
    "<br><center>图8.3 基于双向LSTM和注意力机制的文本分类模型</center></br>\n"
   ]
  },
  {
   "cell_type": "markdown",
   "metadata": {
    "collapsed": false
   },
   "source": [
    "\n",
    "\n",
    "假设在给定一个长度为$L$的序列，在经过嵌入层和双向LSTM层之后，我们得到序列的表示矩阵$\\mathbf X\\in \\mathbb{R}^{L \\times D}$，其中$D$为序列中每个元素的特征表示维度。\n",
    "在本节中，我们利用注意力机制来进行更好的信息聚合，只需要从$\\mathbf X$中选择一些和任务相关的信息作为序列的聚合表示。\n",
    "\n",
    "下面我们分别实现在注意力计算中的注意力打分函数、注意力分布计算和加权平均三个模块。"
   ]
  },
  {
   "cell_type": "markdown",
   "metadata": {
    "collapsed": false
   },
   "source": [
    "### 8.1.2.1 注意力打分函数\n",
    "\n",
    "首先我们实现注意力分布计算公式8.1节中的注意力打分函数$s(\\mathbf x,\\mathbf q)$。\n",
    "这里，我们分别实现**加性模型**和**点积模型**两种。"
   ]
  },
  {
   "cell_type": "markdown",
   "metadata": {
    "collapsed": false
   },
   "source": [
    "**加性模型**\n",
    "\n",
    "\n",
    "假设输入序列为$\\mathbb X\\in \\mathbb{R}^{B\\times L\\times D}$，其中$B$为批量大小，$L$为序列长度，$D$为特征维度，我们引入一个任务相关的查询向量$\\mathbb q\\in \\mathbb{R}^{D}$，这里查询向量$\\mathbb q$作为可学习的参数。\n",
    "\n",
    "加性模型的公式为\n",
    "$$\n",
    "s(\\mathbf X,\\mathbf q)=\\mathbf v^T \\tanh(\\mathbf X\\mathbf W+\\mathbf{q}^T \\mathbf U),\n",
    "$$\n",
    "其中$\\mathbf W\\in \\mathbb{R}^{D\\times D}$,$\\mathbf U\\in \\mathbb{R}^{D\\times D}$和$\\mathbf v\\in \\mathbb{R}^{D}$都是可学习的参数。"
   ]
  },
  {
   "cell_type": "markdown",
   "metadata": {
    "collapsed": false
   },
   "source": [
    "********\n",
    " 在本章中，我们实现形如$\\mathbf X\\mathbf W$这种特征矩阵和参数矩阵的乘积时，可以直接利用`paddle.nn.Linear()`算子来实现，这样可以使得实现代码更简洁。\n",
    "  $\\mathbf Y=\\mathbf X\\mathbf W$可以实现为：\n",
    "\n",
    "    W = paddle.nn.Linear(D, D, bias_attr=False)\n",
    "    Y = W(X)\n",
    "********"
   ]
  },
  {
   "cell_type": "code",
   "execution_count": 5,
   "metadata": {
    "collapsed": false
   },
   "outputs": [
    {
     "name": "stderr",
     "output_type": "stream",
     "text": [
      "W0714 14:14:08.415232   103 gpu_context.cc:278] Please NOTE: device: 0, GPU Compute Capability: 8.0, Driver API Version: 11.2, Runtime API Version: 11.2\n",
      "W0714 14:14:08.419399   103 gpu_context.cc:306] device: 0, cuDNN Version: 8.2.\n"
     ]
    },
    {
     "name": "stdout",
     "output_type": "stream",
     "text": [
      "Tensor(shape=[1, 3], dtype=float32, place=Place(gpu:0), stop_gradient=False,\n",
      "       [[-0.52282858,  0.84343088,  0.59816718]])\n"
     ]
    }
   ],
   "source": [
    "import paddle.nn as nn\n",
    "import paddle\n",
    "\n",
    "class AdditiveScore(nn.Layer):\n",
    "    def __init__(self, hidden_size):\n",
    "        super(AdditiveScore, self).__init__()\n",
    "        self.fc_W = nn.Linear(hidden_size, hidden_size, bias_attr=False)\n",
    "        self.fc_U = nn.Linear(hidden_size, hidden_size, bias_attr=False)\n",
    "        self.fc_v = nn.Linear(hidden_size, 1, bias_attr=False)\n",
    "        # 查询向量使用均匀分布随机初始化\n",
    "        self.q = paddle.create_parameter(\n",
    "            shape=[1, hidden_size],\n",
    "            dtype=\"float32\",\n",
    "            default_initializer=nn.initializer.Uniform(low=-0.5, high=0.5),\n",
    "        )\n",
    "\n",
    "    def forward(self, inputs):\n",
    "        \"\"\"\n",
    "        输入：\n",
    "            - inputs：输入矩阵，shape=[batch_size, seq_len, hidden_size]\n",
    "        输出：\n",
    "            - scores：输出矩阵，shape=[batch_size, seq_len]\n",
    "        \"\"\"\n",
    "        # inputs:  [batch_size, seq_len, hidden_size]\n",
    "        batch_size, seq_len, hidden_size = inputs.shape\n",
    "        # scores: [batch_size, seq_len, hidden_size]\n",
    "        scores = paddle.tanh(self.fc_W(inputs)+self.fc_U(self.q))\n",
    "        # scores: [batch_size, seq_len]\n",
    "        scores = self.fc_v(scores).squeeze(-1)\n",
    "        return scores\n",
    "\n",
    "paddle.seed(2021)\n",
    "inputs = paddle.rand(shape=[1, 3, 3])\n",
    "additiveScore = AdditiveScore(hidden_size=3)\n",
    "scores = additiveScore(inputs)\n",
    "print(scores)"
   ]
  },
  {
   "cell_type": "markdown",
   "metadata": {
    "collapsed": false
   },
   "source": [
    "上面显示的是加性注意力打分算子的打分输出，加性注意力打分算子的输入是随机初始化的张量。"
   ]
  },
  {
   "cell_type": "markdown",
   "metadata": {
    "collapsed": false
   },
   "source": [
    " ********\n",
    " 这里加性模型是按照《神经网络与深度学习》的公式(8.2)来实现。由于在本任务中，$\\mathbf{q}$也作为可学习的参数，因此$\\mathbf{q}^T \\mathbf{U}$也可以简化为一组参数$\\mathbf{q}$。请思考两种实现方式的区别？\n",
    " ********"
   ]
  },
  {
   "cell_type": "markdown",
   "metadata": {
    "collapsed": false
   },
   "source": [
    "**点积模型**\n",
    "\n",
    "下面我们再来实现点积的注意力模型。\n",
    "对于输入序列为$\\mathbf X\\in \\mathbb{R}^{B\\times L\\times D}$，其中$B$为批量大小，$L$为序列长度，$D$为特征维度，以及可学习的任务相关的查询向量$\\mathbf q\\in \\mathbb{R}^{D}$，点积模型的公式为\n",
    "$$\n",
    "s(\\mathbf X,\\mathbf q)=\\mathbf X\\mathbf q.\n",
    "$$\n",
    "其中$\\mathbf q$是一个和任务相关的可学习的查询向量。理论上，加性模型和点积模型的复杂度差不多，但是点积模型在实现上可以更好地利用矩阵乘积，从而计算效率更高。\n",
    "\n",
    "将点积模型实现为**点积注意力打分算子**，代码实现如下："
   ]
  },
  {
   "cell_type": "code",
   "execution_count": 6,
   "metadata": {
    "collapsed": false
   },
   "outputs": [
    {
     "name": "stdout",
     "output_type": "stream",
     "text": [
      "Tensor(shape=[1, 3], dtype=float32, place=Place(gpu:0), stop_gradient=False,\n",
      "       [[-0.24780354,  0.31022751,  0.19821185]])\n"
     ]
    }
   ],
   "source": [
    "class DotProductScore(nn.Layer):\n",
    "    def __init__(self, hidden_size):\n",
    "        super(DotProductScore, self).__init__()\n",
    "        # 使用均匀分布随机初始化一个查询向量\n",
    "        self.q = paddle.create_parameter(\n",
    "            shape=[hidden_size, 1],\n",
    "            dtype=\"float32\",\n",
    "            default_initializer=nn.initializer.Uniform(low=-0.5, high=0.5),\n",
    "        )\n",
    "\n",
    "    def forward(self, inputs):\n",
    "        \"\"\"\n",
    "        输入：\n",
    "            - X：输入矩阵，shape=[batch_size,seq_len,hidden_size]\n",
    "        输出：\n",
    "            - scores：输出矩阵，shape=[batch_size, seq_len]\n",
    "        \"\"\"\n",
    "        # inputs: [batch_size, seq_length, hidden_size]\n",
    "        batch_size, seq_length, hidden_size = inputs.shape\n",
    "        # scores : [batch_size, seq_length, 1]\n",
    "        scores = paddle.matmul(inputs, self.q)\n",
    "        # scores : [batch_size, seq_length]\n",
    "        scores = scores.squeeze(-1)\n",
    "        return scores\n",
    "\n",
    "paddle.seed(2021)\n",
    "inputs = paddle.rand(shape=[1, 3, 3])\n",
    "dotScore = DotProductScore(hidden_size=3)\n",
    "scores = dotScore(inputs)\n",
    "print(scores)"
   ]
  },
  {
   "cell_type": "markdown",
   "metadata": {
    "collapsed": false
   },
   "source": [
    "上面显示的是点积注意力打分算子的打分输出，点积注意力打分算子的输入是随机初始化的张量。"
   ]
  },
  {
   "cell_type": "markdown",
   "metadata": {
    "collapsed": false
   },
   "source": [
    "### 8.1.2.2 注意力分布计算\n",
    "\n",
    "在计算注意力分布的公式中，需要用到Softmax函数计算注意力分布。在实践中，如果采用小批量梯度下降进行优化，需要对同一批次中不同长度的输入序列进行补齐。用$\\mathbf S\\in \\mathbb{R}^{B\\times L}$表示一组样本的注意力打分值，其中$B$是批量大小，$L$是填充补齐后的序列长度，每一行表示一个样本中每个元素的注意力打分值，注意力分布的计算为\n",
    "\n",
    "$$\n",
    "\\Alpha =softmax(\\mathbf S + \\mathbf M) \\in \\mathbb{R}^{B\\times L},\n",
    "$$\n",
    "其中$softmax(\\cdot)$是按行进行归一化，$\\mathbf M\\in \\mathbb{R}^{B\\times L}$是掩码（mask）矩阵，比如[PAD]位置的元素值置为-1e9，其它位置的元素值置为0，$\\mathbf{\\Alpha} \\in \\mathbb{R}^{B\\times L}$是归一化后的**注意力分布**，也称为**注意力权重**。\n",
    "\n",
    "比如第6.4.1.3中的例子：\n",
    "```\n",
    "句子1: This movie was craptacular [PAD] [PAD] [PAD] [PAD] [PAD] [PAD] [PAD]\n",
    "句子2: I got stuck in traffic on the way to the theater\n",
    "```\n",
    "\n",
    "注意力打分函数$\\mathbf S$的的结果为：\n",
    "\n",
    "```\n",
    "句子1: 0.31750774 0.52375913 0.81493020 0.84624285 0.84624285 0.76624285 0.64524285 0.54424285 0.44324285 0.24724285 0.84624285\n",
    "句子2: 0.24595281 0.48540151 1.18520606 0.61489654 1.19498014 0.83661449 0.61444044 0.49837655 0.60015976 0.58790737 0.89794636\n",
    "```\n",
    "掩码矩阵$\\mathbf M$为：\n",
    "\n",
    "```\n",
    "句子1: 0 0 0 0 -1e9 -1e9 -1e9 -1e9 -1e9 -1e9 -1e9\n",
    "句子2: 0 0 0 0 0 0 0 0 0 0 0\n",
    "```\n",
    "公式中的$\\mathbf S + \\mathbf M$则变为：\n",
    "\n",
    "```\n",
    "句子1: 0.31750774 0.52375913 0.81493020 0.84624285 -1e9 -1e9 -1e9 -1e9 -1e9 -1e9 -1e9\n",
    "句子2: 0.24595281 0.48540151 1.18520606 0.61489654 1.19498014 0.83661449 0.61444044 0.49837655 0.60015976 0.58790737 0.89794636\n",
    "```\n",
    "再使用Softmax计算注意力权重，输出为：\n",
    "```\n",
    "句子1: 0.17952277 0.22064464 0.2952211  0.30461147 0. 0. 0. 0. 0. 0. 0.\n",
    "句子2: 0.05510249 0.07001039 0.14095604 0.07968955 0.14234053 0.09947003 0.07965322 0.07092468 0.0785238  0.07756757 0.10576169\n",
    "```\n",
    "可以看到[PAD]部分在填充-1e9之后，对应的Softmax输出变成了0，相当于把[PAD]这些没有特殊意义字符给屏蔽了，然后剩下元素计算注意力分布，这样做就减少了这些没有特殊意义单元对于注意力计算的影响。"
   ]
  },
  {
   "cell_type": "markdown",
   "metadata": {
    "collapsed": false
   },
   "source": [
    "掩码实现使用到了`paddle.where(condition, x, y, name=None)`的API，该OP返回一个根据输入 condition, 选择 x 或 y 的元素组成的多维 Tensor ：\n",
    "\n",
    "$$\n",
    "out_{i}=\\left\\{\n",
    "\\begin{aligned}\n",
    "x_{i}, cond_{i} = True \\\\\n",
    "y_{i}, cond_{i} = False \\\\\n",
    "\\end{aligned}\n",
    "\\right.\n",
    "$$"
   ]
  },
  {
   "cell_type": "markdown",
   "metadata": {
    "collapsed": false
   },
   "source": [
    "```\n",
    "# arrange: [1,seq_len],比如seq_len=4, arrange变为 [0,1,2,3]\n",
    "arrange = paddle.arange((scores.shape[1]), dtype=paddle.float32).unsqueeze(0)\n",
    "# valid_lens : [batch_size, 1]\n",
    "valid_lens = valid_lens.unsqueeze(1)\n",
    "# 掩码在实现的过程中使用了广播机制。\n",
    "# mask [batch_size, seq_len]\n",
    "mask = arrange < valid_lens\n",
    "y = paddle.full(scores.shape, -1e9, scores.dtype)\n",
    "scores = paddle.where(mask, scores, y)\n",
    "# attn_weights: [batch_size, seq_len]\n",
    "attn_weights = F.softmax(scores, axis=-1)\n",
    "```"
   ]
  },
  {
   "cell_type": "markdown",
   "metadata": {
    "collapsed": false
   },
   "source": [
    "### 8.1.2.3  加权平均\n",
    "\n",
    "加权平均就是在使用打分函数计算注意力分布后，用该分布的每个值跟相应的输入的向量相乘得到的结果，公式如下：\n",
    "$$\n",
    "\\mathbf z = \\sum_{n=1}^{N}\\alpha_{n} \\mathbf x_n.\n",
    "$$\n",
    "\n",
    "加权平均的代码如下：\n",
    "\n",
    "```\n",
    "# X: [batch_size, seq_len, hidden_size]\n",
    "# attn_weights: [batch_size, seq_len]\n",
    "# context: [batch_size, 1, hidden_size]\n",
    "context = paddle.matmul(attn_weights.unsqueeze(1), X)\n",
    "# context: [batch_size, hidden_size]\n",
    "context = paddle.squeeze(context, axis=1)\n",
    "```\n",
    "\n",
    "包含加权平均的完整注意力机制的的实现代码如下："
   ]
  },
  {
   "cell_type": "code",
   "execution_count": 8,
   "metadata": {
    "collapsed": false
   },
   "outputs": [],
   "source": [
    "import paddle.nn.functional as F\n",
    "\n",
    "class Attention(nn.Layer):\n",
    "    def __init__(self, hidden_size, use_additive=False):\n",
    "        super(Attention, self).__init__()\n",
    "        self.use_additive = use_additive\n",
    "        # 使用加性模型或者点积模型\n",
    "        if self.use_additive:\n",
    "            self.scores = AdditiveScore(hidden_size)\n",
    "        else:\n",
    "            self.scores = DotProductScore(hidden_size)\n",
    "        self._attention_weights = None\n",
    "\n",
    "    def forward(self, X, valid_lens):\n",
    "        \"\"\"\n",
    "        输入：\n",
    "            - X：输入矩阵，shape=[batch_size, seq_len, hidden_size]\n",
    "            - valid_lens：长度矩阵，shape=[batch_size]\n",
    "        输出：\n",
    "            - context ：输出矩阵，表示的是注意力的加权平均的结果\n",
    "        \"\"\"\n",
    "        # scores: [batch_size, seq_len]\n",
    "        scores = self.scores(X)\n",
    "        # arrange: [1,seq_len],比如seq_len=4, arrange变为 [0,1,2,3]\n",
    "        arrange = paddle.arange((scores.shape[1]), dtype=paddle.float32).unsqueeze(0)\n",
    "        # valid_lens : [batch_size, 1]\n",
    "        valid_lens = valid_lens.unsqueeze(1)\n",
    "        # mask [batch_size, seq_len]\n",
    "        mask = arrange < valid_lens\n",
    "        y = paddle.full(scores.shape, -1e9, scores.dtype)\n",
    "        scores = paddle.where(mask, scores, y)\n",
    "        # attn_weights: [batch_size, seq_len]\n",
    "        attn_weights = F.softmax(scores, axis=-1)\n",
    "        self._attention_weights = attn_weights\n",
    "        # context: [batch_size, 1, hidden_size]\n",
    "        context = paddle.matmul(attn_weights.unsqueeze(1), X)\n",
    "        # context: [batch_size, hidden_size]\n",
    "        context = paddle.squeeze(context, axis=1)\n",
    "        return context\n",
    "\n",
    "    @property\n",
    "    def attention_weights(self):\n",
    "        return self._attention_weights"
   ]
  },
  {
   "cell_type": "markdown",
   "metadata": {
    "collapsed": false
   },
   "source": [
    "使用加性打分函数的代码实现如下"
   ]
  },
  {
   "cell_type": "code",
   "execution_count": 9,
   "metadata": {
    "collapsed": false
   },
   "outputs": [
    {
     "name": "stdout",
     "output_type": "stream",
     "text": [
      "输入向量为 [[[0.04542791 0.85057974 0.33361533]\n",
      "  [0.946391   0.23847368 0.36302885]\n",
      "  [0.76614064 0.37495252 0.33336037]]]\n",
      "注意力的输出为 : [[0.7633098  0.36295402 0.3570773 ]]\n",
      "注意力权重为 : [[0.20322487 0.79677516 0.        ]]\n"
     ]
    }
   ],
   "source": [
    "paddle.seed(2021)\n",
    "X = paddle.rand(shape=[1, 3, 3])\n",
    "valid_lens = paddle.to_tensor([2])\n",
    "print(\"输入向量为 {}\".format(X.numpy()))\n",
    "add_atten = Attention(hidden_size=3, use_additive=True)\n",
    "context = add_atten(X, valid_lens)\n",
    "print(\"注意力的输出为 : {}\".format(context.numpy()))\n",
    "print(\"注意力权重为 : {}\".format(add_atten.attention_weights.numpy()))"
   ]
  },
  {
   "cell_type": "markdown",
   "metadata": {
    "collapsed": false
   },
   "source": [
    "从输出结果看，输入向量是一个$3 \\times 3$的矩阵，输入向量采用随机初始化。加性模型的输出是一个$1 \\times 3$的向量，输出的注意力权重就是输入的3个向量的权重，用 $1 \\times 3$的向量表示，即三个输入向量的权重依次为0.20325246，0.7967475和0。"
   ]
  },
  {
   "cell_type": "markdown",
   "metadata": {
    "collapsed": false
   },
   "source": [
    "使用点积打分函数的代码如下："
   ]
  },
  {
   "cell_type": "code",
   "execution_count": 10,
   "metadata": {
    "collapsed": false
   },
   "outputs": [
    {
     "name": "stdout",
     "output_type": "stream",
     "text": [
      "输入向量为 [[[0.04542791 0.85057974 0.33361533]\n",
      "  [0.946391   0.23847368 0.36302885]\n",
      "  [0.76614064 0.37495252 0.33336037]]]\n",
      "注意力的输出为 : [[0.61859894 0.46138203 0.3523724 ]]\n",
      "注意力权重为 : [[0.36400315 0.6359969  0.        ]]\n"
     ]
    }
   ],
   "source": [
    "paddle.seed(2021)\n",
    "X = paddle.rand(shape=[1, 3, 3])\n",
    "valid_lens = paddle.to_tensor([2])\n",
    "print(\"输入向量为 {}\".format(X.numpy()))\n",
    "dot_atten = Attention(hidden_size=3)\n",
    "context = dot_atten(X, valid_lens)\n",
    "print(\"注意力的输出为 : {}\".format(context.numpy()))\n",
    "print(\"注意力权重为 : {}\".format(dot_atten.attention_weights.numpy()))"
   ]
  },
  {
   "cell_type": "markdown",
   "metadata": {
    "collapsed": false
   },
   "source": [
    "从输出结果看，输入向量是一个$3 \\times 3$的矩阵，输入向量采用随机初始化。点积模型的输出是一个$1 \\times 3$的向量，输出的注意力权重就是输入的3个向量的权重，用 $1 \\times 3$的向量表示，即三个输入向量的权重依次为0.363956，0.636044和0。"
   ]
  },
  {
   "cell_type": "markdown",
   "metadata": {
    "collapsed": false
   },
   "source": [
    "### 8.1.2.4 模型汇总\n",
    "\n",
    "实现了注意力机制后，我们考虑实现整个模型，首先是嵌入层，用于输入的句子中的词语的向量化表示，接着就是双向LSTM来学习句子的上下文特征，随后接入注意力机制来进行特征筛选，最后接入输出层，得到该句子的分类。"
   ]
  },
  {
   "cell_type": "code",
   "execution_count": 11,
   "metadata": {
    "collapsed": false
   },
   "outputs": [],
   "source": [
    "class Model_LSTMAttention(nn.Layer):\n",
    "    def __init__(\n",
    "        self,\n",
    "        hidden_size,\n",
    "        embedding_size,\n",
    "        vocab_size,\n",
    "        n_classes=10,\n",
    "        n_layers=1,\n",
    "        use_additive=False,\n",
    "    ):\n",
    "        super(Model_LSTMAttention, self).__init__()\n",
    "        # 表示LSTM单元的隐藏神经元数量，它也将用来表示hidden和cell向量状态的维度\n",
    "        self.hidden_size = hidden_size\n",
    "        # 表示词向量的维度\n",
    "        self.embedding_size = embedding_size\n",
    "        # 表示词典的的单词数量\n",
    "        self.vocab_size = vocab_size\n",
    "        # 表示文本分类的类别数量\n",
    "        self.n_classes = n_classes\n",
    "        # 表示LSTM的层数\n",
    "        self.n_layers = n_layers\n",
    "        # 定义embedding层\n",
    "        self.embedding = nn.Embedding(\n",
    "            num_embeddings=self.vocab_size, embedding_dim=self.embedding_size\n",
    "        )\n",
    "        # 定义LSTM，它将用来编码网络\n",
    "        self.lstm = nn.LSTM(\n",
    "            input_size=self.embedding_size,\n",
    "            hidden_size=self.hidden_size,\n",
    "            num_layers=self.n_layers,\n",
    "            direction=\"bidirectional\",\n",
    "        )\n",
    "        # lstm的维度输出\n",
    "        output_size = self.hidden_size*2\n",
    "        # 定义Attention层\n",
    "        self.attention = Attention(output_size, use_additive=use_additive)\n",
    "        # 定义分类层，用于将语义向量映射到相应的类别\n",
    "        self.cls_fc = nn.Linear(\n",
    "            in_features=output_size, out_features=self.n_classes\n",
    "        )\n",
    "\n",
    "    def forward(self, inputs):\n",
    "        input_ids, valid_lens = inputs\n",
    "        # 获取训练的batch_size\n",
    "        batch_size = input_ids.shape[0]\n",
    "        # 获取词向量并且进行dropout\n",
    "        embedded_input = self.embedding(input_ids)\n",
    "        # 使用LSTM进行语义编码\n",
    "        last_layers_hiddens, (last_step_hiddens, last_step_cells) = self.lstm(\n",
    "            embedded_input, sequence_length=valid_lens\n",
    "        )\n",
    "        # 使用注意力机制\n",
    "        # 进行Attention, attn_weights: [batch_size, seq_len]\n",
    "        last_layers_hiddens = self.attention(last_layers_hiddens, valid_lens)\n",
    "        # 将其通过分类线性层，获得初步的类别数值\n",
    "        logits = self.cls_fc(last_layers_hiddens)\n",
    "        return logits"
   ]
  },
  {
   "cell_type": "markdown",
   "metadata": {
    "collapsed": false
   },
   "source": [
    "## 8.1.3 使用加性注意力模型进行实验\n",
    "\n",
    "对于加性注意力模型，我们只需要在双向LSTM的后面加入加性注意力模型，加性注意力模型的输入是双向LSTM的每个时刻的输出，最后接入分类层即可。\n",
    "\n",
    "### 8.1.3.1 模型训练\n",
    "\n",
    "这里使用第4.5.4节中定义的RunnerV3来进行模型训练、评价和预测。\n",
    "使用交叉熵损失函数，并用Adam作为优化器来训练，使用加性注意力模型。模型在训练集上训练2个回合，并保存准确率最高的模型作为最佳模型。"
   ]
  },
  {
   "cell_type": "code",
   "execution_count": 12,
   "metadata": {
    "collapsed": false
   },
   "outputs": [
    {
     "name": "stdout",
     "output_type": "stream",
     "text": [
      "[Train] epoch: 0/2, step: 0/392, loss: 0.69303\n",
      "[Train] epoch: 0/2, step: 10/392, loss: 0.68735\n",
      "[Evaluate]  dev score: 0.49472, dev loss: 0.69193\n",
      "[Evaluate] best accuracy performence has been updated: 0.00000 --> 0.49472\n",
      "[Train] epoch: 0/2, step: 20/392, loss: 0.67718\n",
      "[Evaluate]  dev score: 0.71824, dev loss: 0.67720\n",
      "[Evaluate] best accuracy performence has been updated: 0.49472 --> 0.71824\n",
      "[Train] epoch: 0/2, step: 30/392, loss: 0.63145\n",
      "[Evaluate]  dev score: 0.74440, dev loss: 0.63653\n",
      "[Evaluate] best accuracy performence has been updated: 0.71824 --> 0.74440\n",
      "[Train] epoch: 0/2, step: 40/392, loss: 0.51570\n",
      "[Evaluate]  dev score: 0.74824, dev loss: 0.60993\n",
      "[Evaluate] best accuracy performence has been updated: 0.74440 --> 0.74824\n",
      "[Train] epoch: 0/2, step: 50/392, loss: 0.47718\n",
      "[Evaluate]  dev score: 0.79616, dev loss: 0.47899\n",
      "[Evaluate] best accuracy performence has been updated: 0.74824 --> 0.79616\n",
      "[Train] epoch: 0/2, step: 60/392, loss: 0.34465\n",
      "[Evaluate]  dev score: 0.82424, dev loss: 0.38504\n",
      "[Evaluate] best accuracy performence has been updated: 0.79616 --> 0.82424\n",
      "[Train] epoch: 0/2, step: 70/392, loss: 0.33909\n",
      "[Evaluate]  dev score: 0.84064, dev loss: 0.36226\n",
      "[Evaluate] best accuracy performence has been updated: 0.82424 --> 0.84064\n",
      "[Train] epoch: 0/2, step: 80/392, loss: 0.35559\n",
      "[Evaluate]  dev score: 0.82336, dev loss: 0.39465\n",
      "[Train] epoch: 0/2, step: 90/392, loss: 0.40658\n",
      "[Evaluate]  dev score: 0.85208, dev loss: 0.35200\n",
      "[Evaluate] best accuracy performence has been updated: 0.84064 --> 0.85208\n",
      "[Train] epoch: 0/2, step: 100/392, loss: 0.28806\n",
      "[Evaluate]  dev score: 0.84864, dev loss: 0.34065\n",
      "[Train] epoch: 0/2, step: 110/392, loss: 0.43937\n",
      "[Evaluate]  dev score: 0.85184, dev loss: 0.33583\n",
      "[Train] epoch: 0/2, step: 120/392, loss: 0.29646\n",
      "[Evaluate]  dev score: 0.85832, dev loss: 0.32961\n",
      "[Evaluate] best accuracy performence has been updated: 0.85208 --> 0.85832\n",
      "[Train] epoch: 0/2, step: 130/392, loss: 0.39948\n",
      "[Evaluate]  dev score: 0.84368, dev loss: 0.35792\n",
      "[Train] epoch: 0/2, step: 140/392, loss: 0.34504\n",
      "[Evaluate]  dev score: 0.84912, dev loss: 0.34429\n",
      "[Train] epoch: 0/2, step: 150/392, loss: 0.27905\n",
      "[Evaluate]  dev score: 0.85200, dev loss: 0.34090\n",
      "[Train] epoch: 0/2, step: 160/392, loss: 0.24992\n",
      "[Evaluate]  dev score: 0.85448, dev loss: 0.33347\n",
      "[Train] epoch: 0/2, step: 170/392, loss: 0.28572\n",
      "[Evaluate]  dev score: 0.86672, dev loss: 0.31365\n",
      "[Evaluate] best accuracy performence has been updated: 0.85832 --> 0.86672\n",
      "[Train] epoch: 0/2, step: 180/392, loss: 0.18275\n",
      "[Evaluate]  dev score: 0.86432, dev loss: 0.31826\n",
      "[Train] epoch: 0/2, step: 190/392, loss: 0.23720\n",
      "[Evaluate]  dev score: 0.85568, dev loss: 0.33156\n",
      "[Train] epoch: 1/2, step: 200/392, loss: 0.21320\n",
      "[Evaluate]  dev score: 0.87064, dev loss: 0.30760\n",
      "[Evaluate] best accuracy performence has been updated: 0.86672 --> 0.87064\n",
      "[Train] epoch: 1/2, step: 210/392, loss: 0.25008\n",
      "[Evaluate]  dev score: 0.85440, dev loss: 0.38287\n",
      "[Train] epoch: 1/2, step: 220/392, loss: 0.20038\n",
      "[Evaluate]  dev score: 0.84480, dev loss: 0.37772\n",
      "[Train] epoch: 1/2, step: 230/392, loss: 0.15512\n",
      "[Evaluate]  dev score: 0.84872, dev loss: 0.37544\n",
      "[Train] epoch: 1/2, step: 240/392, loss: 0.14974\n",
      "[Evaluate]  dev score: 0.85912, dev loss: 0.37562\n",
      "[Train] epoch: 1/2, step: 250/392, loss: 0.18064\n",
      "[Evaluate]  dev score: 0.85160, dev loss: 0.37854\n",
      "[Train] epoch: 1/2, step: 260/392, loss: 0.08487\n",
      "[Evaluate]  dev score: 0.84456, dev loss: 0.38121\n",
      "[Train] epoch: 1/2, step: 270/392, loss: 0.15321\n",
      "[Evaluate]  dev score: 0.85560, dev loss: 0.38574\n",
      "[Train] epoch: 1/2, step: 280/392, loss: 0.04542\n",
      "[Evaluate]  dev score: 0.85784, dev loss: 0.40964\n",
      "[Train] epoch: 1/2, step: 290/392, loss: 0.13097\n",
      "[Evaluate]  dev score: 0.85544, dev loss: 0.39555\n",
      "[Train] epoch: 1/2, step: 300/392, loss: 0.04607\n",
      "[Evaluate]  dev score: 0.84952, dev loss: 0.36900\n",
      "[Train] epoch: 1/2, step: 310/392, loss: 0.11698\n",
      "[Evaluate]  dev score: 0.85360, dev loss: 0.39304\n",
      "[Train] epoch: 1/2, step: 320/392, loss: 0.05282\n",
      "[Evaluate]  dev score: 0.85176, dev loss: 0.43203\n",
      "[Train] epoch: 1/2, step: 330/392, loss: 0.15781\n",
      "[Evaluate]  dev score: 0.84728, dev loss: 0.42631\n",
      "[Train] epoch: 1/2, step: 340/392, loss: 0.04877\n",
      "[Evaluate]  dev score: 0.84920, dev loss: 0.35563\n",
      "[Train] epoch: 1/2, step: 350/392, loss: 0.03614\n",
      "[Evaluate]  dev score: 0.82192, dev loss: 0.63461\n",
      "[Train] epoch: 1/2, step: 360/392, loss: 0.05237\n",
      "[Evaluate]  dev score: 0.82256, dev loss: 0.54408\n",
      "[Train] epoch: 1/2, step: 370/392, loss: 0.09265\n",
      "[Evaluate]  dev score: 0.82320, dev loss: 0.58039\n",
      "[Train] epoch: 1/2, step: 380/392, loss: 0.10640\n",
      "[Evaluate]  dev score: 0.84600, dev loss: 0.42932\n",
      "[Train] epoch: 1/2, step: 390/392, loss: 0.11922\n",
      "[Evaluate]  dev score: 0.84624, dev loss: 0.38513\n",
      "[Evaluate]  dev score: 0.81520, dev loss: 0.49123\n",
      "[Train] Training done!\n",
      "训练时间:93.82603907585144\n"
     ]
    }
   ],
   "source": [
    "from paddle.optimizer import Adam\n",
    "from nndl import Accuracy, RunnerV3\n",
    "import time\n",
    "\n",
    "paddle.seed(2021)\n",
    "# 迭代的epoch数\n",
    "epochs = 2\n",
    "# 词汇表的大小\n",
    "vocab_size = len(word2id_dict)\n",
    "# lstm的输出单元的大小\n",
    "hidden_size = 128\n",
    "# embedding的维度\n",
    "embedding_size = 128\n",
    "# 类别数\n",
    "n_classes = 2\n",
    "# lstm的层数\n",
    "n_layers = 1\n",
    "# 学习率\n",
    "learning_rate = 0.001\n",
    "# 定义交叉熵损失\n",
    "criterion = nn.CrossEntropyLoss()\n",
    "# 指定评价指标\n",
    "metric = Accuracy()\n",
    "# 实例化基于LSTM的注意力模型\n",
    "model_atten = Model_LSTMAttention(\n",
    "    hidden_size,\n",
    "    embedding_size,\n",
    "    vocab_size,\n",
    "    n_classes=n_classes,\n",
    "    n_layers=n_layers,\n",
    "    use_additive=True,\n",
    ")\n",
    "# 定义优化器\n",
    "optimizer = Adam(parameters=model_atten.parameters(), learning_rate=learning_rate)\n",
    "# 实例化RunnerV3\n",
    "runner = RunnerV3(model_atten, optimizer, criterion, metric)\n",
    "save_path = \"./checkpoint/model_best.pdparams\"\n",
    "start_time = time.time()\n",
    "# 训练\n",
    "runner.train(\n",
    "    train_loader,\n",
    "    dev_loader,\n",
    "    num_epochs=epochs,\n",
    "    log_steps=10,\n",
    "    eval_steps=10,\n",
    "    save_path=save_path,\n",
    ")\n",
    "end_time = time.time()\n",
    "print(\"训练时间:{}\".format(end_time-start_time))"
   ]
  },
  {
   "cell_type": "markdown",
   "metadata": {
    "collapsed": false
   },
   "source": [
    "```\n",
    "训练时间:148.9642140865326\n",
    "```"
   ]
  },
  {
   "cell_type": "code",
   "execution_count": 13,
   "metadata": {
    "collapsed": false
   },
   "outputs": [
    {
     "name": "stderr",
     "output_type": "stream",
     "text": [
      "/opt/conda/envs/python35-paddle120-env/lib/python3.7/site-packages/matplotlib/cbook/__init__.py:2349: DeprecationWarning: Using or importing the ABCs from 'collections' instead of from 'collections.abc' is deprecated, and in 3.8 it will stop working\n",
      "  if isinstance(obj, collections.Iterator):\n",
      "/opt/conda/envs/python35-paddle120-env/lib/python3.7/site-packages/matplotlib/cbook/__init__.py:2366: DeprecationWarning: Using or importing the ABCs from 'collections' instead of from 'collections.abc' is deprecated, and in 3.8 it will stop working\n",
      "  return list(data) if isinstance(data, collections.MappingView) else data\n"
     ]
    },
    {
     "data": {
      "image/png": "[encoded data removed]",
      "text/plain": [
       "<Figure size 720x360 with 2 Axes>"
      ]
     },
     "metadata": {},
     "output_type": "display_data"
    }
   ],
   "source": [
    "import matplotlib.pyplot as plt\n",
    "from nndl import plot\n",
    "\n",
    "plot(runner, 'att-loss-acc.pdf')"
   ]
  },
  {
   "cell_type": "markdown",
   "metadata": {
    "collapsed": false
   },
   "source": [
    "### 8.1.3.2 模型评价\n",
    "模型评价加载最好的模型，然后在测试集合上进行评价。"
   ]
  },
  {
   "cell_type": "code",
   "execution_count": 14,
   "metadata": {
    "collapsed": false
   },
   "outputs": [
    {
     "name": "stdout",
     "output_type": "stream",
     "text": [
      "Evaluate on test set, Accuracy: 0.86480\n"
     ]
    }
   ],
   "source": [
    "model_path = \"checkpoint/model_best.pdparams\"\n",
    "runner.load_model(model_path)\n",
    "accuracy, _ =  runner.evaluate(test_loader)\n",
    "print(f\"Evaluate on test set, Accuracy: {accuracy:.5f}\")"
   ]
  },
  {
   "cell_type": "markdown",
   "metadata": {
    "collapsed": false
   },
   "source": [
    "## 8.1.4 使用点积注意力模型进行实验\n",
    "\n",
    "对于点积注意力模型，实现方法类似，只需要在双向LSTM的后面加入点积注意力模型，点积注意力模型的输入是双向LSTM的每个时刻的输出，最后接入分类层即可。\n",
    "\n",
    "### 8.1.4.1 模型训练\n",
    "\n",
    "模型训练使用RunnerV3，并使用交叉熵损失函数，并用Adam作为优化器训练Model\\_LSTMAttention网络，其中Model\\_LSTMAttention模型传入了点积注意力模型。然后训练集上训练2个回合，并保存准确率最高的模型作为最佳模型，Model\\_LSTMAttention模型除了使用点积模型外，其他的参数配置完全跟加性模型保持一致。代码实现如下："
   ]
  },
  {
   "cell_type": "code",
   "execution_count": 15,
   "metadata": {
    "collapsed": false
   },
   "outputs": [
    {
     "name": "stdout",
     "output_type": "stream",
     "text": [
      "[Train] epoch: 0/2, step: 0/392, loss: 0.69304\n",
      "[Train] epoch: 0/2, step: 10/392, loss: 0.68804\n",
      "[Evaluate]  dev score: 0.49472, dev loss: 0.69163\n",
      "[Evaluate] best accuracy performence has been updated: 0.00000 --> 0.49472\n",
      "[Train] epoch: 0/2, step: 20/392, loss: 0.67802\n",
      "[Evaluate]  dev score: 0.56160, dev loss: 0.67951\n",
      "[Evaluate] best accuracy performence has been updated: 0.49472 --> 0.56160\n",
      "[Train] epoch: 0/2, step: 30/392, loss: 0.64008\n",
      "[Evaluate]  dev score: 0.74208, dev loss: 0.64587\n",
      "[Evaluate] best accuracy performence has been updated: 0.56160 --> 0.74208\n",
      "[Train] epoch: 0/2, step: 40/392, loss: 0.48982\n",
      "[Evaluate]  dev score: 0.77176, dev loss: 0.48411\n",
      "[Evaluate] best accuracy performence has been updated: 0.74208 --> 0.77176\n",
      "[Train] epoch: 0/2, step: 50/392, loss: 0.43586\n",
      "[Evaluate]  dev score: 0.81136, dev loss: 0.42632\n",
      "[Evaluate] best accuracy performence has been updated: 0.77176 --> 0.81136\n",
      "[Train] epoch: 0/2, step: 60/392, loss: 0.36778\n",
      "[Evaluate]  dev score: 0.82968, dev loss: 0.37782\n",
      "[Evaluate] best accuracy performence has been updated: 0.81136 --> 0.82968\n",
      "[Train] epoch: 0/2, step: 70/392, loss: 0.36299\n",
      "[Evaluate]  dev score: 0.83720, dev loss: 0.36994\n",
      "[Evaluate] best accuracy performence has been updated: 0.82968 --> 0.83720\n",
      "[Train] epoch: 0/2, step: 80/392, loss: 0.33715\n",
      "[Evaluate]  dev score: 0.83336, dev loss: 0.38617\n",
      "[Train] epoch: 0/2, step: 90/392, loss: 0.40761\n",
      "[Evaluate]  dev score: 0.84408, dev loss: 0.35747\n",
      "[Evaluate] best accuracy performence has been updated: 0.83720 --> 0.84408\n",
      "[Train] epoch: 0/2, step: 100/392, loss: 0.32692\n",
      "[Evaluate]  dev score: 0.85256, dev loss: 0.34014\n",
      "[Evaluate] best accuracy performence has been updated: 0.84408 --> 0.85256\n",
      "[Train] epoch: 0/2, step: 110/392, loss: 0.42844\n",
      "[Evaluate]  dev score: 0.85688, dev loss: 0.32720\n",
      "[Evaluate] best accuracy performence has been updated: 0.85256 --> 0.85688\n",
      "[Train] epoch: 0/2, step: 120/392, loss: 0.30796\n",
      "[Evaluate]  dev score: 0.86032, dev loss: 0.32698\n",
      "[Evaluate] best accuracy performence has been updated: 0.85688 --> 0.86032\n",
      "[Train] epoch: 0/2, step: 130/392, loss: 0.44230\n",
      "[Evaluate]  dev score: 0.84176, dev loss: 0.36484\n",
      "[Train] epoch: 0/2, step: 140/392, loss: 0.32406\n",
      "[Evaluate]  dev score: 0.85168, dev loss: 0.33859\n",
      "[Train] epoch: 0/2, step: 150/392, loss: 0.29786\n",
      "[Evaluate]  dev score: 0.84160, dev loss: 0.35914\n",
      "[Train] epoch: 0/2, step: 160/392, loss: 0.23639\n",
      "[Evaluate]  dev score: 0.84624, dev loss: 0.35123\n",
      "[Train] epoch: 0/2, step: 170/392, loss: 0.31961\n",
      "[Evaluate]  dev score: 0.86504, dev loss: 0.31720\n",
      "[Evaluate] best accuracy performence has been updated: 0.86032 --> 0.86504\n",
      "[Train] epoch: 0/2, step: 180/392, loss: 0.20162\n",
      "[Evaluate]  dev score: 0.85024, dev loss: 0.34308\n",
      "[Train] epoch: 0/2, step: 190/392, loss: 0.24377\n",
      "[Evaluate]  dev score: 0.84288, dev loss: 0.35614\n",
      "[Train] epoch: 1/2, step: 200/392, loss: 0.23590\n",
      "[Evaluate]  dev score: 0.86984, dev loss: 0.30419\n",
      "[Evaluate] best accuracy performence has been updated: 0.86504 --> 0.86984\n",
      "[Train] epoch: 1/2, step: 210/392, loss: 0.23255\n",
      "[Evaluate]  dev score: 0.85816, dev loss: 0.36808\n",
      "[Train] epoch: 1/2, step: 220/392, loss: 0.20135\n",
      "[Evaluate]  dev score: 0.85392, dev loss: 0.34667\n",
      "[Train] epoch: 1/2, step: 230/392, loss: 0.17271\n",
      "[Evaluate]  dev score: 0.85512, dev loss: 0.36192\n",
      "[Train] epoch: 1/2, step: 240/392, loss: 0.11344\n",
      "[Evaluate]  dev score: 0.85432, dev loss: 0.42230\n",
      "[Train] epoch: 1/2, step: 250/392, loss: 0.12108\n",
      "[Evaluate]  dev score: 0.86080, dev loss: 0.33558\n",
      "[Train] epoch: 1/2, step: 260/392, loss: 0.05440\n",
      "[Evaluate]  dev score: 0.85952, dev loss: 0.38455\n",
      "[Train] epoch: 1/2, step: 270/392, loss: 0.14359\n",
      "[Evaluate]  dev score: 0.85880, dev loss: 0.36819\n",
      "[Train] epoch: 1/2, step: 280/392, loss: 0.04112\n",
      "[Evaluate]  dev score: 0.85952, dev loss: 0.39924\n",
      "[Train] epoch: 1/2, step: 290/392, loss: 0.13611\n",
      "[Evaluate]  dev score: 0.85376, dev loss: 0.41588\n",
      "[Train] epoch: 1/2, step: 300/392, loss: 0.05073\n",
      "[Evaluate]  dev score: 0.85488, dev loss: 0.38210\n",
      "[Train] epoch: 1/2, step: 310/392, loss: 0.14445\n",
      "[Evaluate]  dev score: 0.85504, dev loss: 0.40037\n",
      "[Train] epoch: 1/2, step: 320/392, loss: 0.06760\n",
      "[Evaluate]  dev score: 0.85632, dev loss: 0.37916\n",
      "[Train] epoch: 1/2, step: 330/392, loss: 0.10616\n",
      "[Evaluate]  dev score: 0.84096, dev loss: 0.49569\n",
      "[Train] epoch: 1/2, step: 340/392, loss: 0.03065\n",
      "[Evaluate]  dev score: 0.85304, dev loss: 0.43344\n",
      "[Train] epoch: 1/2, step: 350/392, loss: 0.05785\n",
      "[Evaluate]  dev score: 0.84744, dev loss: 0.48169\n",
      "[Train] epoch: 1/2, step: 360/392, loss: 0.13306\n",
      "[Evaluate]  dev score: 0.84992, dev loss: 0.44447\n",
      "[Train] epoch: 1/2, step: 370/392, loss: 0.12645\n",
      "[Evaluate]  dev score: 0.84768, dev loss: 0.42809\n",
      "[Train] epoch: 1/2, step: 380/392, loss: 0.12673\n",
      "[Evaluate]  dev score: 0.84864, dev loss: 0.42662\n",
      "[Train] epoch: 1/2, step: 390/392, loss: 0.10942\n",
      "[Evaluate]  dev score: 0.84992, dev loss: 0.40914\n",
      "[Evaluate]  dev score: 0.84136, dev loss: 0.43722\n",
      "[Train] Training done!\n",
      "训练时间:98.72966623306274\n"
     ]
    }
   ],
   "source": [
    "paddle.seed(2021)\n",
    "# 实例化基于LSTM的点积注意力模型\n",
    "model_atten = Model_LSTMAttention(\n",
    "    hidden_size,\n",
    "    embedding_size,\n",
    "    vocab_size,\n",
    "    n_classes=n_classes,\n",
    "    n_layers=n_layers,\n",
    "    use_additive=False,\n",
    ")\n",
    "# 定义优化器\n",
    "optimizer = Adam(parameters=model_atten.parameters(), learning_rate=learning_rate)\n",
    "# 实例化RunnerV3\n",
    "runner = RunnerV3(model_atten, optimizer, criterion, metric)\n",
    "save_path = \"./checkpoint/model_best.pdparams\"\n",
    "\n",
    "start_time = time.time()\n",
    "# 训练\n",
    "runner.train(\n",
    "    train_loader,\n",
    "    dev_loader,\n",
    "    num_epochs=epochs,\n",
    "    log_steps=10,\n",
    "    eval_steps=10,\n",
    "    save_path=save_path,\n",
    ")\n",
    "end_time = time.time()\n",
    "print(\"训练时间:{}\".format(end_time-start_time))"
   ]
  },
  {
   "cell_type": "markdown",
   "metadata": {
    "collapsed": false
   },
   "source": [
    "```\n",
    "训练时间:148.5727310180664\n",
    "```"
   ]
  },
  {
   "cell_type": "markdown",
   "metadata": {
    "collapsed": false
   },
   "source": [
    "可视化观察训练集与验证集的损失及准确率变化情况。代码实现如下："
   ]
  },
  {
   "cell_type": "code",
   "execution_count": 16,
   "metadata": {
    "collapsed": false
   },
   "outputs": [
    {
     "data": {
      "image/png": "[encoded data removed]",
      "text/plain": [
       "<Figure size 720x360 with 2 Axes>"
      ]
     },
     "metadata": {},
     "output_type": "display_data"
    }
   ],
   "source": [
    "plot(runner, 'dotproduct-loss-acc.pdf')"
   ]
  },
  {
   "cell_type": "markdown",
   "metadata": {
    "collapsed": false
   },
   "source": [
    "### 8.1.4.2 模型评价\n",
    "\n",
    "模型评价加载最好的模型，然后在测试集合上进行评价。代码实现如下："
   ]
  },
  {
   "cell_type": "code",
   "execution_count": 17,
   "metadata": {
    "collapsed": false
   },
   "outputs": [
    {
     "name": "stdout",
     "output_type": "stream",
     "text": [
      "Evaluate on test set, Accuracy: 0.86936\n"
     ]
    }
   ],
   "source": [
    "model_path = \"checkpoint/model_best.pdparams\"\n",
    "runner.load_model(model_path)\n",
    "accuracy, _ =  runner.evaluate(test_loader)\n",
    "print(f\"Evaluate on test set, Accuracy: {accuracy:.5f}\")"
   ]
  },
  {
   "cell_type": "markdown",
   "metadata": {
    "collapsed": false
   },
   "source": [
    "从上面的实验可以看出：\n",
    "\n",
    "（1）在不加注意力机制的情况下，测试集上的准确率为0.86064，加入了加性注意力后，测试集的准确率为0.86488；换成点积注意力后，测试集上的准确率为0.86936。\n",
    "相比于不加注意力机制的模型，加入注意力机制的模型效果会更好些。\n",
    "\n",
    "（2）另外，从加性注意力和点积注意力的结果可以看出，点积注意力的准确率更好些。"
   ]
  },
  {
   "cell_type": "markdown",
   "metadata": {
    "collapsed": false
   },
   "source": [
    "### 8.1.4.3 注意力可视化\n",
    "\n",
    "为了验证注意力机制学到了什么，我们把加性注意力的权重提取出来，然后进行可视化分析。代码实现如下："
   ]
  },
  {
   "cell_type": "code",
   "execution_count": 18,
   "metadata": {
    "collapsed": false
   },
   "outputs": [],
   "source": [
    "model_path = \"checkpoint/model_best.pdparams\"\n",
    "model_atten = Model_LSTMAttention(\n",
    "    hidden_size,\n",
    "    embedding_size,\n",
    "    vocab_size,\n",
    "    n_classes=n_classes,\n",
    "    n_layers=n_layers,\n",
    "    use_additive=False,\n",
    ")\n",
    "# runner.load_model(model_path)\n",
    "model_state_dict = paddle.load(model_path)\n",
    "model_atten.set_state_dict(model_state_dict)"
   ]
  },
  {
   "cell_type": "code",
   "execution_count": 19,
   "metadata": {
    "collapsed": false
   },
   "outputs": [
    {
     "name": "stdout",
     "output_type": "stream",
     "text": [
      "输入的文本为：this great science fiction film is really awesome\n",
      "转换成id的形式为：[[  10   88 1196 1839   24    7   61 1635]]\n",
      "训练的注意力权重为：[[0.09350643 0.25606698 0.08582163 0.11344668 0.09067672 0.09059495\n",
      "  0.09276529 0.17712136]]\n"
     ]
    }
   ],
   "source": [
    "text = \"this great science fiction film is really awesome\"\n",
    "# text = \"This movie was craptacular\"\n",
    "# text = \"I got stuck in traffic on the way to the theater\"\n",
    "# 分词\n",
    "sentence = text.split(\" \")\n",
    "# 词映射成ID的形式\n",
    "tokens = [\n",
    "    word2id_dict[word] if word in word2id_dict else word2id_dict[\"[oov]\"]\n",
    "    for word in sentence\n",
    "]\n",
    "# 取前max_seq_len的单词\n",
    "tokens = tokens[:max_seq_len]\n",
    "# 序列长度\n",
    "seq_len = paddle.to_tensor([len(tokens)])\n",
    "# 转换成Paddle的Tensor\n",
    "input_ids = paddle.to_tensor(tokens, dtype=\"int64\").unsqueeze(0)\n",
    "inputs = [input_ids, seq_len]\n",
    "# 模型开启评估模式\n",
    "model_atten.eval()\n",
    "# 设置不求梯度\n",
    "with paddle.no_grad():\n",
    "    # 预测输出\n",
    "    pred_prob = model_atten(inputs)\n",
    "# 提取注意力权重\n",
    "atten_weights = model_atten.attention.attention_weights\n",
    "print(\"输入的文本为：{}\".format(text))\n",
    "print(\"转换成id的形式为：{}\".format(input_ids.numpy()))\n",
    "print(\"训练的注意力权重为：{}\".format(atten_weights.numpy()))"
   ]
  },
  {
   "cell_type": "code",
   "execution_count": 22,
   "metadata": {
    "collapsed": false
   },
   "outputs": [
    {
     "name": "stderr",
     "output_type": "stream",
     "text": [
      "/opt/conda/envs/python35-paddle120-env/lib/python3.7/site-packages/matplotlib/colors.py:101: DeprecationWarning: np.asscalar(a) is deprecated since NumPy v1.16, use a.item() instead\n",
      "  ret = np.asscalar(ex)\n"
     ]
    },
    {
     "data": {
      "image/png": "[encoded data removed]",
      "text/plain": [
       "<Figure size 1440x108 with 2 Axes>"
      ]
     },
     "metadata": {},
     "output_type": "display_data"
    }
   ],
   "source": [
    "%matplotlib inline\n",
    "import matplotlib.pyplot as plt\n",
    "import seaborn as sns\n",
    "import pandas as pd\n",
    "from matplotlib import rcParams\n",
    "rcParams.update({'figure.autolayout': True})\n",
    "# 对文本进行分词，得到过滤后的词\n",
    "list_words = text.split(\" \")\n",
    "# 提取注意力权重，转换成list\n",
    "data_attention = atten_weights.numpy().tolist()\n",
    "# 取出前max_seq_len变换进行特征融合，得到最后个词\n",
    "list_words = list_words[:max_seq_len]\n",
    "# 把权重转换为DataFrame，列名为单词\n",
    "d = pd.DataFrame(data=data_attention, columns=list_words)\n",
    "f, ax = plt.subplots(figsize=(20, 1.5))\n",
    "# 用heatmap可视化\n",
    "# sns.heatmap(d, vmin=0, vmax=0.4, ax=ax)\n",
    "# sns.heatmap(d, vmin=0, vmax=0.4, ax=ax, cmap=\"OrRd\")\n",
    "\n",
    "my_colors=['#e4007f', '#f19ec2', '#e86096', '#eb7aaa', '#f6c8dc', '#f5f5f5', '#000000', '#f7d2e2']\n",
    "sns.heatmap(d, vmin=0, vmax=0.4, ax=ax, cmap=my_colors)\n",
    "# 纵轴旋转360度\n",
    "label_y = ax.get_yticklabels()\n",
    "plt.setp(label_y, rotation=360, horizontalalignment=\"right\")\n",
    "# 横轴旋转0度\n",
    "label_x = ax.get_xticklabels()\n",
    "plt.setp(label_x, rotation=0, horizontalalignment=\"right\", fontsize=20)\n",
    "plt.savefig('att-vis.pdf')\n",
    "plt.show()"
   ]
  },
  {
   "cell_type": "markdown",
   "metadata": {
    "collapsed": false
   },
   "source": [
    "输出结果如图所示，颜色越深代表权重越高，从图可以看出，注意力权重比较高的单词是\"great\"，\"awesome\"。"
   ]
  },
  {
   "cell_type": "markdown",
   "metadata": {
    "collapsed": false
   },
   "source": [
    "********\n",
    "实现《神经网络与深度学习》第8.2节中定义的其它注意力打分函数，并重复上面的实验。\n",
    "********"
   ]
  },
  {
   "cell_type": "markdown",
   "metadata": {
    "collapsed": false
   },
   "source": [
    "# 8.2 . 基于双向LSTM和多头自注意力的文本分类实验\n",
    "\n",
    "在上一节介绍的注意力机制中需要一个外部的查询向量$\\mathbf q$，用来选择和任务相关的信息，并对输入的序列表示进行聚合。\n",
    "在本节中，我们进一步实现更强大的自注意力模型，同样和双向LSTM网络一起来实现上一节中的文本分类任务。\n",
    "\n",
    "## 8.2.1 自注意力模型\n",
    "\n",
    "当使用神经网络来处理一个变长的向量序列时，我们通常可以使用卷积网络或循环网络进行编码来得到一个相同长度的输出向量序列。基于卷积或循环网络的序列编码都是一种局部的编码方式，只建模了输入信息的局部依赖关系。虽然循环网络理论上可以建立长距离依赖关系，但是由于信息传递的容量以及梯度消失问题，实际上也只能建立短距离依赖关系。\n",
    "\n",
    "\n",
    "**自注意力** {Self-Attention}是可以有效的直接解决长程依赖问题的方法，相当于构建一个以输入序列中的每个元素为单元的全连接网络（即每个全连接网络的每个节点为一个向量），利用注意力机制来“动态”地生成全连接网络的权重。\n",
    "\n",
    "下面，我们按照从简单到复杂的步骤分别介绍简单自注意力、QKV自注意力、多头自注意力。\n"
   ]
  },
  {
   "cell_type": "markdown",
   "metadata": {
    "collapsed": false
   },
   "source": [
    "### 8.2.1.1 最简单的自注意力\n",
    "\n",
    "我们先来看最简单的自注意力模型。\n",
    "\n",
    "假设一个输入序列$\\mathbf X\\in \\mathbb{R}^{L\\times D}$，为了建模序列中所有元素的交互关系，我们将可以将输入序列中每个元素$\\mathbf x_m$作为查询向量，利用注意力机制从整个序列中选取和自己相关的信息，就得到了该元素的上下文表示$\\mathbf h_m\\in \\mathbb{R}^{1\\times D}$。\n",
    "$$\n",
    "\\mathbf h_{m} = \\sum_{n=1}^{L} \\alpha_{mn} \\mathbf x_n =softmax(\\mathbf x_m \\mathbf X^T) \\mathbf X,\n",
    "$$\n",
    "其中$\\alpha_{mn}$表示第$m$个元素对第$n$个元素的注意力权重，注意力打分函数使用点积函数。\n",
    "\n",
    "输入一个文本序列The movie is nice进行，如果计算单词movie的上下文表示，可以将movie作为查询向量，计算和文本序列中所有词的注意力分布，并根据注意力分布对所有词进行加权平均，得到movie的上下文表示。和卷积网络或循环网络相比，这种基于注意力方式会融合更远的上下文信息。"
   ]
  },
  {
   "cell_type": "markdown",
   "metadata": {
    "collapsed": false
   },
   "source": [
    "<center><img src=\"https://ai-studio-static-online.cdn.bcebos.com/bd809b713ff14dae8c30f08279865004a28045a292b845fd8178cca6ae2922e2\" width=\"800px\"></center>\n",
    "<br><center>图8.7 自注意力示例</center></br>\n"
   ]
  },
  {
   "cell_type": "markdown",
   "metadata": {
    "collapsed": false
   },
   "source": [
    "对于输入序列$\\mathbf X\\in \\mathbb{R}^{L\\times D}$，自注意力可以表示为\n",
    "$$\n",
    "\\mathbf Z = softmax(\\mathbf X \\mathbf X^T) \\mathbf X,\n",
    "$$\n",
    "其中$softmax()$是按行进行归一化，Z表示的是注意力分布的输出。计算方式如下图所示。\n",
    "\n",
    "<center><img src=\"https://ai-studio-static-online.cdn.bcebos.com/5add2e1686d0436a8be1e79270442daa27c807661b0a4695a4bd6d81023111e9\" width=\"400px\"></center>\n",
    "<br><center>图8.8 整个序列的自注意力示例</center></br>\n",
    "\n"
   ]
  },
  {
   "cell_type": "markdown",
   "metadata": {
    "collapsed": false
   },
   "source": [
    "********\n",
    "动手实现上面的简单注意力模型，并加入到第8.1节中构建模型的LSTM层和注意力层之间，观察是否可以改进实验效果。\n",
    "********"
   ]
  },
  {
   "cell_type": "markdown",
   "metadata": {
    "collapsed": false
   },
   "source": [
    "### 8.2.1.2 QKV自注意力\n",
    "\n",
    "上面介绍的简单自注意力模型只是应用了注意力机制来使用序列中的元素可以长距离交互，模型本身不带参数，因此能力有限。\n",
    "\n",
    "为了提高模型能力，自注意力模型经常采用**查询-键-值**{Query-Key-Value，QKV}模式。"
   ]
  },
  {
   "cell_type": "markdown",
   "metadata": {
    "collapsed": false
   },
   "source": [
    "将输入序列$\\mathbf X\\in \\mathbb{R}^{B\\times L\\times D}$经过线性变换分别映射到查询张量、键张量、值张量。\n",
    "\n",
    "$$\n",
    "\\qquad \\mathbf Q=\\mathbf X\\mathbf W^{Q} \\in \\mathbb{R}^{B\\times L \\times D},\\\\\n",
    "\\qquad \\mathbf K=\\mathbf X\\mathbf W^{K} \\in \\mathbb{R}^{B\\times L \\times D},\\\\\n",
    "\\qquad  \\mathbf V=\\mathbf X\\mathbf W^{V} \\in \\mathbb{R}^{B\\times L \\times D},\n",
    "$$\n",
    "其中$\\mathbf W^{Q} \\in \\mathbb{R}^{D \\times D}$,$\\mathbf W^{K} \\in \\mathbb{R}^{D \\times D}$,$\\mathbf W^{V} \\in \\mathbb{R}^{D \\times D}$是可学习的映射矩阵。为简单起见，这里令映射后$\\mathbf Q,\\mathbf K,\\mathbf V$的特征维度相同，都为$D$。"
   ]
  },
  {
   "cell_type": "markdown",
   "metadata": {
    "collapsed": false
   },
   "source": [
    "QKV自注意力的公式表示如下：\n",
    "$$\n",
    "\\mathrm{attention}(\\mathbf Q,\\mathbf K,\\mathbf V) =  softmax(\\frac{\\mathbf Q\\mathbf K^T}{\\sqrt{D}}) \\mathbf V\n",
    "$$\n",
    "其中$softmax(\\cdot)$是按行进行归一化。计算方式如下图所示。"
   ]
  },
  {
   "cell_type": "markdown",
   "metadata": {
    "collapsed": false
   },
   "source": [
    "<center><img src=\"https://ai-studio-static-online.cdn.bcebos.com/7008c957a13a406a9673397afb10b23cc3000efbe49e498f844b0bead85483c9\" width=\"400px\"></center>\n",
    "<br><center>图8.9 整个序列的自注意力示例</center></br>"
   ]
  },
  {
   "cell_type": "markdown",
   "metadata": {
    "collapsed": false
   },
   "source": [
    "QKV注意力中，假设$\\mathbf Q$和$\\mathbf K$都是独立的随机向量，都满足0均值和为1的单位方差，那么$\\mathbf Q$和$\\mathbf K$点积以后的均值为0，方差变成了$D$，当输入向量的维度$D$比较高的时候，QKV注意力往往有较大的方差，从而导致Softmax的梯度比较小，不利于模型的收敛，因此QKV注意力除以了一个$\\sqrt{D}$有效降低方差，加速模型收敛。"
   ]
  },
  {
   "cell_type": "markdown",
   "metadata": {
    "collapsed": false
   },
   "source": [
    "**屏蔽序列中的[PAD]**\n",
    "\n",
    "在QKV注意力的实现中，需要注意的如何屏蔽[PAD]元素不参与注意力的计算。\n",
    "\n",
    "带掩码的QKV注意力实现原理示意如下图所示。\n",
    "\n",
    "<center><img src=\"https://ai-studio-static-online.cdn.bcebos.com/9f96ef66626749a1b8afb9f44d209effa10daabfa3c04ac9affe75cf7be53d5d\" width=\"800px\"></center>\n",
    "<br><center>图8.10 QKV注意力中屏蔽[PAD]位置的实现过程示意</center></br>\n"
   ]
  },
  {
   "cell_type": "markdown",
   "metadata": {
    "collapsed": false
   },
   "source": [
    "具体实现步骤如下：\n",
    "\n",
    "（1）根据序列的长度创建一个掩码张量$\\mathbf M\\in \\{0,1\\}^{B\\times L \\times L}$，每个序列都有一个真实的长度，对于每个序列中小于真实长度的位置设置为True，对于大于等于真实长度的位置，说明是填充[PAD]，则设置为False。\n",
    "```\n",
    "# arrange: [1,seq_len],比如seq_len=4, arrange变为 [0,1,2,3]\n",
    "arrange = paddle.arange((seq_len), dtype=paddle.float32).unsqueeze(0)\n",
    "# valid_lens : [batch_size*seq_len,1]\n",
    "valid_lens = valid_lens.unsqueeze(1)\n",
    "# mask [batch_size*seq_len, seq_len]\n",
    "mask = arrange < valid_lens\n",
    "```\n",
    "\n",
    "\n",
    "（2）根据布尔矩阵mask中False的位置，将注意力打分序列中对应的位置填充为-inf(实际实现过程中可设置一个非常小的数，例如-1e9)。\n",
    "\n",
    "```\n",
    "# 给mask为False的区域填充-1e9\n",
    "# y: [batch_size, seq_len, seq_len]\n",
    "y = paddle.full(score.shape, -1e9, score.dtype)\n",
    "# score: [batch_size, seq_len,seq_len]\n",
    "score = paddle.where(mask, score, y)\n",
    "```"
   ]
  },
  {
   "cell_type": "markdown",
   "metadata": {
    "collapsed": false
   },
   "source": [
    "QKV自注意力的代码实现如下"
   ]
  },
  {
   "cell_type": "code",
   "execution_count": null,
   "metadata": {
    "collapsed": false
   },
   "outputs": [],
   "source": [
    "import paddle.nn.functional as F\n",
    "import paddle.nn as nn\n",
    "import paddle\n",
    "\n",
    "class QKVAttention(nn.Layer):\n",
    "    def __init__(self, size):\n",
    "        super(QKVAttention, self).__init__()\n",
    "        size = paddle.to_tensor([size], dtype=\"float32\")\n",
    "        self.sqrt_size = paddle.sqrt(size)\n",
    "\n",
    "    def forward(self, Q, K, V, valid_lens) :\n",
    "        \"\"\"\n",
    "        输入：\n",
    "            - Q：查询向量，shape = [batch_size, seq_len, hidden_size]\n",
    "            - K：键向量，shape = [batch_size, seq_len, hidden_size]\n",
    "            - V：值向量，shape = [batch_size, seq_len, hidden_size]\n",
    "            - valid_lens：序列长度，shape =[batch_size]\n",
    "        输出：\n",
    "            - context ：输出矩阵，表示的是注意力的加权平均的结果\n",
    "        \"\"\"\n",
    "        batch_size, seq_len, hidden_size = Q.shape\n",
    "        # score: [batch_size, seq_len, seq_len]\n",
    "        score = paddle.matmul(Q, K.transpose((0, 2, 1))) / self.sqrt_size\n",
    "        # arrange: [1,seq_len],比如seq_len=2, arrange变为 [0, 1]\n",
    "        arrange = paddle.arange((seq_len), dtype=paddle.float32).unsqueeze(0)\n",
    "        # valid_lens : [batch_size*seq_len, 1]\n",
    "        valid_lens = valid_lens.unsqueeze(1)\n",
    "        # mask [batch_size*seq_len, seq_len]\n",
    "        mask = arrange < valid_lens\n",
    "        # mask : [batch_size, seq_len, seq_len]\n",
    "        mask = paddle.reshape(mask, [batch_size, seq_len, seq_len])\n",
    "        # 给mask为False的区域填充-1e9\n",
    "        # y: [batch_size, seq_len, seq_len]\n",
    "        y = paddle.full(score.shape, -1e9, score.dtype)\n",
    "        # score: [batch_size, seq_len,seq_len]\n",
    "        score = paddle.where(mask, score, y)\n",
    "        # attention_weights: [batch_size, seq_len, seq_len]\n",
    "        attention_weights = F.softmax(score, -1)\n",
    "        self._attention_weights = attention_weights\n",
    "        # 加权平均\n",
    "        # context: [batch_size, seq_len, hidden_size]\n",
    "        context = paddle.matmul(attention_weights, V)\n",
    "        return context\n",
    "\n",
    "    @property\n",
    "    def attention_weights(self):\n",
    "        return self._attention_weights\n",
    "\n",
    "paddle.seed(2022)\n",
    "Q = paddle.rand(shape=[2, 2, 3])\n",
    "K = paddle.rand(shape=[2, 2, 3])\n",
    "V = paddle.rand(shape=[2, 2, 3])\n",
    "valid_lens = paddle.to_tensor([1, 1, 2, 2])\n",
    "print(\"查询向量为 {}\".format(Q.numpy()))\n",
    "print(\"键向量为 {}\".format(K.numpy()))\n",
    "print(\"值向量为 {}\".format(V.numpy()))\n",
    "qkv_atten = QKVAttention(3)\n",
    "context = qkv_atten(Q, K, V, valid_lens)\n",
    "print(\"注意力的输出为 : {}\".format(context.numpy()))\n",
    "print(\"注意力权重为 : {}\".format(qkv_atten.attention_weights.numpy()))"
   ]
  },
  {
   "cell_type": "markdown",
   "metadata": {
    "collapsed": false
   },
   "source": [
    "从输出可以看出，QKV注意力的输入是$\\mathbf Q$，$\\mathbf K$，$\\mathbf V$，然后计算缩放点积注意力得到最终的输出。"
   ]
  },
  {
   "cell_type": "markdown",
   "metadata": {
    "collapsed": false
   },
   "source": [
    "### 8.2.1.3 多头自注意力\n",
    "\n",
    "为了进一步提升自注意力的能力，我们将QKV注意力扩展为**多头**{Multi-Head}模式，其思想和多通道卷积非常类似，利用多组QKV自注意力来提升模型能力。\n",
    "\n",
    "**多头自注意力**{Multi-Head Self-Attention，MHSA}首先会分别进行多组的QKV注意力的计算，其中每组称为一个**头**{head}。每单个头可以看作是序列中所有元素的一次特征融合。之后，把得到的多个头拼接到一起，通过线性变换进行特征融合，得到最后的输出表示。多头自注意力的结构如图8.11所示，分为三个部分：线性变换、单头QKV注意力和多头融合。\n",
    "\n",
    "<center><img src=\"https://ai-studio-static-online.cdn.bcebos.com/96d9403101e94dd9b2691fc9f91c5c331364b9a31ffc42cf8cb7aa81154dbc8e\" width=\"800px\"></center>\n",
    "<br><center>图8.11 多头注意力结构图</center></br>\n",
    "\n"
   ]
  },
  {
   "cell_type": "markdown",
   "metadata": {
    "collapsed": false
   },
   "source": [
    "假设输入序列为$\\mathbf X\\in \\mathbb{R}^{B\\times L\\times D}$，其中$B$为批量大小，$L$为序列长度，$D$为特征维度，通过以下三个步骤来实现多头自注意力。\n",
    "\n",
    "（1）**线性变换**：分别计算每个单头的QKV张量。在计算第$m$个头时，将$\\mathbf X$做三个线性变换分别映射到分别查询张量、键张量和值张量：\n",
    "$$\n",
    "\\qquad \\mathbf Q_m=\\mathbf X\\mathbf W_{m}^{Q}\\\\\n",
    "\\qquad \\mathbf K_m=\\mathbf X\\mathbf W_{m}^{K}\\\\\n",
    "\\qquad  \\mathbf V_m=\\mathbf X\\mathbf W_{m}^{V}\n",
    "$$\n",
    "其中$\\mathbf W_{m}^{\\mathbf Q} \\in \\mathbb{R}^{D \\times D_m}$,$\\mathbf W_{m}^{K} \\in \\mathbb{R}^{D \\times D_m}$,$\\mathbf W_{m}^{\\mathbf V} \\in \\mathbb{R}^{D \\times D_m}$，$D_m$是映射后QKV的特征维度。\n",
    "\n",
    "（2）**单头QKV自注意力**：分别计算每个单头的QKV自注意力。通过QKV自注意力计算第$m$个头$head_{m}$：\n",
    "$$\n",
    "head_{m}= \\mathrm{attention}(\\mathbf Q_m,\\mathbf K_m,\\mathbf V_m) \\in \\mathbb{R}^{B\\times L\\times D_m},\n",
    "$$\n",
    "其中$\\mathrm{attention}(\\cdot)$为公式QKV自注意力中的函数。\n",
    "\n",
    "（3）**多头融合**：将多个头进行特征融合：\n",
    "$$\n",
    "\\mathbf Z=\\mathrm{MultiHeadSelfAttention}(\\mathbf X)\n",
    "\\triangleq\n",
    "\\bigoplus(head_{1},head_{2},...,head_{M})\\mathbf W'\n",
    "$$\n",
    "其中$\\oplus$表示对张量的最后一维进行向量拼接，$\\mathbf W' \\in \\mathbb{R}^{(MD_m) \\times D'}$是可学习的参数矩阵，$D'$表示的输出特征的维度。\n",
    "\n",
    "这里为了简单起见，令每个头的特征维度$D_m=\\frac{D}{M}$，输出特征维度$D'=D$和输入维度相同。"
   ]
  },
  {
   "cell_type": "markdown",
   "metadata": {
    "collapsed": false
   },
   "source": [
    "**动手实现**\n",
    "\n",
    "下面动手实现多头自注意力。为了能够使多个头的QKV自注意力可以并行计算，需要对QKV的张量进行重组，其实现原理如图8.12所示。\n",
    "\n",
    "\n",
    "<center><img src=\"https://ai-studio-static-online.cdn.bcebos.com/76e448f3ce6f4fe88380b285436c8c34bca9dc36131842d582fa09f6caba1ea0\" width=\"800px\"></center>\n",
    "<br><center>图8.12 多头自注意力实现原理图</center></br>\n"
   ]
  },
  {
   "cell_type": "markdown",
   "metadata": {
    "collapsed": false
   },
   "source": [
    "具体实现步骤如下：\n",
    "\n",
    "（1）**线性变换**：将输入序列$\\mathbf X\\in \\mathbb{R}^{B\\times L\\times D}$做线性变换，得到$\\mathbf Q,\\mathbf K,\\mathbf V \\in \\mathbb{R}^{B\\times L\\times D}$三个张量。这里使用`nn.Linear`算子来实现线性变换，并且得到的$\\mathbf Q,\\mathbf K,\\mathbf V$张量是一次性计算多个头的。\n",
    "\n",
    "```\n",
    "# 查询\n",
    "Q_proj = nn.Linear(qsize, inputs_size, bias_attr=False)\n",
    "# 键\n",
    "K_proj = nn.Linear(ksize, inputs_size, bias_attr=False)\n",
    "# 值\n",
    "V_proj = nn.Linear(vsize, inputs_size, bias_attr=False)\n",
    "batch_size, seq_len, hidden_size = X.shape\n",
    "# Q,K,V: [batch_size,seq_len,hidden_size]\n",
    "Q, K, V = Q_proj(X), K_proj(X), V_proj(X)\n",
    "```"
   ]
  },
  {
   "cell_type": "markdown",
   "metadata": {
    "collapsed": false
   },
   "source": [
    "（2）**多头分组**：上一步中得到的$\\mathbf Q,\\mathbf K,\\mathbf V \\in \\mathbb{R}^{B\\times L\\times D}$张量是一次性计算多个头的，需要对$\\mathbf Q,\\mathbf K,\\mathbf V$张量的特征维度进行分组，分为$M$组，每组为一个头。\n",
    "$$\n",
    "(B\\times L\\times D) \\xRightarrow {\\text{reshape}} (B\\times L\\times M \\times D_m),\n",
    "$$\n",
    "其中$M$是头数量，$D_m$是每个头的特征维度，并有$D=M\\times D_m$。"
   ]
  },
  {
   "cell_type": "markdown",
   "metadata": {
    "collapsed": false
   },
   "source": [
    "（3）**形状重组**：在上一步分组后，得到$\\mathbf Q,\\mathbf K,\\mathbf V \\in \\mathbb{R}^{B\\times L\\times M\\times D_m}$。由于不同注意力头在计算QKV自注意力是独立的，因此把它们看做是不同的样本，并且把多头的维度$M$合并到样本数量维度$B$，便于计算QKV自注意力。\n",
    "$$\n",
    "(B \\times L \\times M \\times D_m) \\xRightarrow{\\text{transpose}} (B \\times M \\times L \\times D_m) \\xRightarrow{\\text{reshape}} (BM \\times L \\times D_m)\n",
    "\n",
    "$$\n",
    "对每个$\\mathbf Q,\\mathbf K,\\mathbf V$都执行上面的操作，得到$\\mathbf Q,\\mathbf K,\\mathbf V \\in \\mathbb{R}^{((B M) \\times L \\times D_m)}$。\n",
    "\n",
    "经过形状重组后，$B$个样本的多头自注意力转换为$B*M$个样本的单头QKV自注意力。\n",
    "这里实现了`split_head_reshape`函数来执行上面第（2）、（3）步的操作。"
   ]
  },
  {
   "cell_type": "code",
   "execution_count": null,
   "metadata": {
    "collapsed": false
   },
   "outputs": [],
   "source": [
    "def split_head_reshape(X, heads_num, head_size):\n",
    "    \"\"\"\n",
    "    输入：\n",
    "        - X：输入矩阵，shape=[batch_size, seq_len, hidden_size]\n",
    "    输出：\n",
    "        - output：输出多头的矩阵，shape= [batch_size * heads_num, seq_len, head_size]\n",
    "    \"\"\"\n",
    "    batch_size, seq_len, hidden_size = X.shape\n",
    "    # X: [batch_size, seq_len, heads_num, head_size]\n",
    "    # 多头分组\n",
    "    X = paddle.reshape(x=X, shape=[batch_size, seq_len, heads_num, head_size])\n",
    "    # X: [batch_size, heads_num, seq_len, head_size]\n",
    "    # 形状重组\n",
    "    X = paddle.transpose(x=X, perm=[0, 2, 1, 3])\n",
    "    # X: [batch_size*heads_num, seq_len, head_size]\n",
    "    X = paddle.reshape(X, [batch_size * heads_num, seq_len, head_size])\n",
    "    return X"
   ]
  },
  {
   "cell_type": "markdown",
   "metadata": {
    "collapsed": false
   },
   "source": [
    "（4）**QKV注意力**：对最新的$\\mathbf  Q,\\mathbf  K,\\mathbf  V \\in \\mathbb{R}^{(BM)\\times L \\times D_m)}$，计算QKV注意力：\n",
    "$$\n",
    "\\mathbf  H= \\mathrm{attention}(\\mathbf  Q,\\mathbf  K,\\mathbf  V) \\in \\mathbb{R}^{(BM)\\times L \\times D_m},\n",
    "$$\n",
    "其中$\\mathrm{attention}()$为公式QKV注意力中的函数。\n",
    "\n",
    "```\n",
    "attention = QKVAttention(head_size)\n",
    "# out: [batch_size*heads_num, seq_len, head_size]\n",
    "out = attention(Q, K, V, valid_lens)\n",
    "```"
   ]
  },
  {
   "cell_type": "markdown",
   "metadata": {
    "collapsed": false
   },
   "source": [
    "（5）**重组恢复**：将形状重组恢复到原来的形状\n",
    "\n",
    "$$\n",
    "(B M \\times L \\times D_m) \\xRightarrow{\\text{reshape}} (B \\times M \\times L \\times D_m) \\xRightarrow{\\text{transpose}}(B \\times L \\times M \\times D_m)\n",
    "$$\n",
    "\n",
    "```\n",
    "# out: [batch_size, heads_num, seq_len, head_size]\n",
    "out = paddle.reshape(out, [batch_size, heads_num, seq_len, head_size])\n",
    "# out: [batch_size, seq_len, heads_num, head_size]\n",
    "out = paddle.transpose(out, perm=[0, 2, 1, 3])\n",
    "```"
   ]
  },
  {
   "cell_type": "markdown",
   "metadata": {
    "collapsed": false
   },
   "source": [
    "（6）**多头融合**：根据公式\\eqref{eq:att-mhsa-output-linear}将多个头进行特征融合。首先将多头的特征合并，还原为原来的维度。\n",
    "\n",
    "$$\n",
    "(B\\times L\\times M \\times D_m) \\xRightarrow{\\text{reshape}}(B\\times L\\times D),\n",
    "$$\n",
    "\n",
    "然后再进行特征的线性变换得到最后的输出。这里线性变换也使用\\code{nn.Linear}实现。\n",
    "\n",
    "```\n",
    "# 输出映射\n",
    "out_proj = nn.Linear(inputs_size, inputs_size, bias_attr=False)\n",
    "\n",
    "# 多头注意力输出拼接\n",
    "# out: [batch_size, seq_len, heads_num * head_size]\n",
    "out = paddle.reshape(x=out, shape=[0, 0, out.shape[2] * out.shape[3]])\n",
    "# 输出映射\n",
    "out = self.out_proj(out)\n",
    "```"
   ]
  },
  {
   "cell_type": "markdown",
   "metadata": {
    "collapsed": false
   },
   "source": [
    "**多头自注意力算子**\n",
    "\n",
    "多头自注意力算子`MultiHeadSelfAttention`的详细代码实现如下："
   ]
  },
  {
   "cell_type": "code",
   "execution_count": null,
   "metadata": {
    "collapsed": false
   },
   "outputs": [],
   "source": [
    "import paddle.nn as nn\n",
    "import paddle\n",
    "\n",
    "class MultiHeadSelfAttention(nn.Layer):\n",
    "    def __init__(self, inputs_size, heads_num, dropout=0.0):\n",
    "        super(MultiHeadSelfAttention, self).__init__()\n",
    "        # 输入的embedding维度\n",
    "        self.inputs_size = inputs_size\n",
    "        self.qsize, self.ksize, self.vsize = inputs_size, inputs_size, inputs_size\n",
    "        # head的数目\n",
    "        self.heads_num = heads_num\n",
    "        # 每个head的输入向量的维度\n",
    "        self.head_size = inputs_size // heads_num\n",
    "        # 输入的维度inputs_size需要整除head数目heads_num\n",
    "        assert (\n",
    "            self.head_size * heads_num == self.inputs_size\n",
    "        ), \"embed_size must be divisible by heads_num\"\n",
    "        # 查询\n",
    "        self.Q_proj = nn.Linear(self.qsize, inputs_size, bias_attr=False)\n",
    "        # 键\n",
    "        self.K_proj = nn.Linear(self.ksize, inputs_size, bias_attr=False)\n",
    "        # 值\n",
    "        self.V_proj = nn.Linear(self.vsize, inputs_size, bias_attr=False)\n",
    "        # 输出映射\n",
    "        self.out_proj = nn.Linear(inputs_size, inputs_size, bias_attr=False)\n",
    "        # QKV注意力\n",
    "        self.attention = QKVAttention(self.head_size)\n",
    "\n",
    "    def forward(self, X, valid_lens):\n",
    "        \"\"\"\n",
    "        输入：\n",
    "            - X：输入矩阵，shape=[batch_size,seq_len,hidden_size]\n",
    "            - valid_lens： 长度矩阵，shape=[batch_size]\n",
    "        输出：\n",
    "            - output：输出矩阵，表示的是多头注意力的结果\n",
    "        \"\"\"\n",
    "        self.batch_size, self.seq_len, self.hidden_size = X.shape\n",
    "        # Q,K,V: [batch_size, seq_len, hidden_size]\n",
    "        Q, K, V = self.Q_proj(X), self.K_proj(X), self.V_proj(X)\n",
    "        # Q,K,V: [batch_size*heads_num, seq_len, head_size]\n",
    "        Q, K, V = [\n",
    "            split_head_reshape(item, self.heads_num, self.head_size)\n",
    "            for item in [Q, K, V]\n",
    "        ]\n",
    "        # 把valid_lens复制 heads_num * seq_len次\n",
    "        # 比如valid_lens_np=[1,2],num_head*seq_len=2 则变为 [1,1,2,2]\n",
    "        valid_lens = paddle.repeat_interleave(\n",
    "                valid_lens, repeats=self.heads_num * self.seq_len, axis=0)\n",
    "        # out: [batch_size*heads_num, seq_len, head_size]\n",
    "        out = self.attention(Q, K, V, valid_lens)\n",
    "        # out: [batch_size, heads_num, seq_len, head_size]\n",
    "        out = paddle.reshape(\n",
    "            out, [self.batch_size, self.heads_num, self.seq_len, self.head_size]\n",
    "        )\n",
    "        # out: [batch_size, seq_len, heads_num, head_size]\n",
    "        out = paddle.transpose(out, perm=[0, 2, 1, 3])\n",
    "        # 多头注意力输出拼接\n",
    "        # out: [batch_size, seq_len, heads_num * head_size]\n",
    "        out = paddle.reshape(x=out, shape=[0, 0, out.shape[2] * out.shape[3]])\n",
    "        # 输出映射\n",
    "        out = self.out_proj(out)\n",
    "        return out"
   ]
  },
  {
   "cell_type": "markdown",
   "metadata": {
    "collapsed": false
   },
   "source": [
    "对上面的实现进行验证，输入以形状为$2\\times 2 \\times 4$的张量，表示两个2序列，每个序列有2个单词，每个单词的长度是4维。"
   ]
  },
  {
   "cell_type": "code",
   "execution_count": null,
   "metadata": {
    "collapsed": false
   },
   "outputs": [],
   "source": [
    "paddle.seed(2021)\n",
    "X = paddle.rand((2, 2, 4))\n",
    "valid_lens= paddle.to_tensor([1,2])\n",
    "print('输入向量 {}'.format(X.numpy()))\n",
    "multi_head_attn = MultiHeadSelfAttention(heads_num=2,inputs_size=4)\n",
    "context = multi_head_attn(X,valid_lens)  \n",
    "print('注意力的输出为 : {}'.format(context.numpy()))\n",
    "print('注意力权重为 : {}'.format(multi_head_attn.attention.attention_weights.numpy()))"
   ]
  },
  {
   "cell_type": "markdown",
   "metadata": {
    "collapsed": false
   },
   "source": [
    "多头自注意力把输入矩阵分成了2个头，分别计算QKV 注意力，计算结束后把2个头的结果拼接在一起输出。权重的输出为0的地方表示被掩码去除，不参与注意力的计算，所以输出为0."
   ]
  },
  {
   "cell_type": "markdown",
   "metadata": {
    "collapsed": false
   },
   "source": [
    "## 8.2.2 基于LSTM和多头自注意力的文本分类的模型构建\n",
    "\n",
    "基于LSTM和多头自注意力的文本分类模型的模型结构如下图所示，整个模型由以下几个部分组成：\n",
    "\n",
    "1） 嵌入层：将输入句子中的词语转换为向量表示；\n",
    "\n",
    "2） LSTM层：基于双向LSTM网络来建模句子中词语的上下文表示；\n",
    "\n",
    "3） 自注意力层：使用多头自注意力机制来计算LSTM的自注意力特征表示；\n",
    "\n",
    "4） 汇聚层：对多头自注意力的输出进行平均汇聚得到整个句子的表示；\n",
    "\n",
    "5） 线性层：输出层，预测对应的类别得分.\n"
   ]
  },
  {
   "cell_type": "markdown",
   "metadata": {
    "collapsed": false
   },
   "source": [
    "\n",
    "<center><img src=\"https://ai-studio-static-online.cdn.bcebos.com/bb328336d6cf43d898eb09ee9f38315180908bffad0a4ba28f6dd7cdb5ada099\" width=\"800px\"></center>\n",
    "<br><center>基于双向LSTM和多头自注意力的文本分类模型</center></br>"
   ]
  },
  {
   "cell_type": "markdown",
   "metadata": {
    "collapsed": false
   },
   "source": [
    "本节中，我们直接复用第6.4节中实现的嵌入层和双向LSTM层，使用上一小节中定义的多头自注意力算子`MultiHeadSelfAttention`，以及第8.1.2.5节模型的线性层。\n"
   ]
  },
  {
   "cell_type": "markdown",
   "metadata": {
    "collapsed": false
   },
   "source": [
    "### 8.2.2.1 模型汇总\n",
    "\n",
    "基于双向LSTM和多头注意力机制的网络就是在原有的双向LSTM的基础上实现了多头自注意力，求平均后接入分类层输出，代码实现如下"
   ]
  },
  {
   "cell_type": "code",
   "execution_count": null,
   "metadata": {
    "collapsed": false
   },
   "outputs": [],
   "source": [
    "class AveragePooling(nn.Layer):\n",
    "    def __init__(self):\n",
    "        super(AveragePooling, self).__init__()\n",
    "    \n",
    "    def forward(self, sequence_output, sequence_length):\n",
    "        sequence_length = paddle.cast(sequence_length.unsqueeze(-1), dtype=\"float32\")\n",
    "        # 根据sequence_length生成mask矩阵，用于对Padding位置的信息进行mask\n",
    "        max_len = sequence_output.shape[1]\n",
    "        mask = paddle.arange(max_len) < sequence_length\n",
    "        mask = paddle.cast(mask, dtype=\"float32\").unsqueeze(-1)\n",
    "        # 对序列中paddling部分进行mask\n",
    "        sequence_output = paddle.multiply(sequence_output, mask)\n",
    "        # 对序列中的向量取均值\n",
    "        batch_mean_hidden = paddle.divide(paddle.sum(sequence_output, axis=1), sequence_length)\n",
    "        return batch_mean_hidden"
   ]
  },
  {
   "cell_type": "code",
   "execution_count": null,
   "metadata": {
    "collapsed": false
   },
   "outputs": [],
   "source": [
    "class Model_LSTMSelftAttention(nn.Layer):\n",
    "    def __init__(\n",
    "        self,\n",
    "        hidden_size,\n",
    "        embedding_size,\n",
    "        vocab_size,\n",
    "        n_classes=10,\n",
    "        n_layers=1,\n",
    "        attention=None,\n",
    "    ):\n",
    "        super(Model_LSTMSelftAttention, self).__init__()\n",
    "        # 表示LSTM单元的隐藏神经元数量，它也将用来表示hidden和cell向量状态的维度\n",
    "        self.hidden_size = hidden_size\n",
    "        # 表示词向量的维度\n",
    "        self.embedding_size = embedding_size\n",
    "        # 表示词典的的单词数量\n",
    "        self.vocab_size = vocab_size\n",
    "        # 表示文本分类的类别数量\n",
    "        self.n_classes = n_classes\n",
    "        # 表示LSTM的层数\n",
    "        self.n_layers = n_layers\n",
    "        # 定义embedding层\n",
    "        self.embedding = nn.Embedding(\n",
    "            num_embeddings=self.vocab_size, embedding_dim=self.embedding_size\n",
    "        )\n",
    "        # 定义LSTM，它将用来编码网络\n",
    "        self.lstm = nn.LSTM(\n",
    "            input_size=self.embedding_size,\n",
    "            hidden_size=self.hidden_size,\n",
    "            num_layers=self.n_layers,\n",
    "            direction=\"bidirectional\",\n",
    "        )\n",
    "        self.attention = attention\n",
    "        # 实例化聚合层，聚合层与循环网络章节使用一致\n",
    "        self.average_layer = AveragePooling()\n",
    "        # 定义分类层，用于将语义向量映射到相应的类别\n",
    "        self.cls_fc = nn.Linear(\n",
    "            in_features=self.hidden_size * 2, out_features=self.n_classes\n",
    "        )\n",
    "\n",
    "    def forward(self, inputs):\n",
    "        input_ids, valid_lens = inputs\n",
    "        # 获取词向量\n",
    "        embedded_input = self.embedding(input_ids)\n",
    "        # 使用LSTM进行语义编码\n",
    "        last_layers_hiddens, (last_step_hiddens, last_step_cells) = self.lstm(\n",
    "            embedded_input, sequence_length=valid_lens\n",
    "        )\n",
    "        # 计算多头自注意力\n",
    "        last_layers_hiddens = self.attention(last_layers_hiddens, valid_lens)\n",
    "        # 使用聚合层聚合sequence_output\n",
    "        last_layers_hiddens = self.average_layer(last_layers_hiddens, valid_lens)\n",
    "        # 将其通过分类线性层，获得初步的类别数值\n",
    "        logits = self.cls_fc(last_layers_hiddens)\n",
    "        return logits"
   ]
  },
  {
   "cell_type": "markdown",
   "metadata": {
    "collapsed": false
   },
   "source": [
    "## 8.2.3 模型训练\n",
    "\n",
    "实例化组装RunnerV3的重要组件：模型、优化器、损失函数和评价指标，其中模型部分传入的是多头自注意力，然后便可以开始进行模型训练。损失函数使用的是交叉熵损失，评价函数使用的是Accuracy，跟上一节的设置保持一致。"
   ]
  },
  {
   "cell_type": "code",
   "execution_count": null,
   "metadata": {
    "collapsed": false
   },
   "outputs": [],
   "source": [
    "from paddle.optimizer import Adam\n",
    "from nndl import Accuracy, RunnerV3\n",
    "\n",
    "paddle.seed(2021)\n",
    "# 迭代的epoch数\n",
    "epochs = 2\n",
    "# 词汇表的大小\n",
    "vocab_size = len(word2id_dict)\n",
    "# lstm的输出单元的大小\n",
    "hidden_size = 128\n",
    "# embedding的维度\n",
    "embedding_size = 128\n",
    "# 类别数\n",
    "n_classes = 2\n",
    "# lstm的层数\n",
    "n_layers = 1\n",
    "# 学习率\n",
    "learning_rate = 0.001\n",
    "# 指定评价指标\n",
    "metric = Accuracy()\n",
    "# 交叉熵损失\n",
    "criterion = nn.CrossEntropyLoss()\n",
    "# 指定评价指标\n",
    "metric = Accuracy()\n",
    "multi_head_attn = MultiHeadSelfAttention(inputs_size=256, heads_num=8)\n",
    "# 框架API的复现\n",
    "# multi_head_attn = nn.MultiHeadAttention(embed_dim=256, num_heads=8, bias_attr=False)\n",
    "# 实例化基于LSTM的注意力模型\n",
    "model_atten = Model_LSTMSelftAttention(\n",
    "    hidden_size,\n",
    "    embedding_size,\n",
    "    vocab_size,\n",
    "    n_classes=n_classes,\n",
    "    n_layers=n_layers,\n",
    "    attention=multi_head_attn,\n",
    ")\n",
    "# 定义优化器\n",
    "optimizer = Adam(parameters=model_atten.parameters(), learning_rate=learning_rate)\n",
    "# 实例化RunnerV3\n",
    "runner = RunnerV3(model_atten, optimizer, criterion, metric)\n",
    "save_path = \"./checkpoint/model_best.pdparams\"\n",
    "# 训练\n",
    "runner.train(\n",
    "    train_loader,\n",
    "    dev_loader,\n",
    "    num_epochs=epochs,\n",
    "    log_steps=10,\n",
    "    eval_steps=10,\n",
    "    save_path=save_path,\n",
    ")"
   ]
  },
  {
   "cell_type": "markdown",
   "metadata": {
    "collapsed": false
   },
   "source": [
    "可视化观察训练集与验证集的损失变化情况。"
   ]
  },
  {
   "cell_type": "code",
   "execution_count": null,
   "metadata": {
    "collapsed": false
   },
   "outputs": [],
   "source": [
    "from nndl import plot\n",
    "\n",
    "plot(runner, 'att-loss-acc2.pdf')"
   ]
  },
  {
   "cell_type": "markdown",
   "metadata": {
    "collapsed": false
   },
   "source": [
    "## 8.2.4 模型评价"
   ]
  },
  {
   "cell_type": "code",
   "execution_count": null,
   "metadata": {
    "collapsed": false
   },
   "outputs": [],
   "source": [
    "model_path = \"checkpoint/model_best.pdparams\"\n",
    "runner.load_model(model_path)\n",
    "accuracy, _ =  runner.evaluate(test_loader)\n",
    "print(f\"Evaluate on test set, Accuracy: {accuracy:.5f}\")"
   ]
  },
  {
   "cell_type": "markdown",
   "metadata": {
    "collapsed": false
   },
   "source": [
    "1）在不加注意力机制的情况下，测试集上的准确率为0.86064。\n",
    "加入了多头注意力后，准确率变为了0.86552。说明多头注意力能够起到信息筛选和聚合的作用。\n",
    "\n",
    "2）和第8.1节的点积注意力和加性注意力相比，多头自注意力的准确率介于加性注意力和点积注意力之间，因此同等条件下，多头自注意力模型的效果要优于普通的加性注意力模型，最终点积注意力的准确率最高。\n",
    "\n",
    "********\n",
    "前面上一节的注意力机制相比，多头自注意力模型引入了更多的参数，因此模型会更复杂，通常需要更多的训练数据才能达到比较好的性能。请思考可以从哪些角度来提升自注意力模型的性能？\n",
    "********\n"
   ]
  },
  {
   "cell_type": "markdown",
   "metadata": {
    "collapsed": false
   },
   "source": [
    "任取一条英文文本数据，然后使用模型进行预测，代码如下："
   ]
  },
  {
   "cell_type": "code",
   "execution_count": null,
   "metadata": {
    "collapsed": false
   },
   "outputs": [],
   "source": [
    "text = \"this movie is so great. I watched it three times already\"\n",
    "# 句子按照空格分开\n",
    "sentence = text.split(\" \")\n",
    "# 单词转ID\n",
    "tokens = [\n",
    "    word2id_dict[word] if word in word2id_dict else word2id_dict[\"[oov]\"]\n",
    "    for word in sentence\n",
    "]\n",
    "# 取max_seq_len\n",
    "tokens = tokens[:max_seq_len]\n",
    "# 长度\n",
    "seq_len = paddle.to_tensor([len(tokens)])\n",
    "# 转换成Tensor\n",
    "input_ids = paddle.to_tensor([tokens], dtype=\"int64\")\n",
    "inputs = [input_ids, seq_len]\n",
    "# 预测\n",
    "logits = runner.predict(inputs)\n",
    "# label词表\n",
    "id2label = {0: \"消极情绪\", 1: \"积极情绪\"}\n",
    "# 取最大值的索引\n",
    "label_id = paddle.argmax(logits, axis=1).numpy()[0]\n",
    "# 根据索引取出输出\n",
    "pred_label = id2label[label_id]\n",
    "print(\"Label: \", pred_label)"
   ]
  },
  {
   "cell_type": "markdown",
   "metadata": {
    "collapsed": false
   },
   "source": [
    "从输出结果看，这句话的预测结果是积极情绪，这句话本身的情感是正向的，说明预测结果正确。"
   ]
  },
  {
   "cell_type": "markdown",
   "metadata": {
    "collapsed": false
   },
   "source": [
    "********\n",
    "尝试将LSTM层去掉，只是用注意力层重复上面实验，观察结果并分析原因。\n",
    "********"
   ]
  }
 ],
 "metadata": {
  "kernelspec": {
   "display_name": "Python 3",
   "language": "python",
   "name": "py35-paddle1.2.0"
  },
  "language_info": {
   "codemirror_mode": {
    "name": "ipython",
    "version": 3
   },
   "file_extension": ".py",
   "mimetype": "text/x-python",
   "name": "python",
   "nbconvert_exporter": "python",
   "pygments_lexer": "ipython3",
   "version": "3.7.4"
  }
 },
 "nbformat": 4,
 "nbformat_minor": 1
}
