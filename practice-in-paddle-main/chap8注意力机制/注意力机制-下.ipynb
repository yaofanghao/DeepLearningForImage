{
 "cells": [
  {
   "cell_type": "markdown",
   "metadata": {
    "collapsed": false
   },
   "source": [
    "# 8.3 基于自注意力模型的文本语义匹配\n",
    "\n",
    "**文本语义匹配** {Text Semantic Matching}是一个十分常见的自然语言处理任务。比如在信息检索、问答系统，文本蕴含等任务中都需要用于文本语义匹配的技术。\n",
    "\n",
    "比如下面三个句子，句子A和句子C的语义更相似，但是如果通过字符串匹配的方式，A和B更容易被判断为相似。\n",
    "\n",
    "```\n",
    "A. 什么花一年四季都开？\n",
    "B. 什么花生一年四季都开？\n",
    "C. 哪些花可以全年开放？\n",
    "```\n",
    "\n",
    "文本语义匹配任务就是希望能从语义上更准确第判断两个句子之间的关系，而不是仅仅通过字符串匹配。\n",
    "令1表示“相似”，0表示“不相似”，我们希望文本语义匹配模型能够达到这样的效果：\n",
    "输入A和B两句话，输出为0,；输入A和C两句话，输出为1。\n",
    "\n",
    "本实践基于自注意力机制来进行文本语义匹配任务。和前两节不同，这里只是用自注意力模型，而不是将自注意力模型叠加在LSTM模型的上面。\n",
    "这里使用一个非常流行的网络结构Transformer。由于语义匹配是一个分类任务，因此只需要用到Transformer模型的编码器。\n",
    "\n",
    "基于Transformer编码器的文本语义匹配的整个模型结构如图所示：\n"
   ]
  },
  {
   "cell_type": "markdown",
   "metadata": {
    "collapsed": false
   },
   "source": [
    "<center><img src=\"https://ai-studio-static-online.cdn.bcebos.com/1b81fa33279a430a972cb30fb5b91143bcd2275f5931437a917a28e0a0e80c88\" width=\"700px\"></center>\n",
    "\n",
    "<br><center>图8.15 基于Transformer编码器的文本语义匹配模型结构</center></br>\n"
   ]
  },
  {
   "cell_type": "markdown",
   "metadata": {
    "collapsed": false
   },
   "source": [
    "我们首先将两个句子“什么花一年四季都开”“哪些花可以全年开放”进行拼接，构建“[CLS]什么花一年四季都开[SEP]哪些花可以全年开放[SEP]”一个句子，其中“[CLS]”表示整个句子的特征，“[SEP]”表示两个句子的分割。这样我们可以将两个句子的匹配问题转换为一个句子的分类问题。\n",
    "\n",
    "然后，我们将合并后的句子转换成稠密的特征向量（图中的输入编码），然后加入对应的位置编码和分段编码，位置编码和分段编码也是稠密的特征向量，然后输入编码，位置编码分段编码按照位置相加，最终得到每个字符级别的特征表示，字符级别的表示包含了语义信息（输入编码），当前字符的位置信息(位置编码)和句子的信息（分段编码）。然后经过编码器得到多头自注意力机制后的输出，然后取第0个位置的句子向量接入线性层进行分类，得到最终的分类结果\"相似\"。"
   ]
  },
  {
   "cell_type": "markdown",
   "metadata": {
    "collapsed": false
   },
   "source": [
    "## 8.3.1 数据准备\n",
    "\n",
    "LCQMC是百度知道领域的中文问题匹配数据集，该数据集是从不同领域的用户中提取出来。LCQMC的训练集的数量是\t238766条，验证集的大小是4401条，测试集的大小是4401条。其目录结构如下：\n",
    "\n",
    "```\n",
    "lcqmc\n",
    "├── dev.csv  # 验证集\n",
    "├── test.csv # 测试集\n",
    "└── train.tsv # 训练集\n",
    "```\n",
    "\n",
    "下面看一下其中的一条数据，数据有三部分组成，前两句是文本，表示的是两句话，第三部分是标签，其中1表示的是两文本是相似的，0表示的是两文本是不相似的：\n",
    "\n",
    "```\n",
    "什么花一年四季都开      什么花一年四季都是开的  1\n",
    "```\n",
    "\n",
    "\n",
    "\n"
   ]
  },
  {
   "cell_type": "markdown",
   "metadata": {
    "collapsed": false
   },
   "source": [
    "### 8.3.1.1  数据加载\n",
    "\n",
    "首先加载数据和词表，利用词表是把句子中的每个中文字符转换成ID。注意由于数据集不同，这里使用的词表跟上面文本分类实验里面的的词表不同。"
   ]
  },
  {
   "cell_type": "code",
   "execution_count": null,
   "metadata": {
    "collapsed": false
   },
   "outputs": [],
   "source": [
    "from utils.data import load_vocab,load_lcqmc_data\n",
    "# 加载训练集，验证集，测试集\n",
    "train_data, dev_data, test_data=load_lcqmc_data('lcqmc')\n",
    "# 加载词表\n",
    "word2id_dict = load_vocab()"
   ]
  },
  {
   "cell_type": "markdown",
   "metadata": {
    "collapsed": false
   },
   "source": [
    "### 8.3.1.2 构建DataSet\n",
    "\n",
    "构造一个LCQMCDataset类，LCQMCDataset继承paddle.io.DataSet类，可以逐个数据进行处理。\n",
    "\n",
    "LCQMCDataset的作用首先就是把文本根据词表转换成ID的形式，对于一个不在词汇表里面的字，默认会将该词用[UNK]代替，由于输入的是两句话，所以需要加入分隔符号[SEP]，并且在起始位置加入[CLS]占位符来表示语义级别的特征表示。\n",
    "\n",
    "\n",
    "比如对于前面的例子，我们转换成如下的形式：\n",
    "```\n",
    "[CLS]什么花一年四季都开[SEP]什么花一年四季都是开的[SEP]\n",
    "```\n",
    "\n",
    "然后根据词表将每个词转换成相应的ID表示input_ids。除了用分隔符号[SEP]外，对每个词分别加一维特征segment_ids=0,1来区分该词是来自于哪个句子。0表示该词是来自第一个句子；1表示该词是来自第二个句子。\n",
    "\n",
    "\n",
    "\n",
    "```\n",
    "[101, 784, 720, 5709, 671, 2399, 1724, 2108, 6963, 2458, 102, 784, 720, 5709, 671, 2399, 1724, 2108, 6963, 3221, 2458, 4638, 102]\n",
    "[0, 0, 0, 0, 0, 0, 0, 0, 0, 0, 0, 1, 1, 1, 1, 1, 1, 1, 1, 1, 1, 1, 1]\n",
    "```"
   ]
  },
  {
   "cell_type": "code",
   "execution_count": null,
   "metadata": {
    "collapsed": false
   },
   "outputs": [],
   "source": [
    "from paddle.io import Dataset\n",
    "\n",
    "class LCQMCDataset(Dataset):\n",
    "    def __init__(self, data, word2id_dict):\n",
    "        # 词表\n",
    "        self.word2id_dict = word2id_dict\n",
    "        # 数据\n",
    "        self.examples = data\n",
    "        # ['CLS']的id，占位符\n",
    "        self.cls_id = self.word2id_dict['[CLS]']\n",
    "        # ['SEP']的id，句子的分隔\n",
    "        self.sep_id = self.word2id_dict['[SEP]']\n",
    "\n",
    "    def __getitem__(self, idx):\n",
    "        # 返回单条样本\n",
    "        example = self.examples[idx]\n",
    "        text, segment, label = self.words_to_id(example)\n",
    "        return text, segment, label\n",
    "\n",
    "    def __len__(self):\n",
    "        # 返回样本的个数\n",
    "        return len(self.examples)\n",
    "\n",
    "    def words_to_id(self, example):\n",
    "        text_a, text_b, label = example\n",
    "        # text_a 转换成id的形式\n",
    "        input_ids_a = [self.word2id_dict[item] if item in self.word2id_dict else self.word2id_dict['[UNK]'] for item in text_a]\n",
    "        # text_b 转换成id的形式\n",
    "        input_ids_b = [self.word2id_dict[item] if item in self.word2id_dict else self.word2id_dict['[UNK]'] for item in text_b]\n",
    "        # 加入[CLS],[SEP]\n",
    "        input_ids = [self.cls_id]+ input_ids_a + [self.sep_id] + input_ids_b + [self.sep_id]\n",
    "        # 对句子text_a,text_b做id的区分，进行的分隔\n",
    "        segment_ids = [0]*(len(input_ids_a)+2)+[1]*(len(input_ids_b)+1)\n",
    "        return input_ids, segment_ids, int(label)\n",
    "\n",
    "    @property\n",
    "    def label_list(self):\n",
    "        # 0表示不相似，1表示相似\n",
    "        return ['0', '1']\n",
    "\n",
    "# 加载训练集\n",
    "train_dataset = LCQMCDataset(train_data,word2id_dict)\n",
    "# 加载验证集\n",
    "dev_dataset = LCQMCDataset(dev_data,word2id_dict)\n",
    "# 加载测试集\n",
    "test_dataset = LCQMCDataset(test_data,word2id_dict)"
   ]
  },
  {
   "cell_type": "markdown",
   "metadata": {
    "collapsed": false
   },
   "source": [
    "\n",
    "### 8.3.1.3 构建Dataloader\n",
    "\n",
    "构建DataLoader的目的是组装成小批量的数据，在组装小批量的数据之前，首先对文本数据转为ID表示，然后把数据用[PAD]进行对齐。这里我们将[PAD]的ID设为0，因此补齐操作就是把ID序列用0对齐到最大长度。\n",
    "\n",
    "对数据进行统一格式化后，使用DataLoader组装成小批次的数据迭代器。"
   ]
  },
  {
   "cell_type": "code",
   "execution_count": null,
   "metadata": {
    "collapsed": false
   },
   "outputs": [
    {
     "name": "stdout",
     "output_type": "stream",
     "text": [
      "[[Tensor(shape=[32, 52], dtype=int64, place=CUDAPlace(0), stop_gradient=True,\n",
      "       [[101 , 1599, 3614, ..., 0   , 0   , 0   ],\n",
      "        [101 , 2769, 2797, ..., 0   , 0   , 0   ],\n",
      "        [101 , 1920, 2157, ..., 0   , 0   , 0   ],\n",
      "        ...,\n",
      "        [101 , 1453, 3345, ..., 0   , 0   , 0   ],\n",
      "        [101 , 3299, 1159, ..., 5023, 2521, 102 ],\n",
      "        [101 , 3118, 802 , ..., 0   , 0   , 0   ]]), Tensor(shape=[32, 52], dtype=int64, place=CUDAPlace(0), stop_gradient=True,\n",
      "       [[0, 0, 0, ..., 0, 0, 0],\n",
      "        [0, 0, 0, ..., 0, 0, 0],\n",
      "        [0, 0, 0, ..., 0, 0, 0],\n",
      "        ...,\n",
      "        [0, 0, 0, ..., 0, 0, 0],\n",
      "        [0, 0, 0, ..., 1, 1, 1],\n",
      "        [0, 0, 0, ..., 0, 0, 0]])], Tensor(shape=[32], dtype=int64, place=CUDAPlace(0), stop_gradient=True,\n",
      "       [1, 1, 0, 1, 0, 1, 0, 1, 1, 1, 0, 0, 1, 0, 0, 1, 1, 1, 0, 0, 0, 1, 0, 1,\n",
      "        0, 1, 0, 1, 1, 1, 0, 1])]\n"
     ]
    }
   ],
   "source": [
    "from paddle.io import DataLoader\n",
    "import paddle\n",
    "\n",
    "def collate_fn(batch_data, pad_val=0, max_seq_len=512):\n",
    "    input_ids, segment_ids, labels = [], [], []\n",
    "    max_len = 0\n",
    "    # print(batch_data)\n",
    "    for example in batch_data:\n",
    "        input_id, segment_id, label = example\n",
    "        # 对数据序列进行截断\n",
    "        input_ids.append(input_id[:max_seq_len])\n",
    "        segment_ids.append(segment_id[:max_seq_len])\n",
    "        labels.append(label)\n",
    "        # 保存序列最大长度\n",
    "        max_len = max(max_len, len(input_id))\n",
    "    # 对数据序列进行填充至最大长度\n",
    "    for i in range(len(labels)):\n",
    "        input_ids[i] = input_ids[i]+[pad_val] * (max_len - len(input_ids[i]))\n",
    "        segment_ids[i] = segment_ids[i]+[pad_val] * (max_len - len(segment_ids[i]))\n",
    "    return (\n",
    "        paddle.to_tensor(input_ids),\n",
    "        paddle.to_tensor(segment_ids),\n",
    "    ), paddle.to_tensor(labels)\n",
    "\n",
    "batch_size = 32\n",
    "# 构建训练集,验证集，测试集的dataloader\n",
    "train_loader = DataLoader(\n",
    "    train_dataset, batch_size=batch_size, collate_fn=collate_fn, shuffle=False\n",
    ")\n",
    "dev_loader = DataLoader(\n",
    "    dev_dataset, batch_size=batch_size, collate_fn=collate_fn, shuffle=False\n",
    ")\n",
    "test_loader = DataLoader(\n",
    "    test_dataset, batch_size=batch_size, collate_fn=collate_fn, shuffle=False\n",
    ")\n",
    "\n",
    "# 打印输出一条mini-batch的数据\n",
    "for idx, item in enumerate(train_loader):\n",
    "    if idx == 0:\n",
    "        print(item)\n",
    "        break"
   ]
  },
  {
   "cell_type": "markdown",
   "metadata": {
    "collapsed": false
   },
   "source": [
    "从上面的输出可以看到，第一个张量的形状是[32,52],其中分别是样本数量和句子长度。如果句子本身的长度不够52个字符，则会补0处理；第二个张量的输出的维度是[32,52]，表示的是句子的编码，可以看到两个句子被编码成了只包含0，1的向量；最后一个张量是标签的编码，维度是32，表示有32个标签，1表示的是该句子是相似的，0表示的是该句子是不相似的。"
   ]
  },
  {
   "cell_type": "markdown",
   "metadata": {
    "collapsed": false
   },
   "source": [
    "## 8.3.2  模型构建\n",
    "\n",
    "<center><img src=\"https://ai-studio-static-online.cdn.bcebos.com/9256f30d032045f2a1fec3c44bd4e7747e4d331a04774d05938db566896aee96\" width=\"700px\"></center>\n",
    "\n",
    "<br><center>图8.16 文本语义匹配模型结构</center></br>\n",
    "\n",
    "\n",
    "\n",
    "如图8.15所示，基于Transformer编码器的语义匹配模型由以下几个部分组成：\n",
    "\n",
    " 1） 嵌入层：用于输入的句子中的词语的向量化表示，由于语义匹配任务的输入是两句文本，所以需要分段编码对每个句子进行向量化表示，最后还需要对句子中词语的位置进行向量化表示，即位置编码。\n",
    " \n",
    " 2） Transformer组块：使用Transformer的编码组块来计算深层次的特征表示。\n",
    " \n",
    " 3） 线性层：输出层，得到该句子的分类。线性层的输入是第一个位置[CLS]的输出向量。\n"
   ]
  },
  {
   "cell_type": "markdown",
   "metadata": {
    "collapsed": false
   },
   "source": [
    "\n",
    "### 8.3.2.1 嵌入层\n",
    "\n",
    "嵌入层是将输入的文字序列转换为向量序列。这里除了之前的词向量外，我们还需要引入两种编码。\n",
    "\n",
    "\n",
    "1） **位置编码**{Position Embeddings}：自注意力模块本身无法感知序列的输入顺序信息，即一个词对其它词的影响和它们之间的距离没有关系。因此，自注意力模块通常需要和卷积网络、循环网络一起组合使用。如果单独使用自注意力模块，就需要对其输入表示补充位置信息。位置编码主要是把字的位置信息向量化。\n",
    "\n",
    "2） **分段编码** {Segment Embeddings}：由于本实践中处理的输入序列是由两个句子拼接而成。为了区分每个词来自于哪个句子，对每个词增加一个0,1分段标记，表示该词是第0或1个句子。分段编码是将分段标记也向量化。\n",
    "\n",
    "下面我们分别介绍这几种编码。\n",
    "\n",
    "**（1）输入编码**\n",
    "\n",
    "**输入编码** {Input Embeddings}把输入的词转化成向量的形式。输入编码看作是一个查表的操作，对于每个单词，要将这些符号转换为向量形式．一种简单的转换方法是通过一个**嵌入表** {Embedding Lookup Table}来将每个符号直接映射成向量表示．这里使用飞桨的paddle.nn.Embedding来根据输入序列中的id信息从嵌入矩阵中查询对应嵌入向量。\n",
    "\n",
    "```\n",
    "class paddle.nn.Embedding(num_embeddings, embedding_dim, padding_idx=None, sparse=False, weight_attr=None, name=None)\n",
    "```\n",
    "\n",
    "`paddle.nn.Embedding`会根据`[num_embeddings, embedding_dim]`自动构造一个二维嵌入矩阵。如果配置了`padding_idx`，那么在训练过程中遇到此id时，其参数及对应的梯度将会以0进行填充。\n",
    "\n",
    "在Transformer的输入编码的实现中，初始化使用的是随机正态分布，均值为0，标准差为$\\frac{1}{\\sqrt{\\textrm{emb\\_size}}}$，$\\textrm{emb\\_size}$表示的是词向量的维度。所有的向量都乘以了$\\sqrt{\\textrm{emb\\_size}}$。代码实现如下：\n"
   ]
  },
  {
   "cell_type": "code",
   "execution_count": null,
   "metadata": {
    "collapsed": false
   },
   "outputs": [
    {
     "name": "stderr",
     "output_type": "stream",
     "text": [
      "W0714 14:06:33.794049   204 device_context.cc:447] Please NOTE: device: 0, GPU Compute Capability: 8.0, Driver API Version: 11.2, Runtime API Version: 11.2\n",
      "W0714 14:06:33.800398   204 device_context.cc:465] device: 0, cuDNN Version: 8.2.\n"
     ]
    },
    {
     "name": "stdout",
     "output_type": "stream",
     "text": [
      "输入编码为： [1 0 2]\n",
      "输出为： [[-0.7112208  -0.35037443  0.7261958  -0.31876457]\n",
      " [ 0.          0.          0.          0.        ]\n",
      " [-0.43065292  0.35489145  1.9781216   0.12072387]]\n"
     ]
    }
   ],
   "source": [
    "import paddle\n",
    "import paddle.nn as nn\n",
    "\n",
    "class WordEmbedding(nn.Layer):\n",
    "    def __init__(self, vocab_size, emb_size, padding_idx=0):\n",
    "        super(WordEmbedding, self).__init__()\n",
    "        # Embedding的维度\n",
    "        self.emb_size = emb_size\n",
    "        # 使用随机正态（高斯）分布初始化 embedding\n",
    "        self.word_embedding = nn.Embedding(vocab_size, emb_size,\n",
    "            padding_idx=padding_idx, weight_attr=paddle.ParamAttr(\n",
    "                initializer=nn.initializer.Normal(0.0, emb_size ** -0.5) ), )\n",
    "\n",
    "    def forward(self, word):\n",
    "        word_emb = self.emb_size ** 0.5 * self.word_embedding(word)\n",
    "        return word_emb\n",
    "\n",
    "paddle.seed(2021)\n",
    "# 构造一个输入\n",
    "X = paddle.to_tensor([1, 0, 2])\n",
    "# 表示构造的输入编码的词汇表的大小是10，每个词的维度是4\n",
    "word_embed = WordEmbedding(10, 4)\n",
    "print(\"输入编码为： {}\".format(X.numpy()))\n",
    "word_out = word_embed(X)\n",
    "print(\"输出为： {}\".format(word_out.numpy()))"
   ]
  },
  {
   "cell_type": "markdown",
   "metadata": {
    "collapsed": false
   },
   "source": [
    "**（2）分段编码**\n",
    "\n",
    "分段编码的作用是使得模型能够接受句子对进行训练，用编码的方法使得模型能够区分两个句子。这里指定0来标记句子0，用1标记句子1。对于句子0，创建标记为0的向量，对于句子1，创建标记为1的向量。分段编码的实现跟输入编码类似，不同在于词表大小为2。\n",
    "\n",
    "以下面的句子为例，\n",
    "\n",
    "```\n",
    "什么花一年四季都开      什么花一年四季都是开的\n",
    "```\n",
    "我们的分段标记为：\n",
    "\n",
    "```\n",
    "0 0 0 0 0 0 0 0 0    1 1 1 1 1 1 1 1 1 1 1\n",
    "```\n",
    "\n",
    "下面我们实现分段编码，将分段标记映射为向量表示。分段编码的维度和输入编码一样。\n",
    "代码实现如下："
   ]
  },
  {
   "cell_type": "code",
   "execution_count": null,
   "metadata": {
    "collapsed": false
   },
   "outputs": [
    {
     "name": "stdout",
     "output_type": "stream",
     "text": [
      "输入编码为： [0 0 1 1]\n",
      "输出为： [[-0.90914416  0.7011595  -0.33276933  0.892782  ]\n",
      " [-0.90914416  0.7011595  -0.33276933  0.892782  ]\n",
      " [-0.52305263 -0.2739423   0.5322813  -0.25009495]\n",
      " [-0.52305263 -0.2739423   0.5322813  -0.25009495]]\n"
     ]
    }
   ],
   "source": [
    "class SegmentEmbedding(nn.Layer):\n",
    "    def __init__(self, vocab_size, emb_size):\n",
    "        super(SegmentEmbedding, self).__init__()\n",
    "        # Embedding的维度\n",
    "        self.emb_size = emb_size\n",
    "        # 分段编码\n",
    "        self.seg_embedding = nn.Embedding(\n",
    "            num_embeddings=vocab_size, embedding_dim=emb_size\n",
    "        )\n",
    "\n",
    "    def forward(self, word):\n",
    "        seg_embedding = self.seg_embedding(word)\n",
    "        return seg_embedding\n",
    "\n",
    "paddle.seed(2021)\n",
    "# 构造一个输入,0表示第0句的token，1表示第1句的token\n",
    "X = paddle.to_tensor([0, 0, 1, 1])\n",
    "word_embed = SegmentEmbedding(2, 4)\n",
    "print(\"输入编码为： {}\".format(X.numpy()))\n",
    "word_out = word_embed(X)\n",
    "print(\"输出为： {}\".format(word_out.numpy()))"
   ]
  },
  {
   "cell_type": "markdown",
   "metadata": {
    "collapsed": false
   },
   "source": [
    "**（3）位置编码**\n",
    "\n",
    "为了使得自注意力模块可以感知序列的顺序信息，Transformer给编码层输入添加了一个额外的位置编码。\n",
    "位置编码的目的是在让自注意力模块在计算时引入词之间的距离信息。\n",
    "\n",
    "下面我们用三角函数（正弦或者余弦）来编码位置信息。假设位置编码的维度为$D$，则其中每一维的值的计算如下：\n",
    "$$\n",
    "PE(pos,2i) =\\sin\\left(\\frac{t}{10000^{{2i/D}}}\\right),\\\\\n",
    "PE(pos,2i+1) =\\cos\\left(\\frac{t}{10000^{{2i/D}}}\\right),\n",
    "$$\n",
    "其中$t$是指当前词在句子中的位置，$0 \\leqslant i\\leqslant \\frac{D}{2}$为编码向量的维数。在偶数维，使用正弦编码；在奇数维，使用余弦编码。"
   ]
  },
  {
   "cell_type": "code",
   "execution_count": null,
   "metadata": {
    "collapsed": false
   },
   "outputs": [
    {
     "name": "stdout",
     "output_type": "stream",
     "text": [
      "位置编码的输出为：[[ 0.          1.          0.        ]\n",
      " [ 0.84147096  0.5403023   0.00215443]\n",
      " [ 0.9092974  -0.41614684  0.00430886]\n",
      " [ 0.14112    -0.9899925   0.00646326]]\n"
     ]
    }
   ],
   "source": [
    "import numpy as np\n",
    "import paddle\n",
    "\n",
    "# position_size 为句子划分成字符或者词的长度，hidden_size为词向量的维度。\n",
    "def get_sinusoid_encoding(position_size, hidden_size):\n",
    "    \"\"\"位置编码 \"\"\"\n",
    "\n",
    "    def cal_angle(pos, hidden_idx):\n",
    "        # 公式里的 i = hid_idx // 2\n",
    "        return pos / np.power(10000, 2 * (hidden_idx // 2) / hidden_size)\n",
    "\n",
    "    def get_posi_angle_vec(pos):\n",
    "        return [cal_angle(pos, hidden_j) for hidden_j in range(hidden_size)]\n",
    "\n",
    "    sinusoid = np.array([get_posi_angle_vec(pos_i) for pos_i in range(position_size)])\n",
    "    # dim 2i  偶数正弦\n",
    "    # 从0开始，每隔2间隔求正弦值\n",
    "    sinusoid[:, 0::2] = np.sin(sinusoid[:, 0::2])\n",
    "    # dim 2i 1  奇数余弦\n",
    "    # 从1开始，每隔2间隔取余弦\n",
    "    sinusoid[:, 1::2] = np.cos(sinusoid[:, 1::2])\n",
    "    # position_size × hidden_size  得到每一个词的位置向量\n",
    "    return sinusoid.astype(\"float32\")\n",
    "\n",
    "paddle.seed(2021)\n",
    "position_size = 4\n",
    "hidden_size = 3\n",
    "encoding_vec=get_sinusoid_encoding(position_size, hidden_size)\n",
    "print(\"位置编码的输出为：{}\".format(encoding_vec))"
   ]
  },
  {
   "cell_type": "markdown",
   "metadata": {
    "collapsed": false
   },
   "source": [
    "利用上面的三角函数来实现位置编码，代码如下："
   ]
  },
  {
   "cell_type": "code",
   "execution_count": null,
   "metadata": {
    "collapsed": false
   },
   "outputs": [
    {
     "name": "stdout",
     "output_type": "stream",
     "text": [
      "输入向量为：[1 0 1]\n",
      "位置编码的输出为： [[8.4147096e-01 5.4030228e-01 2.5116222e-02 9.9968451e-01 6.3095731e-04]\n",
      " [0.0000000e+00 1.0000000e+00 0.0000000e+00 1.0000000e+00 0.0000000e+00]\n",
      " [8.4147096e-01 5.4030228e-01 2.5116222e-02 9.9968451e-01 6.3095731e-04]]\n"
     ]
    }
   ],
   "source": [
    "class PositionalEmbedding(nn.Layer):\n",
    "    def __init__(self, max_length,emb_size):\n",
    "        super(PositionalEmbedding, self).__init__()\n",
    "        self.emb_size = emb_size\n",
    "        # 使用三角函数初始化Embedding\n",
    "        self.pos_encoder = nn.Embedding(\n",
    "            num_embeddings=max_length,\n",
    "            embedding_dim=self.emb_size,\n",
    "            weight_attr=paddle.ParamAttr(\n",
    "                initializer=paddle.nn.initializer.Assign(\n",
    "                    get_sinusoid_encoding(max_length, self.emb_size))))\n",
    "    \n",
    "    def forward(self, pos):\n",
    "        pos_emb = self.pos_encoder(pos)\n",
    "        # 关闭位置编码的梯度更新\n",
    "        pos_emb.stop_gradient = True\n",
    "        return pos_emb\n",
    "\n",
    "paddle.seed(2021)\n",
    "out = paddle.randint(low=0, high=5, shape=[3])\n",
    "print('输入向量为：{}'.format(out.numpy()))\n",
    "pos_embed=PositionalEmbedding(4,5)\n",
    "pos_out=pos_embed(out)\n",
    "print('位置编码的输出为： {}'.format(pos_out.numpy()))"
   ]
  },
  {
   "cell_type": "markdown",
   "metadata": {
    "collapsed": false
   },
   "source": [
    "为了对使用三角函数的位置编码有个直观了解，这里对三角函数初始化的值进行可视化，代码如下："
   ]
  },
  {
   "cell_type": "code",
   "execution_count": null,
   "metadata": {
    "collapsed": false
   },
   "outputs": [],
   "source": [
    "%matplotlib inline\n",
    "import matplotlib.pyplot as plt\n",
    "\n",
    "def plot_curve(size,y):\n",
    "    plt.figure(figsize=(15, 5))\n",
    "    plt.plot(np.arange(size), y[0, :, 4:5].numpy(),color='#e4007f',linestyle='-')\n",
    "    plt.plot(np.arange(size), y[0, :, 5:6].numpy(),color='#f19ec2',linestyle='--')\n",
    "    plt.plot(np.arange(size), y[0, :, 6:7].numpy(),color='#000000',linestyle='-.')\n",
    "    plt.legend([\"dim %d\"%p for p in [4,5,6]], fontsize='large')\n",
    "    plt.savefig('att-vis2.pdf')"
   ]
  },
  {
   "cell_type": "code",
   "execution_count": null,
   "metadata": {
    "collapsed": false
   },
   "outputs": [
    {
     "data": {
      "image/png": "[encoded data removed]",
      "text/plain": [
       "<Figure size 1080x360 with 1 Axes>"
      ]
     },
     "metadata": {},
     "output_type": "display_data"
    }
   ],
   "source": [
    "model = PositionalEmbedding(emb_size=20, max_length=5000)\n",
    "# 生成0~99这100个数，表示0~99这100个位置\n",
    "size = 100\n",
    "X= paddle.arange((size)).reshape([1,size])\n",
    "# 对这100个位置进行编码，得到每个位置的向量表示\n",
    "# y: [1,100,20]\n",
    "y = model(X)\n",
    "# 把这100个位置的第4，5，6列的数据可视化出来\n",
    "plot_curve(size,y)"
   ]
  },
  {
   "cell_type": "markdown",
   "metadata": {
    "collapsed": false
   },
   "source": [
    "可以看到，位置编码本质上是一个和位置相关的正弦曲线，每个维度的正弦波的频率和大小不一样，取值范围在$[-1,1]$之间。"
   ]
  },
  {
   "cell_type": "markdown",
   "metadata": {
    "collapsed": false
   },
   "source": [
    "********\n",
    "基于三角函数的位置编码，计算任意两个位置的点积，观察是否可以推断出两个位置的距离信息？\n",
    "********"
   ]
  },
  {
   "cell_type": "markdown",
   "metadata": {
    "collapsed": false
   },
   "source": [
    "********\n",
    "总结基于三角函数的位置编码的优缺点，并思考更好的位置编码方式\n",
    "********"
   ]
  },
  {
   "cell_type": "markdown",
   "metadata": {
    "collapsed": false
   },
   "source": [
    "**（4）嵌入层汇总**\n",
    "\n",
    "最后，我们把输入编码，分段编码和位置编码进行相加，并对加和后的向量进行层规范化和暂退操作，代码如下："
   ]
  },
  {
   "cell_type": "code",
   "execution_count": null,
   "metadata": {
    "collapsed": false
   },
   "outputs": [],
   "source": [
    "class TransformerEmbeddings(nn.Layer):\n",
    "    \"\"\"\n",
    "    包括输入编码，分段编码，位置编码\n",
    "    \"\"\"\n",
    "    def __init__(\n",
    "        self,\n",
    "        vocab_size,\n",
    "        hidden_size=768,\n",
    "        hidden_dropout_prob=0.1,\n",
    "        position_size=512,\n",
    "        segment_size=2,\n",
    "    ):\n",
    "        super(TransformerEmbeddings, self).__init__()\n",
    "        # 输入编码向量\n",
    "        self.word_embeddings = WordEmbedding(vocab_size, hidden_size)\n",
    "        # 位置编码向量\n",
    "        self.position_embeddings = PositionalEmbedding(position_size, hidden_size)\n",
    "        # 分段编码\n",
    "        self.segment_embeddings = SegmentEmbedding(segment_size, hidden_size)\n",
    "        # 层规范化\n",
    "        self.layer_norm = nn.LayerNorm(hidden_size)\n",
    "        # Dropout操作\n",
    "        self.dropout = nn.Dropout(hidden_dropout_prob)\n",
    "\n",
    "    def forward(self, input_ids, segment_ids = None, position_ids = None):\n",
    "        if position_ids is None:\n",
    "            # 初始化全1的向量，比如[1,1,1,1]\n",
    "            ones = paddle.ones_like(input_ids, dtype=\"int64\")\n",
    "            # 累加输入,求出序列前K个的长度,比如[1,2,3,4]\n",
    "            seq_length = paddle.cumsum(ones, axis=-1)\n",
    "            # position id的形式： 比如[0,1,2,3]\n",
    "            position_ids = seq_length - ones\n",
    "            position_ids.stop_gradient = True\n",
    "        # 输入编码\n",
    "        input_embedings = self.word_embeddings(input_ids)\n",
    "        # 分段编码\n",
    "        segment_embeddings = self.segment_embeddings(segment_ids)\n",
    "        # 位置编码\n",
    "        position_embeddings = self.position_embeddings(position_ids)\n",
    "        # 输入张量, 分段张量，位置张量进行叠加\n",
    "        embeddings = input_embedings + segment_embeddings + position_embeddings\n",
    "        # 层规范化\n",
    "        embeddings = self.layer_norm(embeddings)\n",
    "        # Dropout\n",
    "        embeddings = self.dropout(embeddings)\n",
    "        return embeddings"
   ]
  },
  {
   "cell_type": "markdown",
   "metadata": {
    "collapsed": false
   },
   "source": [
    "### 8.3.2.2 Transformer组块\n",
    "\n",
    "Transformer编码器由多个Transformer组块叠加而成。一个Transformer组块的结构如图8.17所示，共包含四个模块：多头注意力层、加与规范化层、前馈层、加与规范化层。\n",
    "\n",
    "<center><img src=\"https://ai-studio-static-online.cdn.bcebos.com/0ec699f6bdb04e7db58c18be2bbfd41d7b8def8ac9a847ccb7ca75b6726ed538\" width=\"500px\"></center>\n",
    "\n",
    "<br><center>图8.17 Transformer组块结构</center></br>\n"
   ]
  },
  {
   "cell_type": "markdown",
   "metadata": {
    "collapsed": false
   },
   "source": [
    "下面我们分别实现这几个层。\n",
    "\n",
    "**多头自注意力层**\n",
    "\n",
    "多头自注意力直接使用在第8.2.1.3中定义的`MultiHeadSelfAttention`算子。\n",
    "\n",
    "**加与规范层**\n",
    "\n",
    "**加与规范**{Add\\&Norm}层主要功能是加入**残差连接**{Residual Connection}与**层规范化**{Layer Normalization}两个组件，使得网络可以更好地训练。残差连接有助于避免深度网络中的梯度消失问题，而层规范化保证数据特征分布的稳定性，网络的收敛性更好。\n",
    "\n",
    "在Transformer组块，有两个地方使用了加与规范层，这里是第一次使用。\n",
    "\n",
    "假设多头自注意力层的输入和输出分别为$\\mathbf X\\in \\mathbb{R}^{B \\times L \\times D}$和$\\mathbf H\\in \\mathbb{R}^{B \\times L \\times D}$，加与规范层可以写为\n",
    "$$\n",
    "\\mathbf H=\\mathrm{LN}(\\mathbf H+\\mathbf X),\n",
    "$$\n",
    "\n",
    "$\\mathrm{LN(\\cdot)}$表示层规范化操作。\n",
    "\n",
    "加与规范层的实现如下，这里还对$\\mathbf H$进行了Dropout操作。\n"
   ]
  },
  {
   "cell_type": "code",
   "execution_count": null,
   "metadata": {
    "collapsed": false
   },
   "outputs": [],
   "source": [
    "import paddle.nn as nn\n",
    "\n",
    "class AddNorm(nn.Layer):\n",
    "    \"\"\"加与规范化\"\"\"\n",
    "    def __init__(self, size, dropout_rate):\n",
    "        super(AddNorm, self).__init__()\n",
    "        self.layer_norm = nn.LayerNorm(size)\n",
    "        self.dropout = nn.Dropout(dropout_rate)\n",
    "\n",
    "    def forward(self, X, H):\n",
    "        \"\"\"\n",
    "            X：表示被包裹的非线性层的输入\n",
    "            H：表示被包裹的非线性层的输出\n",
    "        \"\"\"\n",
    "        H = X + self.dropout(H)\n",
    "        return self.layer_norm(H)"
   ]
  },
  {
   "cell_type": "markdown",
   "metadata": {
    "collapsed": false
   },
   "source": [
    "  在Transformer的具体实现中，层规范化操作的位置有两种，分别称为PreNorm和PostNorm。假设要给非线性$\\mathbf H=f(\\mathbf X)$加上加与规范层，则PreNorm和PostNorm分别定义为：\n",
    "$$\n",
    "  \\mathrm{PreNorm} : \\mathbf H=\\mathbf X + f(\\mathrm{LN}(\\mathbf X) ) \\\\\n",
    "  \\mathrm{PostNorm} : \\mathbf H=\\mathrm{LN} (f(\\mathbf X)+\\mathbf X))\n",
    "$$\n",
    "很多研究表明， PreNorm更容易训练，但PostNorm上限更佳。请分析其背后的原因。\n"
   ]
  },
  {
   "cell_type": "markdown",
   "metadata": {
    "collapsed": false
   },
   "source": [
    "**逐位前馈层**\n",
    "\n",
    "逐位前馈层（Position-wised Feed Forward Networks，FFN）是两层全连接神经网络，使用ReLU激活函数。将每个位置的特征表示进行融合变换，类似于更复杂的核大小为1的“卷积”。\n",
    "\n",
    "假设逐位前馈层的输入为张量$\\mathbf H \\in \\mathbb{R}^{B \\times L \\times D}$，其中$B,L,D$分别表示输入张量的批量大小、序列长度和特征维度，则前馈层的计算公式为：\n",
    "$$\n",
    "\\mathrm{FNN}(\\mathbf H)=\\max(0,\\mathbf H\\mathbf W_1+\\mathbf b_1)\\mathbf W_2+\\mathbf b_2,\n",
    "$$\n",
    "其中$\\mathbf W_{1} \\in \\mathbb{R}^{ D \\times D'}$，$\\mathbf W_{2} \\in \\mathbb{R}^{D'\\times D}$，$\\mathbf b_{1} \\in \\mathbb{R}^{D'}$，$\\mathbf b_{2} \\in \\mathbb{R}^{D}$是可学习的参数，\n"
   ]
  },
  {
   "cell_type": "markdown",
   "metadata": {
    "collapsed": false
   },
   "source": [
    "逐位前馈层的代码实现如下："
   ]
  },
  {
   "cell_type": "code",
   "execution_count": null,
   "metadata": {
    "collapsed": false
   },
   "outputs": [],
   "source": [
    "class PositionwiseFFN(nn.Layer):\n",
    "    \"\"\"逐位前馈层\"\"\"\n",
    "    def __init__(self, input_size, mid_size, dropout=0.1):\n",
    "        super(PositionwiseFFN, self).__init__()\n",
    "        self.W_1 = nn.Linear(input_size, mid_size)\n",
    "        self.W_2 = nn.Linear(mid_size, input_size)\n",
    "        self.dropout = nn.Dropout(dropout)\n",
    "\n",
    "    def forward(self, X):\n",
    "        return self.W_2(self.dropout(F.relu(self.W_1(X))))"
   ]
  },
  {
   "cell_type": "markdown",
   "metadata": {
    "collapsed": false
   },
   "source": [
    "**加与规范层**\n",
    "\n",
    "逐位前馈层之后是第二个加与规范层，实现和第8.3.2.2\n",
    "节中一样，这里就不再重复。"
   ]
  },
  {
   "cell_type": "markdown",
   "metadata": {
    "collapsed": false
   },
   "source": [
    "**Transformer组块汇总**\n",
    "\n",
    "汇总上面的的4个模块，构建Transformer组块。"
   ]
  },
  {
   "cell_type": "code",
   "execution_count": null,
   "metadata": {
    "collapsed": false
   },
   "outputs": [],
   "source": [
    "class TransformerBlock(nn.Layer):\n",
    "    def __init__(\n",
    "        self,\n",
    "        input_size,\n",
    "        head_num,\n",
    "        ffn_size,\n",
    "        dropout=0.1,\n",
    "        attn_dropout=None,\n",
    "        act_dropout=None,\n",
    "    ):\n",
    "        super(TransformerBlock, self).__init__()\n",
    "        # 输入数据的维度\n",
    "        self.input_size = input_size\n",
    "        # 多头自注意力多头的个数\n",
    "        self.head_num = head_num\n",
    "        # 逐位前馈层的大小\n",
    "        self.ffn_size = ffn_size\n",
    "        # 加与规范化里面 Dropout的参数\n",
    "        self.dropout = dropout\n",
    "        # 多头注意力里面的 Dropout参数\n",
    "        self.attn_dropout = dropout if attn_dropout is None else attn_dropout\n",
    "        # 逐位前馈层里面的 Dropout参数\n",
    "        self.act_dropout = dropout if act_dropout is None else act_dropout\n",
    "        # 多头自注意力机制\n",
    "        self.multi_head_attention = nn.MultiHeadAttention(\n",
    "            self.input_size,\n",
    "            self.head_num,\n",
    "            dropout=self.attn_dropout,\n",
    "            need_weights=True,\n",
    "        )\n",
    "        # 逐位前馈层\n",
    "        self.ffn = PositionwiseFFN(self.input_size, self.ffn_size, self.act_dropout)\n",
    "        # 加与规范化\n",
    "        self.addnorm = AddNorm(self.input_size, self.dropout)\n",
    "\n",
    "    def forward(self, X, src_mask=None):\n",
    "        # 多头注意力\n",
    "        X_atten, atten_weights = self.multi_head_attention(X, attn_mask=src_mask)\n",
    "        # 加与规范化\n",
    "        X = self.addnorm(X, X_atten)\n",
    "        # 前馈层\n",
    "        X_ffn = self.ffn(X)\n",
    "        # 加与规范化\n",
    "        X = self.addnorm(X, X_ffn)\n",
    "        return X, atten_weights"
   ]
  },
  {
   "cell_type": "markdown",
   "metadata": {
    "collapsed": false
   },
   "source": [
    "### 8.3.2.3 模型汇总\n",
    "\n",
    "接下来，我们将嵌入层、Transformer组件、线性输出层进行组合，构建Transformer模型。\n",
    "\n",
    "Transformer模型主要是输入编码，分段编码，位置编码，Transformer编码器和最后的全连接分类器，代码实现如下："
   ]
  },
  {
   "cell_type": "code",
   "execution_count": null,
   "metadata": {
    "collapsed": false
   },
   "outputs": [],
   "source": [
    "class Model_Transformer(nn.Layer):\n",
    "    def __init__(\n",
    "        self,\n",
    "        vocab_size,\n",
    "        n_block=2,\n",
    "        hidden_size=768,\n",
    "        heads_num=12,\n",
    "        intermediate_size=3072,\n",
    "        hidden_dropout=0.1,\n",
    "        attention_dropout=0.1,\n",
    "        act_dropout=0,\n",
    "        position_size=512,\n",
    "        num_classes=2,\n",
    "        padding_idx=0,\n",
    "    ):\n",
    "        super(Model_Transformer, self).__init__()\n",
    "        # 词表大小\n",
    "        self.vocab_size = vocab_size\n",
    "        # Transformer的编码器的数目\n",
    "        self.n_block = n_block\n",
    "        # 每个词映射成稠密向量的维度\n",
    "        self.hidden_size = hidden_size\n",
    "        # 多头注意力的个数\n",
    "        self.heads_num = heads_num\n",
    "        # 逐位前馈层的的维度\n",
    "        self.intermediate_size = intermediate_size\n",
    "        # Embedding层的 Dropout\n",
    "        self.hidden_dropout = hidden_dropout\n",
    "        # 多头注意力的dropout的 dropout参数\n",
    "        self.attention_dropout = attention_dropout\n",
    "        # 位置编码的大小 position_size\n",
    "        self.position_size = position_size\n",
    "        # 类别数\n",
    "        self.num_classes = num_classes\n",
    "        # 逐位前馈层的dropout\n",
    "        self.act_dropout = act_dropout\n",
    "        # [PAD]字符的ID\n",
    "        self.padding_idx = padding_idx\n",
    "        # 实例化输入编码，分段编码和位置编码\n",
    "        self.embeddings = TransformerEmbeddings(\n",
    "            self.vocab_size, self.hidden_size, self.hidden_dropout, self.position_size )\n",
    "        # 实例化Transformer的编码器\n",
    "        self.layers = nn.LayerList([])\n",
    "        for i in range(n_block):\n",
    "            encoder_layer = TransformerBlock(\n",
    "                hidden_size,\n",
    "                heads_num,\n",
    "                intermediate_size,\n",
    "                dropout=hidden_dropout,\n",
    "                attn_dropout=attention_dropout,\n",
    "                act_dropout=act_dropout,\n",
    "            )\n",
    "            self.layers.append(encoder_layer)\n",
    "        # 全连接层\n",
    "        self.dense = nn.Linear(hidden_size, hidden_size)\n",
    "        # 双曲正切激活函数\n",
    "        self.activation = nn.Tanh()\n",
    "        # 最后一层分类器\n",
    "        self.classifier = nn.Linear(hidden_size, num_classes)\n",
    "\n",
    "    def forward(self, inputs, position_ids=None, attention_mask=None):\n",
    "        input_ids, segment_ids = inputs\n",
    "        # 构建Mask矩阵，把Pad的位置即input_ids中为0的位置设置为True,非0的位置设置为False\n",
    "        if attention_mask is None:\n",
    "            attention_mask = paddle.unsqueeze(\n",
    "                (input_ids == self.padding_idx).astype(\"float32\") * -1e9, axis=[1, 2] )\n",
    "        # 抽取特征向量\n",
    "        embedding_output = self.embeddings(\n",
    "            input_ids=input_ids, position_ids=position_ids, segment_ids=segment_ids )\n",
    "        sequence_output = embedding_output\n",
    "        self._attention_weights = []\n",
    "        # Transformer的输出和注意力权重的输出\n",
    "        for i, encoder_layer in enumerate(self.layers):\n",
    "            sequence_output, atten_weights = encoder_layer(\n",
    "                sequence_output, src_mask=attention_mask )\n",
    "            self._attention_weights.append(atten_weights)\n",
    "        # 选择第0个位置的向量作为句向量\n",
    "        first_token_tensor = sequence_output[:, 0]\n",
    "        # 输出层\n",
    "        pooled_output = self.dense(first_token_tensor)\n",
    "        pooled_output = self.activation(pooled_output)\n",
    "        # 句子级别的输出经过分类器\n",
    "        logits = self.classifier(pooled_output)\n",
    "        return logits\n",
    "\n",
    "    @property\n",
    "    def attention_weights(self):\n",
    "        return self._attention_weights"
   ]
  },
  {
   "cell_type": "markdown",
   "metadata": {
    "collapsed": false
   },
   "source": [
    "在模型构建完成之后，我们使用RunnerV3类来进行模型的训练、评价、预测等过程。"
   ]
  },
  {
   "cell_type": "markdown",
   "metadata": {
    "collapsed": false
   },
   "source": [
    "## 8.3.3 模型训练\n",
    "\n",
    "模型的训练配置的设置，包括一些超参数、优化器、损失函数等等，训练过程：模型的训练从Dataloader中取数据进行前向反向训练，每隔100个step输出一次日志，每隔500个step在验证集合上计算一次准确率。训练3个回合，并保存在验证集上最佳准确率的模型。"
   ]
  },
  {
   "cell_type": "code",
   "execution_count": 15,
   "metadata": {
    "collapsed": false
   },
   "outputs": [
    {
     "name": "stdout",
     "output_type": "stream",
     "text": [
      "[Train] epoch: 0/3, step: 0/22386, loss: 1.41052\n",
      "[Train] epoch: 0/3, step: 100/22386, loss: 0.59608\n",
      "[Train] epoch: 0/3, step: 200/22386, loss: 0.67516\n",
      "[Train] epoch: 0/3, step: 300/22386, loss: 0.57150\n",
      "[Train] epoch: 0/3, step: 400/22386, loss: 0.63550\n",
      "[Train] epoch: 0/3, step: 500/22386, loss: 0.61048\n",
      "[Evaluate]  dev score: 0.53647, dev loss: 0.72411\n",
      "[Evaluate] best accuracy performence has been updated: 0.00000 --> 0.53647\n",
      "[Train] epoch: 0/3, step: 600/22386, loss: 0.56387\n",
      "[Train] epoch: 0/3, step: 700/22386, loss: 0.61008\n",
      "[Train] epoch: 0/3, step: 800/22386, loss: 0.58331\n",
      "[Train] epoch: 0/3, step: 900/22386, loss: 0.64518\n",
      "[Train] epoch: 0/3, step: 1000/22386, loss: 0.60527\n",
      "[Evaluate]  dev score: 0.54760, dev loss: 0.73040\n",
      "[Evaluate] best accuracy performence has been updated: 0.53647 --> 0.54760\n",
      "[Train] epoch: 0/3, step: 1100/22386, loss: 0.58656\n",
      "[Train] epoch: 0/3, step: 1200/22386, loss: 0.84857\n",
      "[Train] epoch: 0/3, step: 1300/22386, loss: 0.62063\n",
      "[Train] epoch: 0/3, step: 1400/22386, loss: 0.53945\n",
      "[Train] epoch: 0/3, step: 1500/22386, loss: 0.75425\n",
      "[Evaluate]  dev score: 0.54692, dev loss: 0.74932\n",
      "[Train] epoch: 0/3, step: 1600/22386, loss: 0.50026\n",
      "[Train] epoch: 0/3, step: 1700/22386, loss: 0.60371\n",
      "[Train] epoch: 0/3, step: 1800/22386, loss: 0.66604\n",
      "[Train] epoch: 0/3, step: 1900/22386, loss: 0.45103\n",
      "[Train] epoch: 0/3, step: 2000/22386, loss: 0.54679\n",
      "[Evaluate]  dev score: 0.58282, dev loss: 0.72771\n",
      "[Evaluate] best accuracy performence has been updated: 0.54760 --> 0.58282\n",
      "[Train] epoch: 0/3, step: 2100/22386, loss: 0.63433\n",
      "[Train] epoch: 0/3, step: 2200/22386, loss: 0.52686\n",
      "[Train] epoch: 0/3, step: 2300/22386, loss: 0.37981\n",
      "[Train] epoch: 0/3, step: 2400/22386, loss: 0.55723\n",
      "[Train] epoch: 0/3, step: 2500/22386, loss: 0.58996\n",
      "[Evaluate]  dev score: 0.57964, dev loss: 0.72756\n",
      "[Train] epoch: 0/3, step: 2600/22386, loss: 0.53764\n",
      "[Train] epoch: 0/3, step: 2700/22386, loss: 0.47165\n",
      "[Train] epoch: 0/3, step: 2800/22386, loss: 0.77164\n",
      "[Train] epoch: 0/3, step: 2900/22386, loss: 0.52581\n",
      "[Train] epoch: 0/3, step: 3000/22386, loss: 0.63991\n",
      "[Evaluate]  dev score: 0.59009, dev loss: 0.72667\n",
      "[Evaluate] best accuracy performence has been updated: 0.58282 --> 0.59009\n",
      "[Train] epoch: 0/3, step: 3100/22386, loss: 0.51587\n",
      "[Train] epoch: 0/3, step: 3200/22386, loss: 0.53717\n",
      "[Train] epoch: 0/3, step: 3300/22386, loss: 0.43860\n",
      "[Train] epoch: 0/3, step: 3400/22386, loss: 0.42106\n",
      "[Train] epoch: 0/3, step: 3500/22386, loss: 0.51509\n",
      "[Evaluate]  dev score: 0.60327, dev loss: 0.69725\n",
      "[Evaluate] best accuracy performence has been updated: 0.59009 --> 0.60327\n",
      "[Train] epoch: 0/3, step: 3600/22386, loss: 0.40432\n",
      "[Train] epoch: 0/3, step: 3700/22386, loss: 0.55271\n",
      "[Train] epoch: 0/3, step: 3800/22386, loss: 0.47953\n",
      "[Train] epoch: 0/3, step: 3900/22386, loss: 0.54553\n",
      "[Train] epoch: 0/3, step: 4000/22386, loss: 0.45967\n",
      "[Evaluate]  dev score: 0.60850, dev loss: 0.70727\n",
      "[Evaluate] best accuracy performence has been updated: 0.60327 --> 0.60850\n",
      "[Train] epoch: 0/3, step: 4100/22386, loss: 0.54031\n",
      "[Train] epoch: 0/3, step: 4200/22386, loss: 0.50157\n",
      "[Train] epoch: 0/3, step: 4300/22386, loss: 0.55142\n",
      "[Train] epoch: 0/3, step: 4400/22386, loss: 0.36301\n",
      "[Train] epoch: 0/3, step: 4500/22386, loss: 0.55048\n",
      "[Evaluate]  dev score: 0.60850, dev loss: 0.69972\n",
      "[Train] epoch: 0/3, step: 4600/22386, loss: 0.51235\n",
      "[Train] epoch: 0/3, step: 4700/22386, loss: 0.55484\n",
      "[Train] epoch: 0/3, step: 4800/22386, loss: 0.65680\n",
      "[Train] epoch: 0/3, step: 4900/22386, loss: 0.63147\n",
      "[Train] epoch: 0/3, step: 5000/22386, loss: 0.54686\n",
      "[Evaluate]  dev score: 0.60963, dev loss: 0.69487\n",
      "[Evaluate] best accuracy performence has been updated: 0.60850 --> 0.60963\n",
      "[Train] epoch: 0/3, step: 5100/22386, loss: 0.53735\n",
      "[Train] epoch: 0/3, step: 5200/22386, loss: 0.58669\n",
      "[Train] epoch: 0/3, step: 5300/22386, loss: 0.41979\n",
      "[Train] epoch: 0/3, step: 5400/22386, loss: 0.57399\n",
      "[Train] epoch: 0/3, step: 5500/22386, loss: 0.59520\n",
      "[Evaluate]  dev score: 0.60532, dev loss: 0.71227\n",
      "[Train] epoch: 0/3, step: 5600/22386, loss: 0.40031\n",
      "[Train] epoch: 0/3, step: 5700/22386, loss: 0.49304\n",
      "[Train] epoch: 0/3, step: 5800/22386, loss: 0.37622\n",
      "[Train] epoch: 0/3, step: 5900/22386, loss: 0.42626\n",
      "[Train] epoch: 0/3, step: 6000/22386, loss: 0.48639\n",
      "[Evaluate]  dev score: 0.60986, dev loss: 0.66761\n",
      "[Evaluate] best accuracy performence has been updated: 0.60963 --> 0.60986\n",
      "[Train] epoch: 0/3, step: 6100/22386, loss: 0.51809\n",
      "[Train] epoch: 0/3, step: 6200/22386, loss: 0.51233\n",
      "[Train] epoch: 0/3, step: 6300/22386, loss: 0.46538\n",
      "[Train] epoch: 0/3, step: 6400/22386, loss: 0.65757\n",
      "[Train] epoch: 0/3, step: 6500/22386, loss: 0.53427\n",
      "[Evaluate]  dev score: 0.61736, dev loss: 0.67849\n",
      "[Evaluate] best accuracy performence has been updated: 0.60986 --> 0.61736\n",
      "[Train] epoch: 0/3, step: 6600/22386, loss: 0.54285\n",
      "[Train] epoch: 0/3, step: 6700/22386, loss: 0.61371\n",
      "[Train] epoch: 0/3, step: 6800/22386, loss: 0.58966\n",
      "[Train] epoch: 0/3, step: 6900/22386, loss: 0.57622\n",
      "[Train] epoch: 0/3, step: 7000/22386, loss: 0.61285\n",
      "[Evaluate]  dev score: 0.62372, dev loss: 0.67871\n",
      "[Evaluate] best accuracy performence has been updated: 0.61736 --> 0.62372\n",
      "[Train] epoch: 0/3, step: 7100/22386, loss: 0.56967\n",
      "[Train] epoch: 0/3, step: 7200/22386, loss: 0.32193\n",
      "[Train] epoch: 0/3, step: 7300/22386, loss: 0.39166\n",
      "[Train] epoch: 0/3, step: 7400/22386, loss: 0.42550\n",
      "[Train] epoch: 1/3, step: 7500/22386, loss: 0.39407\n",
      "[Evaluate]  dev score: 0.62009, dev loss: 0.67560\n",
      "[Train] epoch: 1/3, step: 7600/22386, loss: 0.77486\n",
      "[Train] epoch: 1/3, step: 7700/22386, loss: 0.28748\n",
      "[Train] epoch: 1/3, step: 7800/22386, loss: 0.48185\n",
      "[Train] epoch: 1/3, step: 7900/22386, loss: 0.66501\n",
      "[Train] epoch: 1/3, step: 8000/22386, loss: 0.55718\n",
      "[Evaluate]  dev score: 0.62327, dev loss: 0.69143\n",
      "[Train] epoch: 1/3, step: 8100/22386, loss: 0.57032\n",
      "[Train] epoch: 1/3, step: 8200/22386, loss: 0.53956\n",
      "[Train] epoch: 1/3, step: 8300/22386, loss: 0.51917\n",
      "[Train] epoch: 1/3, step: 8400/22386, loss: 0.49092\n",
      "[Train] epoch: 1/3, step: 8500/22386, loss: 0.60034\n",
      "[Evaluate]  dev score: 0.60759, dev loss: 0.71115\n",
      "[Train] epoch: 1/3, step: 8600/22386, loss: 0.39623\n",
      "[Train] epoch: 1/3, step: 8700/22386, loss: 0.67836\n",
      "[Train] epoch: 1/3, step: 8800/22386, loss: 0.51281\n",
      "[Train] epoch: 1/3, step: 8900/22386, loss: 0.41115\n",
      "[Train] epoch: 1/3, step: 9000/22386, loss: 0.56200\n",
      "[Evaluate]  dev score: 0.62327, dev loss: 0.69263\n",
      "[Train] epoch: 1/3, step: 9100/22386, loss: 0.59062\n",
      "[Train] epoch: 1/3, step: 9200/22386, loss: 0.42524\n",
      "[Train] epoch: 1/3, step: 9300/22386, loss: 0.49222\n",
      "[Train] epoch: 1/3, step: 9400/22386, loss: 0.40487\n",
      "[Train] epoch: 1/3, step: 9500/22386, loss: 0.50692\n",
      "[Evaluate]  dev score: 0.62304, dev loss: 0.69803\n",
      "[Train] epoch: 1/3, step: 9600/22386, loss: 0.47532\n",
      "[Train] epoch: 1/3, step: 9700/22386, loss: 0.38368\n",
      "[Train] epoch: 1/3, step: 9800/22386, loss: 0.46955\n",
      "[Train] epoch: 1/3, step: 9900/22386, loss: 0.43820\n",
      "[Train] epoch: 1/3, step: 10000/22386, loss: 0.49995\n",
      "[Evaluate]  dev score: 0.62531, dev loss: 0.68928\n",
      "[Evaluate] best accuracy performence has been updated: 0.62372 --> 0.62531\n",
      "[Train] epoch: 1/3, step: 10100/22386, loss: 0.55208\n",
      "[Train] epoch: 1/3, step: 10200/22386, loss: 0.53569\n",
      "[Train] epoch: 1/3, step: 10300/22386, loss: 0.42870\n",
      "[Train] epoch: 1/3, step: 10400/22386, loss: 0.45446\n",
      "[Train] epoch: 1/3, step: 10500/22386, loss: 0.53092\n",
      "[Evaluate]  dev score: 0.63167, dev loss: 0.66650\n",
      "[Evaluate] best accuracy performence has been updated: 0.62531 --> 0.63167\n",
      "[Train] epoch: 1/3, step: 10600/22386, loss: 0.52953\n",
      "[Train] epoch: 1/3, step: 10700/22386, loss: 0.38617\n",
      "[Train] epoch: 1/3, step: 10800/22386, loss: 0.43861\n",
      "[Train] epoch: 1/3, step: 10900/22386, loss: 0.52512\n",
      "[Train] epoch: 1/3, step: 11000/22386, loss: 0.46010\n",
      "[Evaluate]  dev score: 0.61986, dev loss: 0.72143\n",
      "[Train] epoch: 1/3, step: 11100/22386, loss: 0.64948\n",
      "[Train] epoch: 1/3, step: 11200/22386, loss: 0.47895\n",
      "[Train] epoch: 1/3, step: 11300/22386, loss: 0.58008\n",
      "[Train] epoch: 1/3, step: 11400/22386, loss: 0.51018\n",
      "[Train] epoch: 1/3, step: 11500/22386, loss: 0.47164\n",
      "[Evaluate]  dev score: 0.62986, dev loss: 0.69056\n",
      "[Train] epoch: 1/3, step: 11600/22386, loss: 0.59516\n",
      "[Train] epoch: 1/3, step: 11700/22386, loss: 0.73043\n",
      "[Train] epoch: 1/3, step: 11800/22386, loss: 0.56779\n",
      "[Train] epoch: 1/3, step: 11900/22386, loss: 0.58057\n",
      "[Train] epoch: 1/3, step: 12000/22386, loss: 0.47802\n",
      "[Evaluate]  dev score: 0.64281, dev loss: 0.68643\n",
      "[Evaluate] best accuracy performence has been updated: 0.63167 --> 0.64281\n",
      "[Train] epoch: 1/3, step: 12100/22386, loss: 0.34255\n",
      "[Train] epoch: 1/3, step: 12200/22386, loss: 0.40539\n",
      "[Train] epoch: 1/3, step: 12300/22386, loss: 0.34695\n",
      "[Train] epoch: 1/3, step: 12400/22386, loss: 0.44242\n",
      "[Train] epoch: 1/3, step: 12500/22386, loss: 0.41318\n",
      "[Evaluate]  dev score: 0.62736, dev loss: 0.70442\n",
      "[Train] epoch: 1/3, step: 12600/22386, loss: 0.62775\n"
     ]
    },
    {
     "ename": "KeyboardInterrupt",
     "evalue": "",
     "output_type": "error",
     "traceback": [
      "\u001b[0;31m---------------------------------------------------------------------------\u001b[0m",
      "\u001b[0;31mKeyboardInterrupt\u001b[0m                         Traceback (most recent call last)",
      "\u001b[0;32m/tmp/ipykernel_204/4023511741.py\u001b[0m in \u001b[0;36m<module>\u001b[0;34m\u001b[0m\n\u001b[1;32m     44\u001b[0m     \u001b[0mlog_steps\u001b[0m\u001b[0;34m=\u001b[0m\u001b[0;36m100\u001b[0m\u001b[0;34m,\u001b[0m\u001b[0;34m\u001b[0m\u001b[0;34m\u001b[0m\u001b[0m\n\u001b[1;32m     45\u001b[0m     \u001b[0meval_steps\u001b[0m\u001b[0;34m=\u001b[0m\u001b[0;36m500\u001b[0m\u001b[0;34m,\u001b[0m\u001b[0;34m\u001b[0m\u001b[0;34m\u001b[0m\u001b[0m\n\u001b[0;32m---> 46\u001b[0;31m     \u001b[0msave_path\u001b[0m\u001b[0;34m=\u001b[0m\u001b[0msave_path\u001b[0m\u001b[0;34m,\u001b[0m\u001b[0;34m\u001b[0m\u001b[0;34m\u001b[0m\u001b[0m\n\u001b[0m\u001b[1;32m     47\u001b[0m )\n",
      "\u001b[0;32m~/nndl.py\u001b[0m in \u001b[0;36mtrain\u001b[0;34m(self, train_loader, dev_loader, **kwargs)\u001b[0m\n\u001b[1;32m    150\u001b[0m                 \u001b[0mX\u001b[0m\u001b[0;34m,\u001b[0m \u001b[0my\u001b[0m \u001b[0;34m=\u001b[0m \u001b[0mdata\u001b[0m\u001b[0;34m\u001b[0m\u001b[0;34m\u001b[0m\u001b[0m\n\u001b[1;32m    151\u001b[0m                 \u001b[0;31m#获取模型预测\u001b[0m\u001b[0;34m\u001b[0m\u001b[0;34m\u001b[0m\u001b[0;34m\u001b[0m\u001b[0m\n\u001b[0;32m--> 152\u001b[0;31m                 \u001b[0mlogits\u001b[0m \u001b[0;34m=\u001b[0m \u001b[0mself\u001b[0m\u001b[0;34m.\u001b[0m\u001b[0mmodel\u001b[0m\u001b[0;34m(\u001b[0m\u001b[0mX\u001b[0m\u001b[0;34m)\u001b[0m\u001b[0;34m\u001b[0m\u001b[0;34m\u001b[0m\u001b[0m\n\u001b[0m\u001b[1;32m    153\u001b[0m                 \u001b[0mloss\u001b[0m \u001b[0;34m=\u001b[0m \u001b[0mself\u001b[0m\u001b[0;34m.\u001b[0m\u001b[0mloss_fn\u001b[0m\u001b[0;34m(\u001b[0m\u001b[0mlogits\u001b[0m\u001b[0;34m,\u001b[0m \u001b[0my\u001b[0m\u001b[0;34m)\u001b[0m \u001b[0;31m# 默认求mean\u001b[0m\u001b[0;34m\u001b[0m\u001b[0;34m\u001b[0m\u001b[0m\n\u001b[1;32m    154\u001b[0m                 \u001b[0mtotal_loss\u001b[0m \u001b[0;34m+=\u001b[0m \u001b[0mloss\u001b[0m\u001b[0;34m\u001b[0m\u001b[0;34m\u001b[0m\u001b[0m\n",
      "\u001b[0;32m/opt/conda/envs/python35-paddle120-env/lib/python3.7/site-packages/paddle/fluid/dygraph/layers.py\u001b[0m in \u001b[0;36m__call__\u001b[0;34m(self, *inputs, **kwargs)\u001b[0m\n\u001b[1;32m    915\u001b[0m \u001b[0;34m\u001b[0m\u001b[0m\n\u001b[1;32m    916\u001b[0m     \u001b[0;32mdef\u001b[0m \u001b[0m__call__\u001b[0m\u001b[0;34m(\u001b[0m\u001b[0mself\u001b[0m\u001b[0;34m,\u001b[0m \u001b[0;34m*\u001b[0m\u001b[0minputs\u001b[0m\u001b[0;34m,\u001b[0m \u001b[0;34m**\u001b[0m\u001b[0mkwargs\u001b[0m\u001b[0;34m)\u001b[0m\u001b[0;34m:\u001b[0m\u001b[0;34m\u001b[0m\u001b[0;34m\u001b[0m\u001b[0m\n\u001b[0;32m--> 917\u001b[0;31m         \u001b[0;32mreturn\u001b[0m \u001b[0mself\u001b[0m\u001b[0;34m.\u001b[0m\u001b[0m_dygraph_call_func\u001b[0m\u001b[0;34m(\u001b[0m\u001b[0;34m*\u001b[0m\u001b[0minputs\u001b[0m\u001b[0;34m,\u001b[0m \u001b[0;34m**\u001b[0m\u001b[0mkwargs\u001b[0m\u001b[0;34m)\u001b[0m\u001b[0;34m\u001b[0m\u001b[0;34m\u001b[0m\u001b[0m\n\u001b[0m\u001b[1;32m    918\u001b[0m \u001b[0;34m\u001b[0m\u001b[0m\n\u001b[1;32m    919\u001b[0m     \u001b[0;32mdef\u001b[0m \u001b[0mforward\u001b[0m\u001b[0;34m(\u001b[0m\u001b[0mself\u001b[0m\u001b[0;34m,\u001b[0m \u001b[0;34m*\u001b[0m\u001b[0minputs\u001b[0m\u001b[0;34m,\u001b[0m \u001b[0;34m**\u001b[0m\u001b[0mkwargs\u001b[0m\u001b[0;34m)\u001b[0m\u001b[0;34m:\u001b[0m\u001b[0;34m\u001b[0m\u001b[0;34m\u001b[0m\u001b[0m\n",
      "\u001b[0;32m/opt/conda/envs/python35-paddle120-env/lib/python3.7/site-packages/paddle/fluid/dygraph/layers.py\u001b[0m in \u001b[0;36m_dygraph_call_func\u001b[0;34m(self, *inputs, **kwargs)\u001b[0m\n\u001b[1;32m    905\u001b[0m             \u001b[0mself\u001b[0m\u001b[0;34m.\u001b[0m\u001b[0m_built\u001b[0m \u001b[0;34m=\u001b[0m \u001b[0;32mTrue\u001b[0m\u001b[0;34m\u001b[0m\u001b[0;34m\u001b[0m\u001b[0m\n\u001b[1;32m    906\u001b[0m \u001b[0;34m\u001b[0m\u001b[0m\n\u001b[0;32m--> 907\u001b[0;31m         \u001b[0moutputs\u001b[0m \u001b[0;34m=\u001b[0m \u001b[0mself\u001b[0m\u001b[0;34m.\u001b[0m\u001b[0mforward\u001b[0m\u001b[0;34m(\u001b[0m\u001b[0;34m*\u001b[0m\u001b[0minputs\u001b[0m\u001b[0;34m,\u001b[0m \u001b[0;34m**\u001b[0m\u001b[0mkwargs\u001b[0m\u001b[0;34m)\u001b[0m\u001b[0;34m\u001b[0m\u001b[0;34m\u001b[0m\u001b[0m\n\u001b[0m\u001b[1;32m    908\u001b[0m \u001b[0;34m\u001b[0m\u001b[0m\n\u001b[1;32m    909\u001b[0m         \u001b[0;32mfor\u001b[0m \u001b[0mforward_post_hook\u001b[0m \u001b[0;32min\u001b[0m \u001b[0mself\u001b[0m\u001b[0;34m.\u001b[0m\u001b[0m_forward_post_hooks\u001b[0m\u001b[0;34m.\u001b[0m\u001b[0mvalues\u001b[0m\u001b[0;34m(\u001b[0m\u001b[0;34m)\u001b[0m\u001b[0;34m:\u001b[0m\u001b[0;34m\u001b[0m\u001b[0;34m\u001b[0m\u001b[0m\n",
      "\u001b[0;32m/tmp/ipykernel_204/3197319976.py\u001b[0m in \u001b[0;36mforward\u001b[0;34m(self, inputs, position_ids, attention_mask)\u001b[0m\n\u001b[1;32m     73\u001b[0m         \u001b[0;32mfor\u001b[0m \u001b[0mi\u001b[0m\u001b[0;34m,\u001b[0m \u001b[0mencoder_layer\u001b[0m \u001b[0;32min\u001b[0m \u001b[0menumerate\u001b[0m\u001b[0;34m(\u001b[0m\u001b[0mself\u001b[0m\u001b[0;34m.\u001b[0m\u001b[0mlayers\u001b[0m\u001b[0;34m)\u001b[0m\u001b[0;34m:\u001b[0m\u001b[0;34m\u001b[0m\u001b[0;34m\u001b[0m\u001b[0m\n\u001b[1;32m     74\u001b[0m             sequence_output, atten_weights = encoder_layer(\n\u001b[0;32m---> 75\u001b[0;31m                 sequence_output, src_mask=attention_mask )\n\u001b[0m\u001b[1;32m     76\u001b[0m             \u001b[0mself\u001b[0m\u001b[0;34m.\u001b[0m\u001b[0m_attention_weights\u001b[0m\u001b[0;34m.\u001b[0m\u001b[0mappend\u001b[0m\u001b[0;34m(\u001b[0m\u001b[0matten_weights\u001b[0m\u001b[0;34m)\u001b[0m\u001b[0;34m\u001b[0m\u001b[0;34m\u001b[0m\u001b[0m\n\u001b[1;32m     77\u001b[0m         \u001b[0;31m# 选择第0个位置的向量作为句向量\u001b[0m\u001b[0;34m\u001b[0m\u001b[0;34m\u001b[0m\u001b[0;34m\u001b[0m\u001b[0m\n",
      "\u001b[0;32m/opt/conda/envs/python35-paddle120-env/lib/python3.7/site-packages/paddle/fluid/dygraph/layers.py\u001b[0m in \u001b[0;36m__call__\u001b[0;34m(self, *inputs, **kwargs)\u001b[0m\n\u001b[1;32m    915\u001b[0m \u001b[0;34m\u001b[0m\u001b[0m\n\u001b[1;32m    916\u001b[0m     \u001b[0;32mdef\u001b[0m \u001b[0m__call__\u001b[0m\u001b[0;34m(\u001b[0m\u001b[0mself\u001b[0m\u001b[0;34m,\u001b[0m \u001b[0;34m*\u001b[0m\u001b[0minputs\u001b[0m\u001b[0;34m,\u001b[0m \u001b[0;34m**\u001b[0m\u001b[0mkwargs\u001b[0m\u001b[0;34m)\u001b[0m\u001b[0;34m:\u001b[0m\u001b[0;34m\u001b[0m\u001b[0;34m\u001b[0m\u001b[0m\n\u001b[0;32m--> 917\u001b[0;31m         \u001b[0;32mreturn\u001b[0m \u001b[0mself\u001b[0m\u001b[0;34m.\u001b[0m\u001b[0m_dygraph_call_func\u001b[0m\u001b[0;34m(\u001b[0m\u001b[0;34m*\u001b[0m\u001b[0minputs\u001b[0m\u001b[0;34m,\u001b[0m \u001b[0;34m**\u001b[0m\u001b[0mkwargs\u001b[0m\u001b[0;34m)\u001b[0m\u001b[0;34m\u001b[0m\u001b[0;34m\u001b[0m\u001b[0m\n\u001b[0m\u001b[1;32m    918\u001b[0m \u001b[0;34m\u001b[0m\u001b[0m\n\u001b[1;32m    919\u001b[0m     \u001b[0;32mdef\u001b[0m \u001b[0mforward\u001b[0m\u001b[0;34m(\u001b[0m\u001b[0mself\u001b[0m\u001b[0;34m,\u001b[0m \u001b[0;34m*\u001b[0m\u001b[0minputs\u001b[0m\u001b[0;34m,\u001b[0m \u001b[0;34m**\u001b[0m\u001b[0mkwargs\u001b[0m\u001b[0;34m)\u001b[0m\u001b[0;34m:\u001b[0m\u001b[0;34m\u001b[0m\u001b[0;34m\u001b[0m\u001b[0m\n",
      "\u001b[0;32m/opt/conda/envs/python35-paddle120-env/lib/python3.7/site-packages/paddle/fluid/dygraph/layers.py\u001b[0m in \u001b[0;36m_dygraph_call_func\u001b[0;34m(self, *inputs, **kwargs)\u001b[0m\n\u001b[1;32m    905\u001b[0m             \u001b[0mself\u001b[0m\u001b[0;34m.\u001b[0m\u001b[0m_built\u001b[0m \u001b[0;34m=\u001b[0m \u001b[0;32mTrue\u001b[0m\u001b[0;34m\u001b[0m\u001b[0;34m\u001b[0m\u001b[0m\n\u001b[1;32m    906\u001b[0m \u001b[0;34m\u001b[0m\u001b[0m\n\u001b[0;32m--> 907\u001b[0;31m         \u001b[0moutputs\u001b[0m \u001b[0;34m=\u001b[0m \u001b[0mself\u001b[0m\u001b[0;34m.\u001b[0m\u001b[0mforward\u001b[0m\u001b[0;34m(\u001b[0m\u001b[0;34m*\u001b[0m\u001b[0minputs\u001b[0m\u001b[0;34m,\u001b[0m \u001b[0;34m**\u001b[0m\u001b[0mkwargs\u001b[0m\u001b[0;34m)\u001b[0m\u001b[0;34m\u001b[0m\u001b[0;34m\u001b[0m\u001b[0m\n\u001b[0m\u001b[1;32m    908\u001b[0m \u001b[0;34m\u001b[0m\u001b[0m\n\u001b[1;32m    909\u001b[0m         \u001b[0;32mfor\u001b[0m \u001b[0mforward_post_hook\u001b[0m \u001b[0;32min\u001b[0m \u001b[0mself\u001b[0m\u001b[0;34m.\u001b[0m\u001b[0m_forward_post_hooks\u001b[0m\u001b[0;34m.\u001b[0m\u001b[0mvalues\u001b[0m\u001b[0;34m(\u001b[0m\u001b[0;34m)\u001b[0m\u001b[0;34m:\u001b[0m\u001b[0;34m\u001b[0m\u001b[0;34m\u001b[0m\u001b[0m\n",
      "\u001b[0;32m/tmp/ipykernel_204/3605784758.py\u001b[0m in \u001b[0;36mforward\u001b[0;34m(self, X, src_mask)\u001b[0m\n\u001b[1;32m     36\u001b[0m     \u001b[0;32mdef\u001b[0m \u001b[0mforward\u001b[0m\u001b[0;34m(\u001b[0m\u001b[0mself\u001b[0m\u001b[0;34m,\u001b[0m \u001b[0mX\u001b[0m\u001b[0;34m,\u001b[0m \u001b[0msrc_mask\u001b[0m\u001b[0;34m=\u001b[0m\u001b[0;32mNone\u001b[0m\u001b[0;34m)\u001b[0m\u001b[0;34m:\u001b[0m\u001b[0;34m\u001b[0m\u001b[0;34m\u001b[0m\u001b[0m\n\u001b[1;32m     37\u001b[0m         \u001b[0;31m# 多头注意力\u001b[0m\u001b[0;34m\u001b[0m\u001b[0;34m\u001b[0m\u001b[0;34m\u001b[0m\u001b[0m\n\u001b[0;32m---> 38\u001b[0;31m         \u001b[0mX_atten\u001b[0m\u001b[0;34m,\u001b[0m \u001b[0matten_weights\u001b[0m \u001b[0;34m=\u001b[0m \u001b[0mself\u001b[0m\u001b[0;34m.\u001b[0m\u001b[0mmulti_head_attention\u001b[0m\u001b[0;34m(\u001b[0m\u001b[0mX\u001b[0m\u001b[0;34m,\u001b[0m \u001b[0mattn_mask\u001b[0m\u001b[0;34m=\u001b[0m\u001b[0msrc_mask\u001b[0m\u001b[0;34m)\u001b[0m\u001b[0;34m\u001b[0m\u001b[0;34m\u001b[0m\u001b[0m\n\u001b[0m\u001b[1;32m     39\u001b[0m         \u001b[0;31m# 加与规范化\u001b[0m\u001b[0;34m\u001b[0m\u001b[0;34m\u001b[0m\u001b[0;34m\u001b[0m\u001b[0m\n\u001b[1;32m     40\u001b[0m         \u001b[0mX\u001b[0m \u001b[0;34m=\u001b[0m \u001b[0mself\u001b[0m\u001b[0;34m.\u001b[0m\u001b[0maddnorm\u001b[0m\u001b[0;34m(\u001b[0m\u001b[0mX\u001b[0m\u001b[0;34m,\u001b[0m \u001b[0mX_atten\u001b[0m\u001b[0;34m)\u001b[0m\u001b[0;34m\u001b[0m\u001b[0;34m\u001b[0m\u001b[0m\n",
      "\u001b[0;32m/opt/conda/envs/python35-paddle120-env/lib/python3.7/site-packages/paddle/fluid/dygraph/layers.py\u001b[0m in \u001b[0;36m__call__\u001b[0;34m(self, *inputs, **kwargs)\u001b[0m\n\u001b[1;32m    915\u001b[0m \u001b[0;34m\u001b[0m\u001b[0m\n\u001b[1;32m    916\u001b[0m     \u001b[0;32mdef\u001b[0m \u001b[0m__call__\u001b[0m\u001b[0;34m(\u001b[0m\u001b[0mself\u001b[0m\u001b[0;34m,\u001b[0m \u001b[0;34m*\u001b[0m\u001b[0minputs\u001b[0m\u001b[0;34m,\u001b[0m \u001b[0;34m**\u001b[0m\u001b[0mkwargs\u001b[0m\u001b[0;34m)\u001b[0m\u001b[0;34m:\u001b[0m\u001b[0;34m\u001b[0m\u001b[0;34m\u001b[0m\u001b[0m\n\u001b[0;32m--> 917\u001b[0;31m         \u001b[0;32mreturn\u001b[0m \u001b[0mself\u001b[0m\u001b[0;34m.\u001b[0m\u001b[0m_dygraph_call_func\u001b[0m\u001b[0;34m(\u001b[0m\u001b[0;34m*\u001b[0m\u001b[0minputs\u001b[0m\u001b[0;34m,\u001b[0m \u001b[0;34m**\u001b[0m\u001b[0mkwargs\u001b[0m\u001b[0;34m)\u001b[0m\u001b[0;34m\u001b[0m\u001b[0;34m\u001b[0m\u001b[0m\n\u001b[0m\u001b[1;32m    918\u001b[0m \u001b[0;34m\u001b[0m\u001b[0m\n\u001b[1;32m    919\u001b[0m     \u001b[0;32mdef\u001b[0m \u001b[0mforward\u001b[0m\u001b[0;34m(\u001b[0m\u001b[0mself\u001b[0m\u001b[0;34m,\u001b[0m \u001b[0;34m*\u001b[0m\u001b[0minputs\u001b[0m\u001b[0;34m,\u001b[0m \u001b[0;34m**\u001b[0m\u001b[0mkwargs\u001b[0m\u001b[0;34m)\u001b[0m\u001b[0;34m:\u001b[0m\u001b[0;34m\u001b[0m\u001b[0;34m\u001b[0m\u001b[0m\n",
      "\u001b[0;32m/opt/conda/envs/python35-paddle120-env/lib/python3.7/site-packages/paddle/fluid/dygraph/layers.py\u001b[0m in \u001b[0;36m_dygraph_call_func\u001b[0;34m(self, *inputs, **kwargs)\u001b[0m\n\u001b[1;32m    905\u001b[0m             \u001b[0mself\u001b[0m\u001b[0;34m.\u001b[0m\u001b[0m_built\u001b[0m \u001b[0;34m=\u001b[0m \u001b[0;32mTrue\u001b[0m\u001b[0;34m\u001b[0m\u001b[0;34m\u001b[0m\u001b[0m\n\u001b[1;32m    906\u001b[0m \u001b[0;34m\u001b[0m\u001b[0m\n\u001b[0;32m--> 907\u001b[0;31m         \u001b[0moutputs\u001b[0m \u001b[0;34m=\u001b[0m \u001b[0mself\u001b[0m\u001b[0;34m.\u001b[0m\u001b[0mforward\u001b[0m\u001b[0;34m(\u001b[0m\u001b[0;34m*\u001b[0m\u001b[0minputs\u001b[0m\u001b[0;34m,\u001b[0m \u001b[0;34m**\u001b[0m\u001b[0mkwargs\u001b[0m\u001b[0;34m)\u001b[0m\u001b[0;34m\u001b[0m\u001b[0;34m\u001b[0m\u001b[0m\n\u001b[0m\u001b[1;32m    908\u001b[0m \u001b[0;34m\u001b[0m\u001b[0m\n\u001b[1;32m    909\u001b[0m         \u001b[0;32mfor\u001b[0m \u001b[0mforward_post_hook\u001b[0m \u001b[0;32min\u001b[0m \u001b[0mself\u001b[0m\u001b[0;34m.\u001b[0m\u001b[0m_forward_post_hooks\u001b[0m\u001b[0;34m.\u001b[0m\u001b[0mvalues\u001b[0m\u001b[0;34m(\u001b[0m\u001b[0;34m)\u001b[0m\u001b[0;34m:\u001b[0m\u001b[0;34m\u001b[0m\u001b[0;34m\u001b[0m\u001b[0m\n",
      "\u001b[0;32m/opt/conda/envs/python35-paddle120-env/lib/python3.7/site-packages/paddle/nn/layer/transformer.py\u001b[0m in \u001b[0;36mforward\u001b[0;34m(self, query, key, value, attn_mask, cache)\u001b[0m\n\u001b[1;32m    398\u001b[0m         \u001b[0;31m# compute q ,k ,v\u001b[0m\u001b[0;34m\u001b[0m\u001b[0;34m\u001b[0m\u001b[0;34m\u001b[0m\u001b[0m\n\u001b[1;32m    399\u001b[0m         \u001b[0;32mif\u001b[0m \u001b[0mcache\u001b[0m \u001b[0;32mis\u001b[0m \u001b[0;32mNone\u001b[0m\u001b[0;34m:\u001b[0m\u001b[0;34m\u001b[0m\u001b[0;34m\u001b[0m\u001b[0m\n\u001b[0;32m--> 400\u001b[0;31m             \u001b[0mq\u001b[0m\u001b[0;34m,\u001b[0m \u001b[0mk\u001b[0m\u001b[0;34m,\u001b[0m \u001b[0mv\u001b[0m \u001b[0;34m=\u001b[0m \u001b[0mself\u001b[0m\u001b[0;34m.\u001b[0m\u001b[0m_prepare_qkv\u001b[0m\u001b[0;34m(\u001b[0m\u001b[0mquery\u001b[0m\u001b[0;34m,\u001b[0m \u001b[0mkey\u001b[0m\u001b[0;34m,\u001b[0m \u001b[0mvalue\u001b[0m\u001b[0;34m,\u001b[0m \u001b[0mcache\u001b[0m\u001b[0;34m)\u001b[0m\u001b[0;34m\u001b[0m\u001b[0;34m\u001b[0m\u001b[0m\n\u001b[0m\u001b[1;32m    401\u001b[0m         \u001b[0;32melse\u001b[0m\u001b[0;34m:\u001b[0m\u001b[0;34m\u001b[0m\u001b[0;34m\u001b[0m\u001b[0m\n\u001b[1;32m    402\u001b[0m             \u001b[0mq\u001b[0m\u001b[0;34m,\u001b[0m \u001b[0mk\u001b[0m\u001b[0;34m,\u001b[0m \u001b[0mv\u001b[0m\u001b[0;34m,\u001b[0m \u001b[0mcache\u001b[0m \u001b[0;34m=\u001b[0m \u001b[0mself\u001b[0m\u001b[0;34m.\u001b[0m\u001b[0m_prepare_qkv\u001b[0m\u001b[0;34m(\u001b[0m\u001b[0mquery\u001b[0m\u001b[0;34m,\u001b[0m \u001b[0mkey\u001b[0m\u001b[0;34m,\u001b[0m \u001b[0mvalue\u001b[0m\u001b[0;34m,\u001b[0m \u001b[0mcache\u001b[0m\u001b[0;34m)\u001b[0m\u001b[0;34m\u001b[0m\u001b[0;34m\u001b[0m\u001b[0m\n",
      "\u001b[0;32m/opt/conda/envs/python35-paddle120-env/lib/python3.7/site-packages/paddle/nn/layer/transformer.py\u001b[0m in \u001b[0;36m_prepare_qkv\u001b[0;34m(self, query, key, value, cache)\u001b[0m\n\u001b[1;32m    232\u001b[0m             \u001b[0mk\u001b[0m\u001b[0;34m,\u001b[0m \u001b[0mv\u001b[0m \u001b[0;34m=\u001b[0m \u001b[0mcache\u001b[0m\u001b[0;34m.\u001b[0m\u001b[0mk\u001b[0m\u001b[0;34m,\u001b[0m \u001b[0mcache\u001b[0m\u001b[0;34m.\u001b[0m\u001b[0mv\u001b[0m\u001b[0;34m\u001b[0m\u001b[0;34m\u001b[0m\u001b[0m\n\u001b[1;32m    233\u001b[0m         \u001b[0;32melse\u001b[0m\u001b[0;34m:\u001b[0m\u001b[0;34m\u001b[0m\u001b[0;34m\u001b[0m\u001b[0m\n\u001b[0;32m--> 234\u001b[0;31m             \u001b[0mk\u001b[0m\u001b[0;34m,\u001b[0m \u001b[0mv\u001b[0m \u001b[0;34m=\u001b[0m \u001b[0mself\u001b[0m\u001b[0;34m.\u001b[0m\u001b[0mcompute_kv\u001b[0m\u001b[0;34m(\u001b[0m\u001b[0mkey\u001b[0m\u001b[0;34m,\u001b[0m \u001b[0mvalue\u001b[0m\u001b[0;34m)\u001b[0m\u001b[0;34m\u001b[0m\u001b[0;34m\u001b[0m\u001b[0m\n\u001b[0m\u001b[1;32m    235\u001b[0m \u001b[0;34m\u001b[0m\u001b[0m\n\u001b[1;32m    236\u001b[0m         \u001b[0;32mif\u001b[0m \u001b[0misinstance\u001b[0m\u001b[0;34m(\u001b[0m\u001b[0mcache\u001b[0m\u001b[0;34m,\u001b[0m \u001b[0mself\u001b[0m\u001b[0;34m.\u001b[0m\u001b[0mCache\u001b[0m\u001b[0;34m)\u001b[0m\u001b[0;34m:\u001b[0m\u001b[0;34m\u001b[0m\u001b[0;34m\u001b[0m\u001b[0m\n",
      "\u001b[0;32m/opt/conda/envs/python35-paddle120-env/lib/python3.7/site-packages/paddle/nn/layer/transformer.py\u001b[0m in \u001b[0;36mcompute_kv\u001b[0;34m(self, key, value)\u001b[0m\n\u001b[1;32m    270\u001b[0m         \u001b[0mk\u001b[0m \u001b[0;34m=\u001b[0m \u001b[0mtensor\u001b[0m\u001b[0;34m.\u001b[0m\u001b[0mreshape\u001b[0m\u001b[0;34m(\u001b[0m\u001b[0mx\u001b[0m\u001b[0;34m=\u001b[0m\u001b[0mk\u001b[0m\u001b[0;34m,\u001b[0m \u001b[0mshape\u001b[0m\u001b[0;34m=\u001b[0m\u001b[0;34m[\u001b[0m\u001b[0;36m0\u001b[0m\u001b[0;34m,\u001b[0m \u001b[0;36m0\u001b[0m\u001b[0;34m,\u001b[0m \u001b[0mself\u001b[0m\u001b[0;34m.\u001b[0m\u001b[0mnum_heads\u001b[0m\u001b[0;34m,\u001b[0m \u001b[0mself\u001b[0m\u001b[0;34m.\u001b[0m\u001b[0mhead_dim\u001b[0m\u001b[0;34m]\u001b[0m\u001b[0;34m)\u001b[0m\u001b[0;34m\u001b[0m\u001b[0;34m\u001b[0m\u001b[0m\n\u001b[1;32m    271\u001b[0m         \u001b[0mk\u001b[0m \u001b[0;34m=\u001b[0m \u001b[0mtensor\u001b[0m\u001b[0;34m.\u001b[0m\u001b[0mtranspose\u001b[0m\u001b[0;34m(\u001b[0m\u001b[0mx\u001b[0m\u001b[0;34m=\u001b[0m\u001b[0mk\u001b[0m\u001b[0;34m,\u001b[0m \u001b[0mperm\u001b[0m\u001b[0;34m=\u001b[0m\u001b[0;34m[\u001b[0m\u001b[0;36m0\u001b[0m\u001b[0;34m,\u001b[0m \u001b[0;36m2\u001b[0m\u001b[0;34m,\u001b[0m \u001b[0;36m1\u001b[0m\u001b[0;34m,\u001b[0m \u001b[0;36m3\u001b[0m\u001b[0;34m]\u001b[0m\u001b[0;34m)\u001b[0m\u001b[0;34m\u001b[0m\u001b[0;34m\u001b[0m\u001b[0m\n\u001b[0;32m--> 272\u001b[0;31m         \u001b[0mv\u001b[0m \u001b[0;34m=\u001b[0m \u001b[0mtensor\u001b[0m\u001b[0;34m.\u001b[0m\u001b[0mreshape\u001b[0m\u001b[0;34m(\u001b[0m\u001b[0mx\u001b[0m\u001b[0;34m=\u001b[0m\u001b[0mv\u001b[0m\u001b[0;34m,\u001b[0m \u001b[0mshape\u001b[0m\u001b[0;34m=\u001b[0m\u001b[0;34m[\u001b[0m\u001b[0;36m0\u001b[0m\u001b[0;34m,\u001b[0m \u001b[0;36m0\u001b[0m\u001b[0;34m,\u001b[0m \u001b[0mself\u001b[0m\u001b[0;34m.\u001b[0m\u001b[0mnum_heads\u001b[0m\u001b[0;34m,\u001b[0m \u001b[0mself\u001b[0m\u001b[0;34m.\u001b[0m\u001b[0mhead_dim\u001b[0m\u001b[0;34m]\u001b[0m\u001b[0;34m)\u001b[0m\u001b[0;34m\u001b[0m\u001b[0;34m\u001b[0m\u001b[0m\n\u001b[0m\u001b[1;32m    273\u001b[0m         \u001b[0mv\u001b[0m \u001b[0;34m=\u001b[0m \u001b[0mtensor\u001b[0m\u001b[0;34m.\u001b[0m\u001b[0mtranspose\u001b[0m\u001b[0;34m(\u001b[0m\u001b[0mx\u001b[0m\u001b[0;34m=\u001b[0m\u001b[0mv\u001b[0m\u001b[0;34m,\u001b[0m \u001b[0mperm\u001b[0m\u001b[0;34m=\u001b[0m\u001b[0;34m[\u001b[0m\u001b[0;36m0\u001b[0m\u001b[0;34m,\u001b[0m \u001b[0;36m2\u001b[0m\u001b[0;34m,\u001b[0m \u001b[0;36m1\u001b[0m\u001b[0;34m,\u001b[0m \u001b[0;36m3\u001b[0m\u001b[0;34m]\u001b[0m\u001b[0;34m)\u001b[0m\u001b[0;34m\u001b[0m\u001b[0;34m\u001b[0m\u001b[0m\n\u001b[1;32m    274\u001b[0m         \u001b[0;32mreturn\u001b[0m \u001b[0mk\u001b[0m\u001b[0;34m,\u001b[0m \u001b[0mv\u001b[0m\u001b[0;34m\u001b[0m\u001b[0;34m\u001b[0m\u001b[0m\n",
      "\u001b[0;32m/opt/conda/envs/python35-paddle120-env/lib/python3.7/site-packages/paddle/tensor/manipulation.py\u001b[0m in \u001b[0;36mreshape\u001b[0;34m(x, shape, name)\u001b[0m\n\u001b[1;32m   1999\u001b[0m \u001b[0;34m\u001b[0m\u001b[0m\n\u001b[1;32m   2000\u001b[0m     \"\"\"\n\u001b[0;32m-> 2001\u001b[0;31m     \u001b[0;32mreturn\u001b[0m \u001b[0mpaddle\u001b[0m\u001b[0;34m.\u001b[0m\u001b[0mfluid\u001b[0m\u001b[0;34m.\u001b[0m\u001b[0mlayers\u001b[0m\u001b[0;34m.\u001b[0m\u001b[0mreshape\u001b[0m\u001b[0;34m(\u001b[0m\u001b[0mx\u001b[0m\u001b[0;34m=\u001b[0m\u001b[0mx\u001b[0m\u001b[0;34m,\u001b[0m \u001b[0mshape\u001b[0m\u001b[0;34m=\u001b[0m\u001b[0mshape\u001b[0m\u001b[0;34m,\u001b[0m \u001b[0mname\u001b[0m\u001b[0;34m=\u001b[0m\u001b[0mname\u001b[0m\u001b[0;34m)\u001b[0m\u001b[0;34m\u001b[0m\u001b[0;34m\u001b[0m\u001b[0m\n\u001b[0m\u001b[1;32m   2002\u001b[0m \u001b[0;34m\u001b[0m\u001b[0m\n\u001b[1;32m   2003\u001b[0m \u001b[0;34m\u001b[0m\u001b[0m\n",
      "\u001b[0;32m/opt/conda/envs/python35-paddle120-env/lib/python3.7/site-packages/paddle/fluid/layers/nn.py\u001b[0m in \u001b[0;36mreshape\u001b[0;34m(x, shape, actual_shape, act, inplace, name)\u001b[0m\n\u001b[1;32m   6211\u001b[0m                 \" got '{}.'\".format(type(shape)))\n\u001b[1;32m   6212\u001b[0m \u001b[0;34m\u001b[0m\u001b[0m\n\u001b[0;32m-> 6213\u001b[0;31m         \u001b[0;32mreturn\u001b[0m \u001b[0mdygraph_utils\u001b[0m\u001b[0;34m.\u001b[0m\u001b[0m_append_activation_in_dygraph\u001b[0m\u001b[0;34m(\u001b[0m\u001b[0mout\u001b[0m\u001b[0;34m,\u001b[0m \u001b[0mact\u001b[0m\u001b[0;34m)\u001b[0m\u001b[0;34m\u001b[0m\u001b[0;34m\u001b[0m\u001b[0m\n\u001b[0m\u001b[1;32m   6214\u001b[0m \u001b[0;34m\u001b[0m\u001b[0m\n\u001b[1;32m   6215\u001b[0m     check_variable_and_dtype(x, 'x', [\n",
      "\u001b[0;32m<decorator-gen-142>\u001b[0m in \u001b[0;36m_append_activation_in_dygraph\u001b[0;34m(input, act, use_cudnn, use_mkldnn)\u001b[0m\n",
      "\u001b[0;31mKeyboardInterrupt\u001b[0m: "
     ]
    }
   ],
   "source": [
    "from nndl import Accuracy, RunnerV3\n",
    "import os \n",
    "import paddle.nn.functional as F\n",
    "\n",
    "paddle.seed(2021)\n",
    "heads_num = 4\n",
    "epochs = 3\n",
    "vocab_size=21128\n",
    "num_classes= 2\n",
    "padding_idx=word2id_dict['[PAD]']\n",
    "# 注意力多头的数目\n",
    "# 交叉熵损失\n",
    "criterion = nn.CrossEntropyLoss()\n",
    "# 评估的时候采用准确率指标\n",
    "metric = Accuracy()\n",
    "# Transformer的分类模型\n",
    "model = Model_Transformer(\n",
    "    vocab_size=vocab_size,\n",
    "    n_block=1,\n",
    "    num_classes=num_classes,\n",
    "    heads_num=heads_num,\n",
    "    padding_idx=padding_idx,\n",
    ")\n",
    "\n",
    "# 排除所有的偏置和LayerNorm的参数\n",
    "decay_params = [\n",
    "    p.name for n, p in model.named_parameters()\n",
    "    if not any(nd in n for nd in [\"bias\", \"norm\"])\n",
    "]\n",
    "\n",
    "# 定义 Optimizer\n",
    "optimizer = paddle.optimizer.AdamW(\n",
    "    learning_rate=5E-5,\n",
    "    parameters=model.parameters(),\n",
    "    weight_decay=0.0,\n",
    "    apply_decay_param_fun=lambda x: x in decay_params)\n",
    "\n",
    "runner = RunnerV3(model, optimizer, criterion, metric)\n",
    "save_path = \"./checkpoint/model_best.pdparams\"\n",
    "runner.train(\n",
    "    train_loader,\n",
    "    dev_loader,\n",
    "    num_epochs=epochs,\n",
    "    log_steps=100,\n",
    "    eval_steps=500,\n",
    "    save_path=save_path,\n",
    ")"
   ]
  },
  {
   "cell_type": "code",
   "execution_count": null,
   "metadata": {
    "collapsed": false
   },
   "outputs": [],
   "source": [
    "from nndl import plot\n",
    "plot(runner, 'att-loss-acc3.pdf')"
   ]
  },
  {
   "cell_type": "markdown",
   "metadata": {
    "collapsed": false
   },
   "source": [
    "## 8.3.4 模型评价\n",
    "\n",
    "模型评价使用test\\_loader进行评价，并输出准确率。"
   ]
  },
  {
   "cell_type": "code",
   "execution_count": null,
   "metadata": {
    "collapsed": false
   },
   "outputs": [],
   "source": [
    "model_path = \"checkpoint/model_best.pdparams\"\n",
    "runner.load_model(model_path)\n",
    "accuracy, _ =  runner.evaluate(test_loader)\n",
    "print(f\"Evaluate on test set, Accuracy: {accuracy:.5f}\")"
   ]
  },
  {
   "cell_type": "markdown",
   "metadata": {
    "collapsed": false
   },
   "source": [
    "********\n",
    "叠加多层的Transformer组块，观察对比实验效果。\n",
    "********"
   ]
  },
  {
   "cell_type": "markdown",
   "metadata": {
    "collapsed": false
   },
   "source": [
    "## 8.3.5 模型预测\n",
    "\n",
    "从测试的数据集中取出一条数据，然后用word2id\\_dict进行编码变成ID的形式，然后放到模型里面进行预测输出，代码实现如下："
   ]
  },
  {
   "cell_type": "code",
   "execution_count": 16,
   "metadata": {
    "collapsed": false
   },
   "outputs": [
    {
     "name": "stdout",
     "output_type": "stream",
     "text": [
      "预测的label标签 1\n"
     ]
    }
   ],
   "source": [
    "model_path = \"checkpoint_base/model_best.pdparams\"\n",
    "runner.load_model(model_path)\n",
    "text_a = \"电脑怎么录像？\"\n",
    "text_b = \"如何在计算机上录视频\"\n",
    "# [CLS]转换成id\n",
    "cls_id = word2id_dict[\"[CLS]\"]\n",
    "# [SEP]转换成id\n",
    "sep_id = word2id_dict[\"[SEP]\"]\n",
    "# text_a转换成id的形式\n",
    "input_ids_a = [\n",
    "    word2id_dict[item] if item in word2id_dict else word2id_dict[\"[UNK]\"]\n",
    "    for item in text_a\n",
    "]\n",
    "# text_b转换成id的形式\n",
    "input_ids_b = [\n",
    "    word2id_dict[item] if item in word2id_dict else word2id_dict[\"[UNK]\"]\n",
    "    for item in text_b\n",
    "]\n",
    "# 两个句子拼接成id的形式\n",
    "input_ids = [cls_id]+ input_ids_a + [sep_id] + input_ids_b + [sep_id]\n",
    "# 分段id的形式\n",
    "segment_ids = [0]*(len(input_ids_a)+2)+[1]*(len(input_ids_b)+1)\n",
    "# 转换成Tensor张量\n",
    "input_ids = paddle.to_tensor([input_ids])\n",
    "segment_ids = paddle.to_tensor([segment_ids])\n",
    "inputs = [input_ids, segment_ids]\n",
    "# 模型预测\n",
    "logits = runner.predict(inputs)\n",
    "# 取概率值最大的索引\n",
    "label_id = paddle.argmax(logits, axis=1).numpy()[0]\n",
    "print('预测的label标签 {}'.format(label_id))"
   ]
  },
  {
   "cell_type": "markdown",
   "metadata": {
    "collapsed": false
   },
   "source": [
    "可以看到预测的标签是1，表明这两句话是相似的，这说明预测的结果是正确的。"
   ]
  },
  {
   "cell_type": "markdown",
   "metadata": {
    "collapsed": false
   },
   "source": [
    "## 8.3.6  注意力可视化\n",
    "\n",
    "为了验证注意力机制学到了什么，本节把注意力机制的权重提取出来，然后进行可视化分析。"
   ]
  },
  {
   "cell_type": "code",
   "execution_count": 17,
   "metadata": {
    "collapsed": false
   },
   "outputs": [
    {
     "name": "stdout",
     "output_type": "stream",
     "text": [
      "输入的文本：['CLS', '电', '脑', '怎', '么', '录', '像', '？', 'SEP', '如', '何', '在', '计', '算', '机', '上', '录', '视', '频', 'SEP']\n",
      "输入的id形式：[101, 4510, 5554, 2582, 720, 2497, 1008, 8043, 102, 1963, 862, 1762, 6369, 5050, 3322, 677, 2497, 6228, 7574, 102]\n"
     ]
    }
   ],
   "source": [
    "# 首先加载模型\n",
    "model_path='checkpoint_base/model_best.pdparams'\n",
    "loaded_dict = paddle.load(model_path)\n",
    "model.load_dict(loaded_dict)\n",
    "model.eval()\n",
    "# 输入一条样本\n",
    "text_a = '电脑怎么录像？'\n",
    "text_b = '如何在计算机上录视频'\n",
    "texts = ['CLS']+list(text_a)+['SEP']+list(text_b)+['SEP']\n",
    "# text_a和text_b分别转换成id的形式\n",
    "input_ids_a = [\n",
    "    word2id_dict[item] if item in word2id_dict else word2id_dict[\"[UNK]\"]\n",
    "    for item in text_a\n",
    "]\n",
    "input_ids_b = [\n",
    "    word2id_dict[item] if item in word2id_dict else word2id_dict[\"[UNK]\"]\n",
    "    for item in text_b\n",
    "]\n",
    "# text_a和text_b拼接\n",
    "input_ids = [cls_id]+ input_ids_a + [sep_id] + input_ids_b + [sep_id]\n",
    "# 分段编码的id的形式\n",
    "segment_ids = [0]*(len(input_ids_a)+2)+[1]*(len(input_ids_b)+1)\n",
    "print(\"输入的文本：{}\".format(texts))\n",
    "print(\"输入的id形式：{}\".format(input_ids))\n",
    "# 转换成Tensor\n",
    "input_ids = paddle.to_tensor([input_ids])\n",
    "segment_ids = paddle.to_tensor([segment_ids])\n",
    "inputs = [input_ids, segment_ids]\n",
    "# 评估模式\n",
    "model.eval()\n",
    "# 模型预测\n",
    "with paddle.no_grad():\n",
    "    pooled_output = model(inputs)\n",
    "# 获取多头注意力权重\n",
    "atten_weights = model.attention_weights[0].numpy()"
   ]
  },
  {
   "cell_type": "markdown",
   "metadata": {
    "collapsed": false
   },
   "source": [
    "将注意力权重atten\\_weights进行可视化。"
   ]
  },
  {
   "cell_type": "code",
   "execution_count": 18,
   "metadata": {
    "collapsed": false
   },
   "outputs": [
    {
     "data": {
      "text/plain": [
       "<Figure size 432x288 with 0 Axes>"
      ]
     },
     "metadata": {},
     "output_type": "display_data"
    },
    {
     "data": {
      "image/png": "[encoded data removed]",
      "text/plain": [
       "<Figure size 936x936 with 1 Axes>"
      ]
     },
     "metadata": {},
     "output_type": "display_data"
    },
    {
     "data": {
      "image/png": "[encoded data removed]",
      "text/plain": [
       "<Figure size 936x936 with 1 Axes>"
      ]
     },
     "metadata": {},
     "output_type": "display_data"
    },
    {
     "data": {
      "image/png": "[encoded data removed]",
      "text/plain": [
       "<Figure size 936x936 with 1 Axes>"
      ]
     },
     "metadata": {},
     "output_type": "display_data"
    },
    {
     "data": {
      "image/png": "[encoded data removed]",
      "text/plain": [
       "<Figure size 936x936 with 1 Axes>"
      ]
     },
     "metadata": {},
     "output_type": "display_data"
    }
   ],
   "source": [
    "%matplotlib inline\n",
    "import matplotlib.pyplot as plt\n",
    "import seaborn as sns\n",
    "from matplotlib.font_manager import FontProperties\n",
    "import pandas as pd\n",
    "\n",
    "data_attention = atten_weights[0]\n",
    "plt.clf()\n",
    "font_size = 25\n",
    "font = FontProperties(fname=\"simhei.ttf\", size=font_size)\n",
    "# 可视化其中的head，总共heads_num 个head\n",
    "for head in range(heads_num):\n",
    "    data = pd.DataFrame(data=data_attention[head], index=texts, columns=texts)\n",
    "    f, ax = plt.subplots(figsize=(13, 13))\n",
    "    # 使用heatmap可视化\n",
    "    sns.heatmap(data, ax=ax, cmap=\"OrRd\", cbar=False)\n",
    "    # y轴旋转270度\n",
    "    label_y = ax.get_yticklabels()\n",
    "    plt.setp(label_y, rotation=270, horizontalalignment=\"right\", fontproperties=font)\n",
    "    # x轴旋转0度\n",
    "    label_x = ax.get_xticklabels()\n",
    "    plt.setp(label_x, rotation=0, horizontalalignment=\"right\", fontproperties=font)\n",
    "    plt.savefig('att-vis3_{}.pdf'.format(head))\n",
    "    plt.show()\n"
   ]
  },
  {
   "cell_type": "markdown",
   "metadata": {
    "collapsed": false
   },
   "source": [
    "上图所示，颜色越深，表示的权重越高，可以看到第一个位置的[CLS]跟“计”，“视”，“像”，“何”的关系比较大。另外第二句话里面的“计”与“视\"跟第一句话里面的“录像\"，“电脑\"等词关系比较大。对于同一个句子内，“视\"和“频\"的关系很大等等。"
   ]
  },
  {
   "cell_type": "markdown",
   "metadata": {
    "collapsed": false
   },
   "source": [
    "********\n",
    "请可视化自注意力头，挖掘出更多更有意思的信息。\n",
    "********"
   ]
  },
  {
   "cell_type": "markdown",
   "metadata": {
    "collapsed": false
   },
   "source": [
    "# 8.4 基于框架API实现文本语义匹配\n",
    "\n",
    "## 8.4.1【框架API】文本语义匹配\n",
    "\n",
    "### 8.4.1.1 模型构建\n",
    "\n",
    "前面的章节使用了自己实现的TransformerBlock来构建文本语义匹配模型，在实际使用过程中不需要自己实现，直接使用框架的API即可，下面我们来实现一下，对比一下结果。"
   ]
  },
  {
   "cell_type": "code",
   "execution_count": null,
   "metadata": {
    "collapsed": false
   },
   "outputs": [],
   "source": [
    "class Model_Transformer_v1(nn.Layer):\n",
    "    def __init__(\n",
    "        self,\n",
    "        vocab_size,\n",
    "        n_block=1,\n",
    "        hidden_size=768,\n",
    "        heads_num=12,\n",
    "        intermediate_size=3072,\n",
    "        hidden_dropout=0.1,\n",
    "        attention_dropout=0.1,\n",
    "        act_dropout=0,\n",
    "        position_size=512,\n",
    "        num_classes=2,\n",
    "        padding_idx=0,\n",
    "    ):\n",
    "        super(Model_Transformer_v1, self).__init__()\n",
    "        # 词表大小\n",
    "        self.vocab_size = vocab_size\n",
    "        # Transformer的编码器的数目\n",
    "        self.n_block = n_block\n",
    "        # 每个词映射成稠密向量的维度\n",
    "        self.hidden_size = hidden_size\n",
    "        # 多头注意力的个数\n",
    "        self.heads_num = heads_num\n",
    "        # 逐位前馈层的的维度\n",
    "        self.intermediate_size = intermediate_size\n",
    "        # Embedding层的 Dropout\n",
    "        self.hidden_dropout = hidden_dropout\n",
    "        # 多头注意力的dropout的 dropout参数\n",
    "        self.attention_dropout = attention_dropout\n",
    "        # 位置编码的大小 position_size\n",
    "        self.position_size = position_size\n",
    "        # 类别数\n",
    "        self.num_classes = num_classes\n",
    "        # 逐位前馈层的dropout\n",
    "        self.act_dropout = act_dropout\n",
    "        # [PAD]字符的ID\n",
    "        self.padding_idx = padding_idx\n",
    "        # 实例化输入编码，分段编码和位置编码\n",
    "        self.embeddings = TransformerEmbeddings(\n",
    "            self.vocab_size, self.hidden_size, self.hidden_dropout, self.position_size )\n",
    "        # 实例化Transformer的编码器\n",
    "        self.layers = nn.LayerList([])\n",
    "        for i in range(n_block):\n",
    "            # 使用框架API\n",
    "            encoder_layer = nn.TransformerEncoderLayer(hidden_size, \n",
    "                                                    heads_num, \n",
    "                                                    intermediate_size,\n",
    "                                                    dropout=hidden_dropout,\n",
    "                                                    attn_dropout=attention_dropout,\n",
    "                                                    act_dropout=act_dropout)\n",
    "            self.layers.append(encoder_layer)\n",
    "        # 全连接层\n",
    "        self.dense = nn.Linear(hidden_size, hidden_size)\n",
    "        # 双曲正切激活函数\n",
    "        self.activation = nn.Tanh()\n",
    "        # 最后一层分类器\n",
    "        self.classifier = nn.Linear(hidden_size, num_classes)\n",
    "\n",
    "    def forward(self, inputs, position_ids=None, attention_mask=None):\n",
    "        input_ids, segment_ids = inputs\n",
    "        # 构建Mask矩阵，把Pad的位置即input_ids中为0的位置设置为True,非0的位置设置为False\n",
    "        if attention_mask is None:\n",
    "            attention_mask = paddle.unsqueeze(\n",
    "                (input_ids == self.padding_idx).astype(\"float32\") * -1e9, axis=[1, 2] )\n",
    "        # 抽取特征向量\n",
    "        embedding_output = self.embeddings(\n",
    "            input_ids=input_ids, position_ids=position_ids, segment_ids=segment_ids )\n",
    "        sequence_output = embedding_output\n",
    "        self._attention_weights = []\n",
    "        # Transformer的输出和注意力权重的输出\n",
    "        for i, encoder_layer in enumerate(self.layers):\n",
    "            sequence_output = encoder_layer(\n",
    "                sequence_output, src_mask=attention_mask )\n",
    "        # 选择第0个位置的向量作为句向量\n",
    "        first_token_tensor = sequence_output[:, 0]\n",
    "        # 输出层\n",
    "        pooled_output = self.dense(first_token_tensor)\n",
    "        pooled_output = self.activation(pooled_output)\n",
    "        # 句子级别的输出经过分类器\n",
    "        logits = self.classifier(pooled_output)\n",
    "        return logits"
   ]
  },
  {
   "cell_type": "markdown",
   "metadata": {
    "collapsed": false
   },
   "source": [
    "### 8.4.1.2 模型训练\n",
    "\n",
    "模型的训练配置的设置，包括一些超参数、优化器、损失函数等等，训练过程：模型的训练从Dataloader中取数据进行前向反向训练，每隔100个step输出一次日志，每隔500个step在验证集合上计算一次准确率。训练3个回合，并保存在验证集上最佳准确率的模型。"
   ]
  },
  {
   "cell_type": "code",
   "execution_count": null,
   "metadata": {
    "collapsed": false
   },
   "outputs": [],
   "source": [
    "paddle.seed(2021)\n",
    "heads_num = 4\n",
    "epochs = 3\n",
    "vocab_size=21128\n",
    "num_classes= 2\n",
    "# 注意力多头的数目\n",
    "# 交叉熵损失\n",
    "criterion = nn.CrossEntropyLoss()\n",
    "# 评估的时候采用准确率指标\n",
    "metric = Accuracy()\n",
    "# Transformer的分类模型\n",
    "model = Model_Transformer_v1(\n",
    "    vocab_size=vocab_size,\n",
    "    n_block=1,\n",
    "    num_classes=num_classes,\n",
    "    heads_num=heads_num,\n",
    "    padding_idx=padding_idx,\n",
    ")\n",
    "# 排除所有的偏置和LayerNorm的参数\n",
    "decay_params = [\n",
    "    p.name for n, p in model.named_parameters()\n",
    "    if not any(nd in n for nd in [\"bias\", \"norm\"])\n",
    "]\n",
    "# 定义 Optimizer\n",
    "optimizer = paddle.optimizer.AdamW(\n",
    "    learning_rate=5E-5,\n",
    "    parameters=model.parameters(),\n",
    "    weight_decay=0.0,\n",
    "    apply_decay_param_fun=lambda x: x in decay_params)\n",
    "\n",
    "runner = RunnerV3(model, optimizer, criterion, metric)\n",
    "save_path=\"./checkpoint/model_best.pdparams\"\n",
    "runner.train(train_loader, dev_loader, num_epochs=epochs, log_steps=100, eval_steps=500, save_path=save_path)"
   ]
  },
  {
   "cell_type": "markdown",
   "metadata": {
    "collapsed": false
   },
   "source": [
    "### 8.4.1.2 模型评价\n",
    "\n",
    "模型评价使用test\\_loader进行评价，并输出准确率。"
   ]
  },
  {
   "cell_type": "code",
   "execution_count": null,
   "metadata": {
    "collapsed": false
   },
   "outputs": [],
   "source": [
    "model_path = \"checkpoint/model_best.pdparams\"\n",
    "runner.load_model(model_path)\n",
    "accuracy, _ =  runner.evaluate(test_loader)\n",
    "print(f\"Evaluate on test set, Accuracy: {accuracy:.5f}\")"
   ]
  },
  {
   "cell_type": "markdown",
   "metadata": {
    "collapsed": false
   },
   "source": [
    "## 8.4.2 增加Transformer层数的实验\n",
    "\n",
    "### 8.4.2.1 模型训练\n",
    "\n",
    "模型的训练配置的设置，包括一些超参数、优化器、损失函数等等，训练过程：模型的训练从Dataloader中取数据进行前向反向训练，每隔100个step输出一次日志，每隔500个step在验证集合上计算一次准确率。训练3个回合，并保存在验证集上最佳准确率的模型。\n",
    "\n",
    "为了验证增加Transformer的层数的效果，我们把层数设置为2层来实验。"
   ]
  },
  {
   "cell_type": "code",
   "execution_count": null,
   "metadata": {
    "collapsed": false
   },
   "outputs": [],
   "source": [
    "paddle.seed(2021)\n",
    "heads_num = 4\n",
    "epochs = 3\n",
    "vocab_size=21128\n",
    "num_classes= 2\n",
    "# 注意力多头的数目\n",
    "# 交叉熵损失\n",
    "criterion = nn.CrossEntropyLoss()\n",
    "# 评估的时候采用准确率指标\n",
    "metric = Accuracy()\n",
    "# Transformer的分类模型\n",
    "model = Model_Transformer_v1(\n",
    "    vocab_size=vocab_size,\n",
    "    n_block=2,\n",
    "    num_classes=num_classes,\n",
    "    heads_num=heads_num,\n",
    "    padding_idx=padding_idx,\n",
    ")\n",
    "# 排除所有的偏置和LayerNorm的参数\n",
    "decay_params = [\n",
    "    p.name for n, p in model.named_parameters()\n",
    "    if not any(nd in n for nd in [\"bias\", \"norm\"])\n",
    "]\n",
    "# 定义 Optimizer\n",
    "optimizer = paddle.optimizer.AdamW(\n",
    "    learning_rate=5E-5,\n",
    "    parameters=model.parameters(),\n",
    "    weight_decay=0.0,\n",
    "    apply_decay_param_fun=lambda x: x in decay_params)\n",
    "\n",
    "runner = RunnerV3(model, optimizer, criterion, metric)\n",
    "save_path=\"./checkpoint/model_best.pdparams\"\n",
    "runner.train(train_loader, dev_loader, num_epochs=epochs, log_steps=100, eval_steps=500, save_path=save_path)"
   ]
  },
  {
   "cell_type": "markdown",
   "metadata": {
    "collapsed": false
   },
   "source": [
    "### 8.4.2.2 模型评价\n",
    "\n",
    "模型评价使用test\\_loader进行评价，并输出准确率。"
   ]
  },
  {
   "cell_type": "code",
   "execution_count": null,
   "metadata": {
    "collapsed": false
   },
   "outputs": [],
   "source": [
    "model_path = \"checkpoint/model_best.pdparams\"\n",
    "runner.load_model(model_path)\n",
    "accuracy, _ =  runner.evaluate(test_loader)\n",
    "print(f\"Evaluate on test set, Accuracy: {accuracy:.5f}\")"
   ]
  },
  {
   "cell_type": "markdown",
   "metadata": {
    "collapsed": false
   },
   "source": [
    "可以看到，增加了一层transformer的编码器了之后，精度变成了0.72733，说明增加Transformer的编码器的层数，能够提升模型的精度。"
   ]
  },
  {
   "cell_type": "markdown",
   "metadata": {
    "collapsed": false
   },
   "source": [
    "# 8.5 小结\n",
    "\n",
    "本章介绍注意力机制的基本概念和代码实现。首先在上一章实践的基础上引入注意力机制来改进文本分类的效果，并进一步实现了多头自注意力模型来提高网络能力。\n",
    "\n",
    "在实践部分，我们利用进一步在多头自注意力的基础上，复现了Transformer编码器模型。由于自注意力模型本书无法建模序列中的位置信息，因此Transformer模型引入了位置编码、分段编码等信息。最后，我们用Transformer编码器模型完成一个文本语义匹配任务。"
   ]
  }
 ],
 "metadata": {
  "kernelspec": {
   "display_name": "Python 3",
   "language": "python",
   "name": "py35-paddle1.2.0"
  },
  "language_info": {
   "codemirror_mode": {
    "name": "ipython",
    "version": 3
   },
   "file_extension": ".py",
   "mimetype": "text/x-python",
   "name": "python",
   "nbconvert_exporter": "python",
   "pygments_lexer": "ipython3",
   "version": "3.7.4"
  }
 },
 "nbformat": 4,
 "nbformat_minor": 1
}
