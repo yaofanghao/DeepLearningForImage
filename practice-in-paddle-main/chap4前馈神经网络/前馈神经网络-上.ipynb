{
 "cells": [
  {
   "cell_type": "markdown",
   "metadata": {
    "collapsed": false
   },
   "source": [
    "# 第4章 前馈神经网络\n",
    "\n",
    "神经网络是由神经元按照一定的连接结构组合而成的网络。神经网络可以看作一个函数，通过简单非线性函数的多次复合，实现输入空间到输出空间的复杂映射 。\n",
    "前馈神经网络是最早发明的简单人工神经网络。整个网络中的信息单向传播，可以用一个有向无环路图表示，这种网络结构简单，易于实现。\n",
    "\n",
    "在学习本章内容前，建议先阅读《神经网络与深度学习》第2章：机器学习概述的相关内容，关键知识点如 **图4.1** 所示，以便更好的理解和掌握相应的理论知识，及其在实践中的应用方法。\n",
    "\n",
    "<center><img src=\"https://ai-studio-static-online.cdn.bcebos.com/0ae8775e92a04173928b4e3fed98b5934f0aad6582dc4143b2205669bfae6b55\" width=500></center>\n",
    "<br><center>图4.1 《神经网络与深度学习》关键知识点回顾</center></br>\n",
    "\n",
    "本实践基于 **《神经网络与深度学习》第4章：前馈神经网络** 相关内容进行设计，主要包含两部分：\n",
    "\n",
    "* **模型解读**：介绍前馈神经网络的基本概念、网络结构及代码实现，利用前馈神经网络完成一个分类任务，并通过两个简单的实验，观察前馈神经网络的梯度消失问题和死亡ReLU问题，以及对应的优化策略；\n",
    "* **案例与实践**：基于前馈神经网络完成鸢尾花分类任务。"
   ]
  },
  {
   "cell_type": "markdown",
   "metadata": {
    "collapsed": false
   },
   "source": [
    "## 4.1 神经元\n",
    "\n",
    "神经网络的基本组成单元为带有非线性激活函数的神经元，其结构如如**图4.2**所示。神经元是对生物神经元的结构和特性的一种简化建模，接收一组输入信号并产生输出。\n",
    "\n",
    "<center><img src=\"https://ai-studio-static-online.cdn.bcebos.com/d084b5e9e8654367ab4af046184f2f294f85a48417e64e36a79df942d5d6ff68\" width=\"400\" hegiht=\"\" ></center>\n",
    "<center><br>图4.2: 典型的神经元结构</br></center>\n",
    "\n",
    "### 4.1.1 净活性值\n",
    "\n",
    "假设一个神经元接收的输入为$\\mathbf{x}\\in \\mathbb{R}^D$，其权重向量为$\\mathbf{w}\\in \\mathbb{R}^D$，神经元所获得的输入信号，即净活性值$z$的计算方法为\n",
    "\n",
    "$$\n",
    "z =\\mathbf{w}^T\\mathbf{x}+b，（4.1）\n",
    "$$\n",
    "\n",
    "其中$b$为偏置。\n",
    "\n",
    "为了提高预测样本的效率，我们通常会将$N$个样本归为一组进行成批地预测。\n",
    "\n",
    "$$\n",
    "\\boldsymbol{z} =\\boldsymbol{X} \\boldsymbol{w} + b, (4.2)\n",
    "$$\n",
    "\n",
    "其中$\\boldsymbol{X}\\in \\mathbb{R}^{N\\times D}$为$N$个样本的特征矩阵，$\\boldsymbol{z}\\in \\mathbb{R}^N$为$N$个预测值组成的列向量。\n",
    "\n",
    "使用Paddle计算一组输入的净活性值。代码实现如下："
   ]
  },
  {
   "cell_type": "code",
   "execution_count": 1,
   "metadata": {
    "collapsed": false
   },
   "outputs": [
    {
     "name": "stdout",
     "output_type": "stream",
     "text": [
      "input X: Tensor(shape=[2, 5], dtype=float32, place=CPUPlace, stop_gradient=True,\n",
      "       [[0.70939004, 0.77428746, 0.13596979, 0.59024960, 0.73392862],\n",
      "        [0.73414218, 0.48377231, 0.14179315, 0.41931525, 0.70087898]])\n",
      "weight w: Tensor(shape=[5, 1], dtype=float32, place=CPUPlace, stop_gradient=True,\n",
      "       [[0.46766225],\n",
      "        [0.77609837],\n",
      "        [0.25065762],\n",
      "        [0.72651631],\n",
      "        [0.87527806]]) \n",
      "bias b: Tensor(shape=[1, 1], dtype=float32, place=CPUPlace, stop_gradient=True,\n",
      "       [[0.01581415]])\n",
      "output z: Tensor(shape=[2, 1], dtype=float32, place=CPUPlace, stop_gradient=True,\n",
      "       [[2.05379176],\n",
      "        [1.68824458]])\n"
     ]
    }
   ],
   "source": [
    "import paddle\r\n",
    "\r\n",
    "# 2个特征数为5的样本\r\n",
    "X = paddle.rand(shape=[2, 5])\r\n",
    "\r\n",
    "# 含有5个参数的权重向量\r\n",
    "w = paddle.rand(shape=[5, 1])\r\n",
    "# 偏置项\r\n",
    "b = paddle.rand(shape=[1, 1])\r\n",
    "\r\n",
    "# 使用'paddle.matmul'实现矩阵相乘\r\n",
    "z = paddle.matmul(X, w) + b\r\n",
    "print(\"input X:\", X)\r\n",
    "print(\"weight w:\", w, \"\\nbias b:\", b)\r\n",
    "print(\"output z:\", z)"
   ]
  },
  {
   "cell_type": "markdown",
   "metadata": {
    "collapsed": false
   },
   "source": [
    "**********\n",
    "\n",
    "**说明**\n",
    "\n",
    "在飞桨中，可以使用**nn.Linear**完成输入张量的上述变换。\n",
    "\n",
    "**********"
   ]
  },
  {
   "cell_type": "markdown",
   "metadata": {
    "collapsed": false
   },
   "source": [
    "### 4.1.2 激活函数\n",
    "\n",
    "净活性值$z$再经过一个非线性函数$f(·)$后，得到神经元的活性值$a$。\n",
    "\n",
    "$$\n",
    "a = f(z)，（4.3）\n",
    "$$\n",
    "\n",
    "激活函数通常为非线性函数，可以增强神经网络的表示能力和学习能力。常用的激活函数有S型函数和ReLU函数。\n",
    "\n",
    "#### 4.1.2.1 Sigmoid 型函数\n",
    "\n",
    "Sigmoid 型函数是指一类S型曲线函数，为两端饱和函数。常用的 Sigmoid 型函数有 Logistic 函数和 Tanh 函数，其数学表达式为\n",
    "\n",
    "\n",
    "Logistic 函数：\n",
    "\n",
    "$$\n",
    "\\sigma(z) = \\frac{1}{1+\\exp(-z)}。（4.4）\n",
    "$$\n",
    "\n",
    "Tanh 函数：\n",
    "\n",
    "$$\n",
    "\\mathrm{tanh}(z) = \\frac{\\exp(z)-\\exp(-z)}{\\exp(z)+\\exp(-z)}。（4.5）\n",
    "$$\n",
    "\n",
    "Logistic函数和Tanh函数的代码实现和可视化如下："
   ]
  },
  {
   "cell_type": "code",
   "execution_count": 3,
   "metadata": {
    "collapsed": false
   },
   "outputs": [
    {
     "data": {
      "image/png": "[encoded data removed]",
      "text/plain": [
       "<Figure size 432x288 with 1 Axes>"
      ]
     },
     "metadata": {},
     "output_type": "display_data"
    }
   ],
   "source": [
    "%matplotlib inline\r\n",
    "import matplotlib.pyplot as plt\r\n",
    "\r\n",
    "# Logistic函数\r\n",
    "def logistic(z):\r\n",
    "    return 1.0 / (1.0 + paddle.exp(-z))\r\n",
    "\r\n",
    "# Tanh函数\r\n",
    "def tanh(z):\r\n",
    "    return (paddle.exp(z) - paddle.exp(-z)) / (paddle.exp(z) + paddle.exp(-z))\r\n",
    "\r\n",
    "# 在[-10,10]的范围内生成10000个输入值，用于绘制函数曲线\r\n",
    "z = paddle.linspace(-10, 10, 10000)\r\n",
    "\r\n",
    "plt.figure()\r\n",
    "plt.plot(z.tolist(), logistic(z).tolist(), color='#e4007f', label=\"Logistic Function\")\r\n",
    "plt.plot(z.tolist(), tanh(z).tolist(), color='#f19ec2', linestyle ='--', label=\"Tanh Function\")\r\n",
    "\r\n",
    "ax = plt.gca() # 获取轴，默认有4个\r\n",
    "# 隐藏两个轴，通过把颜色设置成none\r\n",
    "ax.spines['top'].set_color('none')\r\n",
    "ax.spines['right'].set_color('none')\r\n",
    "# 调整坐标轴位置   \r\n",
    "ax.spines['left'].set_position(('data',0))\r\n",
    "ax.spines['bottom'].set_position(('data',0))\r\n",
    "plt.legend(loc='lower right', fontsize='large')\r\n",
    "\r\n",
    "plt.savefig('fw-logistic-tanh.pdf')\r\n",
    "plt.show()"
   ]
  },
  {
   "cell_type": "markdown",
   "metadata": {
    "collapsed": false
   },
   "source": [
    "**********\n",
    "\n",
    "**说明**\n",
    "\n",
    "在飞桨中，可以通过调用`paddle.nn.functional.sigmoid`和`paddle.nn.functional.tanh`实现对张量的Logistic和Tanh计算。\n",
    "\n",
    "**********"
   ]
  },
  {
   "cell_type": "markdown",
   "metadata": {
    "collapsed": false
   },
   "source": [
    "#### 4.1.2.2 ReLU型函数\n",
    "\n",
    "常见的ReLU函数有ReLU和带泄露的ReLU（Leaky ReLU），数学表达式分别为：\n",
    "\n",
    "$$\n",
    "\\mathrm{ReLU}(z) = \\max(0,z),（4.6）\n",
    "$$\n",
    "\n",
    "$$\n",
    "\\mathrm{LeakyReLU}(z) = \\max(0,z)+\\lambda \\min(0,z),（4.7）\n",
    "$$\n",
    "\n",
    "其中$\\lambda$为超参数。\n",
    "\n",
    "可视化ReLU和带泄露的ReLU的函数的代码实现和可视化如下："
   ]
  },
  {
   "cell_type": "code",
   "execution_count": 4,
   "metadata": {
    "collapsed": false
   },
   "outputs": [
    {
     "data": {
      "image/png": "[encoded data removed]",
      "text/plain": [
       "<Figure size 432x288 with 1 Axes>"
      ]
     },
     "metadata": {},
     "output_type": "display_data"
    }
   ],
   "source": [
    "# ReLU\n",
    "def relu(z):\n",
    "    return paddle.maximum(z, paddle.to_tensor(0.))\n",
    "\n",
    "# 带泄露的ReLU\n",
    "def leaky_relu(z, negative_slope=0.1):\n",
    "    # 当前版本paddle暂不支持直接将bool类型转成int类型，因此调用了paddle的cast函数来进行显式转换\n",
    "    a1 = (paddle.cast((z > 0), dtype='float32') * z) \n",
    "    a2 = (paddle.cast((z <= 0), dtype='float32') * (negative_slope * z))\n",
    "    return a1 + a2\n",
    "\n",
    "# 在[-10,10]的范围内生成一系列的输入值，用于绘制relu、leaky_relu的函数曲线\n",
    "z = paddle.linspace(-10, 10, 10000)\n",
    "\n",
    "plt.figure()\n",
    "plt.plot(z.tolist(), relu(z).tolist(), color=\"#e4007f\", label=\"ReLU Function\")\n",
    "plt.plot(z.tolist(), leaky_relu(z).tolist(), color=\"#f19ec2\", linestyle=\"--\", label=\"LeakyReLU Function\")\n",
    "\n",
    "ax = plt.gca()\n",
    "ax.spines['top'].set_color('none')\n",
    "ax.spines['right'].set_color('none')\n",
    "ax.spines['left'].set_position(('data',0))\n",
    "ax.spines['bottom'].set_position(('data',0))\n",
    "plt.legend(loc='upper left', fontsize='large')\n",
    "plt.savefig('fw-relu-leakyrelu.pdf')\n",
    "plt.show()"
   ]
  },
  {
   "cell_type": "markdown",
   "metadata": {
    "collapsed": false
   },
   "source": [
    "**********\n",
    "\n",
    "**说明**\n",
    "\n",
    "在飞桨中，可以通过调用`paddle.nn.functional.relu`和`paddle.nn.functional.leaky_relu`完成ReLU与带泄露的ReLU的计算。\n",
    "\n",
    "**********\n",
    "\n",
    "\n",
    "**动手练习**\n",
    "本节重点介绍和实现了几个经典的Sigmoid函数和ReLU函数。\n",
    "请动手实现《神经网络与深度学习》4.1节中提到的其他激活函数，如：Hard-Logistic、Hard-Tanh、ELU、Softplus、Swish等。"
   ]
  },
  {
   "cell_type": "markdown",
   "metadata": {
    "collapsed": false
   },
   "source": [
    "## 4.2 基于前馈神经网络的二分类任务\n",
    "\n",
    "前馈神经网络的网络结构如**图4.3**所示。每一层获取前一层神经元的活性值，并重复上述计算得到该层的活性值，传入到下一层。整个网络中无反馈，信号从输入层向输出层逐层的单向传播，得到网络最后的输出 $\\boldsymbol{a}^{(L)}$。\n",
    "\n",
    "<center><img src=\"https://ai-studio-static-online.cdn.bcebos.com/dbcf147a4e00446792eb2b93834e0f3154936e08ea124242af8631fde204381c\" width=\"500\" hegiht=\"\" ></center>\n",
    "<center><br>图4.3: 前馈神经网络结构</br></center>"
   ]
  },
  {
   "cell_type": "markdown",
   "metadata": {
    "collapsed": false
   },
   "source": [
    "### 4.2.1 数据集构建\n",
    "\n",
    "这里，我们使用第3.1.1节中构建的二分类数据集：Moon1000数据集，其中训练集640条、验证集160条、测试集200条。\n",
    "该数据集的数据是从两个带噪音的弯月形状数据分布中采样得到，每个样本包含2个特征。"
   ]
  },
  {
   "cell_type": "code",
   "execution_count": 5,
   "metadata": {
    "collapsed": false
   },
   "outputs": [
    {
     "name": "stdout",
     "output_type": "stream",
     "text": [
      "outer_circ_x.shape: [500] outer_circ_y.shape: [500]\n",
      "inner_circ_x.shape: [500] inner_circ_y.shape: [500]\n",
      "after concat shape: [1000]\n",
      "X shape: [1000, 2]\n",
      "y shape: [1000]\n"
     ]
    }
   ],
   "source": [
    "from nndl.dataset import make_moons\n",
    "\n",
    "# 采样1000个样本\n",
    "n_samples = 1000\n",
    "X, y = make_moons(n_samples=n_samples, shuffle=True, noise=0.5)\n",
    "\n",
    "num_train = 640\n",
    "num_dev = 160\n",
    "num_test = 200\n",
    "\n",
    "X_train, y_train = X[:num_train], y[:num_train]\n",
    "X_dev, y_dev = X[num_train:num_train + num_dev], y[num_train:num_train + num_dev]\n",
    "X_test, y_test = X[num_train + num_dev:], y[num_train + num_dev:]\n",
    "\n",
    "y_train = y_train.reshape([-1,1])\n",
    "y_dev = y_dev.reshape([-1,1])\n",
    "y_test = y_test.reshape([-1,1])"
   ]
  },
  {
   "cell_type": "markdown",
   "metadata": {
    "collapsed": false
   },
   "source": [
    "### 4.2.2 模型构建\n",
    "\n",
    "为了更高效的构建前馈神经网络，我们先定义每一层的算子，然后再通过算子组合构建整个前馈神经网络。\n",
    "\n",
    "假设网络的第$l$层的输入为第$l-1$层的神经元活性值$\\boldsymbol{a}^{(l-1)}$，经过一个仿射变换，得到该层神经元的净活性值$\\boldsymbol{z}$，再输入到激活函数得到该层神经元的活性值$\\boldsymbol{a}$。\n",
    "\n",
    "在实践中，为了提高模型的处理效率，通常将$N$个样本归为一组进行成批地计算。假设网络第$l$层的输入为$\\boldsymbol{A}^{(l-1)}\\in \\mathbb{R}^{N\\times M_{l-1}}$，其中每一行为一个样本，则前馈网络中第$l$层的计算公式为\n",
    "\n",
    "$$\n",
    "\\mathbf Z^{(l)}=\\mathbf A^{(l-1)} \\mathbf W^{(l)} +\\mathbf b^{(l)}  \\in \\mathbb{R}^{N\\times M_{l}}, (4.8)\n",
    "$$\n",
    "$$\n",
    "\\mathbf A^{(l)}=f_l(\\mathbf Z^{(l)}) \\in \\mathbb{R}^{N\\times M_{l}}, (4.9)\n",
    "$$\n",
    "其中$\\mathbf Z^{(l)}$为$N$个样本第$l$层神经元的净活性值，$\\mathbf A^{(l)}$为$N$个样本第$l$层神经元的活性值，$\\boldsymbol{W}^{(l)}\\in \\mathbb{R}^{M_{l-1}\\times M_{l}}$为第$l$层的权重矩阵，$\\boldsymbol{b}^{(l)}\\in \\mathbb{R}^{1\\times M_{l}}$为第$l$层的偏置。\n",
    "\n",
    "***\n",
    "为了和代码的实现保存一致性，这里使用形状为$(样本数量\\times 特征维度)$的张量来表示一组样本。样本的矩阵$\\boldsymbol{X}$是由$N$个$\\boldsymbol{x}$的**行向量**组成。而《神经网络与深度学习》中$\\boldsymbol{x}$为列向量，因此这里的权重矩阵$\\boldsymbol{W}$和偏置$\\boldsymbol{b}$和《神经网络与深度学习》中的表示刚好为转置关系。\n",
    "***\n",
    "\n",
    "为了使后续的模型搭建更加便捷，我们将神经层的计算，即公式(4.8)和(4.9)，都封装成算子，这些算子都继承`Op`基类。\n"
   ]
  },
  {
   "cell_type": "markdown",
   "metadata": {
    "collapsed": false
   },
   "source": [
    "#### 4.2.2.1 线性层算子\n",
    "公式（4.8）对应一个线性层算子，权重参数采用默认的随机初始化，偏置采用默认的零初始化。代码实现如下："
   ]
  },
  {
   "cell_type": "code",
   "execution_count": 6,
   "metadata": {
    "collapsed": false
   },
   "outputs": [],
   "source": [
    "from nndl.op import Op\r\n",
    "\r\n",
    "# 实现线性层算子\r\n",
    "class Linear(Op):\r\n",
    "    def __init__(self, input_size, output_size, name, weight_init=paddle.standard_normal, bias_init=paddle.zeros):\r\n",
    "        \"\"\"\r\n",
    "        输入：\r\n",
    "            - input_size：输入数据维度\r\n",
    "            - output_size：输出数据维度\r\n",
    "            - name：算子名称\r\n",
    "            - weight_init：权重初始化方式，默认使用'paddle.standard_normal'进行标准正态分布初始化\r\n",
    "            - bias_init：偏置初始化方式，默认使用全0初始化\r\n",
    "        \"\"\"\r\n",
    "        \r\n",
    "        self.params = {}\r\n",
    "        # 初始化权重\r\n",
    "        self.params['W'] = weight_init(shape=[input_size,output_size])\r\n",
    "        # 初始化偏置\r\n",
    "        self.params['b'] = bias_init(shape=[1,output_size])\r\n",
    "        self.inputs = None\r\n",
    "\r\n",
    "        self.name = name\r\n",
    "\r\n",
    "    def forward(self, inputs):\r\n",
    "        \"\"\"\r\n",
    "        输入：\r\n",
    "            - inputs：shape=[N,input_size], N是样本数量\r\n",
    "        输出：\r\n",
    "            - outputs：预测值，shape=[N,output_size]\r\n",
    "        \"\"\"\r\n",
    "        self.inputs = inputs\r\n",
    "\r\n",
    "        outputs = paddle.matmul(self.inputs, self.params['W']) + self.params['b']\r\n",
    "        return outputs"
   ]
  },
  {
   "cell_type": "markdown",
   "metadata": {
    "collapsed": false
   },
   "source": [
    "#### 4.2.2.2 Logistic算子\n",
    "\n",
    "本节我们采用Logistic函数来作为公式(4.9)中的激活函数。这里也将Logistic函数实现一个算子，代码实现如下："
   ]
  },
  {
   "cell_type": "code",
   "execution_count": 7,
   "metadata": {
    "collapsed": false
   },
   "outputs": [],
   "source": [
    "class Logistic(Op):\r\n",
    "    def __init__(self):\r\n",
    "        self.inputs = None\r\n",
    "        self.outputs = None\r\n",
    "\r\n",
    "    def forward(self, inputs):\r\n",
    "        \"\"\"\r\n",
    "        输入：\r\n",
    "            - inputs: shape=[N,D]\r\n",
    "        输出：\r\n",
    "            - outputs：shape=[N,D]\r\n",
    "        \"\"\"\r\n",
    "        outputs = 1.0 / (1.0 + paddle.exp(-inputs))\r\n",
    "        self.outputs = outputs\r\n",
    "        return outputs"
   ]
  },
  {
   "cell_type": "markdown",
   "metadata": {
    "collapsed": false
   },
   "source": [
    "#### 4.2.2.3 层的串行组合\n",
    "\n",
    "在定义了神经层的线性层算子和激活函数算子之后，我们可以不断交叉重复使用它们来构建一个多层的神经网络。\n",
    "\n",
    "下面我们实现一个两层的用于二分类任务的前馈神经网络，选用Logistic作为激活函数，可以利用上面实现的线性层和激活函数算子来组装。代码实现如下："
   ]
  },
  {
   "cell_type": "code",
   "execution_count": 8,
   "metadata": {
    "collapsed": false
   },
   "outputs": [],
   "source": [
    "# 实现一个两层前馈神经网络\r\n",
    "class Model_MLP_L2(Op):\r\n",
    "    def __init__(self, input_size, hidden_size, output_size):\r\n",
    "        \"\"\"\r\n",
    "        输入：\r\n",
    "            - input_size：输入维度\r\n",
    "            - hidden_size：隐藏层神经元数量\r\n",
    "            - output_size：输出维度\r\n",
    "        \"\"\"\r\n",
    "        self.fc1 = Linear(input_size, hidden_size, name=\"fc1\")\r\n",
    "        self.act_fn1 = Logistic()\r\n",
    "        self.fc2 = Linear(hidden_size, output_size, name=\"fc2\")\r\n",
    "        self.act_fn2 = Logistic()\r\n",
    "\r\n",
    "    def __call__(self, X):\r\n",
    "        return self.forward(X)\r\n",
    "\r\n",
    "    def forward(self, X):\r\n",
    "        \"\"\"\r\n",
    "        输入：\r\n",
    "            - X：shape=[N,input_size], N是样本数量\r\n",
    "        输出：\r\n",
    "            - a2：预测值，shape=[N,output_size]\r\n",
    "        \"\"\"\r\n",
    "        z1 = self.fc1(X)\r\n",
    "        a1 = self.act_fn1(z1)\r\n",
    "        z2 = self.fc2(a1)\r\n",
    "        a2 = self.act_fn2(z2)\r\n",
    "        return a2"
   ]
  },
  {
   "cell_type": "markdown",
   "metadata": {
    "collapsed": false
   },
   "source": [
    "**测试一下**\n",
    "\n",
    "现在，我们实例化一个两层的前馈网络，令其输入层维度为5，隐藏层维度为10，输出层维度为1。\n",
    "并随机生成一条长度为5的数据输入两层神经网络，观察输出结果。"
   ]
  },
  {
   "cell_type": "code",
   "execution_count": 9,
   "metadata": {
    "collapsed": false
   },
   "outputs": [
    {
     "name": "stdout",
     "output_type": "stream",
     "text": [
      "result:  Tensor(shape=[1, 1], dtype=float32, place=CPUPlace, stop_gradient=True,\n",
      "       [[0.46585333]])\n"
     ]
    }
   ],
   "source": [
    "# 实例化模型\r\n",
    "model = Model_MLP_L2(input_size=5, hidden_size=10, output_size=1)\r\n",
    "# 随机生成1条长度为5的数据\r\n",
    "X = paddle.rand(shape=[1, 5])\r\n",
    "result = model(X)\r\n",
    "print (\"result: \", result)"
   ]
  },
  {
   "cell_type": "markdown",
   "metadata": {
    "collapsed": false
   },
   "source": [
    "### 4.2.3 损失函数\n",
    "二分类交叉熵损失函数见第三章，这里不再赘述。"
   ]
  },
  {
   "cell_type": "markdown",
   "metadata": {
    "collapsed": false
   },
   "source": [
    "### 4.2.4 模型优化\n",
    "神经网络的参数主要是通过**梯度下降法**进行优化的，因此需要计算最终损失对每个参数的梯度。\n",
    "由于神经网络的层数通常比较深，其梯度计算和上一章中的线性分类模型的不同的点在于：线性模型通常比较简单可以直接计算梯度，而神经网络相当于一个复合函数，需要利用链式法则进行反向传播来计算梯度。\n",
    "\n",
    "#### 4.2.4.1 反向传播算法\n",
    "\n",
    "前馈神经网络的参数梯度通常使用**误差反向传播**算法来计算。使用误差反向传播算法的前馈神经网络训练过程可以分为以下三步：\n",
    "\n",
    "1. 前馈计算每一层的净活性值$\\boldsymbol{Z}^{(l)}$和激活值$\\boldsymbol{A}^ {(l)}$，直到最后一层；\n",
    "1. 反向传播计算每一层的误差项$\\delta^{(l)}=\\frac{\\partial R}{\\partial \\boldsymbol{Z}^{(l)}}$；\n",
    "1. 计算每一层参数的梯度，并更新参数。\n",
    "\n",
    "在上面实现算子的基础上，来实现误差反向传播算法。在上面的三个步骤中，\n",
    "1. 第1步是前向计算，可以利用算子的`forward()`方法来实现；\n",
    "1. 第2步是反向计算梯度，可以利用算子的`backward()`方法来实现；\n",
    "1. 第3步中的计算参数梯度也放到`backward()`中实现，更新参数放到另外的**优化器**中专门进行。\n",
    "\n",
    "这样，在模型训练过程中，我们首先执行模型的`forward()`，再执行模型的`backward()`，就得到了所有参数的梯度，之后再利用优化器迭代更新参数。\n",
    "\n",
    "以这我们这节中构建的两层全连接前馈神经网络`Model_MLP_L2`为例，下图给出了其前向和反向计算过程：\n",
    "\n",
    "![](https://ai-studio-static-online.cdn.bcebos.com/8562dfb10d464396948d05ee3620cec1d057025dddee43ff92dae3fbb72e8f65)\n",
    "\n",
    "下面我们按照反向的梯度传播顺序，为每个算子添加`backward()`方法，并在其中实现每一层参数的梯度的计算。\n",
    "\n",
    "#### 4.2.4.2 损失函数\n",
    "\n",
    "二分类交叉熵损失函数对神经网络的输出$\\hat{\\boldsymbol{y}}$的偏导数为:\n",
    "$$\n",
    "\\frac{\\partial R}{\\partial \\hat{\\boldsymbol{y}}} =  -\\frac{1}{N}(\\mathrm{dialog}(\\frac{1}{\\hat{\\boldsymbol{y}}})\\boldsymbol{y}-\\mathrm{dialog}(\\frac{1}{1-\\hat{\\boldsymbol{y}}})(1-\\boldsymbol{y})) (4.10) \\\\ \n",
    "= -\\frac{1}{N}(\\frac{1}{\\hat{\\boldsymbol{y}}}\\odot\\boldsymbol{y}-\\frac{1}{1-\\hat{\\boldsymbol{y}}}\\odot(1-\\boldsymbol{y})), (4.11)\n",
    "$$\n",
    "其中$dialog(\\boldsymbol{x})$表示以向量$\\boldsymbol{x}$为对角元素的对角阵，$\\frac{1}{\\boldsymbol{x}}=\\frac{1}{x_1},...,\\frac{1}{x_N}$表示逐元素除，$\\odot$表示逐元素积。\n"
   ]
  },
  {
   "cell_type": "markdown",
   "metadata": {
    "collapsed": false
   },
   "source": [
    "实现损失函数的`backward()`，代码实现如下："
   ]
  },
  {
   "cell_type": "code",
   "execution_count": 10,
   "metadata": {
    "collapsed": false
   },
   "outputs": [],
   "source": [
    "# 实现交叉熵损失函数\n",
    "class BinaryCrossEntropyLoss(Op):\n",
    "    def __init__(self, model):\n",
    "        self.predicts = None\n",
    "        self.labels = None\n",
    "        self.num = None\n",
    "\n",
    "        self.model = model\n",
    "\n",
    "    def __call__(self, predicts, labels):\n",
    "        return self.forward(predicts, labels)\n",
    "\n",
    "    def forward(self, predicts, labels):\n",
    "        \"\"\"\n",
    "        输入：\n",
    "            - predicts：预测值，shape=[N, 1]，N为样本数量\n",
    "            - labels：真实标签，shape=[N, 1]\n",
    "        输出：\n",
    "            - 损失值：shape=[1]\n",
    "        \"\"\"\n",
    "        self.predicts = predicts\n",
    "        self.labels = labels\n",
    "        self.num = self.predicts.shape[0]\n",
    "        loss = -1. / self.num * (paddle.matmul(self.labels.t(), paddle.log(self.predicts)) \n",
    "                + paddle.matmul((1-self.labels.t()), paddle.log(1-self.predicts)))\n",
    "\n",
    "        loss = paddle.squeeze(loss, axis=1)\n",
    "        return loss\n",
    "\n",
    "    def backward(self):\n",
    "        # 计算损失函数对模型预测的导数\n",
    "        loss_grad_predicts = -1.0 * (self.labels / self.predicts - \n",
    "                       (1 - self.labels) / (1 - self.predicts)) / self.num\n",
    "        \n",
    "        # 梯度反向传播\n",
    "        self.model.backward(loss_grad_predicts)"
   ]
  },
  {
   "cell_type": "markdown",
   "metadata": {
    "collapsed": false
   },
   "source": [
    "#### 4.2.4.3 Logistic算子\n",
    "在本节中，我们使用Logistic激活函数，所以这里为Logistic算子增加的反向函数。\n",
    "\n",
    "Logistic算子的前向过程表示为$\\boldsymbol{A}=\\sigma(\\boldsymbol{Z})$，其中$\\sigma$为Logistic函数，$\\boldsymbol{Z} \\in R^{N \\times D}$和$\\boldsymbol{A} \\in R^{N \\times D}$的每一行表示一个样本。\n",
    "\n",
    "为了简便起见，我们分别用向量$\\boldsymbol{a} \\in R^D$ 和 $\\boldsymbol{z} \\in R^D$表示同一个样本在激活函数前后的表示，则$\\boldsymbol{a}$对$\\boldsymbol{z}$的偏导数为：\n",
    "$$\n",
    "\\frac{\\partial \\boldsymbol{a}}{\\partial \\boldsymbol{z}}=diag(\\boldsymbol{a}\\odot(1-\\boldsymbol{a}))\\in R^{D \\times D}, (4.12)\n",
    "$$\n",
    "按照反向传播算法，令$\\delta_{\\boldsymbol{a}}=\\frac{\\partial R}{\\partial \\boldsymbol{a}} \\in R^D$表示最终损失$R$对Logistic算子的单个输出$\\boldsymbol{a}$的梯度，则\n",
    "$$\n",
    "\\delta_{\\boldsymbol{z}} \\triangleq \\frac{\\partial R}{\\partial \\boldsymbol{z}} = \\frac{\\partial \\boldsymbol{a}}{\\partial \\boldsymbol{z}}\\delta_{\\boldsymbol{a}}  (4.13) \\\\\n",
    "= diag(\\boldsymbol{a}\\odot(1-\\boldsymbol{a}))\\delta_{\\boldsymbol(a)}, (4.14) \\\\\n",
    "= \\boldsymbol{a}\\odot(1-\\boldsymbol{a})\\odot\\delta_{\\boldsymbol(a)}。 (4.15)\n",
    "$$\n",
    "\n",
    "将上面公式利用批量数据表示的方式重写，令$\\delta_{\\boldsymbol{A}} =\\frac{\\partial R}{\\partial \\boldsymbol{A}} \\in R^{N \\times D}$表示最终损失$R$对Logistic算子输出$A$的梯度，损失函数对Logistic函数输入$\\boldsymbol{Z}$的导数为\n",
    "$$\n",
    "\\delta_{\\boldsymbol{Z}}=\\boldsymbol{A} \\odot (1-\\boldsymbol{A})\\odot \\delta_{\\boldsymbol{A}} \\in R^{N \\times D},(4.16)\n",
    "$$\n",
    "$\\delta_{\\boldsymbol{Z}}$为Logistic算子反向传播的输出。\n",
    "\n",
    "由于Logistic函数中没有参数，这里不需要在`backward()`方法中计算该算子参数的梯度。"
   ]
  },
  {
   "cell_type": "code",
   "execution_count": 11,
   "metadata": {
    "collapsed": false
   },
   "outputs": [],
   "source": [
    "class Logistic(Op):\n",
    "    def __init__(self):\n",
    "        self.inputs = None\n",
    "        self.outputs = None\n",
    "        self.params = None\n",
    "\n",
    "    def forward(self, inputs):\n",
    "        outputs = 1.0 / (1.0 + paddle.exp(-inputs))\n",
    "        self.outputs = outputs\n",
    "        return outputs\n",
    "\n",
    "    def backward(self, grads):\n",
    "        # 计算Logistic激活函数对输入的导数\n",
    "        outputs_grad_inputs = paddle.multiply(self.outputs, (1.0 - self.outputs))\n",
    "        return paddle.multiply(grads,outputs_grad_inputs)"
   ]
  },
  {
   "cell_type": "markdown",
   "metadata": {
    "collapsed": false
   },
   "source": [
    "#### 4.2.4.4 线性层\n",
    "\n",
    "线性层算子Linear的前向过程表示为$\\boldsymbol{Y}=\\boldsymbol{X}\\boldsymbol{W}+\\boldsymbol{b}$，其中输入为$\\boldsymbol{X} \\in R^{N \\times M}$，输出为$\\boldsymbol{Y} \\in R^{N \\times D}$，参数为权重矩阵$\\boldsymbol{W} \\in R^{M \\times D}$和偏置$\\boldsymbol{b} \\in R^{1 \\times D}$。$\\boldsymbol{X}$和$\\boldsymbol{Y}$中的每一行表示一个样本。\n",
    "\n",
    "为了简便起见，我们用向量$\\boldsymbol{x}\\in R^M$和$\\boldsymbol{y}\\in R^D$表示同一个样本在线性层算子中的输入和输出，则有$\\boldsymbol{y}=\\boldsymbol{W}^T\\boldsymbol{x}+\\boldsymbol{b}^T$。$\\boldsymbol{y}$对输入$\\boldsymbol{x}$的偏导数为\n",
    "$$\n",
    "\\frac{\\partial \\boldsymbol{y}}{\\partial \\boldsymbol{x}} = \\boldsymbol{W}\\in R^{D \\times M}。(4.17)\n",
    "$$\n",
    "\n",
    "**线性层输入的梯度** 按照反向传播算法，令$\\delta_{\\boldsymbol{y}}=\\frac{\\partial R}{\\partial \\boldsymbol{y}}\\in R^D$表示最终损失$R$对线性层算子的单个输出$\\boldsymbol{y}$的梯度，则\n",
    "$$\n",
    "\\delta_{\\boldsymbol{x}} \\triangleq \\frac{\\partial R}{\\partial \\boldsymbol{x}}= \\boldsymbol{W} \\delta_{\\boldsymbol{y}}。(4.18)\n",
    "$$\n",
    "\n",
    "将上面公式利用批量数据表示的方式重写，令$\\delta_{\\boldsymbol{Y}}=\\frac{\\partial R}{\\partial \\boldsymbol{Y}}\\in \\mathbb{R}^{N\\times D}$表示最终损失$R$对线性层算子输出$\\boldsymbol{Y}$的梯度，公式可以重写为\n",
    "$$\n",
    "\\delta_{\\boldsymbol{X}} =\\delta_{\\boldsymbol{Y}} \\boldsymbol{W}^T,(4.19)\n",
    "$$\n",
    "其中$\\delta_{\\boldsymbol{X}}$为线性层算子反向函数的输出。\n",
    "\n",
    "\n"
   ]
  },
  {
   "cell_type": "markdown",
   "metadata": {
    "collapsed": false
   },
   "source": [
    "**计算线性层参数的梯度** 由于线性层算子中包含有可学习的参数$\\boldsymbol{W}$和$\\boldsymbol{b}$，因此`backward()`除了实现梯度反传外，还需要计算算子内部的参数的梯度。\n",
    "\n",
    "令$\\delta_{\\boldsymbol{y}}=\\frac{\\partial R}{\\partial \\boldsymbol{y}}\\in \\mathbb{R}^D$表示最终损失$R$对线性层算子的单个输出$\\boldsymbol{y}$的梯度，则\n",
    "$$\n",
    "\\delta_{\\boldsymbol{W}} \\triangleq \\frac{\\partial R}{\\partial \\boldsymbol{W}} = \\boldsymbol{x}\\delta_{\\boldsymbol{y}}^T,(4.20) \\\\\n",
    "\\delta_{\\boldsymbol{b}} \\triangleq \\frac{\\partial R}{\\partial \\boldsymbol{b}} = \\delta_{\\boldsymbol{y}}^T。(4.21)\n",
    "$$\n",
    "\n",
    "将上面公式利用批量数据表示的方式重写，令$\\delta_{\\boldsymbol{Y}}=\\frac{\\partial R}{\\partial \\boldsymbol{Y}}\\in \\mathbb{R}^{N\\times D}$表示最终损失$R$对线性层算子输出$\\boldsymbol{Y}$的梯度，则公式可以重写为\n",
    "$$\n",
    "\\delta_{\\boldsymbol{W}} = \\boldsymbol{X}^T \\delta_{\\boldsymbol{Y}},(4.22) \\\\\n",
    "\\delta_{\\boldsymbol{b}} = \\mathbf{1}^T \\delta_{\\boldsymbol{Y}}。(4.23)\n",
    "$$\n",
    "\n",
    "具体实现代码如下："
   ]
  },
  {
   "cell_type": "code",
   "execution_count": 12,
   "metadata": {
    "collapsed": false
   },
   "outputs": [],
   "source": [
    "class Linear(Op):\n",
    "    def __init__(self, input_size, output_size, name, weight_init=paddle.standard_normal, bias_init=paddle.zeros):\n",
    "        self.params = {}\n",
    "        self.params['W'] = weight_init(shape=[input_size, output_size])\n",
    "        self.params['b'] = bias_init(shape=[1, output_size])\n",
    "\n",
    "        self.inputs = None\n",
    "        self.grads = {}\n",
    "\n",
    "        self.name = name\n",
    "\n",
    "    def forward(self, inputs):\n",
    "        self.inputs = inputs\n",
    "        outputs = paddle.matmul(self.inputs, self.params['W']) + self.params['b']\n",
    "        return outputs\n",
    "\n",
    "    def backward(self, grads):\n",
    "        \"\"\"\n",
    "        输入：\n",
    "            - grads：损失函数对当前层输出的导数\n",
    "        输出：\n",
    "            - 损失函数对当前层输入的导数\n",
    "        \"\"\"\n",
    "        self.grads['W'] = paddle.matmul(self.inputs.T, grads)\n",
    "        self.grads['b'] = paddle.sum(grads, axis=0)\n",
    "\n",
    "        # 线性层输入的梯度\n",
    "        return paddle.matmul(grads, self.params['W'].T)"
   ]
  },
  {
   "cell_type": "markdown",
   "metadata": {
    "collapsed": false
   },
   "source": [
    "#### 4.2.4.5 整个网络\n",
    "\n",
    "实现完整的两层神经网络的前向和反向计算。代码实现如下："
   ]
  },
  {
   "cell_type": "code",
   "execution_count": 13,
   "metadata": {
    "collapsed": false
   },
   "outputs": [],
   "source": [
    "class Model_MLP_L2(Op):\n",
    "    def __init__(self, input_size, hidden_size, output_size):\n",
    "        # 线性层\n",
    "        self.fc1 = Linear(input_size, hidden_size, name=\"fc1\")\n",
    "        # Logistic激活函数层\n",
    "        self.act_fn1 = Logistic()\n",
    "        self.fc2 = Linear(hidden_size, output_size, name=\"fc2\")\n",
    "        self.act_fn2 = Logistic()\n",
    "\n",
    "        self.layers = [self.fc1, self.act_fn1, self.fc2, self.act_fn2]\n",
    "\n",
    "    def __call__(self, X):\n",
    "        return self.forward(X)\n",
    "\n",
    "    # 前向计算\n",
    "    def forward(self, X):\n",
    "        z1 = self.fc1(X)\n",
    "        a1 = self.act_fn1(z1)\n",
    "        z2 = self.fc2(a1)\n",
    "        a2 = self.act_fn2(z2)\n",
    "        return a2\n",
    "        \n",
    "    # 反向计算\n",
    "    def backward(self, loss_grad_a2):\n",
    "        loss_grad_z2 = self.act_fn2.backward(loss_grad_a2)\n",
    "        loss_grad_a1 = self.fc2.backward(loss_grad_z2)\n",
    "        loss_grad_z1 = self.act_fn1.backward(loss_grad_a1)\n",
    "        loss_grad_inputs = self.fc1.backward(loss_grad_z1)"
   ]
  },
  {
   "cell_type": "markdown",
   "metadata": {
    "collapsed": false
   },
   "source": [
    "#### 4.2.4.6 优化器\n",
    "\n",
    "在计算好神经网络参数的梯度之后，我们将梯度下降法中参数的更新过程实现在优化器中。\n",
    "\n",
    "与第3章中实现的梯度下降优化器`SimpleBatchGD`不同的是，此处的优化器需要遍历每层，对每层的参数分别做更新。"
   ]
  },
  {
   "cell_type": "code",
   "execution_count": 14,
   "metadata": {
    "collapsed": false
   },
   "outputs": [],
   "source": [
    "from nndl.opitimizer import Optimizer\r\n",
    "\r\n",
    "class BatchGD(Optimizer):\r\n",
    "    def __init__(self, init_lr, model):\r\n",
    "        super(BatchGD, self).__init__(init_lr=init_lr, model=model)\r\n",
    "\r\n",
    "    def step(self):\r\n",
    "        # 参数更新\r\n",
    "        for layer in self.model.layers: # 遍历所有层\r\n",
    "            if isinstance(layer.params, dict):\r\n",
    "                for key in layer.params.keys():\r\n",
    "                    layer.params[key] = layer.params[key] - self.init_lr * layer.grads[key]"
   ]
  },
  {
   "cell_type": "markdown",
   "metadata": {
    "collapsed": false
   },
   "source": [
    "### 4.2.5 完善Runner类：RunnerV2_1\n",
    "基于3.1.6实现的 RunnerV2 类主要针对比较简单的模型。而在本章中，模型由多个算子组合而成，通常比较复杂，因此本节继续完善并实现一个改进版： `RunnerV2_1`类，其主要加入的功能有：\n",
    "1. 支持自定义算子的梯度计算，在训练过程中调用`self.loss_fn.backward()`从损失函数开始反向计算梯度；\n",
    "1. 每层的模型保存和加载，将每一层的参数分别进行保存和加载。\n"
   ]
  },
  {
   "cell_type": "code",
   "execution_count": 15,
   "metadata": {
    "collapsed": false
   },
   "outputs": [],
   "source": [
    "import os\n",
    "\n",
    "class RunnerV2_1(object):\n",
    "    def __init__(self, model, optimizer, metric, loss_fn, **kwargs):\n",
    "        self.model = model\n",
    "        self.optimizer = optimizer\n",
    "        self.loss_fn = loss_fn\n",
    "        self.metric = metric\n",
    "\n",
    "        # 记录训练过程中的评估指标变化情况\n",
    "        self.train_scores = []\n",
    "        self.dev_scores = []\n",
    "\n",
    "        # 记录训练过程中的评价指标变化情况\n",
    "        self.train_loss = []\n",
    "        self.dev_loss = []\n",
    "\n",
    "    def train(self, train_set, dev_set, **kwargs):\n",
    "        # 传入训练轮数，如果没有传入值则默认为0\n",
    "        num_epochs = kwargs.get(\"num_epochs\", 0)\n",
    "        # 传入log打印频率，如果没有传入值则默认为100\n",
    "        log_epochs = kwargs.get(\"log_epochs\", 100)\n",
    "\n",
    "        # 传入模型保存路径\n",
    "        save_dir = kwargs.get(\"save_dir\", None)\n",
    "        \n",
    "        # 记录全局最优指标\n",
    "        best_score = 0\n",
    "        # 进行num_epochs轮训练\n",
    "        for epoch in range(num_epochs):\n",
    "            X, y = train_set\n",
    "            # 获取模型预测\n",
    "            logits = self.model(X)\n",
    "            # 计算交叉熵损失\n",
    "            trn_loss = self.loss_fn(logits, y) # return a tensor\n",
    "            \n",
    "            self.train_loss.append(trn_loss.item())\n",
    "            # 计算评估指标\n",
    "            trn_score = self.metric(logits, y).item()\n",
    "            self.train_scores.append(trn_score)\n",
    "\n",
    "            self.loss_fn.backward()\n",
    "\n",
    "            # 参数更新\n",
    "            self.optimizer.step()\n",
    "           \n",
    "            dev_score, dev_loss = self.evaluate(dev_set)\n",
    "            # 如果当前指标为最优指标，保存该模型\n",
    "            if dev_score > best_score:\n",
    "                print(f\"[Evaluate] best accuracy performence has been updated: {best_score:.5f} --> {dev_score:.5f}\")\n",
    "                best_score = dev_score\n",
    "                if save_dir:\n",
    "                    self.save_model(save_dir)\n",
    "\n",
    "            if log_epochs and epoch % log_epochs == 0:\n",
    "                print(f\"[Train] epoch: {epoch}/{num_epochs}, loss: {trn_loss.item()}\")\n",
    "                \n",
    "    def evaluate(self, data_set):\n",
    "        X, y = data_set\n",
    "        # 计算模型输出\n",
    "        logits = self.model(X)\n",
    "        # 计算损失函数\n",
    "        loss = self.loss_fn(logits, y).item()\n",
    "        self.dev_loss.append(loss)\n",
    "        # 计算评估指标\n",
    "        score = self.metric(logits, y).item()\n",
    "        self.dev_scores.append(score)\n",
    "        return score, loss\n",
    "    \n",
    "    def predict(self, X):\n",
    "        return self.model(X)\n",
    "\n",
    "    def save_model(self, save_dir):\n",
    "        # 对模型每层参数分别进行保存，保存文件名称与该层名称相同\n",
    "        for layer in self.model.layers: # 遍历所有层\n",
    "            if isinstance(layer.params, dict):\n",
    "                paddle.save(layer.params, os.path.join(save_dir, layer.name+\".pdparams\"))\n",
    "\n",
    "    def load_model(self, model_dir):\n",
    "        # 获取所有层参数名称和保存路径之间的对应关系\n",
    "        model_file_names = os.listdir(model_dir)\n",
    "        name_file_dict = {}\n",
    "        for file_name in model_file_names:\n",
    "            name = file_name.replace(\".pdparams\",\"\")\n",
    "            name_file_dict[name] = os.path.join(model_dir, file_name)\n",
    "\n",
    "        # 加载每层参数\n",
    "        for layer in self.model.layers: # 遍历所有层\n",
    "            if isinstance(layer.params, dict):\n",
    "                name = layer.name\n",
    "                file_path = name_file_dict[name]\n",
    "                layer.params = paddle.load(file_path)"
   ]
  },
  {
   "cell_type": "markdown",
   "metadata": {
    "collapsed": false
   },
   "source": [
    "### 4.2.6 模型训练\n",
    "基于`RunnerV2_1`，使用训练集和验证集进行模型训练，共训练2000个epoch。评价指标为第章介绍的`accuracy`。代码实现如下："
   ]
  },
  {
   "cell_type": "code",
   "execution_count": 16,
   "metadata": {
    "collapsed": false
   },
   "outputs": [
    {
     "name": "stdout",
     "output_type": "stream",
     "text": [
      "[Evaluate] best accuracy performence has been updated: 0.00000 --> 0.20000\n",
      "[Train] epoch: 0/1000, loss: 0.7368471026420593\n",
      "[Evaluate] best accuracy performence has been updated: 0.20000 --> 0.21875\n",
      "[Evaluate] best accuracy performence has been updated: 0.21875 --> 0.22500\n",
      "[Evaluate] best accuracy performence has been updated: 0.22500 --> 0.23125\n",
      "[Evaluate] best accuracy performence has been updated: 0.23125 --> 0.23750\n",
      "[Evaluate] best accuracy performence has been updated: 0.23750 --> 0.24375\n",
      "[Evaluate] best accuracy performence has been updated: 0.24375 --> 0.26250\n",
      "[Evaluate] best accuracy performence has been updated: 0.26250 --> 0.28125\n",
      "[Evaluate] best accuracy performence has been updated: 0.28125 --> 0.31875\n",
      "[Evaluate] best accuracy performence has been updated: 0.31875 --> 0.34375\n",
      "[Evaluate] best accuracy performence has been updated: 0.34375 --> 0.38750\n",
      "[Evaluate] best accuracy performence has been updated: 0.38750 --> 0.41250\n",
      "[Evaluate] best accuracy performence has been updated: 0.41250 --> 0.43750\n",
      "[Evaluate] best accuracy performence has been updated: 0.43750 --> 0.44375\n",
      "[Evaluate] best accuracy performence has been updated: 0.44375 --> 0.45000\n",
      "[Evaluate] best accuracy performence has been updated: 0.45000 --> 0.47500\n",
      "[Evaluate] best accuracy performence has been updated: 0.47500 --> 0.53125\n",
      "[Evaluate] best accuracy performence has been updated: 0.53125 --> 0.59375\n",
      "[Evaluate] best accuracy performence has been updated: 0.59375 --> 0.65625\n",
      "[Evaluate] best accuracy performence has been updated: 0.65625 --> 0.68125\n",
      "[Evaluate] best accuracy performence has been updated: 0.68125 --> 0.69375\n",
      "[Evaluate] best accuracy performence has been updated: 0.69375 --> 0.71250\n",
      "[Evaluate] best accuracy performence has been updated: 0.71250 --> 0.73125\n",
      "[Evaluate] best accuracy performence has been updated: 0.73125 --> 0.74375\n",
      "[Evaluate] best accuracy performence has been updated: 0.74375 --> 0.75000\n",
      "[Evaluate] best accuracy performence has been updated: 0.75000 --> 0.76250\n",
      "[Train] epoch: 50/1000, loss: 0.6607287526130676\n",
      "[Evaluate] best accuracy performence has been updated: 0.76250 --> 0.76875\n",
      "[Evaluate] best accuracy performence has been updated: 0.76875 --> 0.77500\n",
      "[Evaluate] best accuracy performence has been updated: 0.77500 --> 0.78125\n",
      "[Evaluate] best accuracy performence has been updated: 0.78125 --> 0.78750\n",
      "[Evaluate] best accuracy performence has been updated: 0.78750 --> 0.79375\n",
      "[Evaluate] best accuracy performence has been updated: 0.79375 --> 0.80000\n",
      "[Train] epoch: 100/1000, loss: 0.5855825543403625\n",
      "[Evaluate] best accuracy performence has been updated: 0.80000 --> 0.80625\n",
      "[Evaluate] best accuracy performence has been updated: 0.80625 --> 0.81250\n",
      "[Evaluate] best accuracy performence has been updated: 0.81250 --> 0.81875\n",
      "[Evaluate] best accuracy performence has been updated: 0.81875 --> 0.82500\n",
      "[Train] epoch: 150/1000, loss: 0.5149411559104919\n",
      "[Evaluate] best accuracy performence has been updated: 0.82500 --> 0.83125\n",
      "[Train] epoch: 200/1000, loss: 0.4710838794708252\n",
      "[Train] epoch: 250/1000, loss: 0.4474557042121887\n",
      "[Train] epoch: 300/1000, loss: 0.4346434772014618\n",
      "[Train] epoch: 350/1000, loss: 0.4275220036506653\n",
      "[Evaluate] best accuracy performence has been updated: 0.83125 --> 0.83750\n",
      "[Train] epoch: 400/1000, loss: 0.4235161244869232\n",
      "[Evaluate] best accuracy performence has been updated: 0.83750 --> 0.84375\n",
      "[Train] epoch: 450/1000, loss: 0.4212511479854584\n",
      "[Evaluate] best accuracy performence has been updated: 0.84375 --> 0.85000\n",
      "[Train] epoch: 500/1000, loss: 0.4199603199958801\n",
      "[Train] epoch: 550/1000, loss: 0.41921162605285645\n",
      "[Train] epoch: 600/1000, loss: 0.41876325011253357\n",
      "[Evaluate] best accuracy performence has been updated: 0.85000 --> 0.85625\n",
      "[Train] epoch: 650/1000, loss: 0.41848087310791016\n",
      "[Train] epoch: 700/1000, loss: 0.41829052567481995\n",
      "[Train] epoch: 750/1000, loss: 0.4181515872478485\n",
      "[Train] epoch: 800/1000, loss: 0.41804176568984985\n",
      "[Train] epoch: 850/1000, loss: 0.41794881224632263\n",
      "[Train] epoch: 900/1000, loss: 0.41786614060401917\n",
      "[Train] epoch: 950/1000, loss: 0.41778990626335144\n"
     ]
    }
   ],
   "source": [
    "from nndl.metric import accuracy\r\n",
    "paddle.seed(123)\r\n",
    "epoch_num = 1000\r\n",
    "\r\n",
    "model_saved_dir = \"model\"\r\n",
    "\r\n",
    "# 输入层维度为2\r\n",
    "input_size = 2\r\n",
    "# 隐藏层维度为5\r\n",
    "hidden_size = 5\r\n",
    "# 输出层维度为1\r\n",
    "output_size = 1\r\n",
    "\r\n",
    "# 定义网络\r\n",
    "model = Model_MLP_L2(input_size=input_size, hidden_size=hidden_size, output_size=output_size)\r\n",
    "\r\n",
    "# 损失函数\r\n",
    "loss_fn = BinaryCrossEntropyLoss(model)\r\n",
    "\r\n",
    "# 优化器\r\n",
    "learning_rate = 0.2\r\n",
    "optimizer = BatchGD(learning_rate, model)\r\n",
    "\r\n",
    "# 评价方法\r\n",
    "metric = accuracy\r\n",
    "\r\n",
    "# 实例化RunnerV2_1类，并传入训练配置\r\n",
    "runner = RunnerV2_1(model, optimizer, metric, loss_fn)\r\n",
    "\r\n",
    "runner.train([X_train, y_train], [X_dev, y_dev], num_epochs=epoch_num, log_epochs=50, save_dir=model_saved_dir)"
   ]
  },
  {
   "cell_type": "markdown",
   "metadata": {
    "collapsed": false
   },
   "source": [
    "可视化观察训练集与验证集的损失函数变化情况。"
   ]
  },
  {
   "cell_type": "code",
   "execution_count": 17,
   "metadata": {
    "collapsed": false
   },
   "outputs": [
    {
     "data": {
      "image/png": "[encoded data removed]",
      "text/plain": [
       "<Figure size 432x288 with 1 Axes>"
      ]
     },
     "metadata": {},
     "output_type": "display_data"
    }
   ],
   "source": [
    "# 打印训练集和验证集的损失\r\n",
    "plt.figure()\r\n",
    "plt.plot(range(epoch_num), runner.train_loss, color=\"#e4007f\", label=\"Train loss\")\r\n",
    "plt.plot(range(epoch_num), runner.dev_loss, color=\"#f19ec2\", linestyle='--', label=\"Dev loss\")\r\n",
    "plt.xlabel(\"epoch\", fontsize='large')\r\n",
    "plt.ylabel(\"loss\", fontsize='large')\r\n",
    "plt.legend(fontsize='x-large')\r\n",
    "plt.savefig('fw-loss2.pdf')\r\n",
    "plt.show()"
   ]
  },
  {
   "cell_type": "markdown",
   "metadata": {
    "collapsed": false
   },
   "source": [
    "### 4.2.7 性能评价\n",
    "\n",
    "使用测试集对训练中的最优模型进行评价，观察模型的评价指标。代码实现如下："
   ]
  },
  {
   "cell_type": "code",
   "execution_count": 18,
   "metadata": {
    "collapsed": false
   },
   "outputs": [
    {
     "name": "stdout",
     "output_type": "stream",
     "text": [
      "[Test] score/loss: 0.7600/0.4912\n"
     ]
    }
   ],
   "source": [
    "# 加载训练好的模型\n",
    "runner.load_model(model_saved_dir)\n",
    "# 在测试集上对模型进行评价\n",
    "score, loss = runner.evaluate([X_test, y_test])\n",
    "\n",
    "print(\"[Test] score/loss: {:.4f}/{:.4f}\".format(score, loss))"
   ]
  },
  {
   "cell_type": "markdown",
   "metadata": {
    "collapsed": false
   },
   "source": [
    "从结果来看，模型在测试集上取得了较高的准确率。"
   ]
  },
  {
   "cell_type": "markdown",
   "metadata": {
    "collapsed": false
   },
   "source": [
    "下面对结果进行可视化："
   ]
  },
  {
   "cell_type": "code",
   "execution_count": 22,
   "metadata": {
    "collapsed": false
   },
   "outputs": [
    {
     "data": {
      "text/plain": [
       "<matplotlib.collections.PathCollection at 0x7f09b8085d10>"
      ]
     },
     "execution_count": 22,
     "metadata": {},
     "output_type": "execute_result"
    },
    {
     "data": {
      "image/png": "[encoded data removed]",
      "text/plain": [
       "<Figure size 432x288 with 1 Axes>"
      ]
     },
     "metadata": {},
     "output_type": "display_data"
    }
   ],
   "source": [
    "import math\n",
    "\n",
    "# 均匀生成40000个数据点\n",
    "x1, x2 = paddle.meshgrid(paddle.linspace(-math.pi, math.pi, 200), paddle.linspace(-math.pi, math.pi, 200))\n",
    "x = paddle.stack([paddle.flatten(x1), paddle.flatten(x2)], axis=1)\n",
    "\n",
    "# 预测对应类别\n",
    "y = runner.predict(x)\n",
    "y = paddle.squeeze(paddle.cast((y>=0.5),dtype='float32'),axis=-1)\n",
    "\n",
    "# 绘制类别区域\n",
    "plt.ylabel('x2')\n",
    "plt.xlabel('x1')\n",
    "plt.scatter(x[:,0].tolist(), x[:,1].tolist(), c=y.tolist(), cmap=plt.cm.Spectral)\n",
    "\n",
    "plt.scatter(X_train[:, 0].tolist(), X_train[:, 1].tolist(), marker='*', c=paddle.squeeze(y_train,axis=-1).tolist())\n",
    "plt.scatter(X_dev[:, 0].tolist(), X_dev[:, 1].tolist(), marker='*', c=paddle.squeeze(y_dev,axis=-1).tolist())\n",
    "plt.scatter(X_test[:, 0].tolist(), X_test[:, 1].tolist(), marker='*', c=paddle.squeeze(y_test,axis=-1).tolist())"
   ]
  },
  {
   "cell_type": "markdown",
   "metadata": {
    "collapsed": false
   },
   "source": [
    "## 4.3 自动梯度计算和预定义算子\n",
    "\n",
    "虽然我们能够通过模块化的方式比较好地对神经网络进行组装，但是每个模块的梯度计算过程仍然十分繁琐且容易出错。在深度学习框架中，已经封装了自动梯度计算的功能，我们只需要聚焦模型架构，不再需要耗费精力进行计算梯度。\n",
    "\n",
    "飞桨提供了`paddle.nn.Layer`类，来方便快速的实现自己的层和模型。模型和层都可以基于`paddle.nn.Layer`扩充实现，模型只是一种特殊的层。\n",
    "\n",
    "继承了`paddle.nn.Layer`类的算子中，可以在内部直接调用其它继承`paddle.nn.Layer`类的算子，飞桨框架会自动识别算子中内嵌的`paddle.nn.Layer`类算子，并自动计算它们的梯度，并在优化时更新它们的参数。\n",
    "\n",
    "### 4.3.1 利用预定义算子重新实现前馈神经网络\n",
    "下面我们使用Paddle的预定义算子来重新实现二分类任务。\n",
    "主要使用到的预定义算子为`paddle.nn.Linear`：\n",
    "\n",
    "`class paddle.nn.Linear(in_features, out_features, weight_attr=None, bias_attr=None, name=None)`\n",
    "\n",
    "`paddle.nn.Linear`算子可以接受一个形状为[batch_size,∗,in_features]的**输入张量**，其中\"∗\"表示张量中可以有任意的其它额外维度，并计算它与形状为[in_features, out_features]的**权重矩阵**的乘积，然后生成形状为[batch_size,∗,out_features]的**输出张量**。 `paddle.nn.Linear`算子默认有偏置参数，可以通过`bias_attr=False`设置不带偏置。\n",
    "\n",
    "***\n",
    "paddle.nn 目录下包含飞桨框架支持的神经网络层和相关函数的相关API。paddle.nn.functional下都是一些函数实现。\n",
    "***\n",
    "\n",
    "\n",
    "代码实现如下："
   ]
  },
  {
   "cell_type": "code",
   "execution_count": 19,
   "metadata": {
    "collapsed": false
   },
   "outputs": [],
   "source": [
    "import paddle.nn as nn\r\n",
    "import paddle.nn.functional as F\r\n",
    "from paddle.nn.initializer import Constant, Normal, Uniform\r\n",
    "\r\n",
    "class Model_MLP_L2_V2(paddle.nn.Layer):\r\n",
    "    def __init__(self, input_size, hidden_size, output_size):\r\n",
    "        super(Model_MLP_L2_V2, self).__init__()\r\n",
    "        # 使用'paddle.nn.Linear'定义线性层。\r\n",
    "        # 其中第一个参数（in_features）为线性层输入维度；第二个参数（out_features）为线性层输出维度\r\n",
    "        # weight_attr为权重参数属性，这里使用'paddle.nn.initializer.Normal'进行随机高斯分布初始化\r\n",
    "        # bias_attr为偏置参数属性，这里使用'paddle.nn.initializer.Constant'进行常量初始化\r\n",
    "        self.fc1 = nn.Linear(input_size, hidden_size,\r\n",
    "                                weight_attr=paddle.ParamAttr(initializer=Normal(mean=0., std=1.)),\r\n",
    "                                bias_attr=paddle.ParamAttr(initializer=Constant(value=0.0)))\r\n",
    "        self.fc2 = nn.Linear(hidden_size, output_size,\r\n",
    "                                weight_attr=paddle.ParamAttr(initializer=Normal(mean=0., std=1.)),\r\n",
    "                                bias_attr=paddle.ParamAttr(initializer=Constant(value=0.0)))\r\n",
    "        # 使用'paddle.nn.functional.sigmoid'定义 Logistic 激活函数\r\n",
    "        self.act_fn = F.sigmoid\r\n",
    "        \r\n",
    "    # 前向计算\r\n",
    "    def forward(self, inputs):\r\n",
    "        z1 = self.fc1(inputs)\r\n",
    "        a1 = self.act_fn(z1)\r\n",
    "        z2 = self.fc2(a1)\r\n",
    "        a2 = self.act_fn(z2)\r\n",
    "        return a2"
   ]
  },
  {
   "cell_type": "markdown",
   "metadata": {
    "collapsed": false
   },
   "source": [
    "### 4.3.2 完善Runner类\n",
    "\n",
    "基于上一节实现的 `RunnerV2_1` 类，本节的 RunnerV2_2 类在训练过程中使用自动梯度计算；模型保存时，使用`state_dict`方法获取模型参数；模型加载时，使用`set_state_dict`方法加载模型参数."
   ]
  },
  {
   "cell_type": "code",
   "execution_count": 20,
   "metadata": {
    "collapsed": false
   },
   "outputs": [],
   "source": [
    "class RunnerV2_2(object):\r\n",
    "    def __init__(self, model, optimizer, metric, loss_fn, **kwargs):\r\n",
    "        self.model = model\r\n",
    "        self.optimizer = optimizer\r\n",
    "        self.loss_fn = loss_fn\r\n",
    "        self.metric = metric\r\n",
    "\r\n",
    "        # 记录训练过程中的评估指标变化情况\r\n",
    "        self.train_scores = []\r\n",
    "        self.dev_scores = []\r\n",
    "\r\n",
    "        # 记录训练过程中的评价指标变化情况\r\n",
    "        self.train_loss = []\r\n",
    "        self.dev_loss = []\r\n",
    "\r\n",
    "    def train(self, train_set, dev_set, **kwargs):\r\n",
    "        # 将模型切换为训练模式\r\n",
    "        self.model.train()\r\n",
    "\r\n",
    "        # 传入训练轮数，如果没有传入值则默认为0\r\n",
    "        num_epochs = kwargs.get(\"num_epochs\", 0)\r\n",
    "        # 传入log打印频率，如果没有传入值则默认为100\r\n",
    "        log_epochs = kwargs.get(\"log_epochs\", 100)\r\n",
    "        # 传入模型保存路径，如果没有传入值则默认为\"best_model.pdparams\"\r\n",
    "        save_path = kwargs.get(\"save_path\", \"best_model.pdparams\")\r\n",
    "\r\n",
    "        # log打印函数，如果没有传入则默认为\"None\"\r\n",
    "        custom_print_log = kwargs.get(\"custom_print_log\", None) \r\n",
    "        \r\n",
    "        # 记录全局最优指标\r\n",
    "        best_score = 0\r\n",
    "        # 进行num_epochs轮训练\r\n",
    "        for epoch in range(num_epochs):\r\n",
    "            X, y = train_set\r\n",
    "            # 获取模型预测\r\n",
    "            logits = self.model(X)\r\n",
    "            # 计算交叉熵损失\r\n",
    "            trn_loss = self.loss_fn(logits, y)\r\n",
    "            self.train_loss.append(trn_loss.item())\r\n",
    "            # 计算评估指标\r\n",
    "            trn_score = self.metric(logits, y).item()\r\n",
    "            self.train_scores.append(trn_score)\r\n",
    "\r\n",
    "            # 自动计算参数梯度\r\n",
    "            trn_loss.backward()\r\n",
    "            if custom_print_log is not None:\r\n",
    "                # 打印每一层的梯度\r\n",
    "                custom_print_log(self)\r\n",
    "\r\n",
    "            # 参数更新\r\n",
    "            self.optimizer.step()\r\n",
    "            # 清空梯度\r\n",
    "            self.optimizer.clear_grad()\r\n",
    "\r\n",
    "            dev_score, dev_loss = self.evaluate(dev_set)\r\n",
    "            # 如果当前指标为最优指标，保存该模型\r\n",
    "            if dev_score > best_score:\r\n",
    "                self.save_model(save_path)\r\n",
    "                print(f\"[Evaluate] best accuracy performence has been updated: {best_score:.5f} --> {dev_score:.5f}\")\r\n",
    "                best_score = dev_score\r\n",
    "\r\n",
    "            if log_epochs and epoch % log_epochs == 0:\r\n",
    "                print(f\"[Train] epoch: {epoch}/{num_epochs}, loss: {trn_loss.item()}\")\r\n",
    "                \r\n",
    "    # 模型评估阶段，使用'paddle.no_grad()'控制不计算和存储梯度\r\n",
    "    @paddle.no_grad()\r\n",
    "    def evaluate(self, data_set):\r\n",
    "        # 将模型切换为评估模式\r\n",
    "        self.model.eval()\r\n",
    "\r\n",
    "        X, y = data_set\r\n",
    "        # 计算模型输出\r\n",
    "        logits = self.model(X)\r\n",
    "        # 计算损失函数\r\n",
    "        loss = self.loss_fn(logits, y).item()\r\n",
    "        self.dev_loss.append(loss)\r\n",
    "        # 计算评估指标\r\n",
    "        score = self.metric(logits, y).item()\r\n",
    "        self.dev_scores.append(score)\r\n",
    "        return score, loss\r\n",
    "    \r\n",
    "    # 模型测试阶段，使用'paddle.no_grad()'控制不计算和存储梯度\r\n",
    "    @paddle.no_grad()\r\n",
    "    def predict(self, X):\r\n",
    "        # 将模型切换为评估模式\r\n",
    "        self.model.eval()\r\n",
    "        return self.model(X)\r\n",
    "\r\n",
    "    # 使用'model.state_dict()'获取模型参数，并进行保存\r\n",
    "    def save_model(self, saved_path):\r\n",
    "        paddle.save(self.model.state_dict(), saved_path)\r\n",
    "\r\n",
    "    # 使用'model.set_state_dict'加载模型参数\r\n",
    "    def load_model(self, model_path):\r\n",
    "        state_dict = paddle.load(model_path)\r\n",
    "        self.model.set_state_dict(state_dict)"
   ]
  },
  {
   "cell_type": "markdown",
   "metadata": {
    "collapsed": false
   },
   "source": [
    "### 4.3.3 模型训练\n",
    "\n",
    "实例化RunnerV2类，并传入训练配置，代码实现如下："
   ]
  },
  {
   "cell_type": "code",
   "execution_count": 21,
   "metadata": {
    "collapsed": false
   },
   "outputs": [
    {
     "name": "stdout",
     "output_type": "stream",
     "text": [
      "[Evaluate] best accuracy performence has been updated: 0.00000 --> 0.37500\n",
      "[Train] epoch: 0/1000, loss: 0.809099555015564\n",
      "[Evaluate] best accuracy performence has been updated: 0.37500 --> 0.39375\n",
      "[Evaluate] best accuracy performence has been updated: 0.39375 --> 0.41875\n",
      "[Evaluate] best accuracy performence has been updated: 0.41875 --> 0.44375\n",
      "[Evaluate] best accuracy performence has been updated: 0.44375 --> 0.45000\n",
      "[Evaluate] best accuracy performence has been updated: 0.45000 --> 0.45625\n",
      "[Evaluate] best accuracy performence has been updated: 0.45625 --> 0.46875\n",
      "[Evaluate] best accuracy performence has been updated: 0.46875 --> 0.47500\n",
      "[Evaluate] best accuracy performence has been updated: 0.47500 --> 0.49375\n",
      "[Evaluate] best accuracy performence has been updated: 0.49375 --> 0.50625\n",
      "[Evaluate] best accuracy performence has been updated: 0.50625 --> 0.51875\n",
      "[Evaluate] best accuracy performence has been updated: 0.51875 --> 0.52500\n",
      "[Evaluate] best accuracy performence has been updated: 0.52500 --> 0.53750\n",
      "[Evaluate] best accuracy performence has been updated: 0.53750 --> 0.55625\n",
      "[Evaluate] best accuracy performence has been updated: 0.55625 --> 0.57500\n",
      "[Evaluate] best accuracy performence has been updated: 0.57500 --> 0.59375\n",
      "[Evaluate] best accuracy performence has been updated: 0.59375 --> 0.61250\n",
      "[Evaluate] best accuracy performence has been updated: 0.61250 --> 0.62500\n",
      "[Evaluate] best accuracy performence has been updated: 0.62500 --> 0.63125\n",
      "[Evaluate] best accuracy performence has been updated: 0.63125 --> 0.63750\n",
      "[Evaluate] best accuracy performence has been updated: 0.63750 --> 0.65000\n",
      "[Evaluate] best accuracy performence has been updated: 0.65000 --> 0.65625\n",
      "[Evaluate] best accuracy performence has been updated: 0.65625 --> 0.66250\n",
      "[Evaluate] best accuracy performence has been updated: 0.66250 --> 0.68125\n",
      "[Evaluate] best accuracy performence has been updated: 0.68125 --> 0.68750\n",
      "[Evaluate] best accuracy performence has been updated: 0.68750 --> 0.70000\n",
      "[Evaluate] best accuracy performence has been updated: 0.70000 --> 0.70625\n",
      "[Evaluate] best accuracy performence has been updated: 0.70625 --> 0.71250\n",
      "[Evaluate] best accuracy performence has been updated: 0.71250 --> 0.71875\n",
      "[Evaluate] best accuracy performence has been updated: 0.71875 --> 0.72500\n",
      "[Evaluate] best accuracy performence has been updated: 0.72500 --> 0.73125\n",
      "[Train] epoch: 50/1000, loss: 0.5660088658332825\n",
      "[Evaluate] best accuracy performence has been updated: 0.73125 --> 0.73750\n",
      "[Evaluate] best accuracy performence has been updated: 0.73750 --> 0.75000\n",
      "[Evaluate] best accuracy performence has been updated: 0.75000 --> 0.75625\n",
      "[Evaluate] best accuracy performence has been updated: 0.75625 --> 0.76875\n",
      "[Evaluate] best accuracy performence has been updated: 0.76875 --> 0.77500\n",
      "[Evaluate] best accuracy performence has been updated: 0.77500 --> 0.78125\n",
      "[Evaluate] best accuracy performence has been updated: 0.78125 --> 0.78750\n",
      "[Evaluate] best accuracy performence has been updated: 0.78750 --> 0.79375\n",
      "[Evaluate] best accuracy performence has been updated: 0.79375 --> 0.80000\n",
      "[Evaluate] best accuracy performence has been updated: 0.80000 --> 0.80625\n",
      "[Train] epoch: 100/1000, loss: 0.49134373664855957\n",
      "[Evaluate] best accuracy performence has been updated: 0.80625 --> 0.81250\n",
      "[Evaluate] best accuracy performence has been updated: 0.81250 --> 0.81875\n",
      "[Evaluate] best accuracy performence has been updated: 0.81875 --> 0.82500\n",
      "[Evaluate] best accuracy performence has been updated: 0.82500 --> 0.83125\n",
      "[Evaluate] best accuracy performence has been updated: 0.83125 --> 0.83750\n",
      "[Train] epoch: 150/1000, loss: 0.45692673325538635\n",
      "[Train] epoch: 200/1000, loss: 0.439577579498291\n",
      "[Train] epoch: 250/1000, loss: 0.43059825897216797\n",
      "[Evaluate] best accuracy performence has been updated: 0.83750 --> 0.84375\n",
      "[Train] epoch: 300/1000, loss: 0.425873339176178\n",
      "[Evaluate] best accuracy performence has been updated: 0.84375 --> 0.85000\n",
      "[Train] epoch: 350/1000, loss: 0.4233371615409851\n",
      "[Evaluate] best accuracy performence has been updated: 0.85000 --> 0.85625\n",
      "[Train] epoch: 400/1000, loss: 0.42193928360939026\n",
      "[Evaluate] best accuracy performence has been updated: 0.85625 --> 0.86250\n",
      "[Train] epoch: 450/1000, loss: 0.42114076018333435\n",
      "[Train] epoch: 500/1000, loss: 0.42066121101379395\n",
      "[Train] epoch: 550/1000, loss: 0.42035332322120667\n",
      "[Train] epoch: 600/1000, loss: 0.4201384484767914\n",
      "[Train] epoch: 650/1000, loss: 0.41997450590133667\n",
      "[Train] epoch: 700/1000, loss: 0.41983866691589355\n",
      "[Train] epoch: 750/1000, loss: 0.41971856355667114\n",
      "[Train] epoch: 800/1000, loss: 0.41960734128952026\n",
      "[Train] epoch: 850/1000, loss: 0.419501394033432\n",
      "[Train] epoch: 900/1000, loss: 0.4193987250328064\n",
      "[Train] epoch: 950/1000, loss: 0.4192982316017151\n"
     ]
    }
   ],
   "source": [
    "# 设置模型\r\n",
    "input_size = 2\r\n",
    "hidden_size = 5\r\n",
    "output_size = 1\r\n",
    "model = Model_MLP_L2_V2(input_size=input_size, hidden_size=hidden_size, output_size=output_size)\r\n",
    "\r\n",
    "# 设置损失函数\r\n",
    "loss_fn = F.binary_cross_entropy\r\n",
    "\r\n",
    "# 设置优化器\r\n",
    "learning_rate = 0.2\r\n",
    "optimizer = paddle.optimizer.SGD(learning_rate=learning_rate, parameters=model.parameters())\r\n",
    "\r\n",
    "# 设置评价指标\r\n",
    "metric = accuracy\r\n",
    "\r\n",
    "# 其他参数\r\n",
    "epoch_num = 1000\r\n",
    "saved_path = 'best_model.pdparams'\r\n",
    "\r\n",
    "# 实例化RunnerV2类，并传入训练配置\r\n",
    "runner = RunnerV2_2(model, optimizer, metric, loss_fn)\r\n",
    "\r\n",
    "runner.train([X_train, y_train], [X_dev, y_dev], num_epochs=epoch_num, log_epochs=50, save_path=\"best_model.pdparams\")"
   ]
  },
  {
   "cell_type": "markdown",
   "metadata": {
    "collapsed": false
   },
   "source": [
    "将训练过程中训练集与验证集的准确率变化情况进行可视化。"
   ]
  },
  {
   "cell_type": "code",
   "execution_count": 22,
   "metadata": {
    "collapsed": false
   },
   "outputs": [
    {
     "data": {
      "image/png": "[encoded data removed]",
      "text/plain": [
       "<Figure size 720x360 with 2 Axes>"
      ]
     },
     "metadata": {},
     "output_type": "display_data"
    }
   ],
   "source": [
    "# 可视化观察训练集与验证集的指标变化情况\r\n",
    "def plot(runner, fig_name):\r\n",
    "    plt.figure(figsize=(10,5))\r\n",
    "    epochs = [i for i in range(len(runner.train_scores))]\r\n",
    "\r\n",
    "    plt.subplot(1,2,1)\r\n",
    "    plt.plot(epochs, runner.train_loss, color='#e4007f', label=\"Train loss\")\r\n",
    "    plt.plot(epochs, runner.dev_loss, color='#f19ec2', linestyle='--', label=\"Dev loss\")\r\n",
    "    # 绘制坐标轴和图例\r\n",
    "    plt.ylabel(\"loss\", fontsize='large')\r\n",
    "    plt.xlabel(\"epoch\", fontsize='large')\r\n",
    "    plt.legend(loc='upper right', fontsize='x-large')\r\n",
    "\r\n",
    "    plt.subplot(1,2,2)\r\n",
    "    plt.plot(epochs, runner.train_scores, color='#e4007f', label=\"Train accuracy\")\r\n",
    "    plt.plot(epochs, runner.dev_scores, color='#f19ec2', linestyle='--', label=\"Dev accuracy\")\r\n",
    "    # 绘制坐标轴和图例\r\n",
    "    plt.ylabel(\"score\", fontsize='large')\r\n",
    "    plt.xlabel(\"epoch\", fontsize='large')\r\n",
    "    plt.legend(loc='lower right', fontsize='x-large')\r\n",
    "    \r\n",
    "    plt.savefig(fig_name)\r\n",
    "    plt.show()\r\n",
    "\r\n",
    "plot(runner, 'fw-acc.pdf')"
   ]
  },
  {
   "cell_type": "markdown",
   "metadata": {
    "collapsed": false
   },
   "source": [
    "### 4.3.4 性能评价\n",
    "\n",
    "使用测试数据对训练完成后的最优模型进行评价，观察模型在测试集上的准确率以及loss情况。代码如下："
   ]
  },
  {
   "cell_type": "code",
   "execution_count": 23,
   "metadata": {
    "collapsed": false
   },
   "outputs": [
    {
     "name": "stdout",
     "output_type": "stream",
     "text": [
      "[Test] score/loss: 0.7600/0.4883\n"
     ]
    }
   ],
   "source": [
    "# 模型评价\r\n",
    "runner.load_model(\"best_model.pdparams\")\r\n",
    "score, loss = runner.evaluate([X_test, y_test])\r\n",
    "print(\"[Test] score/loss: {:.4f}/{:.4f}\".format(score, loss))"
   ]
  },
  {
   "cell_type": "markdown",
   "metadata": {
    "collapsed": false
   },
   "source": [
    "从结果来看，模型在测试集上取得了较高的准确率。"
   ]
  },
  {
   "cell_type": "markdown",
   "metadata": {
    "collapsed": false
   },
   "source": [
    "## 4.4 优化问题\n",
    "\n",
    "在本节中，我们通过实践来发现神经网络模型的优化问题，并思考如何改进。"
   ]
  },
  {
   "cell_type": "markdown",
   "metadata": {
    "collapsed": false
   },
   "source": [
    "### 4.4.1 参数初始化\n",
    "\n",
    "实现一个神经网络前，需要先初始化模型参数。如果对每一层的权重和偏置都用0初始化，那么通过第一遍前向计算，所有隐藏层神经元的激活值都相同；在反向传播时，所有权重的更新也都相同，这样会导致隐藏层神经元没有差异性，出现**对称权重现象**。\n",
    "\n",
    "接下来，将模型参数全都初始化为0，看实验结果。这里重新定义了一个类`TwoLayerNet_Zeros`，两个线性层的参数全都初始化为0。"
   ]
  },
  {
   "cell_type": "code",
   "execution_count": 24,
   "metadata": {
    "collapsed": false
   },
   "outputs": [],
   "source": [
    "import paddle.nn as nn\n",
    "import paddle.nn.functional as F\n",
    "from paddle.nn.initializer import Constant, Normal, Uniform\n",
    "\n",
    "class Model_MLP_L2_V4(paddle.nn.Layer):\n",
    "    def __init__(self, input_size, hidden_size, output_size):\n",
    "        super(Model_MLP_L2_V4, self).__init__()\n",
    "        # 使用'paddle.nn.Linear'定义线性层。\n",
    "        # 其中in_features为线性层输入维度；out_features为线性层输出维度\n",
    "        # weight_attr为权重参数属性\n",
    "        # bias_attr为偏置参数属性\n",
    "        self.fc1 = nn.Linear(input_size, hidden_size,\n",
    "                                weight_attr=paddle.ParamAttr(initializer=Constant(value=0.0)),\n",
    "                                bias_attr=paddle.ParamAttr(initializer=Constant(value=0.0)))\n",
    "        self.fc2 = nn.Linear(hidden_size, output_size,\n",
    "                                weight_attr=paddle.ParamAttr(initializer=Constant(value=0.0)),\n",
    "                                bias_attr=paddle.ParamAttr(initializer=Constant(value=0.0)))\n",
    "        # 使用'paddle.nn.functional.sigmoid'定义 Logistic 激活函数\n",
    "        self.act_fn = F.sigmoid\n",
    "        \n",
    "    # 前向计算\n",
    "    def forward(self, inputs):\n",
    "        z1 = self.fc1(inputs)\n",
    "        a1 = self.act_fn(z1)\n",
    "        z2 = self.fc2(a1)\n",
    "        a2 = self.act_fn(z2)\n",
    "        return a2"
   ]
  },
  {
   "cell_type": "code",
   "execution_count": 25,
   "metadata": {
    "collapsed": false
   },
   "outputs": [],
   "source": [
    "def print_weights(runner):\n",
    "    print('The weights of the Layers：')\n",
    "    \n",
    "    for item in runner.model.sublayers():\n",
    "        print(item.full_name())\n",
    "        for param in item.parameters():\n",
    "            print(param.numpy())\n",
    "        "
   ]
  },
  {
   "cell_type": "markdown",
   "metadata": {
    "collapsed": false
   },
   "source": [
    "利用Runner类训练模型："
   ]
  },
  {
   "cell_type": "code",
   "execution_count": 26,
   "metadata": {
    "collapsed": false
   },
   "outputs": [
    {
     "name": "stdout",
     "output_type": "stream",
     "text": [
      "The weights of the Layers：\n",
      "linear_2\n",
      "[[0. 0. 0. 0. 0.]\n",
      " [0. 0. 0. 0. 0.]]\n",
      "[0. 0. 0. 0. 0.]\n",
      "linear_3\n",
      "[[0.]\n",
      " [0.]\n",
      " [0.]\n",
      " [0.]\n",
      " [0.]]\n",
      "[0.]\n",
      "[Evaluate] best accuracy performence has been updated: 0.00000 --> 0.45000\n",
      "[Train] epoch: 0/5, loss: 0.693146824836731\n",
      "The weights of the Layers：\n",
      "linear_2\n",
      "[[0. 0. 0. 0. 0.]\n",
      " [0. 0. 0. 0. 0.]]\n",
      "[0. 0. 0. 0. 0.]\n",
      "linear_3\n",
      "[[-0.00203125]\n",
      " [-0.00203125]\n",
      " [-0.00203125]\n",
      " [-0.00203125]\n",
      " [-0.00203125]]\n",
      "[-0.0040625]\n",
      "The weights of the Layers：\n",
      "linear_2\n",
      "[[-2.2261411e-05 -2.2261411e-05 -2.2261411e-05 -2.2261411e-05\n",
      "  -2.2261411e-05]\n",
      " [ 2.1618824e-05  2.1618824e-05  2.1618824e-05  2.1618824e-05\n",
      "   2.1618824e-05]]\n",
      "[1.8309125e-06 1.8309125e-06 1.8309125e-06 1.8309125e-06 1.8309125e-06]\n",
      "linear_3\n",
      "[[-0.00383399]\n",
      " [-0.00383399]\n",
      " [-0.00383399]\n",
      " [-0.00383399]\n",
      " [-0.00383399]]\n",
      "[-0.00766798]\n",
      "The weights of the Layers：\n",
      "linear_2\n",
      "[[-6.445288e-05 -6.445288e-05 -6.445288e-05 -6.445288e-05 -6.445288e-05]\n",
      " [ 6.231440e-05  6.231440e-05  6.231440e-05  6.231440e-05  6.231440e-05]]\n",
      "[4.897984e-06 4.897984e-06 4.897984e-06 4.897984e-06 4.897984e-06]\n",
      "linear_3\n",
      "[[-0.0054344]\n",
      " [-0.0054344]\n",
      " [-0.0054344]\n",
      " [-0.0054344]\n",
      " [-0.0054344]]\n",
      "[-0.01086785]\n",
      "The weights of the Layers：\n",
      "linear_2\n",
      "[[-0.00012447 -0.00012447 -0.00012447 -0.00012447 -0.00012447]\n",
      " [ 0.00011986  0.00011986  0.00011986  0.00011986  0.00011986]]\n",
      "[8.756236e-06 8.756236e-06 8.756236e-06 8.756236e-06 8.756236e-06]\n",
      "linear_3\n",
      "[[-0.00685571]\n",
      " [-0.00685571]\n",
      " [-0.00685571]\n",
      " [-0.00685571]\n",
      " [-0.00685571]]\n",
      "[-0.01370772]\n"
     ]
    }
   ],
   "source": [
    "# 设置模型\n",
    "input_size = 2\n",
    "hidden_size = 5\n",
    "output_size = 1\n",
    "model = Model_MLP_L2_V4(input_size=input_size, hidden_size=hidden_size, output_size=output_size)\n",
    "\n",
    "# 设置损失函数\n",
    "loss_fn = F.binary_cross_entropy\n",
    "\n",
    "# 设置优化器\n",
    "learning_rate = 0.2 #5e-2\n",
    "optimizer = paddle.optimizer.SGD(learning_rate=learning_rate, parameters=model.parameters())\n",
    "\n",
    "# 设置评价指标\n",
    "metric = accuracy\n",
    "\n",
    "# 其他参数\n",
    "epoch = 2000\n",
    "saved_path = 'best_model.pdparams'\n",
    "\n",
    "# 实例化RunnerV2类，并传入训练配置\n",
    "runner = RunnerV2_2(model, optimizer, metric, loss_fn)\n",
    "\n",
    "runner.train([X_train, y_train], [X_dev, y_dev], num_epochs=5, log_epochs=50, save_path=\"best_model.pdparams\",custom_print_log=print_weights)"
   ]
  },
  {
   "cell_type": "markdown",
   "metadata": {
    "collapsed": false
   },
   "source": [
    "可视化训练和验证集上的主准确率和loss变化："
   ]
  },
  {
   "cell_type": "code",
   "execution_count": 27,
   "metadata": {
    "collapsed": false
   },
   "outputs": [
    {
     "data": {
      "image/png": "[encoded data removed]",
      "text/plain": [
       "<Figure size 720x360 with 2 Axes>"
      ]
     },
     "metadata": {},
     "output_type": "display_data"
    }
   ],
   "source": [
    "plot(runner, \"fw-zero.pdf\")"
   ]
  },
  {
   "cell_type": "markdown",
   "metadata": {
    "collapsed": false
   },
   "source": [
    "从输出结果看，二分类准确率为50%左右，说明模型没有学到任何内容。训练和验证loss几乎没有怎么下降。"
   ]
  },
  {
   "cell_type": "markdown",
   "metadata": {
    "collapsed": false
   },
   "source": [
    "为了避免对称权重现象，可以使用高斯分布或均匀分布初始化神经网络的参数。\n",
    "\n",
    "高斯分布和均匀分布采样的实现和可视化代码如下："
   ]
  },
  {
   "cell_type": "code",
   "execution_count": 28,
   "metadata": {
    "collapsed": false
   },
   "outputs": [
    {
     "data": {
      "image/png": "[encoded data removed]",
      "text/plain": [
       "<Figure size 432x288 with 2 Axes>"
      ]
     },
     "metadata": {},
     "output_type": "display_data"
    }
   ],
   "source": [
    "# 使用'paddle.normal'实现高斯分布采样，其中'mean'为高斯分布的均值，'std'为高斯分布的标准差，'shape'为输出形状\r\n",
    "gausian_weights = paddle.normal(mean=0.0, std=1.0, shape=[10000])\r\n",
    "# 使用'paddle.uniform'实现在[min,max)范围内的均匀分布采样，其中'shape'为输出形状\r\n",
    "uniform_weights = paddle.uniform(shape=[10000], min=- 1.0, max=1.0)\r\n",
    "\r\n",
    "# 绘制两种参数分布\r\n",
    "plt.figure()\r\n",
    "plt.subplot(1,2,1)\r\n",
    "plt.title('Gausian Distribution')\r\n",
    "plt.hist(gausian_weights, bins=200, density=True, color='#f19ec2')\r\n",
    "plt.subplot(1,2,2)\r\n",
    "plt.title('Uniform Distribution')\r\n",
    "plt.hist(uniform_weights, bins=200, density=True, color='#e4007f')\r\n",
    "plt.savefig('fw-gausian-uniform.pdf')\r\n",
    "plt.show()"
   ]
  },
  {
   "cell_type": "markdown",
   "metadata": {
    "collapsed": false
   },
   "source": [
    "### 4.4.2 梯度消失问题\n",
    "\n",
    "在神经网络的构建过程中，随着网络层数的增加，理论上网络的拟合能力也应该是越来越好的。但是随着网络变深，参数学习更加困难，容易出现梯度消失问题。\n",
    "\n",
    "由于Sigmoid型函数的饱和性，饱和区的导数更接近于0，误差经过每一层传递都会不断衰减。当网络层数很深时，梯度就会不停衰减，甚至消失，使得整个网络很难训练，这就是所谓的梯度消失问题。\n",
    "在深度神经网络中，减轻梯度消失问题的方法有很多种，一种简单有效的方式就是使用导数比较大的激活函数，如：ReLU。\n",
    "\n",
    "下面通过一个简单的实验观察前馈神经网络的梯度消失现象和改进方法。"
   ]
  },
  {
   "cell_type": "markdown",
   "metadata": {
    "collapsed": false
   },
   "source": [
    "#### 4.4.2.1 模型构建\n",
    "\n",
    "定义一个前馈神经网络，包含4个隐藏层和1个输出层，通过传入的参数指定激活函数。代码实现如下："
   ]
  },
  {
   "cell_type": "code",
   "execution_count": 33,
   "metadata": {
    "collapsed": false
   },
   "outputs": [],
   "source": [
    "# 定义多层前馈神经网络\n",
    "class Model_MLP_L5(paddle.nn.Layer):\n",
    "    def __init__(self, input_size, output_size, act='sigmoid', w_init=Normal(mean=0.0, std=0.01), b_init=Constant(value=1.0)):\n",
    "        super(Model_MLP_L5, self).__init__()\n",
    "        self.fc1 = paddle.nn.Linear(input_size, 3)\n",
    "        self.fc2 = paddle.nn.Linear(3, 3)\n",
    "        self.fc3 = paddle.nn.Linear(3, 3)\n",
    "        self.fc4 = paddle.nn.Linear(3, 3)\n",
    "        self.fc5 = paddle.nn.Linear(3, output_size)\n",
    "        # 定义网络使用的激活函数\n",
    "        if act == 'sigmoid':\n",
    "            self.act = F.sigmoid\n",
    "        elif act == 'relu':\n",
    "            self.act = F.relu\n",
    "        elif act == 'lrelu':\n",
    "            self.act = F.leaky_relu\n",
    "        else:\n",
    "            raise ValueError(\"Please enter sigmoid relu or lrelu!\")\n",
    "        # 初始化线性层权重和偏置参数\n",
    "        self.init_weights(w_init, b_init)\n",
    "\n",
    "    # 初始化线性层权重和偏置参数\n",
    "    def init_weights(self, w_init, b_init):\n",
    "        # 使用'named_sublayers'遍历所有网络层\n",
    "        for n, m in self.named_sublayers():\n",
    "            # 如果是线性层，则使用指定方式进行参数初始化\n",
    "            if isinstance(m, nn.Linear):\n",
    "                w_init(m.weight)\n",
    "                b_init(m.bias)\n",
    "\n",
    "    def forward(self, inputs):\n",
    "        outputs = self.fc1(inputs)\n",
    "        outputs = self.act(outputs)\n",
    "        outputs = self.fc2(outputs)\n",
    "        outputs = self.act(outputs)\n",
    "        outputs = self.fc3(outputs)\n",
    "        outputs = self.act(outputs)\n",
    "        outputs = self.fc4(outputs)\n",
    "        outputs = self.act(outputs)\n",
    "        outputs = self.fc5(outputs)\n",
    "        outputs = F.sigmoid(outputs)\n",
    "        return outputs"
   ]
  },
  {
   "cell_type": "markdown",
   "metadata": {
    "collapsed": false
   },
   "source": [
    "#### 4.4.2.2 使用Sigmoid型函数进行训练\n",
    "\n",
    "使用Sigmoid型函数作为激活函数，为了便于观察梯度消失现象，只进行一轮网络优化。代码实现如下："
   ]
  },
  {
   "cell_type": "markdown",
   "metadata": {
    "collapsed": false
   },
   "source": [
    "定义梯度打印函数"
   ]
  },
  {
   "cell_type": "code",
   "execution_count": 34,
   "metadata": {
    "collapsed": false
   },
   "outputs": [],
   "source": [
    "def print_grads(runner):\n",
    "    # 打印每一层的权重的模\n",
    "    print('The gradient of the Layers：')\n",
    "    for item in runner.model.sublayers():\n",
    "        if len(item.parameters())==2:\n",
    "            print(item.full_name(), paddle.norm(item.parameters()[0].grad, p=2.).numpy()[0])"
   ]
  },
  {
   "cell_type": "code",
   "execution_count": 35,
   "metadata": {
    "collapsed": false
   },
   "outputs": [],
   "source": [
    "paddle.seed(102)\n",
    "# 学习率大小\n",
    "lr = 0.01\n",
    "\n",
    "# 定义网络，激活函数使用sigmoid\n",
    "model =  Model_MLP_L5(input_size=2, output_size=1, act='sigmoid')\n",
    "\n",
    "# 定义优化器\n",
    "optimizer = paddle.optimizer.SGD(learning_rate=lr, parameters=model.parameters())\n",
    "\n",
    "# 定义损失函数，使用交叉熵损失函数\n",
    "loss_fn = F.binary_cross_entropy\n",
    "\n",
    "# 定义评价指标\n",
    "metric = accuracy\n",
    "\n",
    "# 指定梯度打印函数\n",
    "custom_print_log=print_grads"
   ]
  },
  {
   "cell_type": "markdown",
   "metadata": {
    "collapsed": false
   },
   "source": [
    "实例化RunnerV2_2类，并传入训练配置。代码实现如下："
   ]
  },
  {
   "cell_type": "code",
   "execution_count": 36,
   "metadata": {
    "collapsed": false
   },
   "outputs": [],
   "source": [
    "# 实例化Runner类\n",
    "runner = RunnerV2_2(model, optimizer, metric, loss_fn)"
   ]
  },
  {
   "cell_type": "markdown",
   "metadata": {
    "collapsed": false
   },
   "source": [
    "模型训练，打印网络每层梯度值的$\\ell_2$范数。代码实现如下："
   ]
  },
  {
   "cell_type": "code",
   "execution_count": 37,
   "metadata": {
    "collapsed": false
   },
   "outputs": [
    {
     "name": "stdout",
     "output_type": "stream",
     "text": [
      "The gradient of the Layers：\n",
      "linear_4 6.9098754e-11\n",
      "linear_5 1.648972e-08\n",
      "linear_6 4.8029387e-06\n",
      "linear_7 0.0015030989\n",
      "linear_8 0.29127562\n",
      "[Evaluate] best accuracy performence has been updated: 0.00000 --> 0.46250\n"
     ]
    },
    {
     "name": "stderr",
     "output_type": "stream",
     "text": [
      "/opt/conda/envs/python35-paddle120-env/lib/python3.7/site-packages/paddle/fluid/dygraph/varbase_patch_methods.py:392: UserWarning: \u001b[93m\n",
      "Warning:\n",
      "tensor.grad will return the tensor value of the gradient. This is an incompatible upgrade for tensor.grad API.  It's return type changes from numpy.ndarray in version 2.0 to paddle.Tensor in version 2.1.0.  If you want to get the numpy value of the gradient, you can use :code:`x.grad.numpy()` \u001b[0m\n",
      "  warnings.warn(warning_msg)\n"
     ]
    }
   ],
   "source": [
    "# 启动训练\n",
    "runner.train([X_train, y_train], [X_dev, y_dev], \n",
    "            num_epochs=1, log_epochs=None, \n",
    "            save_path=\"best_model.pdparams\", \n",
    "            custom_print_log=custom_print_log)"
   ]
  },
  {
   "cell_type": "markdown",
   "metadata": {
    "collapsed": false
   },
   "source": [
    "观察实验结果可以发现，梯度经过每一个神经层的传递都会不断衰减，最终传递到第一个神经层时，梯度几乎完全消失。"
   ]
  },
  {
   "cell_type": "markdown",
   "metadata": {
    "collapsed": false
   },
   "source": [
    "#### 4.4.2.3 使用ReLU函数进行模型训练"
   ]
  },
  {
   "cell_type": "code",
   "execution_count": 38,
   "metadata": {
    "collapsed": false
   },
   "outputs": [
    {
     "name": "stdout",
     "output_type": "stream",
     "text": [
      "The gradient of the Layers：\n",
      "linear_9 4.6598142e-08\n",
      "linear_10 3.0365838e-06\n",
      "linear_11 0.0001731529\n",
      "linear_12 0.010652662\n",
      "linear_13 0.40262264\n",
      "[Evaluate] best accuracy performence has been updated: 0.00000 --> 0.46250\n"
     ]
    }
   ],
   "source": [
    "paddle.seed(102)\n",
    "lr = 0.01  # 学习率大小\n",
    "\n",
    "# 定义网络，激活函数使用relu\n",
    "model =  Model_MLP_L5(input_size=2, output_size=1, act='relu')\n",
    "\n",
    "# 定义优化器\n",
    "optimizer = paddle.optimizer.SGD(learning_rate=lr, parameters=model.parameters())\n",
    "\n",
    "# 定义损失函数\n",
    "# 定义损失函数，这里使用交叉熵损失函数\n",
    "loss_fn = F.binary_cross_entropy\n",
    "\n",
    "# 定义评估指标\n",
    "metric = accuracy\n",
    "\n",
    "# 实例化Runner\n",
    "runner = RunnerV2_2(model, optimizer, metric, loss_fn)\n",
    "\n",
    "# 启动训练\n",
    "runner.train([X_train, y_train], [X_dev, y_dev], \n",
    "            num_epochs=1, log_epochs=None, \n",
    "            save_path=\"best_model.pdparams\", \n",
    "            custom_print_log=custom_print_log)"
   ]
  },
  {
   "cell_type": "markdown",
   "metadata": {
    "collapsed": false
   },
   "source": [
    "**图4.4** 展示了使用不同激活函数时，网络每层梯度值的$\\ell_2$范数情况。从结果可以看到，5层的全连接前馈神经网络使用Sigmoid型函数作为激活函数时，梯度经过每一个神经层的传递都会不断衰减，最终传递到第一个神经层时，梯度几乎完全消失。改为ReLU激活函数后，梯度消失现象得到了缓解，每一层的参数都具有梯度值。\n",
    "\n",
    "<center><img src=\"https://ai-studio-static-online.cdn.bcebos.com/d1fe3501bdbe47c2be309151c4aa2cf8419b561a64184e468e89c7d3de4f480d\" width=\"600\"  ></center>\n",
    "<center><br>图4.4：网络每层梯度的L2范数变化趋势</br></center>\n",
    "<br></br> "
   ]
  },
  {
   "cell_type": "markdown",
   "metadata": {
    "collapsed": false
   },
   "source": [
    "### 4.4.3  死亡 ReLU 问题\n",
    "\n",
    "ReLU激活函数可以一定程度上改善梯度消失问题，但是ReLU函数在某些情况下容易出现死亡 ReLU问题，使得网络难以训练。这是由于当$x<0$时，ReLU函数的输出恒为0。在训练过程中，如果参数在一次不恰当的更新后，某个ReLU神经元在所有训练数据上都不能被激活（即输出为0），那么这个神经元自身参数的梯度永远都会是0，在以后的训练过程中永远都不能被激活。而一种简单有效的优化方式就是将激活函数更换为Leaky ReLU、ELU等ReLU的变种。"
   ]
  },
  {
   "cell_type": "markdown",
   "metadata": {
    "collapsed": false
   },
   "source": [
    "#### 4.4.3.1 使用ReLU进行模型训练\n",
    "\n",
    "使用第4.4.2节中定义的多层全连接前馈网络进行实验，使用ReLU作为激活函数，观察死亡ReLU现象和优化方法。当神经层的偏置被初始化为一个相对于权重较大的负值时，可以想像，输入经过神经层的处理，最终的输出会为负值，从而导致死亡ReLU现象。"
   ]
  },
  {
   "cell_type": "code",
   "execution_count": 39,
   "metadata": {
    "collapsed": false
   },
   "outputs": [],
   "source": [
    "# 定义网络，并使用较大的负值来初始化偏置\n",
    "model =  Model_MLP_L5(input_size=2, output_size=1, act='relu', b_init=Constant(value=-8.0))"
   ]
  },
  {
   "cell_type": "markdown",
   "metadata": {
    "collapsed": false
   },
   "source": [
    "实例化RunnerV2类，启动模型训练，打印网络每层梯度值的$\\ell_2$范数。代码实现如下："
   ]
  },
  {
   "cell_type": "code",
   "execution_count": 40,
   "metadata": {
    "collapsed": false
   },
   "outputs": [
    {
     "name": "stdout",
     "output_type": "stream",
     "text": [
      "The gradient of the Layers：\n",
      "linear_14 0.0\n",
      "linear_15 0.0\n",
      "linear_16 0.0\n",
      "linear_17 0.0\n",
      "linear_18 0.0\n",
      "[Evaluate] best accuracy performence has been updated: 0.00000 --> 0.53750\n"
     ]
    }
   ],
   "source": [
    "# 实例化Runner类\n",
    "runner = RunnerV2_2(model, optimizer, metric, loss_fn)\n",
    "\n",
    "# 启动训练\n",
    "runner.train([X_train, y_train], [X_dev, y_dev], \n",
    "            num_epochs=1, log_epochs=0, \n",
    "            save_path=\"best_model.pdparams\", \n",
    "            custom_print_log=custom_print_log)"
   ]
  },
  {
   "cell_type": "markdown",
   "metadata": {
    "collapsed": false
   },
   "source": [
    "从输出结果可以发现，使用 ReLU 作为激活函数，当满足条件时，会发生死亡ReLU问题，网络训练过程中 ReLU 神经元的梯度始终为0，参数无法更新。\n",
    "\n",
    "针对死亡ReLU问题，一种简单有效的优化方式就是将激活函数更换为Leaky ReLU、ELU等ReLU 的变种。接下来，观察将激活函数更换为 Leaky ReLU时的梯度情况。"
   ]
  },
  {
   "cell_type": "markdown",
   "metadata": {
    "collapsed": false
   },
   "source": [
    "#### 4.4.3.2 使用Leaky ReLU进行模型训练\n",
    "\n",
    "将激活函数更换为Leaky ReLU进行模型训练，观察梯度情况。代码实现如下："
   ]
  },
  {
   "cell_type": "code",
   "execution_count": 41,
   "metadata": {
    "collapsed": false
   },
   "outputs": [
    {
     "name": "stdout",
     "output_type": "stream",
     "text": [
      "The gradient of the Layers：\n",
      "linear_19 2.311491e-16\n",
      "linear_20 1.8818199e-13\n",
      "linear_21 1.6921159e-09\n",
      "linear_22 1.1889538e-05\n",
      "linear_23 0.07010835\n",
      "[Evaluate] best accuracy performence has been updated: 0.00000 --> 0.53750\n",
      "[Train] epoch: 0/1, loss: 4.050660133361816\n"
     ]
    }
   ],
   "source": [
    "# 重新定义网络，使用Leaky ReLU激活函数\n",
    "model =  Model_MLP_L5(input_size=2, output_size=1, act='lrelu', b_init=Constant(value=-8.0))\n",
    "\n",
    "# 实例化Runner类\n",
    "runner = RunnerV2_2(model, optimizer, metric, loss_fn)\n",
    "\n",
    "# 启动训练\n",
    "runner.train([X_train, y_train], [X_dev, y_dev], \n",
    "            num_epochs=1, log_epochps=None, \n",
    "            save_path=\"best_model.pdparams\", \n",
    "            custom_print_log=custom_print_log)"
   ]
  },
  {
   "cell_type": "markdown",
   "metadata": {
    "collapsed": false
   },
   "source": [
    "从输出结果可以看到，将激活函数更换为Leaky ReLU后，死亡ReLU问题得到了改善，梯度恢复正常，参数也可以正常更新。但是由于 Leaky ReLU 中，$\\mathcal{x<0}$ 时的斜率默认只有0.01，所以反向传播时，随着网络层数的加深，梯度值越来越小。如果想要改善这一现象，将 Leaky ReLU 中，$\\mathcal{x<0}$ 时的斜率调大即可。"
   ]
  }
 ],
 "metadata": {
  "kernelspec": {
   "display_name": "Python 3",
   "language": "python",
   "name": "py35-paddle1.2.0"
  },
  "language_info": {
   "codemirror_mode": {
    "name": "ipython",
    "version": 3
   },
   "file_extension": ".py",
   "mimetype": "text/x-python",
   "name": "python",
   "nbconvert_exporter": "python",
   "pygments_lexer": "ipython3",
   "version": "3.7.4"
  }
 },
 "nbformat": 4,
 "nbformat_minor": 1
}
