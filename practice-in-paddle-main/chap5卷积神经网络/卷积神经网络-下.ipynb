{
 "cells": [
  {
   "cell_type": "markdown",
   "metadata": {
    "collapsed": false
   },
   "source": [
    "## 5.5 实践：基于ResNet18网络完成图像分类任务\n",
    "\n",
    "在本实践中，我们实践一个更通用的图像分类任务。\n",
    "\n",
    "**图像分类**（Image Classification）是计算机视觉中的一个基础任务，将图像的语义将不同图像划分到不同类别。很多任务也可以转换为图像分类任务。比如人脸检测就是判断一个区域内是否有人脸，可以看作一个二分类的图像分类任务。\n",
    "\n",
    "这里，我们使用的计算机视觉领域的经典数据集：CIFAR-10数据集，网络为ResNet18模型，损失函数为交叉熵损失，优化器为Adam优化器，评价指标为准确率。\n",
    "\n",
    "*******\n",
    "\n",
    "Adam优化器的介绍参考《神经网络与深度学习》第7.2.4.3节。\n",
    "\n",
    "*******"
   ]
  },
  {
   "cell_type": "markdown",
   "metadata": {
    "collapsed": false
   },
   "source": [
    "### 5.5.1 数据处理\n",
    "\n",
    "#### 5.5.1.1 数据集介绍\n",
    "\n",
    "CIFAR-10数据集包含了10种不同的类别、共60,000张图像，其中每个类别的图像都是6000张，图像大小均为$32\\times32$像素。CIFAR-10数据集的示例如 **图5.15** 所示。\n",
    "\n",
    "<center><img src=\"https://ai-studio-static-online.cdn.bcebos.com/12cb79a15a3d40fa9b0124dfe4681ab8b60b82d067fb433eb6da600b7c2ec875\" width=\"600\" hegiht=\"\" ></center>\n",
    "<center><br>图5.15：CIFAR-10数据集示例</br></center>\n",
    "<br></br>\n",
    "\n",
    "将数据集文件进行解压："
   ]
  },
  {
   "cell_type": "code",
   "execution_count": 1,
   "metadata": {
    "collapsed": false
   },
   "outputs": [
    {
     "name": "stdout",
     "output_type": "stream",
     "text": [
      "cifar-10-batches-py/\n",
      "cifar-10-batches-py/data_batch_4\n",
      "cifar-10-batches-py/readme.html\n",
      "cifar-10-batches-py/test_batch\n",
      "cifar-10-batches-py/data_batch_3\n",
      "cifar-10-batches-py/batches.meta\n",
      "cifar-10-batches-py/data_batch_2\n",
      "cifar-10-batches-py/data_batch_5\n",
      "cifar-10-batches-py/data_batch_1\n"
     ]
    }
   ],
   "source": [
    "# 解压数据集\n",
    "# 初次运行时将注释取消，以便解压文件\n",
    "# 如果已经解压过，不需要运行此段代码，否则由于文件已经存在，解压时会报错\n",
    "!tar -xvf /home/aistudio/data/data9154/cifar-10-python.tar.gz -C /home/aistudio/datasets/"
   ]
  },
  {
   "cell_type": "markdown",
   "metadata": {
    "collapsed": false
   },
   "source": [
    "#### 5.5.1.2 数据读取\n",
    "\n",
    "在本实验中，将原始训练集拆分成了train_set、dev_set两个部分，分别包括40 000条和10 000条样本。将data_batch_1到data_batch_4作为训练集，data_batch_5作为验证集，test_batch作为测试集。\n",
    "最终的数据集构成为：\n",
    "\n",
    "* 训练集：40 000条样本。\n",
    "* 验证集：10 000条样本。\n",
    "* 测试集：10 000条样本。\n",
    "\n",
    "读取一个batch数据的代码如下所示："
   ]
  },
  {
   "cell_type": "code",
   "execution_count": 2,
   "metadata": {
    "collapsed": false
   },
   "outputs": [],
   "source": [
    "import os\n",
    "import pickle\n",
    "import numpy as np\n",
    "\n",
    "def load_cifar10_batch(folder_path, batch_id=1, mode='train'):\n",
    "    if mode == 'test':\n",
    "        file_path = os.path.join(folder_path, 'test_batch')\n",
    "    else:\n",
    "        file_path = os.path.join(folder_path, 'data_batch_'+str(batch_id))\n",
    "\n",
    "    #加载数据集文件\n",
    "    with open(file_path, 'rb') as batch_file:\n",
    "        batch = pickle.load(batch_file, encoding = 'latin1')\n",
    "\n",
    "    imgs = batch['data'].reshape((len(batch['data']),3,32,32)) / 255.\n",
    "    labels = batch['labels']\n",
    "\n",
    "    return np.array(imgs, dtype='float32'), np.array(labels)\n",
    "\n",
    "imgs_batch, labels_batch = load_cifar10_batch(folder_path='datasets/cifar-10-batches-py', \n",
    "                                                batch_id=1, mode='train')\n"
   ]
  },
  {
   "cell_type": "markdown",
   "metadata": {
    "collapsed": false
   },
   "source": [
    "查看数据的维度："
   ]
  },
  {
   "cell_type": "code",
   "execution_count": 3,
   "metadata": {
    "collapsed": false
   },
   "outputs": [
    {
     "name": "stdout",
     "output_type": "stream",
     "text": [
      "batch of imgs shape:  (10000, 3, 32, 32) batch of labels shape:  (10000,)\n"
     ]
    }
   ],
   "source": [
    "#打印一下每个batch中X和y的维度\n",
    "print (\"batch of imgs shape: \",imgs_batch.shape, \"batch of labels shape: \", labels_batch.shape)"
   ]
  },
  {
   "cell_type": "markdown",
   "metadata": {
    "collapsed": false
   },
   "source": [
    "可视化观察其中的一张样本图像和对应的标签，代码如下所示："
   ]
  },
  {
   "cell_type": "code",
   "execution_count": 4,
   "metadata": {
    "collapsed": false
   },
   "outputs": [
    {
     "name": "stdout",
     "output_type": "stream",
     "text": [
      "The label in the picture is 9\n"
     ]
    },
    {
     "data": {
      "image/png": "[encoded data removed]",
      "text/plain": [
       "<Figure size 144x144 with 1 Axes>"
      ]
     },
     "metadata": {},
     "output_type": "display_data"
    }
   ],
   "source": [
    "%matplotlib inline\n",
    "import matplotlib.pyplot as plt\n",
    "\n",
    "image, label = imgs_batch[1], labels_batch[1]\n",
    "print(\"The label in the picture is {}\".format(label))\n",
    "plt.figure(figsize=(2, 2))\n",
    "plt.imshow(image.transpose(1,2,0))\n",
    "plt.savefig('cnn-car.pdf')"
   ]
  },
  {
   "cell_type": "markdown",
   "metadata": {
    "collapsed": false
   },
   "source": [
    "#### 5.5.1.3 构造Dataset类\n",
    "\n",
    "构造一个CIFAR10Dataset类，其将继承自`paddle.io.DataSet`类，可以逐个数据进行处理。代码实现如下："
   ]
  },
  {
   "cell_type": "code",
   "execution_count": 5,
   "metadata": {
    "collapsed": false
   },
   "outputs": [],
   "source": [
    "import paddle\n",
    "import paddle.io as io\n",
    "from paddle.vision.transforms import Normalize\n",
    "\n",
    "class CIFAR10Dataset(io.Dataset):\n",
    "    def __init__(self, folder_path='/home/aistudio/cifar-10-batches-py', mode='train'):\n",
    "        if mode == 'train':\n",
    "            #加载batch1-batch4作为训练集\n",
    "            self.imgs, self.labels = load_cifar10_batch(folder_path=folder_path, batch_id=1, mode='train')\n",
    "            for i in range(2, 5):\n",
    "                imgs_batch, labels_batch = load_cifar10_batch(folder_path=folder_path, batch_id=i, mode='train')\n",
    "                self.imgs, self.labels = np.concatenate([self.imgs, imgs_batch]), np.concatenate([self.labels, labels_batch])\n",
    "        elif mode == 'dev':\n",
    "            #加载batch5作为验证集\n",
    "            self.imgs, self.labels = load_cifar10_batch(folder_path=folder_path, batch_id=5, mode='dev')\n",
    "        elif mode == 'test':\n",
    "            #加载测试集\n",
    "            self.imgs, self.labels = load_cifar10_batch(folder_path=folder_path, mode='test')\n",
    "        self.transform = Normalize(mean=[0.4914, 0.4822, 0.4465], std=[0.2023, 0.1994, 0.2010], data_format='CHW')\n",
    "\n",
    "    def __getitem__(self, idx):\n",
    "        img, label = self.imgs[idx], self.labels[idx]\n",
    "        img = self.transform(img)\n",
    "        return img, label\n",
    "\n",
    "    def __len__(self):\n",
    "        return len(self.imgs)\n",
    "\n",
    "paddle.seed(100)\n",
    "train_dataset = CIFAR10Dataset(folder_path='/home/aistudio/datasets/cifar-10-batches-py', mode='train')\n",
    "dev_dataset = CIFAR10Dataset(folder_path='/home/aistudio/datasets/cifar-10-batches-py', mode='dev')\n",
    "test_dataset = CIFAR10Dataset(folder_path='/home/aistudio/datasets/cifar-10-batches-py', mode='test')"
   ]
  },
  {
   "cell_type": "markdown",
   "metadata": {
    "collapsed": false
   },
   "source": [
    "### 5.5.2 模型构建\n",
    "\n",
    "使用飞桨高层API中的Resnet18进行图像分类实验。"
   ]
  },
  {
   "cell_type": "code",
   "execution_count": 6,
   "metadata": {
    "collapsed": false
   },
   "outputs": [
    {
     "name": "stderr",
     "output_type": "stream",
     "text": [
      "W0503 13:12:10.322129   156 device_context.cc:447] Please NOTE: device: 0, GPU Compute Capability: 7.0, Driver API Version: 10.1, Runtime API Version: 10.1\n",
      "W0503 13:12:10.327652   156 device_context.cc:465] device: 0, cuDNN Version: 7.6.\n"
     ]
    }
   ],
   "source": [
    "from paddle.vision.models import resnet18\n",
    "\n",
    "resnet18_model = resnet18()"
   ]
  },
  {
   "cell_type": "markdown",
   "metadata": {
    "collapsed": false
   },
   "source": [
    "******\n",
    "\n",
    "飞桨高层 API是对飞桨API的进一步封装与升级，提供了更加简洁易用的API，进一步提升了飞桨的易学易用性。其中，飞桨高层API封装了以下模块：\n",
    "1. Model类，支持仅用几行代码完成模型的训练；\n",
    "1. 图像预处理模块，包含数十种数据处理函数，基本涵盖了常用的数据处理、数据增强方法；\n",
    "1. 计算机视觉领域和自然语言处理领域的常用模型，包括但不限于mobilenet、resnet、yolov3、cyclegan、bert、transformer、seq2seq等等，同时发布了对应模型的预训练模型，可以直接使用这些模型或者在此基础上完成二次开发。\n",
    "  \n",
    "飞桨高层 API主要包含在`paddle.vision`和`paddle.text`目录中。\n",
    "\n",
    "******"
   ]
  },
  {
   "cell_type": "markdown",
   "metadata": {
    "collapsed": false
   },
   "source": [
    "### 5.5.3 模型训练\n",
    "\n",
    "复用RunnerV3类，实例化RunnerV3类，并传入训练配置。\n",
    "使用训练集和验证集进行模型训练，共训练30个epoch。\n",
    "在实验中，保存准确率最高的模型作为最佳模型。代码实现如下："
   ]
  },
  {
   "cell_type": "code",
   "execution_count": 7,
   "metadata": {
    "collapsed": false
   },
   "outputs": [
    {
     "name": "stderr",
     "output_type": "stream",
     "text": [
      "/opt/conda/envs/python35-paddle120-env/lib/python3.7/site-packages/paddle/nn/layer/norm.py:653: UserWarning: When training, we now always track global mean and variance.\n",
      "  \"When training, we now always track global mean and variance.\")\n"
     ]
    },
    {
     "name": "stdout",
     "output_type": "stream",
     "text": [
      "[Train] epoch: 0/30, step: 0/18750, loss: 7.28671\n",
      "[Evaluate]  dev_score: 0.05540, dev_loss: 12.52092\n",
      "best accuracy performence has been updated: 0.00000 --> 0.05540\n",
      "[Train] epoch: 4/30, step: 3000/18750, loss: 0.77707\n",
      "[Evaluate]  dev_score: 0.65140, dev_loss: 1.01241\n",
      "best accuracy performence has been updated: 0.05540 --> 0.65140\n",
      "[Train] epoch: 9/30, step: 6000/18750, loss: 0.56135\n",
      "[Evaluate]  dev_score: 0.72050, dev_loss: 0.83436\n",
      "best accuracy performence has been updated: 0.65140 --> 0.72050\n",
      "[Train] epoch: 14/30, step: 9000/18750, loss: 0.54198\n",
      "[Evaluate]  dev_score: 0.70990, dev_loss: 0.88424\n",
      "[Train] epoch: 19/30, step: 12000/18750, loss: 0.75522\n",
      "[Evaluate]  dev_score: 0.71290, dev_loss: 0.89758\n",
      "[Train] epoch: 24/30, step: 15000/18750, loss: 0.61934\n",
      "[Evaluate]  dev_score: 0.72110, dev_loss: 0.83567\n",
      "best accuracy performence has been updated: 0.72050 --> 0.72110\n",
      "[Train] epoch: 28/30, step: 18000/18750, loss: 0.69278\n",
      "[Evaluate]  dev_score: 0.72720, dev_loss: 0.82229\n",
      "best accuracy performence has been updated: 0.72110 --> 0.72720\n",
      "[Train] Training done!\n"
     ]
    }
   ],
   "source": [
    "import paddle.nn.functional as F\n",
    "import paddle.optimizer as opt\n",
    "from nndl import RunnerV3, Accuracy\n",
    "\n",
    "#指定运行设备\n",
    "use_gpu = True if paddle.get_device().startswith(\"gpu\") else False\n",
    "if use_gpu:\n",
    "    paddle.set_device('gpu:0')\n",
    "#学习率大小\n",
    "lr = 0.001  \n",
    "#批次大小\n",
    "batch_size = 64 \n",
    "#加载数据\n",
    "train_loader = io.DataLoader(train_dataset, batch_size=batch_size, shuffle=True)\n",
    "dev_loader = io.DataLoader(dev_dataset, batch_size=batch_size)\n",
    "test_loader = io.DataLoader(test_dataset, batch_size=batch_size) \n",
    "#定义网络\n",
    "model = resnet18_model\n",
    "#定义优化器，这里使用Adam优化器以及l2正则化策略，相关内容在7.3.3.2和7.6.2中会进行详细介绍\n",
    "optimizer = opt.Adam(learning_rate=lr, parameters=model.parameters(), weight_decay=0.005)\n",
    "#定义损失函数\n",
    "loss_fn = F.cross_entropy\n",
    "#定义评价指标\n",
    "metric = Accuracy(is_logist=True)\n",
    "#实例化RunnerV3\n",
    "runner = RunnerV3(model, optimizer, loss_fn, metric)\n",
    "#启动训练\n",
    "log_steps = 3000\n",
    "eval_steps = 3000\n",
    "runner.train(train_loader, dev_loader, num_epochs=30, log_steps=log_steps, \n",
    "                eval_steps=eval_steps, save_path=\"best_model.pdparams\")\n",
    "\n",
    "                "
   ]
  },
  {
   "cell_type": "markdown",
   "metadata": {
    "collapsed": false
   },
   "source": [
    "可视化观察训练集与验证集的准确率及损失变化情况。"
   ]
  },
  {
   "cell_type": "code",
   "execution_count": 8,
   "metadata": {
    "collapsed": false
   },
   "outputs": [
    {
     "data": {
      "image/png": "[encoded data removed]",
      "text/plain": [
       "<Figure size 720x360 with 2 Axes>"
      ]
     },
     "metadata": {},
     "output_type": "display_data"
    }
   ],
   "source": [
    "from nndl import plot\n",
    "\n",
    "plot(runner, fig_name='cnn-loss4.pdf')"
   ]
  },
  {
   "cell_type": "markdown",
   "metadata": {
    "collapsed": false
   },
   "source": [
    "*******\n",
    "\n",
    "在本实验中，使用了第7章中介绍的Adam优化器进行网络优化，如果使用SGD优化器，会造成过拟合的现象，在验证集上无法得到很好的收敛效果。可以尝试使用第7章中其他优化策略调整训练配置，达到更高的模型精度。\n",
    "\n",
    "*******"
   ]
  },
  {
   "cell_type": "markdown",
   "metadata": {
    "collapsed": false
   },
   "source": [
    "### 5.5.4 模型评价\n",
    "\n",
    "使用测试数据对在训练过程中保存的最佳模型进行评价，观察模型在测试集上的准确率以及损失情况。代码实现如下："
   ]
  },
  {
   "cell_type": "code",
   "execution_count": 9,
   "metadata": {
    "collapsed": false
   },
   "outputs": [
    {
     "name": "stdout",
     "output_type": "stream",
     "text": [
      "[Test] accuracy/loss: 0.7234/0.8324\n"
     ]
    }
   ],
   "source": [
    "# 加载最优模型\n",
    "runner.load_model('best_model.pdparams')\n",
    "# 模型评价\n",
    "score, loss = runner.evaluate(test_loader)\n",
    "print(\"[Test] accuracy/loss: {:.4f}/{:.4f}\".format(score, loss))"
   ]
  },
  {
   "cell_type": "markdown",
   "metadata": {
    "collapsed": false
   },
   "source": [
    "### 5.5.5 模型预测\n",
    "\n",
    "同样地，也可以使用保存好的模型，对测试集中的数据进行模型预测，观察模型效果，具体代码实现如下："
   ]
  },
  {
   "cell_type": "code",
   "execution_count": 12,
   "metadata": {
    "collapsed": false
   },
   "outputs": [
    {
     "name": "stdout",
     "output_type": "stream",
     "text": [
      "The true category is 8 and the predicted category is 8\n"
     ]
    },
    {
     "data": {
      "image/png": "[encoded data removed]",
      "text/plain": [
       "<Figure size 144x144 with 1 Axes>"
      ]
     },
     "metadata": {},
     "output_type": "display_data"
    }
   ],
   "source": [
    "#获取测试集中的一个batch的数据\n",
    "X, label = next(test_loader())\n",
    "logits = runner.predict(X)\n",
    "#多分类，使用softmax计算预测概率\n",
    "pred = F.softmax(logits)\n",
    "#获取概率最大的类别\n",
    "pred_class = paddle.argmax(pred[2]).numpy()\n",
    "label = label[2][0].numpy()\n",
    "#输出真实类别与预测类别\n",
    "print(\"The true category is {} and the predicted category is {}\".format(label[0], pred_class[0]))\n",
    "#可视化图片\n",
    "plt.figure(figsize=(2, 2))\n",
    "imgs, labels = load_cifar10_batch(folder_path='/home/aistudio/datasets/cifar-10-batches-py', mode='test')\n",
    "plt.imshow(imgs[2].transpose(1,2,0))\n",
    "plt.savefig('cnn-test-vis.pdf')"
   ]
  },
  {
   "cell_type": "markdown",
   "metadata": {
    "collapsed": false
   },
   "source": [
    "## 5.6 实验拓展\n",
    "\n",
    "* 尝试加深残差网络的层数或使用《神经网络与深度学习》中介绍的其他模型完成基于CIFAR10的图像分类实验，观察是否能够得到更高的精度；\n",
    "* 尝试使用CIFAR-100进行实验，观察不同模型在不同数据集上的学习效果；"
   ]
  }
 ],
 "metadata": {
  "kernelspec": {
   "display_name": "Python 3",
   "language": "python",
   "name": "py35-paddle1.2.0"
  },
  "language_info": {
   "codemirror_mode": {
    "name": "ipython",
    "version": 3
   },
   "file_extension": ".py",
   "mimetype": "text/x-python",
   "name": "python",
   "nbconvert_exporter": "python",
   "pygments_lexer": "ipython3",
   "version": "3.7.4"
  }
 },
 "nbformat": 4,
 "nbformat_minor": 1
}
