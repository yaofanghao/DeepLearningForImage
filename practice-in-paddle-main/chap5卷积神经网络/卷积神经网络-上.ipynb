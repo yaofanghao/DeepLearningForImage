{
 "cells": [
  {
   "cell_type": "markdown",
   "metadata": {
    "collapsed": false
   },
   "source": [
    "# 第5章 卷积神经网络\n",
    "\n",
    "卷积神经网络（Convolutional Neural Network，CNN）是受生物学上感受野机制的启发而提出的。目前的卷积神经网络一般是由卷积层、汇聚层和全连接层交叉堆叠而成的前馈神经网络，有三个结构上的特性：局部连接、权重共享以及汇聚。这些特性使得卷积神经网络具有一定程度上的平移、缩放和旋转不变性。和前馈神经网络相比，卷积神经网络的参数更少。卷积神经网络主要应用在图像和视频分析的任务上，其准确率一般也远远超出了其他的神经网络模型。近年来卷积神经网络也广泛地应用到自然语言处理、推荐系统等领域。\n",
    "\n",
    "在学习本章内容前，建议您先阅读《神经网络与深度学习》第5章：卷积神经网络的相关内容，关键知识点如 **图5.1** 所示，以便更好的理解和掌握书中的理论知识在实践中的应用方法。\n",
    "\n",
    "<center><img src=\"https://ai-studio-static-online.cdn.bcebos.com/4e6c4b60ff9b4de98db14a30c6ef153c8035f39ab8f7421189a4b96bc811ed7e\" width=500></center>\n",
    "<br><center>图5.1：《神经网络与深度学习》关键知识点回顾</center></br>\n",
    "\n",
    "本实践基于 **《神经网络与深度学习》第5章：卷积神经网络** 相关内容进行设计，主要包含两部分：\n",
    "\n",
    "* **模型解读**：介绍卷积的原理、卷积神经网络的网络结构、残差连接的原理以及残差网络的网络结构，并使用简单卷积神经网络和残差网络，完成手写数字识别任务；\n",
    "* **案例与实践**：基于残差网络ResNet18完成CIFAR-10图像分类任务。"
   ]
  },
  {
   "cell_type": "markdown",
   "metadata": {
    "collapsed": false
   },
   "source": [
    "## 5.1 卷积\n",
    "\n",
    "考虑到使用全连接前馈网络来处理图像时，会出现如下问题：\n",
    "\n",
    "1. **模型参数过多，容易发生过拟合。** 在全连接前馈网络中，隐藏层的每个神经元都要跟该层所有输入的神经元相连接。随着隐藏层神经元数量的增多，参数的规模也会急剧增加，导致整个神经网络的训练效率非常低，也很容易发生过拟合。\n",
    "\n",
    "2. **难以提取图像中的局部不变性特征。** 自然图像中的物体都具有局部不变性特征，比如尺度缩放、平移、旋转等操作不影响其语义信息。而全连接前馈网络很难提取这些局部不变性特征。\n",
    "\n",
    "卷积神经网络有三个结构上的特性：局部连接、权重共享和汇聚。这些特性使得卷积神经网络具有一定程度上的平移、缩放和旋转不变性。和前馈神经网络相比，卷积神经网络的参数也更少。因此，通常会使用卷积神经网络来处理图像信息。\n",
    "\n",
    "**卷积**是分析数学中的一种重要运算，常用于信号处理或图像处理任务。本节以二维卷积为例来进行实践。\n",
    "\n",
    "### 5.1.1 二维卷积运算\n",
    "\n",
    "在机器学习和图像处理领域，卷积的主要功能是在一个图像（或特征图）上滑动一个卷积核，通过卷积操作得到一组新的特征。在计算卷积的过程中，需要进行卷积核的翻转，而这也会带来一些不必要的操作和开销。因此，在具体实现上，一般会以数学中的**互相关**（Cross-Correlatio）运算来代替卷积。\n",
    "在神经网络中，卷积运算的主要作用是抽取特征，卷积核是否进行翻转并不会影响其特征抽取的能力。特别是当卷积核是可学习的参数时，卷积和互相关在能力上是等价的。因此，很多时候，为方便起见，会直接用互相关来代替卷积。\n",
    "\n",
    "------\n",
    "**说明：**\n",
    "\n",
    "在本案例之后的描述中，除非特别声明，卷积一般指“互相关”。\n",
    "\n",
    "------\n",
    "\n",
    "对于一个输入矩阵$\\mathbf X\\in\\Bbb{R}^{M\\times N}$和一个滤波器$\\mathbf W \\in\\Bbb{R}^{U\\times V}$，它们的卷积为\n",
    "\n",
    "$$y_{i,j}=\\sum_{u=0}^{U-1} \\sum_{v=0}^{V-1} w_{uv}x_{i+u,j+v}。（5.1）$$\n",
    "\n",
    "------\n",
    "**说明：**\n",
    "\n",
    "这里和《神经网络与深度学习》中的定义区别是矩阵的下标从0开始。\n",
    "\n",
    "------\n",
    "\n",
    "**图5.2** 给出了卷积计算的示例。\n",
    "\n",
    "<center><img src=\"https://ai-studio-static-online.cdn.bcebos.com/1b057e53beac41e8b721c34ba04df3e8e1420668e90c4793944e9da0eb18a962\" width = \"700\"></center>\n",
    "<center><br>图5.2：卷积操作的计算过程</br></center>\n",
    "\n",
    "经过卷积运算后，最终输出矩阵大小则为\n",
    "\n",
    "$$M' = M - U + 1,（5.2）$$\n",
    "$$N' = N - V + 1.（5.3）$$\n",
    "\n",
    "可以发现，使用卷积处理图像，会有以下两个特性：\n",
    "1. 在卷积层(假设是第$l$层)中的每一个神经元都只和前一层(第$l-1$层)中某个局部窗口内的神经元相连，构成一个局部连接网络，这也就是卷积神经网络的**局部连接**特性。\n",
    "2. 由于卷积的主要功能是在一个图像（或特征图）上滑动一个卷积核，所以作为参数的卷积核$\\mathbf W \\in\\Bbb{R}^{U\\times V}$对于第$l$层的所有的神经元都是相同的，这也就是卷积神经网络的**权重共享**特性。\n",
    "\n",
    "### 5.1.2 二维卷积算子\n",
    "\n",
    "********\n",
    "\n",
    "在本书后面的实现中，算子都继承`paddle.nn.Layer`，并使用支持反向传播的飞桨API进行实现，这样我们就可以不用手工写`backword()`的代码实现。\n",
    "\n",
    "********\n",
    "\n",
    "根据公式（5.1），我们首先实现一个简单的二维卷积算子，代码实现如下："
   ]
  },
  {
   "cell_type": "code",
   "execution_count": null,
   "metadata": {
    "collapsed": false
   },
   "outputs": [
    {
     "name": "stderr",
     "output_type": "stream",
     "text": [
      "/opt/conda/envs/python35-paddle120-env/lib/python3.7/site-packages/paddle/tensor/creation.py:130: DeprecationWarning: `np.object` is a deprecated alias for the builtin `object`. To silence this warning, use `object` by itself. Doing this will not modify any behavior and is safe. \n",
      "Deprecated in NumPy 1.20; for more details and guidance: https://numpy.org/devdocs/release/1.20.0-notes.html#deprecations\n",
      "  if data.dtype == np.object:\n",
      "W0715 10:38:18.376557   150 device_context.cc:447] Please NOTE: device: 0, GPU Compute Capability: 7.0, Driver API Version: 11.2, Runtime API Version: 10.1\n",
      "W0715 10:38:18.381553   150 device_context.cc:465] device: 0, cuDNN Version: 7.6.\n"
     ]
    },
    {
     "name": "stdout",
     "output_type": "stream",
     "text": [
      "input: Tensor(shape=[1, 3, 3], dtype=float32, place=CUDAPlace(0), stop_gradient=True,\n",
      "       [[[1., 2., 3.],\n",
      "         [4., 5., 6.],\n",
      "         [7., 8., 9.]]]), \n",
      "output: Tensor(shape=[1, 2, 2], dtype=float32, place=CUDAPlace(0), stop_gradient=False,\n",
      "       [[[25., 31.],\n",
      "         [43., 49.]]])\n"
     ]
    }
   ],
   "source": [
    "import paddle\n",
    "import paddle.nn as nn\n",
    "\n",
    "class Conv2D(nn.Layer):\n",
    "    def __init__(self, kernel_size, \n",
    "                    weight_attr=paddle.ParamAttr(initializer=nn.initializer.Assign(value=[[0., 1.],[2., 3.]]))):\n",
    "        super(Conv2D, self).__init__()\n",
    "        # 使用'paddle.create_parameter'创建卷积核\n",
    "        # 使用'paddle.ParamAttr'进行参数初始化\n",
    "        self.weight = paddle.create_parameter(shape=[kernel_size,kernel_size],\n",
    "                                                dtype='float32',\n",
    "                                                attr=weight_attr)\n",
    "    def forward(self, X):\n",
    "        \"\"\"\n",
    "        输入：\n",
    "            - X：输入矩阵，shape=[B, M, N]，B为样本数量\n",
    "        输出：\n",
    "            - output：输出矩阵\n",
    "        \"\"\"\n",
    "        u, v = self.weight.shape\n",
    "        output = paddle.zeros([X.shape[0], X.shape[1] - u + 1, X.shape[2] - v + 1])\n",
    "        for i in range(output.shape[1]):\n",
    "            for j in range(output.shape[2]):\n",
    "                output[:, i, j] = paddle.sum(X[:, i:i+u, j:j+v]*self.weight, axis=[1,2])\n",
    "        return output\n",
    "\n",
    "# 随机构造一个二维输入矩阵\n",
    "paddle.seed(100)\n",
    "inputs = paddle.to_tensor([[[1.,2.,3.],[4.,5.,6.],[7.,8.,9.]]])\n",
    "\n",
    "conv2d = Conv2D(kernel_size=2)\n",
    "outputs = conv2d(inputs)\n",
    "print(\"input: {}, \\noutput: {}\".format(inputs, outputs))\n"
   ]
  },
  {
   "cell_type": "markdown",
   "metadata": {
    "collapsed": false
   },
   "source": [
    "### 5.1.3 二维卷积的参数量和计算量\n",
    "\n",
    "**参数量**\n",
    "\n",
    "由于二维卷积的运算方式为在一个图像（或特征图）上滑动一个卷积核，通过卷积操作得到一组新的特征。所以参数量仅仅与卷积核的尺寸有关，对于一个输入矩阵$\\mathbf X\\in\\Bbb{R}^{M\\times N}$和一个滤波器$\\mathbf W \\in\\Bbb{R}^{U\\times V}$，卷积核的参数量为$U\\times V$。\n",
    "\n",
    "假设有一幅大小为$32\\times 32$的图像，如果使用全连接前馈网络进行处理，即便第一个隐藏层神经元个数为1，此时该层的参数量也高达$1025$个，此时该层的计算过程如 **图5.3** 所示。\n",
    "\n",
    "<center><img src=\"https://ai-studio-static-online.cdn.bcebos.com/18faf1c2dfbb48659d2ccb72cd16e917f0af57b4640142ed8f98f9ceaa8b5ae8\" width = \"800\"></center>\n",
    "<center><br>图5.3：使用全连接前馈网络处理图像数据的计算过程 </br></center>\n",
    "<br></br>\n",
    "\n",
    "可以想像，随着隐藏层神经元数量的变多以及层数的加深，使用全连接前馈网络处理图像数据时，参数量会急剧增加。\n",
    "\n",
    "如果使用卷积进行图像处理，当卷积核为$3\\times 3$时，参数量仅为$9$，相较于全连接前馈网络，参数量少了非常多。\n",
    "\n",
    "**计算量**\n",
    "\n",
    "在卷积神经网络中运算时，通常会统计网络总的乘加运算次数作为计算量（FLOPs，floating point of operations），来衡量整个网络的运算速度。对于单个二维卷积，计算量的统计方式为：\n",
    "\n",
    "$$FLOPs=M'\\times N'\\times U\\times V。（5.4）$$\n",
    "\n",
    "其中$M'\\times N'$表示输出特征图的尺寸，即输出特征图上每个点都要与卷积核$\\mathbf W \\in\\Bbb{R}^{U\\times V}$进行$U\\times V$次乘加运算。对于一幅大小为$32\\times 32$的图像，使用$3\\times 3$的卷积核进行运算可以得到以下的输出特征图尺寸：\n",
    "\n",
    "$$M' = M - U + 1 = 30$$\n",
    "$$N' = N - V + 1 = 30$$\n",
    "\n",
    "此时，计算量为：\n",
    "\n",
    "$$FLOPs=M'\\times N'\\times U\\times V=30\\times 30\\times 3\\times 3=8100$$"
   ]
  },
  {
   "cell_type": "markdown",
   "metadata": {
    "collapsed": false
   },
   "source": [
    "### 5.1.4 感受野\n",
    "\n",
    "输出特征图上每个点的数值，是由输入图片上大小为$U\\times V$的区域的元素与卷积核每个元素相乘再相加得到的，所以输入图像上$U\\times V$区域内每个元素数值的改变，都会影响输出点的像素值。我们将这个区域叫做输出特征图上对应点的感受野。感受野内每个元素数值的变动，都会影响输出点的数值变化。比如$3\\times3$卷积对应的感受野大小就是$3\\times3$，如 **图5.4** 所示。\n",
    "\n",
    "<br></br>\n",
    "<center><img src=\"https://ai-studio-static-online.cdn.bcebos.com/1021536721524f4d8f4c1aefa89693c4b0fd388f21a347b583d413b3ac41241b\" width = \"800\"></center>\n",
    "<center><br>图5.4：感受野为3×3的卷积 </br></center>\n",
    "<br></br>\n",
    "\n",
    "而当通过两层$3\\times3$的卷积之后，感受野的大小将会增加到$5\\times5$，如 **图5.5** 所示。\n",
    "\n",
    "<br></br>\n",
    "<center><img src=\"https://ai-studio-static-online.cdn.bcebos.com/ac14916db81e40a48a25ab894d7a95e33fa0eece71d44a55af7bffab462fb7a7\" width = \"800\"></center>\n",
    "<center><br>图5.5：感受野为5×5的卷积 </br></center>\n",
    "<br></br>\n",
    "\n",
    "因此，当增加卷积网络深度的同时，感受野将会增大，输出特征图中的一个像素点将会包含更多的图像语义信息。"
   ]
  },
  {
   "cell_type": "markdown",
   "metadata": {
    "collapsed": false
   },
   "source": [
    "### 5.1.5 卷积的变种\n",
    "\n",
    "在卷积的标准定义基础上，还可以引入卷积核的滑动步长和零填充来增加卷积的多样性，从而更灵活地进行特征抽取。\n",
    "\n",
    "#### 5.1.5.1 步长（Stride）\n",
    "\n",
    "在卷积运算的过程中，有时会希望跳过一些位置来降低计算的开销，也可以把这一过程看作是对标准卷积运算输出的**下采样**。\n",
    "\n",
    "在计算卷积时，可以在所有维度上每间隔$S$个元素计算一次，$S$称为卷积运算的**步长**（Stride），也就是卷积核在滑动时的间隔。\n",
    "\n",
    "此时，对于一个输入矩阵$\\mathbf X\\in\\Bbb{R}^{M\\times N}$和一个滤波器$\\mathbf W \\in\\Bbb{R}^{U\\times V}$，它们的卷积为\n",
    "\n",
    "$$y_{i,j}=\\sum_{u=0}^{U-1} \\sum_{v=0}^{V-1} w_{uv}x_{i\\times S+u,j\\times S+v}，（5.5）$$\n",
    "\n",
    "在二维卷积运算中，当步长$S=2$时，计算过程如 **图5.6** 所示。\n",
    "\n",
    "<center><img src=\"https://ai-studio-static-online.cdn.bcebos.com/67bdbc3a81e945f4a6e469a40db5d41ac7f5e47c801f4ec9b9f4950d3d908160\" width = \"800\"></center>\n",
    "<center><br>图5.6：步长为2的二维卷积计算过程 </br></center>\n",
    "<br></br>"
   ]
  },
  {
   "cell_type": "markdown",
   "metadata": {
    "collapsed": false
   },
   "source": [
    "#### 5.1.5.2 零填充（Zero Padding）\n",
    "\n",
    "在卷积运算中，还可以对输入用零进行填充使得其尺寸变大。根据卷积的定义，如果不进行填充，当卷积核尺寸大于1时，输出特征会缩减。对输入进行零填充则可以对卷积核的宽度和输出的大小进行独立的控制。\n",
    "\n",
    "在二维卷积运算中，**零填充**（Zero Padding）是指在输入矩阵周围对称地补上$P$个$0$。**图5.7** 为使用零填充的示例。\n",
    "\n",
    "<center><img src=\"https://ai-studio-static-online.cdn.bcebos.com/deae0e6e83ba48968b153a2cc549c5bc8fc86d78c224441fb2e5700f3fea76ac\" width = \"200\"></center>\n",
    "<center><br>图5.7：padding=1的零填充 </br></center>\n",
    "<br></br>\n",
    "\n",
    "对于一个输入矩阵$\\mathbf X\\in\\Bbb{R}^{M\\times N}$和一个滤波器$\\mathbf W \\in\\Bbb{R}^{U\\times V}$，，步长为$S$，对输入矩阵进行零填充，那么最终输出矩阵大小则为\n",
    "\n",
    "$$M' = \\frac{M + 2P - U}{S} + 1,（5.6）$$\n",
    "$$N' = \\frac{N + 2P - V}{S} + 1.（5.7）$$\n",
    "\n",
    "引入步长和零填充后的卷积，参数量和计算量的统计方式与之前一致，参数量与卷积核的尺寸有关，为：$U\\times V$，计算量与输出特征图和卷积核的尺寸有关，为：\n",
    "\n",
    "$$FLOPs=M'\\times N'\\times U\\times V=(\\frac{M + 2P - U}{S} + 1)\\times (\\frac{N + 2P - V}{S} + 1)\\times U\\times V。（5.8）$$\n",
    "\n",
    "一般常用的卷积有以下三类：\n",
    "\n",
    "1. **窄卷积**：步长$S=1$，两端不补零$P=0$，卷积后输出尺寸为：\n",
    "\n",
    "$$M' = M - U + 1,（5.9）$$\n",
    "$$N' = N - V + 1.（5.10）$$\n",
    "\n",
    "2. **宽卷积**：步长$S=1$，两端补零$P=U-1=V-1$，卷积后输出尺寸为：\n",
    "\n",
    "$$M' = M + U - 1,（5.11）$$\n",
    "$$N' = N + V - 1.（5.12）$$\n",
    "\n",
    "3. **等宽卷积**：步长$S=1$，两端补零$P=\\frac{(U-1)}{2}=\\frac{(V-1)}{2}$，卷积后输出尺寸为：\n",
    "\n",
    "$$M' = M,（5.13）$$\n",
    "$$N' = N.（5.14）$$\n",
    "\n",
    "通常情况下，在层数较深的卷积神经网络，比如：VGG、ResNet中，会使用等宽卷积保证输出特征图的大小不会随着层数的变深而快速缩减。例如：当卷积核的大小为$3\\times 3$时，会将步长设置为$S=1$，两端补零$P=1$，此时，卷积后的输出尺寸就可以保持不变。在本章后续的案例中，会使用ResNet进行实验。"
   ]
  },
  {
   "cell_type": "markdown",
   "metadata": {
    "collapsed": false
   },
   "source": [
    "### 5.1.6 带步长和零填充的二维卷积算子\n",
    "\n",
    "引入步长和零填充后，二维卷积算子代码实现如下："
   ]
  },
  {
   "cell_type": "code",
   "execution_count": null,
   "metadata": {
    "collapsed": false
   },
   "outputs": [
    {
     "name": "stdout",
     "output_type": "stream",
     "text": [
      "When kernel_size=3, padding=1 stride=1, input's shape: [2, 8, 8], output's shape: [2, 8, 8]\n",
      "When kernel_size=3, padding=1 stride=2, input's shape: [2, 8, 8], output's shape: [2, 4, 4]\n"
     ]
    }
   ],
   "source": [
    "class Conv2D(nn.Layer):\n",
    "    def __init__(self, kernel_size, stride=1, padding=0, \n",
    "                    weight_attr=paddle.ParamAttr(initializer=nn.initializer.Constant(value=1.0))):\n",
    "        super(Conv2D, self).__init__()\n",
    "        self.weight = paddle.create_parameter(shape=[kernel_size,kernel_size], \n",
    "                                                dtype='float32', \n",
    "                                                attr=weight_attr)\n",
    "        # 步长\n",
    "        self.stride = stride\n",
    "        # 零填充\n",
    "        self.padding = padding\n",
    "\n",
    "    def forward(self, X):\n",
    "        # 零填充\n",
    "        new_X = paddle.zeros([X.shape[0], X.shape[1]+2*self.padding, X.shape[2]+2*self.padding])\n",
    "        new_X[:, self.padding:X.shape[1]+self.padding, self.padding:X.shape[2]+self.padding] = X\n",
    "        u, v = self.weight.shape\n",
    "        output_w = (new_X.shape[1] - u) // self.stride + 1\n",
    "        output_h = (new_X.shape[2] - v) // self.stride + 1\n",
    "        output = paddle.zeros([X.shape[0], output_w, output_h])\n",
    "        for i in range(0, output.shape[1]):\n",
    "            for j in range(0, output.shape[2]):\n",
    "                output[:, i, j] = paddle.sum(\n",
    "                    new_X[:, self.stride*i:self.stride*i+u, self.stride*j:self.stride*j+v]*self.weight,\n",
    "                    axis=[1,2])\n",
    "        return output\n",
    "\n",
    "inputs = paddle.randn(shape=[2, 8, 8])\n",
    "conv2d_padding = Conv2D(kernel_size=3, padding=1)\n",
    "outputs = conv2d_padding(inputs)\n",
    "print(\"When kernel_size=3, padding=1 stride=1, input's shape: {}, output's shape: {}\".format(inputs.shape, outputs.shape))\n",
    "conv2d_stride = Conv2D(kernel_size=3, stride=2, padding=1)\n",
    "outputs = conv2d_stride(inputs)\n",
    "print(\"When kernel_size=3, padding=1 stride=2, input's shape: {}, output's shape: {}\".format(inputs.shape, outputs.shape))"
   ]
  },
  {
   "cell_type": "markdown",
   "metadata": {
    "collapsed": false
   },
   "source": [
    "从输出结果看出，使用$3\\times3$大小卷积，`padding`为1，当`stride`=1时，模型的输出特征图可以与输入特征图保持一致；当`stride`=2时，输出特征图的宽和高都缩小一倍。"
   ]
  },
  {
   "cell_type": "markdown",
   "metadata": {
    "collapsed": false
   },
   "source": [
    "### 5.1.7 使用卷积运算完成图像边缘检测任务\n",
    "\n",
    "在图像处理任务中，常用**拉普拉斯算子**对物体边缘进行提取，拉普拉斯算子为一个大小为$3 \\times 3$的卷积核，中心元素值是$8$，其余元素值是$-1$。\n",
    "\n",
    "*******\n",
    "\n",
    "考虑到边缘其实就是图像上像素值变化很大的点的集合，因此可以通过计算二阶微分得到，当二阶微分为0时，像素值的变化最大。此时，对$x$方向和$y$方向分别求取二阶导数：\n",
    "\n",
    "$$\\frac{\\delta^2 I}{\\delta x^2} = I(i, j+1) - 2I(i,j) + I(i,j-1),（5.15）$$\n",
    "$$\\frac{\\delta^2 I}{\\delta y^2} = I(i+1, j) - 2I(i,j) + I(i-1,j).（5.16）$$\n",
    "\n",
    "完整的二阶微分公式为：\n",
    "\n",
    "$$\\nabla^2I = \\frac{\\delta^2 I}{\\delta x^2} + \\frac{\\delta^2 I}{\\delta y^2} =  - 4I(i,j) + I(i,j-1) + I(i, j+1) + I(i+1, j) + I(i-1,j),（5.17）$$\n",
    "\n",
    "上述公式也被称为**拉普拉斯算子**，对应的二阶微分卷积核为：\n",
    "\n",
    "$$\\begin{bmatrix}\n",
    "0      & 1   &  0    \\\\\n",
    "1      & -4 &  1 \\\\\n",
    "0      &  1 &  0 \\\\\n",
    "\\end{bmatrix}$$\n",
    "\n",
    "对上述算子全部求反也可以起到相同的作用，此时，该算子可以表示为：\n",
    "\n",
    "$$\\begin{bmatrix}\n",
    "0      & -1   &  0    \\\\\n",
    "-1      & 4 &  -1 \\\\\n",
    "0      &  -1 &  0 \\\\\n",
    "\\end{bmatrix}$$\n",
    "\n",
    "也就是一个点的四邻域拉普拉斯的算子计算结果是自己像素值的四倍减去上下左右的像素的和，将这个算子旋转$45°$后与原算子相加，就变成八邻域的拉普拉斯算子，也就是一个像素自己值的八倍减去周围一圈八个像素值的和，做为拉普拉斯计算结果，此时，该算子可以表示为：\n",
    "\n",
    "$$\\begin{bmatrix}\n",
    "-1      & -1   &  -1    \\\\\n",
    "-1      & 8 &  -1 \\\\\n",
    "-1      &  -1 &  -1 \\\\\n",
    "\\end{bmatrix}$$\n",
    "\n",
    "*******\n",
    "\n",
    "下面我们利用上面定义的`Conv2D`算子，构造一个简单的拉普拉斯算子，并对一张输入的灰度图片进行边缘检测，提取出目标的外形轮廓。"
   ]
  },
  {
   "cell_type": "code",
   "execution_count": null,
   "metadata": {
    "collapsed": false
   },
   "outputs": [
    {
     "name": "stderr",
     "output_type": "stream",
     "text": [
      "/opt/conda/envs/python35-paddle120-env/lib/python3.7/site-packages/matplotlib/__init__.py:107: DeprecationWarning: Using or importing the ABCs from 'collections' instead of from 'collections.abc' is deprecated, and in 3.8 it will stop working\n",
      "  from collections import MutableMapping\n",
      "/opt/conda/envs/python35-paddle120-env/lib/python3.7/site-packages/matplotlib/rcsetup.py:20: DeprecationWarning: Using or importing the ABCs from 'collections' instead of from 'collections.abc' is deprecated, and in 3.8 it will stop working\n",
      "  from collections import Iterable, Mapping\n",
      "/opt/conda/envs/python35-paddle120-env/lib/python3.7/site-packages/matplotlib/colors.py:53: DeprecationWarning: Using or importing the ABCs from 'collections' instead of from 'collections.abc' is deprecated, and in 3.8 it will stop working\n",
      "  from collections import Sized\n"
     ]
    },
    {
     "name": "stdout",
     "output_type": "stream",
     "text": [
      "bf to_tensor, inputs: [[0. 0. 0. ... 0. 0. 0.]\n",
      " [0. 0. 0. ... 0. 0. 0.]\n",
      " [0. 0. 0. ... 0. 0. 0.]\n",
      " ...\n",
      " [0. 0. 0. ... 0. 0. 0.]\n",
      " [0. 0. 0. ... 0. 0. 0.]\n",
      " [0. 0. 0. ... 0. 0. 0.]]\n",
      "bf unsqueeze, inputs: Tensor(shape=[256, 256], dtype=float32, place=CUDAPlace(0), stop_gradient=True,\n",
      "       [[0., 0., 0., ..., 0., 0., 0.],\n",
      "        [0., 0., 0., ..., 0., 0., 0.],\n",
      "        [0., 0., 0., ..., 0., 0., 0.],\n",
      "        ...,\n",
      "        [0., 0., 0., ..., 0., 0., 0.],\n",
      "        [0., 0., 0., ..., 0., 0., 0.],\n",
      "        [0., 0., 0., ..., 0., 0., 0.]])\n",
      "af unsqueeze, inputs: Tensor(shape=[1, 256, 256], dtype=float32, place=CUDAPlace(0), stop_gradient=True,\n",
      "       [[[0., 0., 0., ..., 0., 0., 0.],\n",
      "         [0., 0., 0., ..., 0., 0., 0.],\n",
      "         [0., 0., 0., ..., 0., 0., 0.],\n",
      "         ...,\n",
      "         [0., 0., 0., ..., 0., 0., 0.],\n",
      "         [0., 0., 0., ..., 0., 0., 0.],\n",
      "         [0., 0., 0., ..., 0., 0., 0.]]])\n"
     ]
    },
    {
     "name": "stderr",
     "output_type": "stream",
     "text": [
      "/opt/conda/envs/python35-paddle120-env/lib/python3.7/site-packages/matplotlib/cbook/__init__.py:2349: DeprecationWarning: Using or importing the ABCs from 'collections' instead of from 'collections.abc' is deprecated, and in 3.8 it will stop working\n",
      "  if isinstance(obj, collections.Iterator):\n",
      "/opt/conda/envs/python35-paddle120-env/lib/python3.7/site-packages/matplotlib/cbook/__init__.py:2366: DeprecationWarning: Using or importing the ABCs from 'collections' instead of from 'collections.abc' is deprecated, and in 3.8 it will stop working\n",
      "  return list(data) if isinstance(data, collections.MappingView) else data\n",
      "/opt/conda/envs/python35-paddle120-env/lib/python3.7/site-packages/matplotlib/image.py:425: DeprecationWarning: np.asscalar(a) is deprecated since NumPy v1.16, use a.item() instead\n",
      "  a_min = np.asscalar(a_min.astype(scaled_dtype))\n",
      "/opt/conda/envs/python35-paddle120-env/lib/python3.7/site-packages/matplotlib/image.py:426: DeprecationWarning: np.asscalar(a) is deprecated since NumPy v1.16, use a.item() instead\n",
      "  a_max = np.asscalar(a_max.astype(scaled_dtype))\n"
     ]
    },
    {
     "data": {
      "image/png": "[encoded data removed]",
      "text/plain": [
       "<Figure size 576x288 with 2 Axes>"
      ]
     },
     "metadata": {},
     "output_type": "display_data"
    }
   ],
   "source": [
    "%matplotlib inline\n",
    "import matplotlib.pyplot as plt\n",
    "from PIL import Image\n",
    "import numpy as np\n",
    "\n",
    "# 读取图片\n",
    "img = Image.open('./number.jpg').resize((256,256))\n",
    "\n",
    "# 设置卷积核参数\n",
    "w = np.array([[-1,-1,-1], [-1,8,-1], [-1,-1,-1]], dtype='float32')\n",
    "# 创建卷积算子，卷积核大小为3x3，并使用上面的设置好的数值作为卷积核权重的初始化参数\n",
    "conv = Conv2D(kernel_size=3, stride=1, padding=0, \n",
    "                weight_attr=paddle.ParamAttr(initializer=nn.initializer.Assign(value=w)))\n",
    "\n",
    "# 将读入的图片转化为float32类型的numpy.ndarray\n",
    "inputs = np.array(img).astype('float32')\n",
    "print(\"bf to_tensor, inputs:\",inputs)\n",
    "# 将图片转为Tensor\n",
    "inputs = paddle.to_tensor(inputs)\n",
    "print(\"bf unsqueeze, inputs:\",inputs)\n",
    "inputs = paddle.unsqueeze(inputs, axis=0)\n",
    "print(\"af unsqueeze, inputs:\",inputs)\n",
    "outputs = conv(inputs)\n",
    "outputs = outputs.numpy()\n",
    "# 可视化结果\n",
    "plt.figure(figsize=(8, 4))\n",
    "f = plt.subplot(121)\n",
    "f.set_title('input image', fontsize=15)\n",
    "plt.imshow(img)\n",
    "f = plt.subplot(122)\n",
    "f.set_title('output feature map', fontsize=15)\n",
    "plt.imshow(outputs.squeeze(), cmap='gray')\n",
    "plt.savefig('conv-vis.pdf')\n",
    "plt.show()"
   ]
  },
  {
   "cell_type": "markdown",
   "metadata": {
    "collapsed": false
   },
   "source": [
    "从输出结果看，使用拉普拉斯算子，目标的边缘可以成功被检测出来。"
   ]
  },
  {
   "cell_type": "markdown",
   "metadata": {
    "collapsed": false
   },
   "source": [
    "## 5.2 卷积神经网络的基础算子\n",
    "\n",
    "卷积神经网络是目前计算机视觉中使用最普遍的模型结构，如**图5.8** 所示，由$M$个卷积层和$b$个汇聚层组合作用在输入图片上，在网络的最后通常会加入$K$个全连接层。\n",
    "\n",
    "<center><img src=\"https://ai-studio-static-online.cdn.bcebos.com/c08f9a5599ae4f9d8eedb0131c54af859fcfaae003224bc6b247d60391b2b102\" width = \"1000\"></center>\n",
    "<center><br>图5.8：卷积神经网络经典结构</br></center>\n",
    "\n",
    "从上图可以看出，卷积网络是由多个基础的算子组合而成。下面我们先实现卷积网络的两个基础算子：卷积层算子和汇聚层算子。\n",
    "\n",
    "###  5.2.1 卷积算子\n",
    "\n",
    "卷积层是指用卷积操作来实现神经网络中一层。为了提取不同种类的特征，通常会使用多个卷积核一起进行特征提取。\n",
    "\n",
    "####  5.2.1.1 多通道卷积\n",
    "\n",
    "在前面介绍的二维卷积运算中，卷积的输入数据是二维矩阵。但实际应用中，一幅大小为$M\\times N$的图片中的每个像素的特征表示不仅仅只有灰度值的标量，通常有多个特征，可以表示为$D$维的向量，比如RGB三个通道的特征向量。因此，图像上的卷积操作的输入数据通常是一个三维张量，分别对应了图片的高度$M$、宽度$N$和深度$D$，其中深度$D$通常也被称为**输入通道数**$D$。如果输入如果是灰度图像，则输入通道数为1；如果输入是彩色图像，分别有$R、G、B$三个通道，则输入通道数为3。\n",
    "\n",
    "此外，由于具有单个核的卷积每次只能提取一种类型的特征，即输出一张大小为$U\\times V$的**特征图**（Feature Map）。而在实际应用中，我们也希望每一个卷积层能够提取多种不同类型的特征，所以一个卷积层通常会组合多个不同的卷积核来提取特征，经过卷积运算后会输出多张特征图，不同的特征图对应不同类型的特征。输出特征图的个数通常将其称为**输出通道数**$P$。\n",
    "\n",
    "------\n",
    "**说明：**\n",
    "\n",
    "《神经网络与深度学习》将Feature Map翻译为“特征映射”，这里翻译为“特征图”。\n",
    "\n",
    "------\n",
    "\n",
    "假设一个卷积层的输入特征图$\\mathbf X\\in \\mathbb{R}^{D\\times M\\times N}$，其中$(M,N)$为特征图的尺寸，$D$代表通道数；卷积核为$\\mathbf W\\in \\mathbb{R}^{P\\times D\\times U\\times V}$，其中$(U,V)$为卷积核的尺寸，$D$代表输入通道数，$P$代表输出通道数。\n",
    "\n",
    "------\n",
    "**说明：**\n",
    "\n",
    "在实践中，根据目前深度学习框架中张量的组织和运算性质，这里特征图的大小为$D\\times M\\times N$，和《神经网络与深度学习》中$M\\times N \\times D$的定义并不一致。\n",
    "相应地，卷积核$W$的大小为$\\mathbb{R}^{P\\times D\\times U\\times V}$。\n",
    "\n",
    "------"
   ]
  },
  {
   "cell_type": "markdown",
   "metadata": {
    "collapsed": false
   },
   "source": [
    "**一张输出特征图的计算**\n",
    "\n",
    "对于$D$个输入通道，分别对每个通道的特征图$\\mathbf X^d$设计一个二维卷积核$\\mathbf W^{p,d}$，并与对应的输入特征图$\\mathbf X^d$进行卷积运算，再将得到的$D$个结果进行加和，得到一张输出特征图$\\mathbf Z^p$。计算方式如下：\n",
    "\n",
    "$$\n",
    "\\mathbf Z^p = \\sum_{d=1}^D \\mathbf W^{p,d} \\otimes \\mathbf X^d + b^p，（5.18）\n",
    "$$\n",
    "\n",
    "$$\n",
    "\\mathbf Y^p = f(\\mathbf Z^p)。（5.19）\n",
    "$$\n",
    "\n",
    "其中$p$表示输出特征图的索引编号，$\\mathbf W^{p,d} \\in \\mathbb{R}^{U\\times V}$为二维卷积核，$b^p$为标量偏置，$f(·)$为非线性激活函数，一般用ReLU函数。\n",
    "\n",
    "*******\n",
    "\n",
    "说明：\n",
    "\n",
    "在代码实现时，通常将非线性激活函数放在卷积层算子外部。\n",
    "\n",
    "*******\n",
    "\n",
    "公式（5.13）对应的可视化如**图5.9**所示。\n",
    "\n",
    "<center><img src=\"https://ai-studio-static-online.cdn.bcebos.com/d4d1434e62154505a56259d09c9b6e072f8331830c2b4ffc97b5d7bd0181b075\" width = \"600\"></center>\n",
    "<center><br>图5.9：多输入通道的卷积运算 </br></center>\n",
    "<br></br>\n",
    "\n",
    "**多张输出特征图的计算**\n",
    "\n",
    "对于大小为$D\\times M\\times N$的输入特征图，每一个输出特征图都需要一组大小为$\\mathbf W\\in \\mathbb{R}^{D\\times U\\times V}$的卷积核进行卷积运算。使用$P$组卷积核分布进行卷积运算，得到$P$个输出特征图$\\mathbf Y^1, \\mathbf Y^2,\\cdots,\\mathbf Y^P$。然后将$P$个输出特征图进行拼接，获得大小为$P\\times M' \\times N'$的多通道输出特征图。上面计算方式的可视化如下**图5.10**所示。\n",
    "\n",
    "<center><img src=\"https://ai-studio-static-online.cdn.bcebos.com/7a75788ae8d54f22882590a0923f5dd28bca6e120b1a4431abe122980d06224f\" width = \"600\"></center>\n",
    "<center><br>图5.10：多输出通道的卷积运算 </br></center>\n",
    "<br></br>\n",
    "\n",
    "#### 5.2.1.2 多通道卷积层算子\n",
    "\n",
    "根据上面的公式，多通道卷积卷积层的代码实现如下："
   ]
  },
  {
   "cell_type": "code",
   "execution_count": null,
   "metadata": {
    "collapsed": false
   },
   "outputs": [
    {
     "name": "stdout",
     "output_type": "stream",
     "text": [
      "inputs shape: [1, 2, 3, 3]\n",
      "Conv2D outputs shape: [1, 3, 2, 2]\n",
      "Conv2D outputs: Tensor(shape=[1, 3, 2, 2], dtype=float32, place=CUDAPlace(0), stop_gradient=False,\n",
      "       [[[[20., 28.],\n",
      "          [44., 52.]],\n",
      "\n",
      "         [[20., 28.],\n",
      "          [44., 52.]],\n",
      "\n",
      "         [[20., 28.],\n",
      "          [44., 52.]]]])\n",
      "nn.Conv2D outputs: Tensor(shape=[1, 3, 2, 2], dtype=float32, place=CUDAPlace(0), stop_gradient=False,\n",
      "       [[[[20., 28.],\n",
      "          [44., 52.]],\n",
      "\n",
      "         [[20., 28.],\n",
      "          [44., 52.]],\n",
      "\n",
      "         [[20., 28.],\n",
      "          [44., 52.]]]])\n"
     ]
    },
    {
     "name": "stderr",
     "output_type": "stream",
     "text": [
      "/opt/conda/envs/python35-paddle120-env/lib/python3.7/site-packages/paddle/tensor/creation.py:130: DeprecationWarning: `np.object` is a deprecated alias for the builtin `object`. To silence this warning, use `object` by itself. Doing this will not modify any behavior and is safe. \n",
      "Deprecated in NumPy 1.20; for more details and guidance: https://numpy.org/devdocs/release/1.20.0-notes.html#deprecations\n",
      "  if data.dtype == np.object:\n"
     ]
    }
   ],
   "source": [
    "class Conv2D(nn.Layer):\n",
    "    def __init__(self, in_channels, out_channels, kernel_size, stride=1, padding=0,\n",
    "                    weight_attr=paddle.ParamAttr(initializer=nn.initializer.Constant(value=1.0)),\n",
    "                    bias_attr=paddle.ParamAttr(initializer=nn.initializer.Constant(value=0.0))):\n",
    "        super(Conv2D, self).__init__()\n",
    "        # 创建卷积核\n",
    "        self.weight = paddle.create_parameter(shape=[out_channels, in_channels, kernel_size,kernel_size],\n",
    "                                                dtype='float32',\n",
    "                                                attr=weight_attr)\n",
    "        # 创建偏置\n",
    "        self.bias = paddle.create_parameter(shape=[out_channels, 1],\n",
    "                                                dtype='float32',\n",
    "                                                attr=bias_attr)\n",
    "        self.stride = stride\n",
    "        self.padding = padding\n",
    "        # 输入通道数\n",
    "        self.in_channels = in_channels\n",
    "        # 输出通道数\n",
    "        self.out_channels = out_channels\n",
    "\n",
    "    # 基础卷积运算\n",
    "    def single_forward(self, X, weight):\n",
    "        # 零填充\n",
    "        new_X = paddle.zeros([X.shape[0], X.shape[1]+2*self.padding, X.shape[2]+2*self.padding])\n",
    "        new_X[:, self.padding:X.shape[1]+self.padding, self.padding:X.shape[2]+self.padding] = X\n",
    "        u, v = weight.shape\n",
    "        output_w = (new_X.shape[1] - u) // self.stride + 1\n",
    "        output_h = (new_X.shape[2] - v) // self.stride + 1\n",
    "        output = paddle.zeros([X.shape[0], output_w, output_h])\n",
    "        for i in range(0, output.shape[1]):\n",
    "            for j in range(0, output.shape[2]):\n",
    "                output[:, i, j] = paddle.sum(\n",
    "                    new_X[:, self.stride*i:self.stride*i+u, self.stride*j:self.stride*j+v]*weight, \n",
    "                    axis=[1,2])\n",
    "        return output\n",
    "\n",
    "    def forward(self, inputs):\n",
    "        \"\"\"\n",
    "        输入：\n",
    "            - inputs：输入矩阵，shape=[B, D, M, N]\n",
    "            - weights：P组二维卷积核，shape=[P, D, U, V]\n",
    "            - bias：P个偏置，shape=[P, 1]\n",
    "        \"\"\"\n",
    "        feature_maps = []\n",
    "        # 进行多次多输入通道卷积运算\n",
    "        p=0\n",
    "        for w, b in zip(self.weight, self.bias): # P个(w,b),每次计算一个特征图Zp\n",
    "            multi_outs = []\n",
    "            # 循环计算每个输入特征图对应的卷积结果\n",
    "            for i in range(self.in_channels):\n",
    "                single = self.single_forward(inputs[:,i,:,:], w[i])\n",
    "                multi_outs.append(single)\n",
    "                # print(\"Conv2D in_channels:\",self.in_channels,\"i:\",i,\"single:\",single.shape)\n",
    "            # 将所有卷积结果相加\n",
    "            feature_map = paddle.sum(paddle.stack(multi_outs), axis=0) + b #Zp\n",
    "            feature_maps.append(feature_map)\n",
    "            # print(\"Conv2D out_channels:\",self.out_channels, \"p:\",p,\"feature_map:\",feature_map.shape)\n",
    "            p+=1\n",
    "        # 将所有Zp进行堆叠\n",
    "        out = paddle.stack(feature_maps, 1) \n",
    "        return out\n",
    "\n",
    "inputs = paddle.to_tensor([[[[0.0, 1.0, 2.0], [3.0, 4.0, 5.0], [6.0, 7.0, 8.0]],\n",
    "               [[1.0, 2.0, 3.0], [4.0, 5.0, 6.0], [7.0, 8.0, 9.0]]]])\n",
    "conv2d = Conv2D(in_channels=2, out_channels=3, kernel_size=2)\n",
    "print(\"inputs shape:\",inputs.shape)\n",
    "outputs = conv2d(inputs)\n",
    "print(\"Conv2D outputs shape:\",outputs.shape)\n",
    "\n",
    "# 比较与paddle API运算结果\n",
    "conv2d_paddle = nn.Conv2D(in_channels=2, out_channels=3, kernel_size=2,\n",
    "                            weight_attr=paddle.ParamAttr(initializer=nn.initializer.Constant(value=1.0)),\n",
    "                            bias_attr=paddle.ParamAttr(initializer=nn.initializer.Constant(value=0.0)))\n",
    "outputs_paddle = conv2d_paddle(inputs)\n",
    "# 自定义算子运算结果\n",
    "print('Conv2D outputs:', outputs)\n",
    "# paddle API运算结果\n",
    "print('nn.Conv2D outputs:', outputs_paddle)"
   ]
  },
  {
   "cell_type": "markdown",
   "metadata": {
    "collapsed": false
   },
   "source": [
    "#### 5.2.1.3 卷积算子的参数量和计算量\n",
    "\n",
    "**参数量**\n",
    "\n",
    "对于大小为$D\\times M\\times N$的输入特征图，使用$P$组大小为$\\mathbf W\\in \\mathbb{R}^{D\\times U\\times V}$的卷积核进行卷积运算，参数量计算方式为：\n",
    "\n",
    "$$\n",
    "parameters = P \\times D \\times U \\times V + P.（5.20）\n",
    "$$\n",
    "\n",
    "其中，最后的$P$代表偏置个数。例如：输入特征图大小为$3\\times 32\\times 32$，使用$6$组大小为$3\\times 3\\times 3$的卷积核进行卷积运算，参数量为：\n",
    "$$\n",
    "parameters = 6 \\times 3 \\times 3 \\times 3 + 6= 168.\n",
    "$$\n",
    "\n",
    "**计算量**\n",
    "\n",
    "对于大小为$D\\times M\\times N$的输入特征图，使用$P$组大小为$\\mathbf W\\in \\mathbb{R}^{D\\times U\\times V}$的卷积核进行卷积运算，计算量计算方式为：\n",
    "\n",
    "$$FLOPs=M'\\times N'\\times P\\times D\\times U\\times V + M'\\times N'\\times P。（5.21）$$\n",
    "\n",
    "其中$M'\\times N'\\times P$代表加偏置的计算量，即输出特征图上每个点都要与$P$组卷积核$\\mathbf W\\in \\mathbb{R}^{D\\times U\\times V}$进行$U\\times V\\times D$次乘法运算后再加上偏置。比如对于输入特征图大小为$3\\times 32\\times 32$，使用$6$组大小为$3\\times 3\\times 3$的卷积核进行卷积运算，计算量为：\n",
    "\n",
    "$$FLOPs=M'\\times N'\\times P\\times D\\times U\\times V + M'\\times N'\\times P= 30\\times 30\\times 3\\times 3\\times 6\\times 3 + 30\\times 30\\times 6= 151200$$"
   ]
  },
  {
   "cell_type": "markdown",
   "metadata": {
    "collapsed": false
   },
   "source": [
    "### 5.2.2 汇聚层算子\n",
    "\n",
    "**汇聚层**的作用是进行特征选择，降低特征数量，从而减少参数数量。由于汇聚之后特征图会变得更小，如果后面连接的是全连接层，可以有效地减小神经元的个数，节省存储空间并提高计算效率。\n",
    "\n",
    "常用的汇聚方法有两种，分别是：平均汇聚和最大汇聚。\n",
    "\n",
    "* 平均汇聚：将输入特征图划分为$2\\times2$大小的区域，对每个区域内的神经元活性值取平均值作为这个区域的表示；\n",
    "* 最大汇聚：使用输入特征图的每个子区域内所有神经元的最大活性值作为这个区域的表示。\n",
    "\n",
    "**图5.11** 给出了两种汇聚层的示例。\n",
    "\n",
    "<center><img src=\"https://ai-studio-static-online.cdn.bcebos.com/d55501bb93914955b1c262a00201f8bcc6abf632085e48e3b37aac5f064a4e1c\" width = \"600\"></center>\n",
    "<center><br>图5.11：汇聚层 </br></center>\n",
    "<br></br>\n",
    "\n",
    "汇聚层输出的计算尺寸与卷积层一致，对于一个输入矩阵$\\mathbf X\\in\\Bbb{R}^{M\\times N}$和一个运算区域大小为$U\\times V$的汇聚层，步长为$S$，对输入矩阵进行零填充，那么最终输出矩阵大小则为\n",
    "\n",
    "$$M' = \\frac{M + 2P - U}{S} + 1,（5.20）$$\n",
    "$$N' = \\frac{N + 2P - V}{S} + 1.（5.21）$$\n",
    "\n",
    "由于过大的采样区域会急剧减少神经元的数量，也会造成过多的信息丢失。目前，在卷积神经网络中比较典型的汇聚层是将每个输入特征图划分为$2\\times2$大小的不重叠区域，然后使用最大汇聚的方式进行下采样。\n",
    "\n",
    "由于汇聚是使用某一位置的相邻输出的总体统计特征代替网络在该位置的输出，所以其好处是当输入数据做出少量平移时，经过汇聚运算后的大多数输出还能保持不变。比如：当识别一张图像是否是人脸时，我们需要知道人脸左边有一只眼睛，右边也有一只眼睛，而不需要知道眼睛的精确位置，这时候通过汇聚某一片区域的像素点来得到总体统计特征会显得很有用。这也就体现了汇聚层的**平移不变**特性。\n",
    "\n",
    "**汇聚层的参数量和计算量**\n",
    "\n",
    "由于汇聚层中没有参数，所以参数量为$0$；最大汇聚中，没有乘加运算，所以计算量为$0$，而平均汇聚中，输出特征图上每个点都对应了一次求平均运算。\n",
    "\n",
    "使用飞桨实现一个简单的汇聚层，代码实现如下："
   ]
  },
  {
   "cell_type": "code",
   "execution_count": null,
   "metadata": {
    "collapsed": false
   },
   "outputs": [
    {
     "name": "stdout",
     "output_type": "stream",
     "text": [
      "input: [1, 1, 4, 4], \n",
      "output: [1, 1, 2, 2]\n",
      "Maxpool2D outputs: Tensor(shape=[1, 1, 2, 2], dtype=float32, place=CUDAPlace(0), stop_gradient=True,\n",
      "       [[[[6. , 8. ],\n",
      "          [14., 16.]]]])\n",
      "nn.Maxpool2D outputs: Tensor(shape=[1, 1, 2, 2], dtype=float32, place=CUDAPlace(0), stop_gradient=True,\n",
      "       [[[[6. , 8. ],\n",
      "          [14., 16.]]]])\n",
      "Avgpool2D outputs: Tensor(shape=[1, 1, 2, 2], dtype=float32, place=CUDAPlace(0), stop_gradient=True,\n",
      "       [[[[3.50000000 , 5.50000000 ],\n",
      "          [11.50000000, 13.50000000]]]])\n",
      "nn.Avgpool2D outputs: Tensor(shape=[1, 1, 2, 2], dtype=float32, place=CUDAPlace(0), stop_gradient=True,\n",
      "       [[[[3.50000000 , 5.50000000 ],\n",
      "          [11.50000000, 13.50000000]]]])\n"
     ]
    }
   ],
   "source": [
    "class Pool2D(nn.Layer):\n",
    "    def __init__(self, size=(2,2), mode='max', stride=1):\n",
    "        super(Pool2D, self).__init__()\n",
    "        # 汇聚方式\n",
    "        self.mode = mode\n",
    "        self.h, self.w = size\n",
    "        self.stride = stride\n",
    "\n",
    "    def forward(self, x):\n",
    "        output_w = (x.shape[2] - self.w) // self.stride + 1\n",
    "        output_h = (x.shape[3] - self.h) // self.stride + 1\n",
    "        output = paddle.zeros([x.shape[0], x.shape[1], output_w, output_h])\n",
    "        # 汇聚\n",
    "        for i in range(output.shape[2]):\n",
    "            for j in range(output.shape[3]):\n",
    "                # 最大汇聚\n",
    "                if self.mode == 'max':\n",
    "                    output[:, :, i, j] = paddle.max(\n",
    "                        x[:, :, self.stride*i:self.stride*i+self.w, self.stride*j:self.stride*j+self.h], \n",
    "                        axis=[2,3])\n",
    "                # 平均汇聚\n",
    "                elif self.mode == 'avg':\n",
    "                    output[:, :, i, j] = paddle.mean(\n",
    "                        x[:, :, self.stride*i:self.stride*i+self.w, self.stride*j:self.stride*j+self.h], \n",
    "                        axis=[2,3])\n",
    "        \n",
    "        return output\n",
    "\n",
    "inputs = paddle.to_tensor([[[[1.,2.,3.,4.],[5.,6.,7.,8.],[9.,10.,11.,12.],[13.,14.,15.,16.]]]])\n",
    "pool2d = Pool2D(stride=2)\n",
    "outputs = pool2d(inputs)\n",
    "print(\"input: {}, \\noutput: {}\".format(inputs.shape, outputs.shape))\n",
    "\n",
    "# 比较Maxpool2D与paddle API运算结果\n",
    "maxpool2d_paddle = nn.MaxPool2D(kernel_size=(2,2), stride=2)\n",
    "outputs_paddle = maxpool2d_paddle(inputs)\n",
    "# 自定义算子运算结果\n",
    "print('Maxpool2D outputs:', outputs)\n",
    "# paddle API运算结果\n",
    "print('nn.Maxpool2D outputs:', outputs_paddle)\n",
    "\n",
    "# 比较Avgpool2D与paddle API运算结果\n",
    "avgpool2d_paddle = nn.AvgPool2D(kernel_size=(2,2), stride=2)\n",
    "outputs_paddle = avgpool2d_paddle(inputs)\n",
    "pool2d = Pool2D(mode='avg', stride=2)\n",
    "outputs = pool2d(inputs)\n",
    "# 自定义算子运算结果\n",
    "print('Avgpool2D outputs:', outputs)\n",
    "# paddle API运算结果\n",
    "print('nn.Avgpool2D outputs:', outputs_paddle)"
   ]
  },
  {
   "cell_type": "markdown",
   "metadata": {
    "collapsed": false
   },
   "source": [
    "## 5.3 基于LeNet实现手写体数字识别实验\n",
    "\n",
    "在本节中，我们实现经典卷积网络LeNet-5，并进行手写体数字识别任务。\n",
    "\n",
    "### 5.3.1 数据\n",
    "\n",
    "手写体数字识别是计算机视觉中最常用的图像分类任务，让计算机识别出给定图片中的手写体数字（0-9共10个数字）。由于手写体风格差异很大，因此手写体数字识别是具有一定难度的任务。\n",
    "\n",
    "我们采用常用的手写数字识别数据集：**MNIST数据集**。MNIST数据集是计算机视觉领域的经典入门数据集，包含了60,000个训练样本和10,000个测试样本。这些数字已经过尺寸标准化并位于图像中心，图像是固定大小($28\\times28$像素)。**图5.12**给出了部分样本的示例。\n",
    "\n",
    "<center><img src=\"https://ai-studio-static-online.cdn.bcebos.com/53774cf008e941d3b93ce2b8731a1089fc64539bebd347e3a255c2d8fb5ec1a9\" width=\"600\" hegiht=\"\" ></center>\n",
    "<center><br>图5.12：MNIST数据集示例</br></center>\n",
    "<br></br>"
   ]
  },
  {
   "cell_type": "markdown",
   "metadata": {
    "collapsed": false
   },
   "source": [
    "为了节省训练时间，本节选取MNIST数据集的一个子集进行后续实验，数据集的划分为：\n",
    "\n",
    "* 训练集：1,000条样本\n",
    "* 验证集：200条样本\n",
    "* 测试集：200条样本\n",
    "\n",
    "MNIST数据集分为train_set、dev_set和test_set三个数据集，每个数据集含两个列表分别存放了图片数据以及标签数据。比如train_set包含：\n",
    "\n",
    "* **图片数据**：[1 000, 784]的二维列表，包含1 000张图片。每张图片用一个长度为784的向量表示，内容是 $28\\times 28$ 尺寸的像素灰度值（黑白图片）。\n",
    "* **标签数据**：[1 000, 1]的列表，表示这些图片对应的分类标签，即0~9之间的数字。"
   ]
  },
  {
   "cell_type": "markdown",
   "metadata": {
    "collapsed": false
   },
   "source": [
    "观察数据集分布情况，代码实现如下："
   ]
  },
  {
   "cell_type": "code",
   "execution_count": null,
   "metadata": {
    "collapsed": false
   },
   "outputs": [
    {
     "name": "stdout",
     "output_type": "stream",
     "text": [
      "Length of train/dev/test set:1000/200/200\n"
     ]
    }
   ],
   "source": [
    "import json\n",
    "import gzip\n",
    "\n",
    "# 打印并观察数据集分布情况\n",
    "train_set, dev_set, test_set = json.load(gzip.open('./mnist.json.gz'))\n",
    "train_images, train_labels = train_set[0][:1000], train_set[1][:1000]\n",
    "dev_images, dev_labels = dev_set[0][:200], dev_set[1][:200]\n",
    "test_images, test_labels = test_set[0][:200], test_set[1][:200]\n",
    "train_set, dev_set, test_set = [train_images, train_labels], [dev_images, dev_labels], [test_images, test_labels]\n",
    "print('Length of train/dev/test set:{}/{}/{}'.format(len(train_set[0]), len(dev_set[0]), len(test_set[0])))"
   ]
  },
  {
   "cell_type": "markdown",
   "metadata": {
    "collapsed": false
   },
   "source": [
    "可视化观察其中的一张样本以及对应的标签，代码如下所示："
   ]
  },
  {
   "cell_type": "code",
   "execution_count": null,
   "metadata": {
    "collapsed": false
   },
   "outputs": [
    {
     "name": "stdout",
     "output_type": "stream",
     "text": [
      "The number in the picture is 5\n"
     ]
    },
    {
     "data": {
      "image/png": "[encoded data removed]",
      "text/plain": [
       "<Figure size 360x360 with 1 Axes>"
      ]
     },
     "metadata": {},
     "output_type": "display_data"
    }
   ],
   "source": [
    "image, label = train_set[0][0], train_set[1][0]\n",
    "image, label = np.array(image).astype('float32'), int(label)\n",
    "# 原始图像数据为长度784的行向量，需要调整为[28,28]大小的图像\n",
    "image = np.reshape(image, [28,28])\n",
    "image = Image.fromarray(image.astype('uint8'), mode='L')\n",
    "print(\"The number in the picture is {}\".format(label))\n",
    "plt.figure(figsize=(5, 5))\n",
    "plt.imshow(image)\n",
    "plt.savefig('conv-number5.pdf')"
   ]
  },
  {
   "cell_type": "markdown",
   "metadata": {
    "collapsed": false
   },
   "source": [
    "#### 5.3.1.1 数据预处理\n",
    "\n",
    "图像分类网络对输入图片的格式、大小有一定的要求，数据输入模型前，需要对数据进行预处理操作，使图片满足网络训练以及预测的需要。本实验主要应用了如下方法：\n",
    "\n",
    "*  调整图片大小：LeNet网络对输入图片大小的要求为 $32\\times 32$ ，而MNIST数据集中的原始图片大小却是 $28\\times 28$ ，这里为了符合网络的结构设计，将其调整为$32 \\times 32$；\n",
    "*  规范化： 通过规范化手段，把输入图像的分布改变成均值为0，标准差为1的标准正态分布，使得最优解的寻优过程明显会变得平缓，训练过程更容易收敛。\n",
    "\n",
    "*******\n",
    "\n",
    "在飞桨中，提供了部分视觉领域的高层API，可以直接调用API实现简单的图像处理操作。通过调用`paddle.vision.transforms.Resize`调整大小；调用`paddle.vision.transforms.Normalize`进行标准化处理；使用`paddle.vision.transforms.Compose`将两个预处理操作进行拼接。\n",
    "\n",
    "*******\n",
    "\n",
    "代码实现如下："
   ]
  },
  {
   "cell_type": "code",
   "execution_count": null,
   "metadata": {
    "collapsed": false
   },
   "outputs": [],
   "source": [
    "from paddle.vision.transforms import Compose, Resize, Normalize\n",
    "\n",
    "# 数据预处理\n",
    "transforms = Compose([Resize(32), Normalize(mean=[127.5], std=[127.5], data_format='CHW')])"
   ]
  },
  {
   "cell_type": "markdown",
   "metadata": {
    "collapsed": false
   },
   "source": [
    "将原始的数据集封装为Dataset类，以便DataLoader调用。"
   ]
  },
  {
   "cell_type": "code",
   "execution_count": null,
   "metadata": {
    "collapsed": false
   },
   "outputs": [],
   "source": [
    "import random\n",
    "import paddle.io as io\n",
    "\n",
    "class MNIST_dataset(io.Dataset):\n",
    "    def __init__(self, dataset, transforms, mode='train'):\n",
    "        self.mode = mode\n",
    "        self.transforms =transforms\n",
    "        self.dataset = dataset\n",
    "\n",
    "    def __getitem__(self, idx):\n",
    "        # 获取图像和标签\n",
    "        image, label = self.dataset[0][idx], self.dataset[1][idx]\n",
    "        image, label = np.array(image).astype('float32'), int(label)\n",
    "        image = np.reshape(image, [28,28])\n",
    "        image = Image.fromarray(image.astype('uint8'), mode='L')\n",
    "        image = self.transforms(image)\n",
    "\n",
    "        return image, label\n",
    "\n",
    "    def __len__(self):\n",
    "        return len(self.dataset[0])"
   ]
  },
  {
   "cell_type": "code",
   "execution_count": null,
   "metadata": {
    "collapsed": false
   },
   "outputs": [],
   "source": [
    "# 固定随机种子\n",
    "random.seed(0)\n",
    "# 加载 mnist 数据集\n",
    "train_dataset = MNIST_dataset(dataset=train_set, transforms=transforms, mode='train')\n",
    "test_dataset = MNIST_dataset(dataset=test_set, transforms=transforms, mode='test')\n",
    "dev_dataset = MNIST_dataset(dataset=dev_set, transforms=transforms, mode='dev')"
   ]
  },
  {
   "cell_type": "markdown",
   "metadata": {
    "collapsed": false
   },
   "source": [
    "### 5.3.2 模型构建\n",
    "\n",
    "LeNet-5虽然提出的时间比较早，但它是一个非常成功的神经网络模型。基于LeNet-5的手写数字识别系统在20世纪90年代被美国很多银行使用，用来识别支票上面的手写数字。LeNet-5的网络结构如**图5.13**所示。\n",
    "\n",
    "<center><img src=\"https://ai-studio-static-online.cdn.bcebos.com/448b1f120a2e4890bae4589d213c0ab36f71b8d9d6204998a6cceddaabbe9ab5\" width=\"600\" hegiht=\"\" ></center>\n",
    "<center><br>图5.13：LeNet-5网络结构</br></center>\n",
    "<br></br>\n",
    "\n",
    "我们使用上面定义的卷积层算子和汇聚层算子构建一个LeNet-5模型。\n",
    "\n",
    "************\n",
    "\n",
    "  这里的LeNet-5和原始版本有4点不同：\n",
    "1. C3层没有使用连接表来减少卷积数量。\n",
    "1. 汇聚层使用了简单的平均汇聚，没有引入权重和偏置参数以及非线性激活函数。\n",
    "1. 卷积层的激活函数使用ReLU函数。\n",
    "1. 最后的输出层为一个全连接线性层。\n",
    "\n",
    "************\n",
    "\n",
    "网络共有7层，包含3个卷积层、2个汇聚层以及2个全连接层的简单卷积神经网络接，受输入图像大小为$32\\times 32=1\\, 024$，输出对应10个类别的得分。\n",
    "具体实现如下："
   ]
  },
  {
   "cell_type": "code",
   "execution_count": null,
   "metadata": {
    "collapsed": false
   },
   "outputs": [],
   "source": [
    "import paddle.nn.functional as F\n",
    "\n",
    "class Model_LeNet(nn.Layer):\n",
    "    def __init__(self, in_channels, num_classes=10):\n",
    "        super(Model_LeNet, self).__init__()\n",
    "        # 卷积层：输出通道数为6，卷积核大小为5×5\n",
    "        self.conv1 = Conv2D(in_channels=in_channels, out_channels=6, kernel_size=5, weight_attr=paddle.ParamAttr())\n",
    "        # 汇聚层：汇聚窗口为2×2，步长为2\n",
    "        self.pool2 = Pool2D(size=(2,2), mode='max', stride=2)\n",
    "        # 卷积层：输入通道数为6，输出通道数为16，卷积核大小为5×5，步长为1\n",
    "        self.conv3 = Conv2D(in_channels=6, out_channels=16, kernel_size=5, stride=1, weight_attr=paddle.ParamAttr())\n",
    "        # 汇聚层：汇聚窗口为2×2，步长为2\n",
    "        self.pool4 = Pool2D(size=(2,2), mode='avg', stride=2)\n",
    "        # 卷积层：输入通道数为16，输出通道数为120，卷积核大小为5×5\n",
    "        self.conv5 = Conv2D(in_channels=16, out_channels=120, kernel_size=5, stride=1, weight_attr=paddle.ParamAttr())\n",
    "        # 全连接层：输入神经元为120，输出神经元为84\n",
    "        self.linear6 = nn.Linear(120, 84)\n",
    "        # 全连接层：输入神经元为84，输出神经元为类别数\n",
    "        self.linear7 = nn.Linear(84, num_classes)\n",
    "\n",
    "    def forward(self, x):\n",
    "        # C1：卷积层+激活函数\n",
    "        output = F.relu(self.conv1(x))\n",
    "        # S2：汇聚层\n",
    "        output = self.pool2(output)\n",
    "        # C3：卷积层+激活函数\n",
    "        output = F.relu(self.conv3(output))\n",
    "        # S4：汇聚层\n",
    "        output = self.pool4(output)\n",
    "        # C5：卷积层+激活函数\n",
    "        output = F.relu(self.conv5(output))\n",
    "        # 输入层将数据拉平[B,C,H,W] -> [B,CxHxW]\n",
    "        output = paddle.squeeze(output, axis=[2,3])\n",
    "        # F6：全连接层\n",
    "        output = F.relu(self.linear6(output))\n",
    "        # F7：全连接层\n",
    "        output = self.linear7(output)\n",
    "        return output"
   ]
  },
  {
   "cell_type": "markdown",
   "metadata": {
    "collapsed": false
   },
   "source": [
    "下面测试一下上面的LeNet-5模型，构造一个形状为 [1,1,32,32]的输入数据送入网络，观察每一层特征图的形状变化。代码实现如下："
   ]
  },
  {
   "cell_type": "code",
   "execution_count": null,
   "metadata": {
    "collapsed": false
   },
   "outputs": [
    {
     "name": "stdout",
     "output_type": "stream",
     "text": [
      "[Conv2D(), Pool2D(), Conv2D(), Pool2D(), Conv2D(), Linear(in_features=120, out_features=84, dtype=float32), Linear(in_features=84, out_features=10, dtype=float32)]\n",
      "conv2d_6 [1, 6, 28, 28] [6, 1, 5, 5] [6, 1]\n",
      "pool2d_2 [1, 6, 14, 14]\n",
      "conv2d_7 [1, 16, 10, 10] [16, 6, 5, 5] [16, 1]\n",
      "pool2d_3 [1, 16, 5, 5]\n",
      "conv2d_8 [1, 120, 1, 1] [120, 16, 5, 5] [120, 1]\n",
      "linear_0 [1, 84] [120, 84] [84]\n",
      "linear_1 [1, 10] [84, 10] [10]\n"
     ]
    }
   ],
   "source": [
    "# 这里用np.random创建一个随机数组作为输入数据\n",
    "inputs = np.random.randn(*[1,1,32,32])\n",
    "inputs = inputs.astype('float32')\n",
    "\n",
    "# 创建Model_LeNet类的实例，指定模型名称和分类的类别数目\n",
    "model = Model_LeNet(in_channels=1, num_classes=10)\n",
    "# 通过调用LeNet从基类继承的sublayers()函数，查看LeNet中所包含的子层\n",
    "print(model.sublayers())\n",
    "x = paddle.to_tensor(inputs)\n",
    "for item in model.sublayers():\n",
    "    # item是LeNet类中的一个子层\n",
    "    # 查看经过子层之后的输出数据形状\n",
    "    try:\n",
    "        x = item(x)\n",
    "    except:\n",
    "        # 如果是最后一个卷积层输出，需要展平后才可以送入全连接层\n",
    "        x = paddle.reshape(x, [x.shape[0], -1])\n",
    "        x = item(x)\n",
    "    if len(item.parameters())==2:\n",
    "        # 查看卷积和全连接层的数据和参数的形状，\n",
    "        # 其中item.parameters()[0]是权重参数w，item.parameters()[1]是偏置参数b\n",
    "        print(item.full_name(), x.shape, item.parameters()[0].shape, \n",
    "                item.parameters()[1].shape)\n",
    "    else:\n",
    "        # 汇聚层没有参数\n",
    "        print(item.full_name(), x.shape)"
   ]
  },
  {
   "cell_type": "markdown",
   "metadata": {
    "collapsed": false
   },
   "source": [
    "从输出结果看，\n",
    "* 对于大小为$32 \\times32$的单通道图像，先用6个大小为$5 \\times5$的卷积核对其进行卷积运算，输出为6个$28 \\times28$大小的特征图；\n",
    "* 6个$28 \\times28$大小的特征图经过大小为$2 \\times2$，步长为2的汇聚层后，输出特征图的大小变为$14 \\times14$；\n",
    "* 6个$14 \\times14$大小的特征图再经过16个大小为$5 \\times5$的卷积核对其进行卷积运算，得到16个$10 \\times10$大小的输出特征图；\n",
    "* 16个$10 \\times10$大小的特征图经过大小为$2 \\times2$，步长为2的汇聚层后，输出特征图的大小变为$5 \\times5$；\n",
    "* 16个$5 \\times5$大小的特征图再经过120个大小为$5 \\times5$的卷积核对其进行卷积运算，得到120个$1 \\times1$大小的输出特征图；\n",
    "* 此时，将特征图展平成1维，则有120个像素点，经过输入神经元个数为120，输出神经元个数为84的全连接层后，输出的长度变为84。\n",
    "* 再经过一个全连接层的计算，最终得到了长度为类别数的输出结果。"
   ]
  },
  {
   "cell_type": "markdown",
   "metadata": {
    "collapsed": false
   },
   "source": [
    "考虑到自定义的`Conv2D`和`Pool2D`算子中包含多个`for`循环，所以运算速度比较慢。飞桨框架中，针对卷积层算子和汇聚层算子进行了速度上的优化，这里基于`paddle.nn.Conv2D`、`paddle.nn.MaxPool2D`和`paddle.nn.AvgPool2D`构建LeNet-5模型，对比与上边实现的模型的运算速度。代码实现如下："
   ]
  },
  {
   "cell_type": "code",
   "execution_count": null,
   "metadata": {
    "collapsed": false
   },
   "outputs": [],
   "source": [
    "class Paddle_LeNet(nn.Layer):\n",
    "    def __init__(self, in_channels, num_classes=10):\n",
    "        super(Paddle_LeNet, self).__init__()\n",
    "        # 卷积层：输出通道数为6，卷积核大小为5*5\n",
    "        self.conv1 = nn.Conv2D(in_channels=in_channels, out_channels=6, kernel_size=5)\n",
    "        # 汇聚层：汇聚窗口为2*2，步长为2\n",
    "        self.pool2 = nn.MaxPool2D(kernel_size=2, stride=2)\n",
    "        # 卷积层：输入通道数为6，输出通道数为16，卷积核大小为5*5\n",
    "        self.conv3 = nn.Conv2D(in_channels=6, out_channels=16, kernel_size=5)\n",
    "        # 汇聚层：汇聚窗口为2*2，步长为2\n",
    "        self.pool4 = nn.AvgPool2D(kernel_size=2, stride=2)\n",
    "        # 卷积层：输入通道数为16，输出通道数为120，卷积核大小为5*5\n",
    "        self.conv5 = nn.Conv2D(in_channels=16, out_channels=120, kernel_size=5)\n",
    "        # 全连接层：输入神经元为120，输出神经元为84\n",
    "        self.linear6 = nn.Linear(in_features=120, out_features=84)\n",
    "        # 全连接层：输入神经元为84，输出神经元为类别数\n",
    "        self.linear7 = nn.Linear(in_features=84, out_features=num_classes)\n",
    "\n",
    "    def forward(self, x):\n",
    "        # C1：卷积层+激活函数\n",
    "        output = F.relu(self.conv1(x))\n",
    "        # S2：汇聚层\n",
    "        output = self.pool2(output)\n",
    "        # C3：卷积层+激活函数\n",
    "        output = F.relu(self.conv3(output))\n",
    "        # S4：汇聚层\n",
    "        output = self.pool4(output)\n",
    "        # C5：卷积层+激活函数\n",
    "        output = F.relu(self.conv5(output))\n",
    "        # 输入层将数据拉平[B,C,H,W] -> [B,CxHxW]\n",
    "        output = paddle.squeeze(output, axis=[2,3])\n",
    "        # F6：全连接层\n",
    "        output = F.relu(self.linear6(output))\n",
    "        # F7：全连接层\n",
    "        output = self.linear7(output)\n",
    "        return output"
   ]
  },
  {
   "cell_type": "markdown",
   "metadata": {
    "collapsed": false
   },
   "source": [
    "测试两个网络的运算速度。"
   ]
  },
  {
   "cell_type": "code",
   "execution_count": null,
   "metadata": {
    "collapsed": false
   },
   "outputs": [
    {
     "ename": "KeyboardInterrupt",
     "evalue": "",
     "output_type": "error",
     "traceback": [
      "\u001b[0;31m---------------------------------------------------------------------------\u001b[0m",
      "\u001b[0;31mKeyboardInterrupt\u001b[0m                         Traceback (most recent call last)",
      "\u001b[0;32m/tmp/ipykernel_150/137857584.py\u001b[0m in \u001b[0;36m<module>\u001b[0;34m\u001b[0m\n\u001b[1;32m     15\u001b[0m \u001b[0;32mfor\u001b[0m \u001b[0mi\u001b[0m \u001b[0;32min\u001b[0m \u001b[0mrange\u001b[0m\u001b[0;34m(\u001b[0m\u001b[0;36m60\u001b[0m\u001b[0;34m)\u001b[0m\u001b[0;34m:\u001b[0m\u001b[0;34m\u001b[0m\u001b[0;34m\u001b[0m\u001b[0m\n\u001b[1;32m     16\u001b[0m     \u001b[0mstrat_time\u001b[0m \u001b[0;34m=\u001b[0m \u001b[0mtime\u001b[0m\u001b[0;34m.\u001b[0m\u001b[0mtime\u001b[0m\u001b[0;34m(\u001b[0m\u001b[0;34m)\u001b[0m\u001b[0;34m\u001b[0m\u001b[0;34m\u001b[0m\u001b[0m\n\u001b[0;32m---> 17\u001b[0;31m     \u001b[0mout\u001b[0m \u001b[0;34m=\u001b[0m \u001b[0mmodel\u001b[0m\u001b[0;34m(\u001b[0m\u001b[0mx\u001b[0m\u001b[0;34m)\u001b[0m\u001b[0;34m\u001b[0m\u001b[0;34m\u001b[0m\u001b[0m\n\u001b[0m\u001b[1;32m     18\u001b[0m     \u001b[0mend_time\u001b[0m \u001b[0;34m=\u001b[0m \u001b[0mtime\u001b[0m\u001b[0;34m.\u001b[0m\u001b[0mtime\u001b[0m\u001b[0;34m(\u001b[0m\u001b[0;34m)\u001b[0m\u001b[0;34m\u001b[0m\u001b[0;34m\u001b[0m\u001b[0m\n\u001b[1;32m     19\u001b[0m     \u001b[0;31m# 预热10次运算，不计入最终速度统计\u001b[0m\u001b[0;34m\u001b[0m\u001b[0;34m\u001b[0m\u001b[0;34m\u001b[0m\u001b[0m\n",
      "\u001b[0;32m/opt/conda/envs/python35-paddle120-env/lib/python3.7/site-packages/paddle/fluid/dygraph/layers.py\u001b[0m in \u001b[0;36m__call__\u001b[0;34m(self, *inputs, **kwargs)\u001b[0m\n\u001b[1;32m    915\u001b[0m \u001b[0;34m\u001b[0m\u001b[0m\n\u001b[1;32m    916\u001b[0m     \u001b[0;32mdef\u001b[0m \u001b[0m__call__\u001b[0m\u001b[0;34m(\u001b[0m\u001b[0mself\u001b[0m\u001b[0;34m,\u001b[0m \u001b[0;34m*\u001b[0m\u001b[0minputs\u001b[0m\u001b[0;34m,\u001b[0m \u001b[0;34m**\u001b[0m\u001b[0mkwargs\u001b[0m\u001b[0;34m)\u001b[0m\u001b[0;34m:\u001b[0m\u001b[0;34m\u001b[0m\u001b[0;34m\u001b[0m\u001b[0m\n\u001b[0;32m--> 917\u001b[0;31m         \u001b[0;32mreturn\u001b[0m \u001b[0mself\u001b[0m\u001b[0;34m.\u001b[0m\u001b[0m_dygraph_call_func\u001b[0m\u001b[0;34m(\u001b[0m\u001b[0;34m*\u001b[0m\u001b[0minputs\u001b[0m\u001b[0;34m,\u001b[0m \u001b[0;34m**\u001b[0m\u001b[0mkwargs\u001b[0m\u001b[0;34m)\u001b[0m\u001b[0;34m\u001b[0m\u001b[0;34m\u001b[0m\u001b[0m\n\u001b[0m\u001b[1;32m    918\u001b[0m \u001b[0;34m\u001b[0m\u001b[0m\n\u001b[1;32m    919\u001b[0m     \u001b[0;32mdef\u001b[0m \u001b[0mforward\u001b[0m\u001b[0;34m(\u001b[0m\u001b[0mself\u001b[0m\u001b[0;34m,\u001b[0m \u001b[0;34m*\u001b[0m\u001b[0minputs\u001b[0m\u001b[0;34m,\u001b[0m \u001b[0;34m**\u001b[0m\u001b[0mkwargs\u001b[0m\u001b[0;34m)\u001b[0m\u001b[0;34m:\u001b[0m\u001b[0;34m\u001b[0m\u001b[0;34m\u001b[0m\u001b[0m\n",
      "\u001b[0;32m/opt/conda/envs/python35-paddle120-env/lib/python3.7/site-packages/paddle/fluid/dygraph/layers.py\u001b[0m in \u001b[0;36m_dygraph_call_func\u001b[0;34m(self, *inputs, **kwargs)\u001b[0m\n\u001b[1;32m    905\u001b[0m             \u001b[0mself\u001b[0m\u001b[0;34m.\u001b[0m\u001b[0m_built\u001b[0m \u001b[0;34m=\u001b[0m \u001b[0;32mTrue\u001b[0m\u001b[0;34m\u001b[0m\u001b[0;34m\u001b[0m\u001b[0m\n\u001b[1;32m    906\u001b[0m \u001b[0;34m\u001b[0m\u001b[0m\n\u001b[0;32m--> 907\u001b[0;31m         \u001b[0moutputs\u001b[0m \u001b[0;34m=\u001b[0m \u001b[0mself\u001b[0m\u001b[0;34m.\u001b[0m\u001b[0mforward\u001b[0m\u001b[0;34m(\u001b[0m\u001b[0;34m*\u001b[0m\u001b[0minputs\u001b[0m\u001b[0;34m,\u001b[0m \u001b[0;34m**\u001b[0m\u001b[0mkwargs\u001b[0m\u001b[0;34m)\u001b[0m\u001b[0;34m\u001b[0m\u001b[0;34m\u001b[0m\u001b[0m\n\u001b[0m\u001b[1;32m    908\u001b[0m \u001b[0;34m\u001b[0m\u001b[0m\n\u001b[1;32m    909\u001b[0m         \u001b[0;32mfor\u001b[0m \u001b[0mforward_post_hook\u001b[0m \u001b[0;32min\u001b[0m \u001b[0mself\u001b[0m\u001b[0;34m.\u001b[0m\u001b[0m_forward_post_hooks\u001b[0m\u001b[0;34m.\u001b[0m\u001b[0mvalues\u001b[0m\u001b[0;34m(\u001b[0m\u001b[0;34m)\u001b[0m\u001b[0;34m:\u001b[0m\u001b[0;34m\u001b[0m\u001b[0;34m\u001b[0m\u001b[0m\n",
      "\u001b[0;32m/tmp/ipykernel_150/2647073283.py\u001b[0m in \u001b[0;36mforward\u001b[0;34m(self, x)\u001b[0m\n\u001b[1;32m     25\u001b[0m         \u001b[0moutput\u001b[0m \u001b[0;34m=\u001b[0m \u001b[0mself\u001b[0m\u001b[0;34m.\u001b[0m\u001b[0mpool2\u001b[0m\u001b[0;34m(\u001b[0m\u001b[0moutput\u001b[0m\u001b[0;34m)\u001b[0m\u001b[0;34m\u001b[0m\u001b[0;34m\u001b[0m\u001b[0m\n\u001b[1;32m     26\u001b[0m         \u001b[0;31m# C3：卷积层+激活函数\u001b[0m\u001b[0;34m\u001b[0m\u001b[0;34m\u001b[0m\u001b[0;34m\u001b[0m\u001b[0m\n\u001b[0;32m---> 27\u001b[0;31m         \u001b[0moutput\u001b[0m \u001b[0;34m=\u001b[0m \u001b[0mF\u001b[0m\u001b[0;34m.\u001b[0m\u001b[0mrelu\u001b[0m\u001b[0;34m(\u001b[0m\u001b[0mself\u001b[0m\u001b[0;34m.\u001b[0m\u001b[0mconv3\u001b[0m\u001b[0;34m(\u001b[0m\u001b[0moutput\u001b[0m\u001b[0;34m)\u001b[0m\u001b[0;34m)\u001b[0m\u001b[0;34m\u001b[0m\u001b[0;34m\u001b[0m\u001b[0m\n\u001b[0m\u001b[1;32m     28\u001b[0m         \u001b[0;31m# S4：汇聚层\u001b[0m\u001b[0;34m\u001b[0m\u001b[0;34m\u001b[0m\u001b[0;34m\u001b[0m\u001b[0m\n\u001b[1;32m     29\u001b[0m         \u001b[0moutput\u001b[0m \u001b[0;34m=\u001b[0m \u001b[0mself\u001b[0m\u001b[0;34m.\u001b[0m\u001b[0mpool4\u001b[0m\u001b[0;34m(\u001b[0m\u001b[0moutput\u001b[0m\u001b[0;34m)\u001b[0m\u001b[0;34m\u001b[0m\u001b[0;34m\u001b[0m\u001b[0m\n",
      "\u001b[0;32m/opt/conda/envs/python35-paddle120-env/lib/python3.7/site-packages/paddle/fluid/dygraph/layers.py\u001b[0m in \u001b[0;36m__call__\u001b[0;34m(self, *inputs, **kwargs)\u001b[0m\n\u001b[1;32m    915\u001b[0m \u001b[0;34m\u001b[0m\u001b[0m\n\u001b[1;32m    916\u001b[0m     \u001b[0;32mdef\u001b[0m \u001b[0m__call__\u001b[0m\u001b[0;34m(\u001b[0m\u001b[0mself\u001b[0m\u001b[0;34m,\u001b[0m \u001b[0;34m*\u001b[0m\u001b[0minputs\u001b[0m\u001b[0;34m,\u001b[0m \u001b[0;34m**\u001b[0m\u001b[0mkwargs\u001b[0m\u001b[0;34m)\u001b[0m\u001b[0;34m:\u001b[0m\u001b[0;34m\u001b[0m\u001b[0;34m\u001b[0m\u001b[0m\n\u001b[0;32m--> 917\u001b[0;31m         \u001b[0;32mreturn\u001b[0m \u001b[0mself\u001b[0m\u001b[0;34m.\u001b[0m\u001b[0m_dygraph_call_func\u001b[0m\u001b[0;34m(\u001b[0m\u001b[0;34m*\u001b[0m\u001b[0minputs\u001b[0m\u001b[0;34m,\u001b[0m \u001b[0;34m**\u001b[0m\u001b[0mkwargs\u001b[0m\u001b[0;34m)\u001b[0m\u001b[0;34m\u001b[0m\u001b[0;34m\u001b[0m\u001b[0m\n\u001b[0m\u001b[1;32m    918\u001b[0m \u001b[0;34m\u001b[0m\u001b[0m\n\u001b[1;32m    919\u001b[0m     \u001b[0;32mdef\u001b[0m \u001b[0mforward\u001b[0m\u001b[0;34m(\u001b[0m\u001b[0mself\u001b[0m\u001b[0;34m,\u001b[0m \u001b[0;34m*\u001b[0m\u001b[0minputs\u001b[0m\u001b[0;34m,\u001b[0m \u001b[0;34m**\u001b[0m\u001b[0mkwargs\u001b[0m\u001b[0;34m)\u001b[0m\u001b[0;34m:\u001b[0m\u001b[0;34m\u001b[0m\u001b[0;34m\u001b[0m\u001b[0m\n",
      "\u001b[0;32m/opt/conda/envs/python35-paddle120-env/lib/python3.7/site-packages/paddle/fluid/dygraph/layers.py\u001b[0m in \u001b[0;36m_dygraph_call_func\u001b[0;34m(self, *inputs, **kwargs)\u001b[0m\n\u001b[1;32m    905\u001b[0m             \u001b[0mself\u001b[0m\u001b[0;34m.\u001b[0m\u001b[0m_built\u001b[0m \u001b[0;34m=\u001b[0m \u001b[0;32mTrue\u001b[0m\u001b[0;34m\u001b[0m\u001b[0;34m\u001b[0m\u001b[0m\n\u001b[1;32m    906\u001b[0m \u001b[0;34m\u001b[0m\u001b[0m\n\u001b[0;32m--> 907\u001b[0;31m         \u001b[0moutputs\u001b[0m \u001b[0;34m=\u001b[0m \u001b[0mself\u001b[0m\u001b[0;34m.\u001b[0m\u001b[0mforward\u001b[0m\u001b[0;34m(\u001b[0m\u001b[0;34m*\u001b[0m\u001b[0minputs\u001b[0m\u001b[0;34m,\u001b[0m \u001b[0;34m**\u001b[0m\u001b[0mkwargs\u001b[0m\u001b[0;34m)\u001b[0m\u001b[0;34m\u001b[0m\u001b[0;34m\u001b[0m\u001b[0m\n\u001b[0m\u001b[1;32m    908\u001b[0m \u001b[0;34m\u001b[0m\u001b[0m\n\u001b[1;32m    909\u001b[0m         \u001b[0;32mfor\u001b[0m \u001b[0mforward_post_hook\u001b[0m \u001b[0;32min\u001b[0m \u001b[0mself\u001b[0m\u001b[0;34m.\u001b[0m\u001b[0m_forward_post_hooks\u001b[0m\u001b[0;34m.\u001b[0m\u001b[0mvalues\u001b[0m\u001b[0;34m(\u001b[0m\u001b[0;34m)\u001b[0m\u001b[0;34m:\u001b[0m\u001b[0;34m\u001b[0m\u001b[0;34m\u001b[0m\u001b[0m\n",
      "\u001b[0;32m/tmp/ipykernel_150/870038972.py\u001b[0m in \u001b[0;36mforward\u001b[0;34m(self, inputs)\u001b[0m\n\u001b[1;32m     49\u001b[0m             \u001b[0;31m# 循环计算每个输入特征图对应的卷积结果\u001b[0m\u001b[0;34m\u001b[0m\u001b[0;34m\u001b[0m\u001b[0;34m\u001b[0m\u001b[0m\n\u001b[1;32m     50\u001b[0m             \u001b[0;32mfor\u001b[0m \u001b[0mi\u001b[0m \u001b[0;32min\u001b[0m \u001b[0mrange\u001b[0m\u001b[0;34m(\u001b[0m\u001b[0mself\u001b[0m\u001b[0;34m.\u001b[0m\u001b[0min_channels\u001b[0m\u001b[0;34m)\u001b[0m\u001b[0;34m:\u001b[0m\u001b[0;34m\u001b[0m\u001b[0;34m\u001b[0m\u001b[0m\n\u001b[0;32m---> 51\u001b[0;31m                 \u001b[0msingle\u001b[0m \u001b[0;34m=\u001b[0m \u001b[0mself\u001b[0m\u001b[0;34m.\u001b[0m\u001b[0msingle_forward\u001b[0m\u001b[0;34m(\u001b[0m\u001b[0minputs\u001b[0m\u001b[0;34m[\u001b[0m\u001b[0;34m:\u001b[0m\u001b[0;34m,\u001b[0m\u001b[0mi\u001b[0m\u001b[0;34m,\u001b[0m\u001b[0;34m:\u001b[0m\u001b[0;34m,\u001b[0m\u001b[0;34m:\u001b[0m\u001b[0;34m]\u001b[0m\u001b[0;34m,\u001b[0m \u001b[0mw\u001b[0m\u001b[0;34m[\u001b[0m\u001b[0mi\u001b[0m\u001b[0;34m]\u001b[0m\u001b[0;34m)\u001b[0m\u001b[0;34m\u001b[0m\u001b[0;34m\u001b[0m\u001b[0m\n\u001b[0m\u001b[1;32m     52\u001b[0m                 \u001b[0mmulti_outs\u001b[0m\u001b[0;34m.\u001b[0m\u001b[0mappend\u001b[0m\u001b[0;34m(\u001b[0m\u001b[0msingle\u001b[0m\u001b[0;34m)\u001b[0m\u001b[0;34m\u001b[0m\u001b[0;34m\u001b[0m\u001b[0m\n\u001b[1;32m     53\u001b[0m                 \u001b[0;31m# print(\"Conv2D in_channels:\",self.in_channels,\"i:\",i,\"single:\",single.shape)\u001b[0m\u001b[0;34m\u001b[0m\u001b[0;34m\u001b[0m\u001b[0;34m\u001b[0m\u001b[0m\n",
      "\u001b[0;32m/tmp/ipykernel_150/870038972.py\u001b[0m in \u001b[0;36msingle_forward\u001b[0;34m(self, X, weight)\u001b[0m\n\u001b[1;32m     31\u001b[0m             \u001b[0;32mfor\u001b[0m \u001b[0mj\u001b[0m \u001b[0;32min\u001b[0m \u001b[0mrange\u001b[0m\u001b[0;34m(\u001b[0m\u001b[0;36m0\u001b[0m\u001b[0;34m,\u001b[0m \u001b[0moutput\u001b[0m\u001b[0;34m.\u001b[0m\u001b[0mshape\u001b[0m\u001b[0;34m[\u001b[0m\u001b[0;36m2\u001b[0m\u001b[0;34m]\u001b[0m\u001b[0;34m)\u001b[0m\u001b[0;34m:\u001b[0m\u001b[0;34m\u001b[0m\u001b[0;34m\u001b[0m\u001b[0m\n\u001b[1;32m     32\u001b[0m                 output[:, i, j] = paddle.sum(\n\u001b[0;32m---> 33\u001b[0;31m                     \u001b[0mnew_X\u001b[0m\u001b[0;34m[\u001b[0m\u001b[0;34m:\u001b[0m\u001b[0;34m,\u001b[0m \u001b[0mself\u001b[0m\u001b[0;34m.\u001b[0m\u001b[0mstride\u001b[0m\u001b[0;34m*\u001b[0m\u001b[0mi\u001b[0m\u001b[0;34m:\u001b[0m\u001b[0mself\u001b[0m\u001b[0;34m.\u001b[0m\u001b[0mstride\u001b[0m\u001b[0;34m*\u001b[0m\u001b[0mi\u001b[0m\u001b[0;34m+\u001b[0m\u001b[0mu\u001b[0m\u001b[0;34m,\u001b[0m \u001b[0mself\u001b[0m\u001b[0;34m.\u001b[0m\u001b[0mstride\u001b[0m\u001b[0;34m*\u001b[0m\u001b[0mj\u001b[0m\u001b[0;34m:\u001b[0m\u001b[0mself\u001b[0m\u001b[0;34m.\u001b[0m\u001b[0mstride\u001b[0m\u001b[0;34m*\u001b[0m\u001b[0mj\u001b[0m\u001b[0;34m+\u001b[0m\u001b[0mv\u001b[0m\u001b[0;34m]\u001b[0m\u001b[0;34m*\u001b[0m\u001b[0mweight\u001b[0m\u001b[0;34m,\u001b[0m\u001b[0;34m\u001b[0m\u001b[0;34m\u001b[0m\u001b[0m\n\u001b[0m\u001b[1;32m     34\u001b[0m                     axis=[1,2])\n\u001b[1;32m     35\u001b[0m         \u001b[0;32mreturn\u001b[0m \u001b[0moutput\u001b[0m\u001b[0;34m\u001b[0m\u001b[0;34m\u001b[0m\u001b[0m\n",
      "\u001b[0;32m/opt/conda/envs/python35-paddle120-env/lib/python3.7/site-packages/paddle/fluid/dygraph/varbase_patch_methods.py\u001b[0m in \u001b[0;36m__getitem__\u001b[0;34m(self, item)\u001b[0m\n\u001b[1;32m    596\u001b[0m         \u001b[0;32melse\u001b[0m\u001b[0;34m:\u001b[0m\u001b[0;34m\u001b[0m\u001b[0;34m\u001b[0m\u001b[0m\n\u001b[1;32m    597\u001b[0m             \u001b[0;31m# 2. Call c++ func getitem_index_not_tensor to speedup.\u001b[0m\u001b[0;34m\u001b[0m\u001b[0;34m\u001b[0m\u001b[0;34m\u001b[0m\u001b[0m\n\u001b[0;32m--> 598\u001b[0;31m             \u001b[0;32mreturn\u001b[0m \u001b[0mself\u001b[0m\u001b[0;34m.\u001b[0m\u001b[0m_getitem_index_not_tensor\u001b[0m\u001b[0;34m(\u001b[0m\u001b[0mitem\u001b[0m\u001b[0;34m)\u001b[0m\u001b[0;34m\u001b[0m\u001b[0;34m\u001b[0m\u001b[0m\n\u001b[0m\u001b[1;32m    599\u001b[0m \u001b[0;34m\u001b[0m\u001b[0m\n\u001b[1;32m    600\u001b[0m     \u001b[0;32mdef\u001b[0m \u001b[0m__setitem__\u001b[0m\u001b[0;34m(\u001b[0m\u001b[0mself\u001b[0m\u001b[0;34m,\u001b[0m \u001b[0mitem\u001b[0m\u001b[0;34m,\u001b[0m \u001b[0mvalue\u001b[0m\u001b[0;34m)\u001b[0m\u001b[0;34m:\u001b[0m\u001b[0;34m\u001b[0m\u001b[0;34m\u001b[0m\u001b[0m\n",
      "\u001b[0;31mKeyboardInterrupt\u001b[0m: "
     ]
    }
   ],
   "source": [
    "import time\n",
    "\n",
    "# 这里用np.random创建一个随机数组作为测试数据\n",
    "inputs = np.random.randn(*[1,1,32,32])\n",
    "inputs = inputs.astype('float32')\n",
    "x = paddle.to_tensor(inputs)\n",
    "\n",
    "# 创建Model_LeNet类的实例，指定模型名称和分类的类别数目\n",
    "model = Model_LeNet(in_channels=1, num_classes=10)\n",
    "# 创建Paddle_LeNet类的实例，指定模型名称和分类的类别数目\n",
    "paddle_model = Paddle_LeNet(in_channels=1, num_classes=10)\n",
    "\n",
    "# 计算Model_LeNet类的运算速度\n",
    "model_time = 0\n",
    "for i in range(60):\n",
    "    strat_time = time.time()\n",
    "    out = model(x)\n",
    "    end_time = time.time()\n",
    "    # 预热10次运算，不计入最终速度统计\n",
    "    if i < 10:\n",
    "        continue\n",
    "    model_time += (end_time - strat_time)\n",
    "avg_model_time = model_time / 50\n",
    "print('Model_LeNet speed:', avg_model_time, 's')\n",
    "\n",
    "# 计算Paddle_LeNet类的运算速度\n",
    "paddle_model_time = 0\n",
    "for i in range(60):\n",
    "    strat_time = time.time()\n",
    "    paddle_out = paddle_model(x)\n",
    "    end_time = time.time()\n",
    "    # 预热10次运算，不计入最终速度统计\n",
    "    if i < 10:\n",
    "        continue\n",
    "    paddle_model_time += (end_time - strat_time)\n",
    "avg_paddle_model_time = paddle_model_time / 50\n",
    "\n",
    "print('Paddle_LeNet speed:', avg_paddle_model_time, 's')"
   ]
  },
  {
   "cell_type": "markdown",
   "metadata": {
    "collapsed": false
   },
   "source": [
    "这里还可以令两个网络加载同样的权重，测试一下两个网络的输出结果是否一致。"
   ]
  },
  {
   "cell_type": "code",
   "execution_count": null,
   "metadata": {
    "collapsed": false
   },
   "outputs": [],
   "source": [
    "# 这里用np.random创建一个随机数组作为测试数据\n",
    "inputs = np.random.randn(*[1,1,32,32])\n",
    "inputs = inputs.astype('float32')\n",
    "x = paddle.to_tensor(inputs)\n",
    "\n",
    "# 创建Model_LeNet类的实例，指定模型名称和分类的类别数目\n",
    "model = Model_LeNet(in_channels=1, num_classes=10)\n",
    "# 获取网络的权重\n",
    "params = model.state_dict()\n",
    "# 自定义Conv2D算子的bias参数形状为[out_channels, 1]\n",
    "# paddle API中Conv2D算子的bias参数形状为[out_channels]\n",
    "# 需要进行调整后才可以赋值\n",
    "for key in params:\n",
    "    if 'bias' in key:\n",
    "        params[key] = params[key].squeeze()\n",
    "# 创建Paddle_LeNet类的实例，指定模型名称和分类的类别数目\n",
    "paddle_model = Paddle_LeNet(in_channels=1, num_classes=10)\n",
    "# 将Model_LeNet的权重参数赋予给Paddle_LeNet模型，保持两者一致\n",
    "paddle_model.set_state_dict(params)\n",
    "\n",
    "# 打印结果保留小数点后6位\n",
    "paddle.set_printoptions(6)\n",
    "# 计算Model_LeNet的结果\n",
    "output = model(x)\n",
    "print('Model_LeNet output: ', output)\n",
    "# 计算Paddle_LeNet的结果\n",
    "paddle_output = paddle_model(x)\n",
    "print('Paddle_LeNet output: ', paddle_output)"
   ]
  },
  {
   "cell_type": "markdown",
   "metadata": {
    "collapsed": false
   },
   "source": [
    "可以看到，输出结果是一致的。"
   ]
  },
  {
   "cell_type": "markdown",
   "metadata": {
    "collapsed": false
   },
   "source": [
    "这里还可以统计一下LeNet-5模型的参数量和计算量。\n",
    "\n",
    "**参数量**\n",
    "\n",
    "按照公式(5.18)进行计算，可以得到：\n",
    "* 第一个卷积层的参数量为：$6 \\times 1 \\times 5 \\times 5 + 6 = 156$；\n",
    "* 第二个卷积层的参数量为：$16 \\times 6 \\times 5 \\times 5 + 16 = 2416$；\n",
    "* 第三个卷积层的参数量为：$120 \\times 16 \\times 5 \\times 5 + 120= 48120$；\n",
    "* 第一个全连接层的参数量为：$120 \\times 84 + 84= 10164$；\n",
    "* 第二个全连接层的参数量为：$84 \\times 10 + 10= 850$；\n",
    "\n",
    "所以，LeNet-5总的参数量为$61706$。"
   ]
  },
  {
   "cell_type": "markdown",
   "metadata": {
    "collapsed": false
   },
   "source": [
    "在飞桨中，还可以使用`paddle.summary`API自动计算参数量。"
   ]
  },
  {
   "cell_type": "code",
   "execution_count": null,
   "metadata": {
    "collapsed": false
   },
   "outputs": [],
   "source": [
    "model = Paddle_LeNet(in_channels=1, num_classes=10)\n",
    "params_info = paddle.summary(model, (1, 1, 32, 32))\n",
    "print(params_info)"
   ]
  },
  {
   "cell_type": "markdown",
   "metadata": {
    "collapsed": false
   },
   "source": [
    "可以看到，结果与公式推导一致。"
   ]
  },
  {
   "cell_type": "markdown",
   "metadata": {
    "collapsed": false
   },
   "source": [
    "**计算量**\n",
    "\n",
    "按照公式(5.19)进行计算，可以得到：\n",
    "* 第一个卷积层的计算量为：$28\\times 28\\times 5\\times 5\\times 6\\times 1 + 28\\times 28\\times 6=122304$；\n",
    "* 第二个卷积层的计算量为：$10\\times 10\\times 5\\times 5\\times 16\\times 6 + 10\\times 10\\times 16=241600$；\n",
    "* 第三个卷积层的计算量为：$1\\times 1\\times 5\\times 5\\times 120\\times 16 + 1\\times 1\\times 120=48120$；\n",
    "* 平均汇聚层的计算量为：$16\\times 5\\times 5=400$\n",
    "* 第一个全连接层的计算量为：$120 \\times 84 = 10080$；\n",
    "* 第二个全连接层的计算量为：$84 \\times 10 = 840$；\n",
    "\n",
    "所以，LeNet-5总的计算量为$423344$。"
   ]
  },
  {
   "cell_type": "markdown",
   "metadata": {
    "collapsed": false
   },
   "source": [
    "在飞桨中，还可以使用`paddle.flops`API自动统计计算量。"
   ]
  },
  {
   "cell_type": "code",
   "execution_count": null,
   "metadata": {
    "collapsed": false
   },
   "outputs": [
    {
     "name": "stdout",
     "output_type": "stream",
     "text": [
      "<class 'paddle.nn.layer.conv.Conv2D'>'s flops has been counted\n",
      "Cannot find suitable count function for <class 'paddle.nn.layer.pooling.MaxPool2D'>. Treat it as zero FLOPs.\n",
      "<class 'paddle.nn.layer.pooling.AvgPool2D'>'s flops has been counted\n",
      "<class 'paddle.nn.layer.common.Linear'>'s flops has been counted\n",
      "+--------------+-----------------+-----------------+--------+--------+\n",
      "|  Layer Name  |   Input Shape   |   Output Shape  | Params | Flops  |\n",
      "+--------------+-----------------+-----------------+--------+--------+\n",
      "|  conv2d_21   |  [1, 1, 32, 32] |  [1, 6, 28, 28] |  156   | 122304 |\n",
      "| max_pool2d_3 |  [1, 6, 28, 28] |  [1, 6, 14, 14] |   0    |   0    |\n",
      "|  conv2d_22   |  [1, 6, 14, 14] | [1, 16, 10, 10] |  2416  | 241600 |\n",
      "| avg_pool2d_3 | [1, 16, 10, 10] |  [1, 16, 5, 5]  |   0    |  400   |\n",
      "|  conv2d_23   |  [1, 16, 5, 5]  |  [1, 120, 1, 1] | 48120  | 48120  |\n",
      "|  linear_10   |     [1, 120]    |     [1, 84]     | 10164  | 10080  |\n",
      "|  linear_11   |     [1, 84]     |     [1, 10]     |  850   |  840   |\n",
      "+--------------+-----------------+-----------------+--------+--------+\n",
      "Total Flops: 423344     Total Params: 61706\n",
      "423344\n"
     ]
    }
   ],
   "source": [
    "FLOPs = paddle.flops(model, (1, 1, 32, 32), print_detail=True)\n",
    "print(FLOPs)"
   ]
  },
  {
   "cell_type": "markdown",
   "metadata": {
    "collapsed": false
   },
   "source": [
    "可以看到，结果与公式推导一致。"
   ]
  },
  {
   "cell_type": "markdown",
   "metadata": {
    "collapsed": false
   },
   "source": [
    "### 5.3.3 模型训练\n",
    "\n",
    "使用交叉熵损失函数，并用随机梯度下降法作为优化器来训练LeNet-5网络。\n",
    "用RunnerV3在训练集上训练5个epoch，并保存准确率最高的模型作为最佳模型。"
   ]
  },
  {
   "cell_type": "code",
   "execution_count": 16,
   "metadata": {
    "collapsed": false
   },
   "outputs": [
    {
     "name": "stdout",
     "output_type": "stream",
     "text": [
      "[Train] epoch: 0/5, step: 0/80, loss: 2.28455\n",
      "[Train] epoch: 0/5, step: 15/80, loss: 1.93600\n",
      "[Evaluate]  dev score: 0.38000, dev loss: 1.98255\n",
      "[Evaluate] best accuracy performence has been updated: 0.00000 --> 0.38000\n",
      "[Train] epoch: 1/5, step: 30/80, loss: 1.72429\n",
      "[Evaluate]  dev score: 0.63500, dev loss: 1.56296\n",
      "[Evaluate] best accuracy performence has been updated: 0.38000 --> 0.63500\n",
      "[Train] epoch: 2/5, step: 45/80, loss: 0.87373\n",
      "[Evaluate]  dev score: 0.72000, dev loss: 0.78202\n",
      "[Evaluate] best accuracy performence has been updated: 0.63500 --> 0.72000\n",
      "[Train] epoch: 3/5, step: 60/80, loss: 0.70869\n",
      "[Evaluate]  dev score: 0.75000, dev loss: 0.60713\n",
      "[Evaluate] best accuracy performence has been updated: 0.72000 --> 0.75000\n",
      "[Train] epoch: 4/5, step: 75/80, loss: 0.42060\n",
      "[Evaluate]  dev score: 0.87500, dev loss: 0.40498\n",
      "[Evaluate] best accuracy performence has been updated: 0.75000 --> 0.87500\n",
      "[Evaluate]  dev score: 0.75500, dev loss: 0.61064\n",
      "[Train] Training done!\n"
     ]
    }
   ],
   "source": [
    "import paddle.optimizer as opt\n",
    "from nndl import RunnerV3, metric\n",
    "\n",
    "paddle.seed(100)\n",
    "# 学习率大小\n",
    "lr = 0.1    \n",
    "# 批次大小\n",
    "batch_size = 64\n",
    "# 加载数据\n",
    "train_loader = io.DataLoader(train_dataset, batch_size=batch_size, shuffle=True)\n",
    "dev_loader = io.DataLoader(dev_dataset, batch_size=batch_size)\n",
    "test_loader = io.DataLoader(test_dataset, batch_size=batch_size)\n",
    "# 定义LeNet网络\n",
    "# 自定义算子实现的LeNet-5\n",
    "model = Model_LeNet(in_channels=1, num_classes=10)\n",
    "# 飞桨API实现的LeNet-5\n",
    "# model = Paddle_LeNet(in_channels=1, num_classes=10)\n",
    "# 定义优化器\n",
    "optimizer = opt.SGD(learning_rate=lr, parameters=model.parameters())\n",
    "# 定义损失函数\n",
    "loss_fn = F.cross_entropy\n",
    "# 定义评价指标\n",
    "metric = metric.Accuracy(is_logist=True)\n",
    "# 实例化 RunnerV3 类，并传入训练配置。\n",
    "runner = RunnerV3(model, optimizer, loss_fn, metric)\n",
    "# 启动训练\n",
    "log_steps = 15\n",
    "eval_steps = 15\n",
    "runner.train(train_loader, dev_loader, num_epochs=5, log_steps=log_steps, \n",
    "                eval_steps=eval_steps, save_path=\"best_model.pdparams\")          "
   ]
  },
  {
   "cell_type": "markdown",
   "metadata": {
    "collapsed": false
   },
   "source": [
    "可视化观察训练集与验证集的损失变化情况。"
   ]
  },
  {
   "cell_type": "code",
   "execution_count": 17,
   "metadata": {
    "collapsed": false
   },
   "outputs": [
    {
     "data": {
      "image/png": "[encoded data removed]",
      "text/plain": [
       "<Figure size 1152x432 with 2 Axes>"
      ]
     },
     "metadata": {},
     "output_type": "display_data"
    }
   ],
   "source": [
    "from nndl import plot_training_loss_acc\n",
    "plot_training_loss_acc(runner, 'cnn-loss1.pdf')"
   ]
  },
  {
   "cell_type": "markdown",
   "metadata": {
    "collapsed": false
   },
   "source": [
    "### 5.3.4 模型评价\n",
    "\n",
    "使用测试数据对在训练过程中保存的最佳模型进行评价，观察模型在测试集上的准确率以及损失变化情况。"
   ]
  },
  {
   "cell_type": "code",
   "execution_count": 18,
   "metadata": {
    "collapsed": false
   },
   "outputs": [
    {
     "name": "stdout",
     "output_type": "stream",
     "text": [
      "[Test] accuracy/loss: 0.8700/0.4423\n"
     ]
    }
   ],
   "source": [
    "# 加载最优模型\n",
    "runner.load_model('best_model.pdparams')\n",
    "# 模型评价\n",
    "score, loss = runner.evaluate(test_loader)\n",
    "print(\"[Test] accuracy/loss: {:.4f}/{:.4f}\".format(score, loss))"
   ]
  },
  {
   "cell_type": "markdown",
   "metadata": {
    "collapsed": false
   },
   "source": [
    "### 5.3.5 模型预测\n",
    "\n",
    "同样地，我们也可以使用保存好的模型，对测试集中的某一个数据进行模型预测，观察模型效果。"
   ]
  },
  {
   "cell_type": "code",
   "execution_count": 19,
   "metadata": {
    "collapsed": false
   },
   "outputs": [
    {
     "name": "stdout",
     "output_type": "stream",
     "text": [
      "The true category is 2 and the predicted category is 2\n"
     ]
    },
    {
     "data": {
      "image/png": "[encoded data removed]",
      "text/plain": [
       "<Figure size 144x144 with 1 Axes>"
      ]
     },
     "metadata": {},
     "output_type": "display_data"
    }
   ],
   "source": [
    "# 获取测试集中第一条数据\n",
    "X, label = next(test_loader())\n",
    "logits = runner.predict(X)\n",
    "# 多分类，使用softmax计算预测概率\n",
    "pred = F.softmax(logits)\n",
    "# 获取概率最大的类别\n",
    "pred_class = paddle.argmax(pred[1]).numpy()\n",
    "label = label[1][0].numpy()\n",
    "# 输出真实类别与预测类别\n",
    "print(\"The true category is {} and the predicted category is {}\".format(label[0], pred_class[0]))\n",
    "# 可视化图片\n",
    "plt.figure(figsize=(2, 2))\n",
    "image, label = test_set[0][1], test_set[1][1]\n",
    "image= np.array(image).astype('float32')\n",
    "image = np.reshape(image, [28,28])\n",
    "image = Image.fromarray(image.astype('uint8'), mode='L')\n",
    "plt.imshow(image)\n",
    "plt.savefig('cnn-number2.pdf')"
   ]
  },
  {
   "cell_type": "markdown",
   "metadata": {
    "collapsed": false
   },
   "source": [
    "## 5.4 基于残差网络的手写体数字识别实验"
   ]
  },
  {
   "cell_type": "markdown",
   "metadata": {
    "collapsed": false
   },
   "source": [
    "**残差网络**（Residual Network，ResNet）是在神经网络模型中给非线性层增加直连边的方式来缓解梯度消失问题，从而使训练深度神经网络变得更加容易。\n",
    "\n",
    "在残差网络中，最基本的单位为**残差单元**。\n",
    "\n",
    "假设$f(\\mathbf x;\\theta)$为一个或多个神经层，残差单元在$f()$的输入和输出之间加上一个**直连边**。\n",
    "\n",
    "不同于传统网络结构中让网络$f(x;\\theta)$去逼近一个目标函数$h(x)$，在残差网络中，将目标函数$h(x)$拆为了两个部分：恒等函数$x$和残差函数$h(x)-x$\n",
    "\n",
    "$$\n",
    "\\mathrm{ResBlock}_f(\\mathbf x) = f(\\mathbf x;\\theta) + \\mathbf x,（5.22）\n",
    "$$\n",
    "\n",
    "其中$\\theta$为可学习的参数。\n",
    "\n",
    "一个典型的残差单元如**图5.14**所示，由多个级联的卷积层和一个跨层的直连边组成。\n",
    "\n",
    "<center><img src=\"https://ai-studio-static-online.cdn.bcebos.com/cf14626bb6c54eb9840a7253975fdc995f165146c6324bdb8f9b943b96f57394\" width = \"200\"></center>\n",
    "<center><br>图5.14：残差单元结构</br></center>\n",
    "\n",
    "\n",
    "一个残差网络通常有很多个残差单元堆叠而成。下面我们来构建一个在计算机视觉中非常典型的残差网络：ResNet18，并重复上一节中的手写体数字识别任务。\n",
    "\n",
    "### 5.4.1 模型构建\n",
    "\n",
    "在本节中，我们先构建ResNet18的残差单元，然后在组建完整的网络。\n",
    "\n",
    "#### 5.4.1.1 残差单元\n",
    "\n",
    "这里，我们实现一个算子`ResBlock`来构建残差单元，其中定义了`use_residual`参数，用于在后续实验中控制是否使用残差连接。\n",
    "\n",
    "\n",
    "*******\n",
    "\n",
    "残差单元包裹的非线性层的输入和输出形状大小应该一致。如果一个卷积层的输入特征图和输出特征图的通道数不一致，则其输出与输入特征图无法直接相加。为了解决上述问题，我们可以使用$1 \\times 1$大小的卷积将输入特征图的通道数映射为与级联卷积输出特征图的一致通道数。\n",
    "\n",
    "$1 \\times 1$卷积：与标准卷积完全一样，唯一的特殊点在于卷积核的尺寸是$1 \\times 1$，也就是不去考虑输入数据局部信息之间的关系，而把关注点放在不同通道间。通过使用$1 \\times 1$卷积，可以起到如下作用：\n",
    "\n",
    "* 实现信息的跨通道交互与整合。考虑到卷积运算的输入输出都是3个维度（宽、高、多通道），所以$1 \\times 1$卷积实际上就是对每个像素点，在不同的通道上进行线性组合，从而整合不同通道的信息；\n",
    "* 对卷积核通道数进行降维和升维，减少参数量。经过$1 \\times 1$卷积后的输出保留了输入数据的原有平面结构，通过调控通道数，从而完成升维或降维的作用；\n",
    "* 利用$1 \\times 1$卷积后的非线性激活函数，在保持特征图尺寸不变的前提下，大幅增加非线性。\n",
    "\n",
    "*******"
   ]
  },
  {
   "cell_type": "code",
   "execution_count": 21,
   "metadata": {
    "collapsed": false
   },
   "outputs": [],
   "source": [
    "class ResBlock(nn.Layer):\n",
    "    def __init__(self, in_channels, out_channels, stride=1, use_residual=True):\n",
    "        \"\"\"\n",
    "        残差单元\n",
    "        输入：\n",
    "            - in_channels：输入通道数\n",
    "            - out_channels：输出通道数\n",
    "            - stride：残差单元的步长，通过调整残差单元中第一个卷积层的步长来控制\n",
    "            - use_residual：用于控制是否使用残差连接\n",
    "        \"\"\"\n",
    "        super(ResBlock, self).__init__()\n",
    "        self.stride = stride\n",
    "        self.use_residual = use_residual\n",
    "        # 第一个卷积层，卷积核大小为3×3，可以设置不同输出通道数以及步长\n",
    "        self.conv1 = nn.Conv2D(in_channels, out_channels, 3, padding=1, stride=self.stride, bias_attr=False)\n",
    "        # 第二个卷积层，卷积核大小为3×3，不改变输入特征图的形状，步长为1\n",
    "        self.conv2 = nn.Conv2D(out_channels, out_channels, 3, padding=1, bias_attr=False)\n",
    "        \n",
    "        # 如果conv2的输出和此残差块的输入数据形状不一致，则use_1x1conv = True\n",
    "        # 当use_1x1conv = True，添加1个1x1的卷积作用在输入数据上，使其形状变成跟conv2一致\n",
    "        if in_channels != out_channels or stride != 1:\n",
    "            self.use_1x1conv = True\n",
    "        else:\n",
    "            self.use_1x1conv = False\n",
    "        # 当残差单元包裹的非线性层输入和输出通道数不一致时，需要用1×1卷积调整通道数后再进行相加运算\n",
    "        if self.use_1x1conv:\n",
    "            self.shortcut = nn.Conv2D(in_channels, out_channels, 1, stride=self.stride, bias_attr=False)\n",
    "\n",
    "        # 每个卷积层后会接一个批量规范化层，批量规范化的内容在7.5.1中会进行详细介绍\n",
    "        self.bn1 = nn.BatchNorm2D(out_channels)\n",
    "        self.bn2 = nn.BatchNorm2D(out_channels)\n",
    "        if self.use_1x1conv:\n",
    "            self.bn3 = nn.BatchNorm2D(out_channels)\n",
    "\n",
    "    def forward(self, inputs):\n",
    "        y = F.relu(self.bn1(self.conv1(inputs)))\n",
    "        y = self.bn2(self.conv2(y))\n",
    "        if self.use_residual:\n",
    "            if self.use_1x1conv:  # 如果为真，对inputs进行1×1卷积，将形状调整成跟conv2的输出y一致\n",
    "                shortcut = self.shortcut(inputs)\n",
    "                shortcut = self.bn3(shortcut)\n",
    "            else: # 否则直接将inputs和conv2的输出y相加\n",
    "                shortcut = inputs\n",
    "            y = paddle.add(shortcut, y)\n",
    "        out = F.relu(y)\n",
    "        return out"
   ]
  },
  {
   "cell_type": "markdown",
   "metadata": {
    "collapsed": false
   },
   "source": [
    "#### 5.4.1.2 残差网络的整体结构\n",
    "\n",
    "残差网络就是将很多个残差单元串联起来构成的一个非常深的网络。ResNet18 的网络结构如**图5.16**所示。\n",
    "\n",
    "<center><img src=\"https://ai-studio-static-online.cdn.bcebos.com/16cb9fe0d0704940a829be1722fd6273b85209f198d143efb221f760d5f87f64\" width = \"700\"></center>\n",
    "<center><br>图5.16：残差网络</br></center>\n",
    "\n",
    "其中为了便于理解，可以将ResNet18网络划分为6个模块：\n",
    "\n",
    "* 第一模块：包含了一个步长为2，大小为$7 \\times 7$的卷积层，卷积层的输出通道数为64，卷积层的输出经过批量归一化、ReLU激活函数的处理后，接了一个步长为2的$3 \\times 3$的最大汇聚层；\n",
    "* 第二模块：包含了两个残差单元，经过运算后，输出通道数为64，特征图的尺寸保持不变；\n",
    "* 第三模块：包含了两个残差单元，经过运算后，输出通道数为128，特征图的尺寸缩小一半；\n",
    "* 第四模块：包含了两个残差单元，经过运算后，输出通道数为256，特征图的尺寸缩小一半；\n",
    "* 第五模块：包含了两个残差单元，经过运算后，输出通道数为512，特征图的尺寸缩小一半；\n",
    "* 第六模块：包含了一个全局平均汇聚层，将特征图变为$1 \\times 1$的大小，最终经过全连接层计算出最后的输出。\n",
    "\n",
    "ResNet18模型的代码实现如下："
   ]
  },
  {
   "cell_type": "markdown",
   "metadata": {
    "collapsed": false
   },
   "source": [
    "定义模块一。"
   ]
  },
  {
   "cell_type": "code",
   "execution_count": 22,
   "metadata": {
    "collapsed": false
   },
   "outputs": [],
   "source": [
    "def make_first_module(in_channels):\n",
    "    # 模块一：7*7卷积、批量规范化、汇聚\n",
    "    m1 = nn.Sequential(nn.Conv2D(in_channels, 64, 7, stride=2, padding=3),\n",
    "                    nn.BatchNorm2D(64), nn.ReLU(),\n",
    "                    nn.MaxPool2D(kernel_size=3, stride=2, padding=1))\n",
    "    return m1"
   ]
  },
  {
   "cell_type": "markdown",
   "metadata": {
    "collapsed": false
   },
   "source": [
    "定义模块二到模块五。"
   ]
  },
  {
   "cell_type": "code",
   "execution_count": 23,
   "metadata": {
    "collapsed": false
   },
   "outputs": [],
   "source": [
    "def resnet_module(input_channels, out_channels, num_res_blocks, stride=1, use_residual=True):\n",
    "    blk = []\n",
    "    # 根据num_res_blocks，循环生成残差单元\n",
    "    for i in range(num_res_blocks):\n",
    "        if i == 0: # 创建模块中的第一个残差单元\n",
    "            blk.append(ResBlock(input_channels, out_channels,\n",
    "                                stride=stride, use_residual=use_residual))\n",
    "        else:      # 创建模块中的其他残差单元\n",
    "            blk.append(ResBlock(out_channels, out_channels, use_residual=use_residual))\n",
    "    return blk"
   ]
  },
  {
   "cell_type": "markdown",
   "metadata": {
    "collapsed": false
   },
   "source": [
    "封装模块二到模块五。"
   ]
  },
  {
   "cell_type": "code",
   "execution_count": 24,
   "metadata": {
    "collapsed": false
   },
   "outputs": [],
   "source": [
    "def make_modules(use_residual):\n",
    "    # 模块二：包含两个残差单元，输入通道数为64，输出通道数为64，步长为1，特征图大小保持不变\n",
    "    m2 = nn.Sequential(*resnet_module(64, 64, 2, stride=1, use_residual=use_residual))\n",
    "    # 模块三：包含两个残差单元，输入通道数为64，输出通道数为128，步长为2，特征图大小缩小一半。\n",
    "    m3 = nn.Sequential(*resnet_module(64, 128, 2, stride=2, use_residual=use_residual))\n",
    "    # 模块四：包含两个残差单元，输入通道数为128，输出通道数为256，步长为2，特征图大小缩小一半。\n",
    "    m4 = nn.Sequential(*resnet_module(128, 256, 2, stride=2, use_residual=use_residual))\n",
    "    # 模块五：包含两个残差单元，输入通道数为256，输出通道数为512，步长为2，特征图大小缩小一半。\n",
    "    m5 = nn.Sequential(*resnet_module(256, 512, 2, stride=2, use_residual=use_residual))\n",
    "    return m2, m3, m4, m5"
   ]
  },
  {
   "cell_type": "markdown",
   "metadata": {
    "collapsed": false
   },
   "source": [
    "定义完整网络。"
   ]
  },
  {
   "cell_type": "code",
   "execution_count": 25,
   "metadata": {
    "collapsed": false
   },
   "outputs": [],
   "source": [
    "# 定义完整网络\n",
    "class Model_ResNet18(nn.Layer):\n",
    "    def __init__(self, in_channels=3, num_classes=10, use_residual=True):\n",
    "        super(Model_ResNet18,self).__init__()\n",
    "        m1 = make_first_module(in_channels)\n",
    "        m2, m3, m4, m5 = make_modules(use_residual)\n",
    "        # 封装模块一到模块6\n",
    "        self.net = nn.Sequential(m1, m2, m3, m4, m5,\n",
    "                        # 模块六：汇聚层、全连接层\n",
    "                        nn.AdaptiveAvgPool2D(1), nn.Flatten(), nn.Linear(512, num_classes) )\n",
    "\n",
    "    def forward(self, x):\n",
    "        return self.net(x)"
   ]
  },
  {
   "cell_type": "markdown",
   "metadata": {
    "collapsed": false
   },
   "source": [
    "这里同样可以使用`paddle.summary`统计模型的参数量。"
   ]
  },
  {
   "cell_type": "code",
   "execution_count": 26,
   "metadata": {
    "collapsed": false
   },
   "outputs": [
    {
     "name": "stdout",
     "output_type": "stream",
     "text": [
      "-------------------------------------------------------------------------------\n",
      "   Layer (type)         Input Shape          Output Shape         Param #    \n",
      "===============================================================================\n",
      "     Conv2D-22        [[1, 1, 32, 32]]     [1, 64, 16, 16]         3,200     \n",
      "   BatchNorm2D-1     [[1, 64, 16, 16]]     [1, 64, 16, 16]          256      \n",
      "      ReLU-1         [[1, 64, 16, 16]]     [1, 64, 16, 16]           0       \n",
      "    MaxPool2D-3      [[1, 64, 16, 16]]      [1, 64, 8, 8]            0       \n",
      "     Conv2D-23        [[1, 64, 8, 8]]       [1, 64, 8, 8]         36,864     \n",
      "   BatchNorm2D-2      [[1, 64, 8, 8]]       [1, 64, 8, 8]           256      \n",
      "     Conv2D-24        [[1, 64, 8, 8]]       [1, 64, 8, 8]         36,864     \n",
      "   BatchNorm2D-3      [[1, 64, 8, 8]]       [1, 64, 8, 8]           256      \n",
      "    ResBlock-1        [[1, 64, 8, 8]]       [1, 64, 8, 8]            0       \n",
      "     Conv2D-25        [[1, 64, 8, 8]]       [1, 64, 8, 8]         36,864     \n",
      "   BatchNorm2D-4      [[1, 64, 8, 8]]       [1, 64, 8, 8]           256      \n",
      "     Conv2D-26        [[1, 64, 8, 8]]       [1, 64, 8, 8]         36,864     \n",
      "   BatchNorm2D-5      [[1, 64, 8, 8]]       [1, 64, 8, 8]           256      \n",
      "    ResBlock-2        [[1, 64, 8, 8]]       [1, 64, 8, 8]            0       \n",
      "     Conv2D-27        [[1, 64, 8, 8]]       [1, 128, 4, 4]        73,728     \n",
      "   BatchNorm2D-6      [[1, 128, 4, 4]]      [1, 128, 4, 4]          512      \n",
      "     Conv2D-28        [[1, 128, 4, 4]]      [1, 128, 4, 4]        147,456    \n",
      "   BatchNorm2D-7      [[1, 128, 4, 4]]      [1, 128, 4, 4]          512      \n",
      "     Conv2D-29        [[1, 64, 8, 8]]       [1, 128, 4, 4]         8,192     \n",
      "   BatchNorm2D-8      [[1, 128, 4, 4]]      [1, 128, 4, 4]          512      \n",
      "    ResBlock-3        [[1, 64, 8, 8]]       [1, 128, 4, 4]           0       \n",
      "     Conv2D-30        [[1, 128, 4, 4]]      [1, 128, 4, 4]        147,456    \n",
      "   BatchNorm2D-9      [[1, 128, 4, 4]]      [1, 128, 4, 4]          512      \n",
      "     Conv2D-31        [[1, 128, 4, 4]]      [1, 128, 4, 4]        147,456    \n",
      "  BatchNorm2D-10      [[1, 128, 4, 4]]      [1, 128, 4, 4]          512      \n",
      "    ResBlock-4        [[1, 128, 4, 4]]      [1, 128, 4, 4]           0       \n",
      "     Conv2D-32        [[1, 128, 4, 4]]      [1, 256, 2, 2]        294,912    \n",
      "  BatchNorm2D-11      [[1, 256, 2, 2]]      [1, 256, 2, 2]         1,024     \n",
      "     Conv2D-33        [[1, 256, 2, 2]]      [1, 256, 2, 2]        589,824    \n",
      "  BatchNorm2D-12      [[1, 256, 2, 2]]      [1, 256, 2, 2]         1,024     \n",
      "     Conv2D-34        [[1, 128, 4, 4]]      [1, 256, 2, 2]        32,768     \n",
      "  BatchNorm2D-13      [[1, 256, 2, 2]]      [1, 256, 2, 2]         1,024     \n",
      "    ResBlock-5        [[1, 128, 4, 4]]      [1, 256, 2, 2]           0       \n",
      "     Conv2D-35        [[1, 256, 2, 2]]      [1, 256, 2, 2]        589,824    \n",
      "  BatchNorm2D-14      [[1, 256, 2, 2]]      [1, 256, 2, 2]         1,024     \n",
      "     Conv2D-36        [[1, 256, 2, 2]]      [1, 256, 2, 2]        589,824    \n",
      "  BatchNorm2D-15      [[1, 256, 2, 2]]      [1, 256, 2, 2]         1,024     \n",
      "    ResBlock-6        [[1, 256, 2, 2]]      [1, 256, 2, 2]           0       \n",
      "     Conv2D-37        [[1, 256, 2, 2]]      [1, 512, 1, 1]       1,179,648   \n",
      "  BatchNorm2D-16      [[1, 512, 1, 1]]      [1, 512, 1, 1]         2,048     \n",
      "     Conv2D-38        [[1, 512, 1, 1]]      [1, 512, 1, 1]       2,359,296   \n",
      "  BatchNorm2D-17      [[1, 512, 1, 1]]      [1, 512, 1, 1]         2,048     \n",
      "     Conv2D-39        [[1, 256, 2, 2]]      [1, 512, 1, 1]        131,072    \n",
      "  BatchNorm2D-18      [[1, 512, 1, 1]]      [1, 512, 1, 1]         2,048     \n",
      "    ResBlock-7        [[1, 256, 2, 2]]      [1, 512, 1, 1]           0       \n",
      "     Conv2D-40        [[1, 512, 1, 1]]      [1, 512, 1, 1]       2,359,296   \n",
      "  BatchNorm2D-19      [[1, 512, 1, 1]]      [1, 512, 1, 1]         2,048     \n",
      "     Conv2D-41        [[1, 512, 1, 1]]      [1, 512, 1, 1]       2,359,296   \n",
      "  BatchNorm2D-20      [[1, 512, 1, 1]]      [1, 512, 1, 1]         2,048     \n",
      "    ResBlock-8        [[1, 512, 1, 1]]      [1, 512, 1, 1]           0       \n",
      "AdaptiveAvgPool2D-1   [[1, 512, 1, 1]]      [1, 512, 1, 1]           0       \n",
      "     Flatten-1        [[1, 512, 1, 1]]         [1, 512]              0       \n",
      "     Linear-11           [[1, 512]]            [1, 10]             5,130     \n",
      "===============================================================================\n",
      "Total params: 11,185,034\n",
      "Trainable params: 11,165,834\n",
      "Non-trainable params: 19,200\n",
      "-------------------------------------------------------------------------------\n",
      "Input size (MB): 0.00\n",
      "Forward/backward pass size (MB): 1.05\n",
      "Params size (MB): 42.67\n",
      "Estimated Total Size (MB): 43.73\n",
      "-------------------------------------------------------------------------------\n",
      "\n",
      "{'total_params': 11185034, 'trainable_params': 11165834}\n"
     ]
    }
   ],
   "source": [
    "model = Model_ResNet18(in_channels=1, num_classes=10, use_residual=True)\n",
    "params_info = paddle.summary(model, (1, 1, 32, 32))\n",
    "print(params_info)"
   ]
  },
  {
   "cell_type": "markdown",
   "metadata": {
    "collapsed": false
   },
   "source": [
    "使用`paddle.flops`统计模型的计算量。"
   ]
  },
  {
   "cell_type": "code",
   "execution_count": 27,
   "metadata": {
    "collapsed": false
   },
   "outputs": [
    {
     "name": "stdout",
     "output_type": "stream",
     "text": [
      "<class 'paddle.nn.layer.conv.Conv2D'>'s flops has been counted\n",
      "<class 'paddle.nn.layer.norm.BatchNorm2D'>'s flops has been counted\n",
      "<class 'paddle.nn.layer.activation.ReLU'>'s flops has been counted\n",
      "Cannot find suitable count function for <class 'paddle.nn.layer.pooling.MaxPool2D'>. Treat it as zero FLOPs.\n",
      "<class 'paddle.nn.layer.pooling.AdaptiveAvgPool2D'>'s flops has been counted\n",
      "Cannot find suitable count function for <class 'paddle.fluid.dygraph.nn.Flatten'>. Treat it as zero FLOPs.\n",
      "<class 'paddle.nn.layer.common.Linear'>'s flops has been counted\n",
      "+-----------------------+-----------------+-----------------+---------+---------+\n",
      "|       Layer Name      |   Input Shape   |   Output Shape  |  Params |  Flops  |\n",
      "+-----------------------+-----------------+-----------------+---------+---------+\n",
      "|       conv2d_21       |  [1, 1, 32, 32] | [1, 64, 16, 16] |   3200  |  819200 |\n",
      "|     batch_norm2d_0    | [1, 64, 16, 16] | [1, 64, 16, 16] |   256   |  32768  |\n",
      "|        re_lu_0        | [1, 64, 16, 16] | [1, 64, 16, 16] |    0    |    0    |\n",
      "|      max_pool2d_2     | [1, 64, 16, 16] |  [1, 64, 8, 8]  |    0    |    0    |\n",
      "|       conv2d_22       |  [1, 64, 8, 8]  |  [1, 64, 8, 8]  |  36864  | 2359296 |\n",
      "|       conv2d_23       |  [1, 64, 8, 8]  |  [1, 64, 8, 8]  |  36864  | 2359296 |\n",
      "|     batch_norm2d_1    |  [1, 64, 8, 8]  |  [1, 64, 8, 8]  |   256   |   8192  |\n",
      "|     batch_norm2d_2    |  [1, 64, 8, 8]  |  [1, 64, 8, 8]  |   256   |   8192  |\n",
      "|       conv2d_24       |  [1, 64, 8, 8]  |  [1, 64, 8, 8]  |  36864  | 2359296 |\n",
      "|       conv2d_25       |  [1, 64, 8, 8]  |  [1, 64, 8, 8]  |  36864  | 2359296 |\n",
      "|     batch_norm2d_3    |  [1, 64, 8, 8]  |  [1, 64, 8, 8]  |   256   |   8192  |\n",
      "|     batch_norm2d_4    |  [1, 64, 8, 8]  |  [1, 64, 8, 8]  |   256   |   8192  |\n",
      "|       conv2d_26       |  [1, 64, 8, 8]  |  [1, 128, 4, 4] |  73728  | 1179648 |\n",
      "|       conv2d_27       |  [1, 128, 4, 4] |  [1, 128, 4, 4] |  147456 | 2359296 |\n",
      "|       conv2d_28       |  [1, 64, 8, 8]  |  [1, 128, 4, 4] |   8192  |  131072 |\n",
      "|     batch_norm2d_5    |  [1, 128, 4, 4] |  [1, 128, 4, 4] |   512   |   4096  |\n",
      "|     batch_norm2d_6    |  [1, 128, 4, 4] |  [1, 128, 4, 4] |   512   |   4096  |\n",
      "|     batch_norm2d_7    |  [1, 128, 4, 4] |  [1, 128, 4, 4] |   512   |   4096  |\n",
      "|       conv2d_29       |  [1, 128, 4, 4] |  [1, 128, 4, 4] |  147456 | 2359296 |\n",
      "|       conv2d_30       |  [1, 128, 4, 4] |  [1, 128, 4, 4] |  147456 | 2359296 |\n",
      "|     batch_norm2d_8    |  [1, 128, 4, 4] |  [1, 128, 4, 4] |   512   |   4096  |\n",
      "|     batch_norm2d_9    |  [1, 128, 4, 4] |  [1, 128, 4, 4] |   512   |   4096  |\n",
      "|       conv2d_31       |  [1, 128, 4, 4] |  [1, 256, 2, 2] |  294912 | 1179648 |\n",
      "|       conv2d_32       |  [1, 256, 2, 2] |  [1, 256, 2, 2] |  589824 | 2359296 |\n",
      "|       conv2d_33       |  [1, 128, 4, 4] |  [1, 256, 2, 2] |  32768  |  131072 |\n",
      "|    batch_norm2d_10    |  [1, 256, 2, 2] |  [1, 256, 2, 2] |   1024  |   2048  |\n",
      "|    batch_norm2d_11    |  [1, 256, 2, 2] |  [1, 256, 2, 2] |   1024  |   2048  |\n",
      "|    batch_norm2d_12    |  [1, 256, 2, 2] |  [1, 256, 2, 2] |   1024  |   2048  |\n",
      "|       conv2d_34       |  [1, 256, 2, 2] |  [1, 256, 2, 2] |  589824 | 2359296 |\n",
      "|       conv2d_35       |  [1, 256, 2, 2] |  [1, 256, 2, 2] |  589824 | 2359296 |\n",
      "|    batch_norm2d_13    |  [1, 256, 2, 2] |  [1, 256, 2, 2] |   1024  |   2048  |\n",
      "|    batch_norm2d_14    |  [1, 256, 2, 2] |  [1, 256, 2, 2] |   1024  |   2048  |\n",
      "|       conv2d_36       |  [1, 256, 2, 2] |  [1, 512, 1, 1] | 1179648 | 1179648 |\n",
      "|       conv2d_37       |  [1, 512, 1, 1] |  [1, 512, 1, 1] | 2359296 | 2359296 |\n",
      "|       conv2d_38       |  [1, 256, 2, 2] |  [1, 512, 1, 1] |  131072 |  131072 |\n",
      "|    batch_norm2d_15    |  [1, 512, 1, 1] |  [1, 512, 1, 1] |   2048  |   1024  |\n",
      "|    batch_norm2d_16    |  [1, 512, 1, 1] |  [1, 512, 1, 1] |   2048  |   1024  |\n",
      "|    batch_norm2d_17    |  [1, 512, 1, 1] |  [1, 512, 1, 1] |   2048  |   1024  |\n",
      "|       conv2d_39       |  [1, 512, 1, 1] |  [1, 512, 1, 1] | 2359296 | 2359296 |\n",
      "|       conv2d_40       |  [1, 512, 1, 1] |  [1, 512, 1, 1] | 2359296 | 2359296 |\n",
      "|    batch_norm2d_18    |  [1, 512, 1, 1] |  [1, 512, 1, 1] |   2048  |   1024  |\n",
      "|    batch_norm2d_19    |  [1, 512, 1, 1] |  [1, 512, 1, 1] |   2048  |   1024  |\n",
      "| adaptive_avg_pool2d_0 |  [1, 512, 1, 1] |  [1, 512, 1, 1] |    0    |   1024  |\n",
      "|       flatten_0       |  [1, 512, 1, 1] |     [1, 512]    |    0    |    0    |\n",
      "|       linear_10       |     [1, 512]    |     [1, 10]     |   5130  |   5120  |\n",
      "+-----------------------+-----------------+-----------------+---------+---------+\n",
      "Total Flops: 35529728     Total Params: 11185034\n",
      "35529728\n"
     ]
    },
    {
     "name": "stderr",
     "output_type": "stream",
     "text": [
      "/opt/conda/envs/python35-paddle120-env/lib/python3.7/site-packages/paddle/tensor/creation.py:130: DeprecationWarning: `np.object` is a deprecated alias for the builtin `object`. To silence this warning, use `object` by itself. Doing this will not modify any behavior and is safe. \n",
      "Deprecated in NumPy 1.20; for more details and guidance: https://numpy.org/devdocs/release/1.20.0-notes.html#deprecations\n",
      "  if data.dtype == np.object:\n"
     ]
    }
   ],
   "source": [
    "FLOPs = paddle.flops(model, (1, 1, 32, 32), print_detail=True)\n",
    "print(FLOPs)"
   ]
  },
  {
   "cell_type": "markdown",
   "metadata": {
    "collapsed": false
   },
   "source": [
    "为了验证残差连接对深层卷积神经网络的训练可以起到促进作用，接下来先使用ResNet18（use_residual设置为False）进行手写数字识别实验，再添加残差连接（use_residual设置为True），观察实验对比效果。"
   ]
  },
  {
   "cell_type": "markdown",
   "metadata": {
    "collapsed": false
   },
   "source": [
    "### 5.4.2 没有残差连接的ResNet18\n",
    "\n",
    "为了验证残差连接的效果，先使用没有残差连接的ResNet18进行实验。\n",
    "\n",
    "#### 5.4.2.1 模型训练\n",
    "\n",
    "使用训练集和验证集进行模型训练，共训练5个epoch。在实验中，保存准确率最高的模型作为最佳模型。代码实现如下"
   ]
  },
  {
   "cell_type": "code",
   "execution_count": 28,
   "metadata": {
    "collapsed": false
   },
   "outputs": [
    {
     "name": "stderr",
     "output_type": "stream",
     "text": [
      "/opt/conda/envs/python35-paddle120-env/lib/python3.7/site-packages/paddle/nn/layer/norm.py:653: UserWarning: When training, we now always track global mean and variance.\n",
      "  \"When training, we now always track global mean and variance.\")\n"
     ]
    },
    {
     "name": "stdout",
     "output_type": "stream",
     "text": [
      "[Train] epoch: 0/5, step: 0/80, loss: 2.53809\n",
      "[Train] epoch: 0/5, step: 15/80, loss: 1.82928\n",
      "[Evaluate]  dev score: 0.18500, dev loss: 2.20912\n",
      "[Evaluate] best accuracy performence has been updated: 0.00000 --> 0.18500\n",
      "[Train] epoch: 1/5, step: 30/80, loss: 0.98511\n",
      "[Evaluate]  dev score: 0.59000, dev loss: 1.35768\n",
      "[Evaluate] best accuracy performence has been updated: 0.18500 --> 0.59000\n",
      "[Train] epoch: 2/5, step: 45/80, loss: 0.62413\n",
      "[Evaluate]  dev score: 0.72000, dev loss: 0.81154\n",
      "[Evaluate] best accuracy performence has been updated: 0.59000 --> 0.72000\n",
      "[Train] epoch: 3/5, step: 60/80, loss: 0.33644\n",
      "[Evaluate]  dev score: 0.77000, dev loss: 0.68273\n",
      "[Evaluate] best accuracy performence has been updated: 0.72000 --> 0.77000\n",
      "[Train] epoch: 4/5, step: 75/80, loss: 0.16001\n",
      "[Evaluate]  dev score: 0.81000, dev loss: 0.60809\n",
      "[Evaluate] best accuracy performence has been updated: 0.77000 --> 0.81000\n",
      "[Evaluate]  dev score: 0.79000, dev loss: 0.62241\n",
      "[Train] Training done!\n"
     ]
    },
    {
     "data": {
      "image/png": "[encoded data removed]",
      "text/plain": [
       "<Figure size 1152x432 with 2 Axes>"
      ]
     },
     "metadata": {},
     "output_type": "display_data"
    }
   ],
   "source": [
    "from nndl import plot\n",
    "\n",
    "paddle.seed(100)\n",
    "# 学习率大小\n",
    "lr = 0.005  \n",
    "# 批次大小\n",
    "batch_size = 64\n",
    "# 加载数据\n",
    "train_loader = io.DataLoader(train_dataset, batch_size=batch_size, shuffle=True)\n",
    "dev_loader = io.DataLoader(dev_dataset, batch_size=batch_size)\n",
    "test_loader = io.DataLoader(test_dataset, batch_size=batch_size)\n",
    "# 定义网络，不使用残差结构的深层网络\n",
    "model = Model_ResNet18(in_channels=1, num_classes=10, use_residual=False)\n",
    "# 定义优化器\n",
    "optimizer = opt.SGD(learning_rate=lr, parameters=model.parameters())\n",
    "# 实例化RunnerV3\n",
    "runner = RunnerV3(model, optimizer, loss_fn, metric)\n",
    "# 启动训练\n",
    "log_steps = 15\n",
    "eval_steps = 15\n",
    "runner.train(train_loader, dev_loader, num_epochs=5, log_steps=log_steps, \n",
    "            eval_steps=eval_steps, save_path=\"best_model.pdparams\")\n",
    "# 可视化观察训练集与验证集的Loss变化情况\n",
    "plot_training_loss_acc(runner, 'cnn-loss2.pdf')"
   ]
  },
  {
   "cell_type": "markdown",
   "metadata": {
    "collapsed": false
   },
   "source": [
    "#### 5.4.2.2 模型评价\n",
    "\n",
    "使用测试数据对在训练过程中保存的最佳模型进行评价，观察模型在测试集上的准确率以及损失情况。代码实现如下"
   ]
  },
  {
   "cell_type": "code",
   "execution_count": 29,
   "metadata": {
    "collapsed": false
   },
   "outputs": [
    {
     "name": "stdout",
     "output_type": "stream",
     "text": [
      "[Test] accuracy/loss: 0.8100/0.5841\n"
     ]
    }
   ],
   "source": [
    "# 加载最优模型\n",
    "runner.load_model('best_model.pdparams')\n",
    "# 模型评价\n",
    "score, loss = runner.evaluate(test_loader)\n",
    "print(\"[Test] accuracy/loss: {:.4f}/{:.4f}\".format(score, loss))"
   ]
  },
  {
   "cell_type": "markdown",
   "metadata": {
    "collapsed": false
   },
   "source": [
    "从输出结果看，对比LeNet-5模型评价实验结果，网络层级加深后，训练效果不升反降。"
   ]
  },
  {
   "cell_type": "markdown",
   "metadata": {
    "collapsed": false
   },
   "source": [
    "### 5.4.3 带残差连接的ResNet18\n",
    "\n",
    "#### 5.4.3.1 模型训练\n",
    "\n",
    "使用带残差连接的ResNet18重复上面的实验，代码实现如下："
   ]
  },
  {
   "cell_type": "code",
   "execution_count": 30,
   "metadata": {
    "collapsed": false
   },
   "outputs": [
    {
     "name": "stdout",
     "output_type": "stream",
     "text": [
      "[Train] epoch: 0/5, step: 0/80, loss: 3.41889\n",
      "[Train] epoch: 0/5, step: 15/80, loss: 0.81710\n",
      "[Evaluate]  dev score: 0.53500, dev loss: 1.37067\n",
      "[Evaluate] best accuracy performence has been updated: 0.00000 --> 0.53500\n",
      "[Train] epoch: 1/5, step: 30/80, loss: 0.31470\n",
      "[Evaluate]  dev score: 0.81500, dev loss: 0.55274\n",
      "[Evaluate] best accuracy performence has been updated: 0.53500 --> 0.81500\n",
      "[Train] epoch: 2/5, step: 45/80, loss: 0.02694\n",
      "[Evaluate]  dev score: 0.87000, dev loss: 0.35305\n",
      "[Evaluate] best accuracy performence has been updated: 0.81500 --> 0.87000\n",
      "[Train] epoch: 3/5, step: 60/80, loss: 0.01007\n",
      "[Evaluate]  dev score: 0.86000, dev loss: 0.31423\n",
      "[Train] epoch: 4/5, step: 75/80, loss: 0.01729\n",
      "[Evaluate]  dev score: 0.87000, dev loss: 0.31510\n",
      "[Evaluate]  dev score: 0.86500, dev loss: 0.30383\n",
      "[Train] Training done!\n"
     ]
    },
    {
     "data": {
      "image/png": "[encoded data removed]",
      "text/plain": [
       "<Figure size 1152x432 with 2 Axes>"
      ]
     },
     "metadata": {},
     "output_type": "display_data"
    }
   ],
   "source": [
    "# 学习率大小\n",
    "lr = 0.01  \n",
    "# 批次大小\n",
    "batch_size = 64\n",
    "# 加载数据\n",
    "train_loader = io.DataLoader(train_dataset, batch_size=batch_size, shuffle=True)\n",
    "dev_loader = io.DataLoader(dev_dataset, batch_size=batch_size)\n",
    "test_loader = io.DataLoader(test_dataset, batch_size=batch_size)\n",
    "# 定义网络，通过指定use_residual为True，使用残差结构的深层网络\n",
    "model = Model_ResNet18(in_channels=1, num_classes=10, use_residual=True)\n",
    "# 定义优化器\n",
    "optimizer = opt.SGD(learning_rate=lr, parameters=model.parameters())\n",
    "# 实例化RunnerV3\n",
    "runner = RunnerV3(model, optimizer, loss_fn, metric)\n",
    "# 启动训练\n",
    "log_steps = 15\n",
    "eval_steps = 15\n",
    "runner.train(train_loader, dev_loader, num_epochs=5, log_steps=log_steps, \n",
    "            eval_steps=eval_steps, save_path=\"best_model.pdparams\")\n",
    "\n",
    "# 可视化观察训练集与验证集的Loss变化情况\n",
    "plot_training_loss_acc(runner, 'cnn-loss3.pdf')"
   ]
  },
  {
   "cell_type": "markdown",
   "metadata": {
    "collapsed": false
   },
   "source": [
    "#### 5.4.3.2 模型评价\n",
    "\n",
    "使用测试数据对在训练过程中保存的最佳模型进行评价，观察模型在测试集上的准确率以及损失情况。"
   ]
  },
  {
   "cell_type": "code",
   "execution_count": 31,
   "metadata": {
    "collapsed": false
   },
   "outputs": [
    {
     "name": "stdout",
     "output_type": "stream",
     "text": [
      "[Test] accuracy/loss: 0.8800/0.3523\n"
     ]
    }
   ],
   "source": [
    "# 加载最优模型\n",
    "runner.load_model('best_model.pdparams')\n",
    "# 模型评价\n",
    "score, loss = runner.evaluate(test_loader)\n",
    "print(\"[Test] accuracy/loss: {:.4f}/{:.4f}\".format(score, loss))"
   ]
  },
  {
   "cell_type": "markdown",
   "metadata": {
    "collapsed": false
   },
   "source": [
    "添加了残差连接后，模型收敛曲线更平滑。\n",
    "从输出结果看，和不使用残差连接的ResNet相比，添加了残差连接后，模型效果有了一定的提升。"
   ]
  },
  {
   "cell_type": "markdown",
   "metadata": {
    "collapsed": false
   },
   "source": [
    "### 5.4.4 与高层API实现版本的对比实验\n",
    "\n",
    "对于Reset18这种比较经典的图像分类网络，飞桨高层API中都为大家提供了实现好的版本，大家可以不再从头开始实现。这里为高层API版本的resnet18模型和自定义的resnet18模型赋予相同的权重，并使用相同的输入数据，观察输出结果是否一致。"
   ]
  },
  {
   "cell_type": "code",
   "execution_count": null,
   "metadata": {
    "collapsed": false
   },
   "outputs": [
    {
     "name": "stderr",
     "output_type": "stream",
     "text": [
      "/opt/conda/envs/python35-paddle120-env/lib/python3.7/site-packages/paddle/fluid/dygraph/layers.py:1441: UserWarning: Skip loading for net.0.0.bias. net.0.0.bias is not found in the provided dict.\n",
      "  warnings.warn((\"Skip loading for {}. \".format(key) + str(err)))\n",
      "/opt/conda/envs/python35-paddle120-env/lib/python3.7/site-packages/paddle/fluid/dygraph/layers.py:1441: UserWarning: Skip loading for net.2.0.bn3.weight. net.2.0.bn3.weight is not found in the provided dict.\n",
      "  warnings.warn((\"Skip loading for {}. \".format(key) + str(err)))\n",
      "/opt/conda/envs/python35-paddle120-env/lib/python3.7/site-packages/paddle/fluid/dygraph/layers.py:1441: UserWarning: Skip loading for net.2.0.bn3.bias. net.2.0.bn3.bias is not found in the provided dict.\n",
      "  warnings.warn((\"Skip loading for {}. \".format(key) + str(err)))\n",
      "/opt/conda/envs/python35-paddle120-env/lib/python3.7/site-packages/paddle/fluid/dygraph/layers.py:1441: UserWarning: Skip loading for net.2.0.bn3._mean. net.2.0.bn3._mean is not found in the provided dict.\n",
      "  warnings.warn((\"Skip loading for {}. \".format(key) + str(err)))\n",
      "/opt/conda/envs/python35-paddle120-env/lib/python3.7/site-packages/paddle/fluid/dygraph/layers.py:1441: UserWarning: Skip loading for net.2.0.bn3._variance. net.2.0.bn3._variance is not found in the provided dict.\n",
      "  warnings.warn((\"Skip loading for {}. \".format(key) + str(err)))\n",
      "/opt/conda/envs/python35-paddle120-env/lib/python3.7/site-packages/paddle/fluid/dygraph/layers.py:1441: UserWarning: Skip loading for net.3.0.bn3.weight. net.3.0.bn3.weight is not found in the provided dict.\n",
      "  warnings.warn((\"Skip loading for {}. \".format(key) + str(err)))\n",
      "/opt/conda/envs/python35-paddle120-env/lib/python3.7/site-packages/paddle/fluid/dygraph/layers.py:1441: UserWarning: Skip loading for net.3.0.bn3.bias. net.3.0.bn3.bias is not found in the provided dict.\n",
      "  warnings.warn((\"Skip loading for {}. \".format(key) + str(err)))\n",
      "/opt/conda/envs/python35-paddle120-env/lib/python3.7/site-packages/paddle/fluid/dygraph/layers.py:1441: UserWarning: Skip loading for net.3.0.bn3._mean. net.3.0.bn3._mean is not found in the provided dict.\n",
      "  warnings.warn((\"Skip loading for {}. \".format(key) + str(err)))\n",
      "/opt/conda/envs/python35-paddle120-env/lib/python3.7/site-packages/paddle/fluid/dygraph/layers.py:1441: UserWarning: Skip loading for net.3.0.bn3._variance. net.3.0.bn3._variance is not found in the provided dict.\n",
      "  warnings.warn((\"Skip loading for {}. \".format(key) + str(err)))\n",
      "/opt/conda/envs/python35-paddle120-env/lib/python3.7/site-packages/paddle/fluid/dygraph/layers.py:1441: UserWarning: Skip loading for net.4.0.bn3.weight. net.4.0.bn3.weight is not found in the provided dict.\n",
      "  warnings.warn((\"Skip loading for {}. \".format(key) + str(err)))\n",
      "/opt/conda/envs/python35-paddle120-env/lib/python3.7/site-packages/paddle/fluid/dygraph/layers.py:1441: UserWarning: Skip loading for net.4.0.bn3.bias. net.4.0.bn3.bias is not found in the provided dict.\n",
      "  warnings.warn((\"Skip loading for {}. \".format(key) + str(err)))\n",
      "/opt/conda/envs/python35-paddle120-env/lib/python3.7/site-packages/paddle/fluid/dygraph/layers.py:1441: UserWarning: Skip loading for net.4.0.bn3._mean. net.4.0.bn3._mean is not found in the provided dict.\n",
      "  warnings.warn((\"Skip loading for {}. \".format(key) + str(err)))\n",
      "/opt/conda/envs/python35-paddle120-env/lib/python3.7/site-packages/paddle/fluid/dygraph/layers.py:1441: UserWarning: Skip loading for net.4.0.bn3._variance. net.4.0.bn3._variance is not found in the provided dict.\n",
      "  warnings.warn((\"Skip loading for {}. \".format(key) + str(err)))\n"
     ]
    },
    {
     "name": "stdout",
     "output_type": "stream",
     "text": [
      "Tensor(shape=[1], dtype=float32, place=CUDAPlace(0), stop_gradient=False,\n",
      "       [0.])\n"
     ]
    }
   ],
   "source": [
    "from paddle.vision.models import resnet18\n",
    "import warnings\n",
    "#warnings.filterwarnings(\"ignore\")\n",
    "\n",
    "# 使用飞桨HAPI中实现的resnet18模型，该模型默认输入通道数为3，输出类别数1000\n",
    "hapi_model = resnet18()\n",
    "# 自定义的resnet18模型\n",
    "model = Model_ResNet18(in_channels=3, num_classes=1000, use_residual=True)\n",
    "\n",
    "# 获取网络的权重\n",
    "params = hapi_model.state_dict()\n",
    "# 用来保存参数名映射后的网络权重\n",
    "new_params = {}\n",
    "# 将参数名进行映射\n",
    "for key in params:\n",
    "    if 'layer' in key:\n",
    "        if 'downsample.0' in key:\n",
    "            new_params['net.' + key[5:8] + '.shortcut' + key[-7:]] = params[key]\n",
    "        elif 'downsample.1' in key:\n",
    "            new_params['net.' + key[5:8] + '.shorcutt' + key[23:]] = params[key]\n",
    "        else:\n",
    "            new_params['net.' + key[5:]] = params[key]\n",
    "    elif 'conv1.weight' == key:\n",
    "        new_params['net.0.0.weight'] = params[key]\n",
    "    elif 'bn1' in key:\n",
    "        new_params['net.0.1' + key[3:]] = params[key]\n",
    "    elif 'fc' in key:\n",
    "        new_params['net.7' + key[2:]] = params[key]\n",
    "\n",
    "# 将飞桨HAPI中实现的resnet18模型的权重参数赋予自定义的resnet18模型，保持两者一致\n",
    "model.set_state_dict(new_params)\n",
    "\n",
    "# 这里用np.random创建一个随机数组作为测试数据\n",
    "inputs = np.random.randn(*[1,3,32,32])\n",
    "inputs = inputs.astype('float32')\n",
    "x = paddle.to_tensor(inputs)\n",
    "\n",
    "output = model(x)\n",
    "hapi_out = hapi_model(x)\n",
    "\n",
    "# 计算两个模型输出的差异\n",
    "diff = output - hapi_out\n",
    "# 取差异最大的值\n",
    "max_diff = paddle.max(diff)\n",
    "print(max_diff)"
   ]
  },
  {
   "cell_type": "markdown",
   "metadata": {
    "collapsed": false
   },
   "source": [
    "可以看到，高层API版本的resnet18模型和自定义的resnet18模型输出结果是一致的，也就说明两个模型的实现完全一样。"
   ]
  }
 ],
 "metadata": {
  "kernelspec": {
   "display_name": "Python 3",
   "language": "python",
   "name": "py35-paddle1.2.0"
  },
  "language_info": {
   "codemirror_mode": {
    "name": "ipython",
    "version": 3
   },
   "file_extension": ".py",
   "mimetype": "text/x-python",
   "name": "python",
   "nbconvert_exporter": "python",
   "pygments_lexer": "ipython3",
   "version": "3.7.4"
  }
 },
 "nbformat": 4,
 "nbformat_minor": 1
}
