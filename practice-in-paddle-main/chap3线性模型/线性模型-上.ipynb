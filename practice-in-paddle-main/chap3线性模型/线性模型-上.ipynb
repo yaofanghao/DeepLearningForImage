{
 "cells": [
  {
   "cell_type": "markdown",
   "metadata": {
    "collapsed": false
   },
   "source": [
    "# 第3章 线性分类\n",
    "\n",
    "分类是机器学习中最常见的一类任务，其预测标签是一些离散的类别（符号）。根据分类任务的类别数量又可以分为二分类任务和多分类任务。\n",
    "\n",
    "线性分类是指利用一个或多个线性函数将样本进行分类。常用的线性分类模型有Logistic回归和Softmax回归。\n",
    "Logistic回归是一种常用的处理二分类问题的线性模型。Softmax回归是Logistic回归在多分类问题上的推广。\n",
    "\n",
    "在学习本章内容前，建议您先阅读《神经网络与深度学习》第3章：线性模型的相关内容，关键知识点如 **图3.1** 所示，以便更好的理解和掌握相应的理论知识，及其在实践中的应用方法。\n",
    "\n",
    "<center><img src=\"https://ai-studio-static-online.cdn.bcebos.com/797cd285fbb14112944378971ddf402a7a7f3d8fdc41461ebd4373b3770a3b46\" width=400></center>\n",
    "<br><center>图3.1 线性模型关键知识点回顾</center></br>\n",
    "\n",
    "本章内容基于 **《神经网络与深度学习》第3章：线性模型** 相关内容进行设计，主要包含两部分：\n",
    "\n",
    "* **模型解读**：介绍两个最常用的线性分类模型Logistic回归和Softmax回归的原理剖析和相应的代码实现。通过理论和代码的结合，加深对线性模型的理解；\n",
    "\n",
    "* **案例实践**：基于Softmax回归算法完成鸢尾花分类任务。"
   ]
  },
  {
   "cell_type": "markdown",
   "metadata": {
    "collapsed": false
   },
   "source": [
    "## 3.1 基于Logistic回归的二分类任务\n",
    "\n",
    "在本节中，我们实现一个Logistic回归模型，并对一个简单的数据集进行二分类实验。"
   ]
  },
  {
   "cell_type": "markdown",
   "metadata": {
    "collapsed": false
   },
   "source": [
    "### 3.1.1 数据集构建\n",
    "\n",
    "我们首先构建一个简单的分类任务，并构建训练集、验证集和测试集。\n",
    "本任务的数据来自带噪音的两个弯月形状函数，每个弯月对一个类别。我们采集1000条样本，每个样本包含2个特征。\n",
    "\n",
    "数据集的构建函数`make_moons`的代码实现如下："
   ]
  },
  {
   "cell_type": "code",
   "execution_count": 1,
   "metadata": {
    "collapsed": false
   },
   "outputs": [],
   "source": [
    "import math\n",
    "import copy\n",
    "import paddle\n",
    "\n",
    "def make_moons(n_samples=1000, shuffle=True, noise=None):\n",
    "    \"\"\"\n",
    "    生成带噪音的弯月形状数据\n",
    "    输入：\n",
    "        - n_samples：数据量大小，数据类型为int\n",
    "        - shuffle：是否打乱数据，数据类型为bool\n",
    "        - noise：以多大的程度增加噪声，数据类型为None或float，noise为None时表示不增加噪声\n",
    "    输出：\n",
    "        - X：特征数据，shape=[n_samples,2]\n",
    "        - y：标签数据, shape=[n_samples]\n",
    "    \"\"\"\n",
    "    n_samples_out = n_samples // 2\n",
    "    n_samples_in = n_samples - n_samples_out\n",
    "\n",
    "    # 采集第1类数据，特征为(x,y)\n",
    "    # 使用'paddle.linspace'在0到pi上均匀取n_samples_out个值\n",
    "    # 使用'paddle.cos'计算上述取值的余弦值作为特征1，使用'paddle.sin'计算上述取值的正弦值作为特征2\n",
    "    outer_circ_x = paddle.cos(paddle.linspace(0, math.pi, n_samples_out))\n",
    "    outer_circ_y = paddle.sin(paddle.linspace(0, math.pi, n_samples_out))\n",
    "\n",
    "    inner_circ_x = 1 - paddle.cos(paddle.linspace(0, math.pi, n_samples_in))\n",
    "    inner_circ_y = 0.5 - paddle.sin(paddle.linspace(0, math.pi, n_samples_in))\n",
    "    \n",
    "    print('outer_circ_x.shape:', outer_circ_x.shape, 'outer_circ_y.shape:', outer_circ_y.shape)\n",
    "    print('inner_circ_x.shape:', inner_circ_x.shape, 'inner_circ_y.shape:', inner_circ_y.shape)\n",
    "    \n",
    "    # 使用'paddle.concat'将两类数据的特征1和特征2分别延维度0拼接在一起，得到全部特征1和特征2\n",
    "    # 使用'paddle.stack'将两类特征延维度1堆叠在一起\n",
    "    X = paddle.stack(\n",
    "        [paddle.concat([outer_circ_x, inner_circ_x]),\n",
    "        paddle.concat([outer_circ_y, inner_circ_y])],\n",
    "        axis=1\n",
    "    )\n",
    "\n",
    "    print('after concat shape:', paddle.concat([outer_circ_x, inner_circ_x]).shape)\n",
    "    print('X shape:', X.shape)\n",
    "\n",
    "    # 使用'paddle. zeros'将第一类数据的标签全部设置为0\n",
    "    # 使用'paddle. ones'将第一类数据的标签全部设置为1\n",
    "    y = paddle.concat(\n",
    "        [paddle.zeros(shape=[n_samples_out]), paddle.ones(shape=[n_samples_in])]\n",
    "    )\n",
    "\n",
    "    print('y shape:', y.shape)\n",
    "\n",
    "    # 如果shuffle为True，将所有数据打乱\n",
    "    if shuffle:\n",
    "        # 使用'paddle.randperm'生成一个数值在0到X.shape[0]，随机排列的一维Tensor做索引值，用于打乱数据\n",
    "        idx = paddle.randperm(X.shape[0])\n",
    "        X = X[idx]\n",
    "        y = y[idx]\n",
    "\n",
    "    # 如果noise不为None，则给特征值加入噪声\n",
    "    if noise is not None:\n",
    "        # 使用'paddle.normal'生成符合正态分布的随机Tensor作为噪声，并加到原始特征上\n",
    "        X += paddle.normal(mean=0.0, std=noise, shape=X.shape)\n",
    "\n",
    "    return X, y"
   ]
  },
  {
   "cell_type": "markdown",
   "metadata": {
    "collapsed": false
   },
   "source": [
    "随机采集1000个样本，并进行可视化。"
   ]
  },
  {
   "cell_type": "code",
   "execution_count": 2,
   "metadata": {
    "collapsed": false
   },
   "outputs": [
    {
     "name": "stdout",
     "output_type": "stream",
     "text": [
      "outer_circ_x.shape: [500] outer_circ_y.shape: [500]\n",
      "inner_circ_x.shape: [500] inner_circ_y.shape: [500]\n",
      "after concat shape: [1000]\n",
      "X shape: [1000, 2]\n",
      "y shape: [1000]\n"
     ]
    },
    {
     "name": "stderr",
     "output_type": "stream",
     "text": [
      "/opt/conda/envs/python35-paddle120-env/lib/python3.7/site-packages/matplotlib/__init__.py:107: DeprecationWarning: Using or importing the ABCs from 'collections' instead of from 'collections.abc' is deprecated, and in 3.8 it will stop working\n",
      "  from collections import MutableMapping\n",
      "/opt/conda/envs/python35-paddle120-env/lib/python3.7/site-packages/matplotlib/rcsetup.py:20: DeprecationWarning: Using or importing the ABCs from 'collections' instead of from 'collections.abc' is deprecated, and in 3.8 it will stop working\n",
      "  from collections import Iterable, Mapping\n",
      "/opt/conda/envs/python35-paddle120-env/lib/python3.7/site-packages/matplotlib/colors.py:53: DeprecationWarning: Using or importing the ABCs from 'collections' instead of from 'collections.abc' is deprecated, and in 3.8 it will stop working\n",
      "  from collections import Sized\n",
      "/opt/conda/envs/python35-paddle120-env/lib/python3.7/site-packages/matplotlib/cbook/__init__.py:2349: DeprecationWarning: Using or importing the ABCs from 'collections' instead of from 'collections.abc' is deprecated, and in 3.8 it will stop working\n",
      "  if isinstance(obj, collections.Iterator):\n",
      "/opt/conda/envs/python35-paddle120-env/lib/python3.7/site-packages/matplotlib/cbook/__init__.py:2366: DeprecationWarning: Using or importing the ABCs from 'collections' instead of from 'collections.abc' is deprecated, and in 3.8 it will stop working\n",
      "  return list(data) if isinstance(data, collections.MappingView) else data\n"
     ]
    },
    {
     "data": {
      "image/png": "[encoded data removed]",
      "text/plain": [
       "<Figure size 360x360 with 1 Axes>"
      ]
     },
     "metadata": {},
     "output_type": "display_data"
    }
   ],
   "source": [
    "# 采样1000个样本\n",
    "n_samples = 1000\n",
    "X, y = make_moons(n_samples=n_samples, shuffle=True, noise=0.5)\n",
    "# 可视化生产的数据集，不同颜色代表不同类别\n",
    "%matplotlib inline\n",
    "import matplotlib.pyplot as plt\n",
    "\n",
    "plt.figure(figsize=(5,5))\n",
    "plt.scatter(x=X[:, 0].tolist(), y=X[:, 1].tolist(), marker='*', c=y.tolist())\n",
    "plt.xlim(-3,4)\n",
    "plt.ylim(-3,4)\n",
    "plt.savefig('linear-dataset-vis.pdf')\n",
    "plt.show()\n",
    "\n"
   ]
  },
  {
   "cell_type": "markdown",
   "metadata": {
    "collapsed": false
   },
   "source": [
    "将1000条样本数据拆分成训练集、验证集和测试集，其中训练集640条、验证集160条、测试集200条。代码实现如下："
   ]
  },
  {
   "cell_type": "code",
   "execution_count": 3,
   "metadata": {
    "collapsed": false
   },
   "outputs": [],
   "source": [
    "num_train = 640\n",
    "num_dev = 160\n",
    "num_test = 200\n",
    "\n",
    "X_train, y_train = X[:num_train], y[:num_train]\n",
    "X_dev, y_dev = X[num_train:num_train + num_dev], y[num_train:num_train + num_dev]\n",
    "X_test, y_test = X[num_train + num_dev:], y[num_train + num_dev:]\n",
    "\n",
    "y_train = y_train.reshape([-1,1])\n",
    "y_dev = y_dev.reshape([-1,1])\n",
    "y_test = y_test.reshape([-1,1])"
   ]
  },
  {
   "cell_type": "markdown",
   "metadata": {
    "collapsed": false
   },
   "source": [
    "这样，我们就完成了Moon1000数据集的构建。"
   ]
  },
  {
   "cell_type": "code",
   "execution_count": 4,
   "metadata": {
    "collapsed": false
   },
   "outputs": [
    {
     "name": "stdout",
     "output_type": "stream",
     "text": [
      "X_train shape:  [640, 2] y_train shape:  [640, 1]\n"
     ]
    }
   ],
   "source": [
    "# 打印X_train和y_train的维度\n",
    "print(\"X_train shape: \", X_train.shape, \"y_train shape: \", y_train.shape)"
   ]
  },
  {
   "cell_type": "code",
   "execution_count": 5,
   "metadata": {
    "collapsed": false
   },
   "outputs": [
    {
     "name": "stdout",
     "output_type": "stream",
     "text": [
      "Tensor(shape=[5, 1], dtype=float32, place=CUDAPlace(0), stop_gradient=True,\n",
      "       [[1.],\n",
      "        [0.],\n",
      "        [1.],\n",
      "        [0.],\n",
      "        [1.]])\n"
     ]
    }
   ],
   "source": [
    "# 打印一下前5个数据的标签\n",
    "print (y_train[:5])"
   ]
  },
  {
   "cell_type": "markdown",
   "metadata": {
    "collapsed": false
   },
   "source": [
    "### 3.1.2 模型构建\n",
    "\n",
    "Logistic回归是一种常用的处理二分类问题的线性模型。与线性回归一样，Logistic回归也会将输入特征与权重做线性叠加。不同之处在于，Logistic回归引入了非线性函数$g:\\mathbb{R}^D \\rightarrow (0,1)$，预测类别标签的后验概率 $p(y=1|\\mathbf x)$ ，从而解决连续的线性函数不适合进行分类的问题。\n",
    "\n",
    "$$\n",
    "p(y=1|\\mathbf x) = \\sigma(\\mathbf w^ \\mathrm{ T } \\mathbf x+b),（3.1）\n",
    "$$\n",
    "\n",
    "其中判别函数$\\sigma(\\cdot)$为Logistic函数，也称为激活函数，作用是将线性函数$f(\\mathbf x;\\mathbf w,b)$的输出从实数区间“挤压”到（0,1）之间，用来表示概率。Logistic函数定义为：\n",
    "\n",
    "$$\n",
    "\\sigma(x) = \\frac{1}{1+\\exp(-x)}。（3.2）\n",
    "$$"
   ]
  },
  {
   "cell_type": "markdown",
   "metadata": {
    "collapsed": false
   },
   "source": [
    "**Logistic函数**\n",
    "\n",
    "Logistic函数的代码实现如下："
   ]
  },
  {
   "cell_type": "code",
   "execution_count": 3,
   "metadata": {
    "collapsed": false
   },
   "outputs": [
    {
     "data": {
      "image/png": "[encoded data removed]",
      "text/plain": [
       "<Figure size 432x288 with 1 Axes>"
      ]
     },
     "metadata": {},
     "output_type": "display_data"
    }
   ],
   "source": [
    "# 定义Logistic函数\n",
    "def logistic(x):\n",
    "    return 1 / (1 + paddle.exp(-x))\n",
    "\n",
    "# 在[-10,10]的范围内生成一系列的输入值，用于绘制函数曲线\n",
    "x = paddle.linspace(-10, 10, 10000)\n",
    "plt.figure()\n",
    "plt.plot(x.tolist(), logistic(x).tolist(), color=\"#e4007f\", label=\"Logistic Function\")\n",
    "# 设置坐标轴\n",
    "ax = plt.gca()\n",
    "# 取消右侧和上侧坐标轴\n",
    "ax.spines['top'].set_color('none')\n",
    "ax.spines['right'].set_color('none')\n",
    "# 设置默认的x轴和y轴方向\n",
    "ax.xaxis.set_ticks_position('bottom') \n",
    "ax.yaxis.set_ticks_position('left')\n",
    "# 设置坐标原点为(0,0)\n",
    "ax.spines['left'].set_position(('data',0))\n",
    "ax.spines['bottom'].set_position(('data',0))\n",
    "# 添加图例\n",
    "plt.legend()\n",
    "plt.savefig('linear-logistic.pdf')\n",
    "plt.show()"
   ]
  },
  {
   "cell_type": "markdown",
   "metadata": {
    "collapsed": false
   },
   "source": [
    "从输出结果看，当输入在0附近时，Logistic函数近似为线性函数；而当输入值非常大或非常小时，函数会对输入进行抑制。输入越小，则越接近0；输入越大，则越接近1。正因为Logistic函数具有这样的性质，使得其输出可以直接看作为概率分布。"
   ]
  },
  {
   "cell_type": "markdown",
   "metadata": {
    "collapsed": false
   },
   "source": [
    "**Logistic回归算子**\n",
    "\n",
    "Logistic回归模型其实就是线性层与Logistic函数的组合，通常会将 Logistic回归模型中的权重和偏置初始化为0，同时，为了提高预测样本的效率，我们将$N$个样本归为一组进行成批地预测。\n",
    "\n",
    "$$\n",
    "\\hat{\\mathbf y} = p(\\mathbf y|\\mathbf x) = \\sigma(\\boldsymbol{X} \\boldsymbol{w} + b), (3.3)\n",
    "$$\n",
    "\n",
    "其中$\\boldsymbol{X}\\in \\mathbb{R}^{N\\times D}$为$N$个样本的特征矩阵，$\\hat{\\boldsymbol{y}}$为$N$个样本的预测值构成的$N$维向量。\n",
    "\n",
    "这里，我们构建一个Logistic回归算子，代码实现如下："
   ]
  },
  {
   "cell_type": "code",
   "execution_count": 10,
   "metadata": {
    "collapsed": false
   },
   "outputs": [],
   "source": [
    "from nndl import op\n",
    "\n",
    "class model_LR(op.Op):\n",
    "    def __init__(self, input_dim):\n",
    "        super(model_LR, self).__init__()\n",
    "        self.params = {}\n",
    "        # 将线性层的权重参数全部初始化为0\n",
    "        self.params['w'] = paddle.zeros(shape=[input_dim, 1])\n",
    "        # self.params['w'] = paddle.normal(mean=0, std=0.01, shape=[input_dim, 1])\n",
    "        # 将线性层的偏置参数初始化为0\n",
    "        self.params['b'] = paddle.zeros(shape=[1])\n",
    "\n",
    "    def __call__(self, inputs):\n",
    "        return self.forward(inputs)\n",
    "\n",
    "    def forward(self, inputs):\n",
    "        \"\"\"\n",
    "        输入：\n",
    "            - inputs: shape=[N,D], N是样本数量，D为特征维度\n",
    "        输出：\n",
    "            - outputs：预测标签为1的概率，shape=[N,1]\n",
    "        \"\"\"\n",
    "        # 线性计算\n",
    "        score = paddle.matmul(inputs, self.params['w']) + self.params['b']\n",
    "        # Logistic 函数\n",
    "        outputs = logistic(score)\n",
    "        return outputs"
   ]
  },
  {
   "cell_type": "markdown",
   "metadata": {
    "collapsed": false
   },
   "source": [
    "**测试一下**\n",
    "\n",
    "随机生成3条长度为4的数据输入Logistic回归模型，观察输出结果。"
   ]
  },
  {
   "cell_type": "code",
   "execution_count": 11,
   "metadata": {
    "collapsed": false
   },
   "outputs": [
    {
     "name": "stdout",
     "output_type": "stream",
     "text": [
      "Input is: Tensor(shape=[3, 4], dtype=float32, place=CUDAPlace(0), stop_gradient=True,\n",
      "       [[-4.08041382, -1.37199533,  0.25684971,  1.23514259],\n",
      "        [ 1.85156298, -0.87903994,  0.03754762, -0.25850555],\n",
      "        [-0.63441145,  0.65421218, -1.34354496,  0.15195791]])\n",
      "Output is: Tensor(shape=[3, 1], dtype=float32, place=CUDAPlace(0), stop_gradient=True,\n",
      "       [[0.50000000],\n",
      "        [0.50000000],\n",
      "        [0.50000000]])\n"
     ]
    }
   ],
   "source": [
    "# 固定随机种子，保持每次运行结果一致\n",
    "paddle.seed(0)\n",
    "# 随机生成3条长度为4的数据\n",
    "inputs = paddle.randn(shape=[3,4])\n",
    "print('Input is:', inputs)\n",
    "# 实例化模型\n",
    "model = model_LR(4)\n",
    "outputs = model(inputs)\n",
    "print('Output is:', outputs)"
   ]
  },
  {
   "cell_type": "markdown",
   "metadata": {
    "collapsed": false
   },
   "source": [
    "从输出结果看，模型最终的输出$g(·)$恒为0.5。这是由于采用全0初始化后，不论输入值的大小为多少，Logistic函数的输入值恒为0，因此输出恒为0.5。"
   ]
  },
  {
   "cell_type": "markdown",
   "metadata": {
    "collapsed": false
   },
   "source": [
    "### 3.1.3 损失函数\n",
    "\n",
    "在模型训练过程中，需要使用损失函数来量化预测值和真实值之间的差异。\n",
    "给定一个分类任务，$\\mathbf y$表示样本$\\mathbf x$的标签的真实概率分布，向量$\\hat{\\mathbf y}=p(\\mathbf y|\\mathbf x)$表示预测的标签概率分布。\n",
    "训练目标是使得$\\hat{\\mathbf y}$尽可能地接近$\\mathbf y$，通常可以使用**交叉熵损失函数**。\n",
    "在给定$\\mathbf y$的情况下，如果预测的概率分布$\\hat{\\mathbf y}$与标签真实的分布$\\mathbf y$越接近，则交叉熵越小；如果$p(\\mathbf x)$和$\\mathbf y$越远，交叉熵就越大。\n",
    "\n",
    "对于二分类任务，我们只需要计算$\\hat{y}=p(y=1|\\mathbf x)$，用$1-\\hat{y}$来表示$p(y=0|\\mathbf x)$。\n",
    "给定有$N$个训练样本的训练集$\\{(\\mathbf x^{(n)},y^{(n)})\\} ^N_{n=1}$，使用交叉熵损失函数，Logistic回归的风险函数计算方式为：\n",
    "\n",
    "\n",
    "$$\n",
    "\\begin{aligned}\n",
    "\\cal R(\\mathbf w,b) &= -\\frac{1}{N}\\sum_{n=1}^N \\Big(y^{(n)}\\log\\hat{y}^{(n)} + (1-y^{(n)})\\log(1-\\hat{y}^{(n)})\\Big)。（3.4）\n",
    "\\end{aligned}\n",
    "$$\n",
    "\n",
    "向量形式可以表示为：\n",
    "\n",
    "$$\n",
    "\\begin{aligned}\n",
    "\\cal R(\\mathbf w,b) &= -\\frac{1}{N}\\Big(\\mathbf y^ \\mathrm{ T }  \\log\\hat{\\mathbf y} + (1-\\mathbf y)^ \\mathrm{ T } \\log(1-\\hat{\\mathbf y})\\Big),（3.5）\n",
    "\\end{aligned}\n",
    "$$\n",
    "\n",
    "其中$\\mathbf y\\in [0,1]^N$为$N$个样本的真实标签构成的$N$维向量，$\\hat{\\mathbf y}$为$N$个样本标签为1的后验概率构成的$N$维向量。"
   ]
  },
  {
   "cell_type": "markdown",
   "metadata": {
    "collapsed": false
   },
   "source": [
    "二分类任务的交叉熵损失函数的代码实现如下："
   ]
  },
  {
   "cell_type": "code",
   "execution_count": 12,
   "metadata": {
    "collapsed": false
   },
   "outputs": [
    {
     "name": "stdout",
     "output_type": "stream",
     "text": [
      "Tensor(shape=[1], dtype=float32, place=CUDAPlace(0), stop_gradient=True,\n",
      "       [0.69335938])\n"
     ]
    }
   ],
   "source": [
    "# 实现交叉熵损失函数\n",
    "class BinaryCrossEntropyLoss(op.Op):\n",
    "    def __init__(self):\n",
    "        self.predicts = None\n",
    "        self.labels = None\n",
    "        self.num = None\n",
    "\n",
    "    def __call__(self, predicts, labels):\n",
    "        return self.forward(predicts, labels)\n",
    "\n",
    "    def forward(self, predicts, labels):\n",
    "        \"\"\"\n",
    "        输入：\n",
    "            - predicts：预测值，shape=[N, 1]，N为样本数量\n",
    "            - labels：真实标签，shape=[N, 1]\n",
    "        输出：\n",
    "            - 损失值：shape=[1]\n",
    "        \"\"\"\n",
    "        self.predicts = predicts\n",
    "        self.labels = labels\n",
    "        self.num = self.predicts.shape[0]\n",
    "        loss = -1. / self.num * (paddle.matmul(self.labels.t(), paddle.log(self.predicts)) + paddle.matmul((1-self.labels.t()), paddle.log(1-self.predicts)))\n",
    "        loss = paddle.squeeze(loss, axis=1)\n",
    "        return loss\n",
    "\n",
    "# 测试一下\n",
    "# 生成一组长度为3，值为1的标签数据\n",
    "labels = paddle.ones(shape=[3,1])\n",
    "# 计算风险函数\n",
    "bce_loss = BinaryCrossEntropyLoss()\n",
    "print(bce_loss(outputs, labels))"
   ]
  },
  {
   "cell_type": "markdown",
   "metadata": {
    "collapsed": false
   },
   "source": [
    "### 3.1.4 模型优化\n",
    "\n",
    "不同于线性回归中直接使用最小二乘法即可进行模型参数的求解，Logistic回归需要使用优化算法对模型参数进行有限次地迭代来获取更优的模型，从而尽可能地降低风险函数的值。\n",
    "在机器学习任务中，最简单、常用的优化算法是梯度下降法。\n",
    "\n",
    "使用梯度下降法进行模型优化，首先需要初始化参数$\\mathbf W$和 $b$，然后不断地计算它们的梯度，并沿梯度的反方向更新参数。"
   ]
  },
  {
   "cell_type": "markdown",
   "metadata": {
    "collapsed": false
   },
   "source": [
    "#### 3.1.4.1 梯度计算\n",
    "\n",
    "在Logistic回归中，风险函数$\\cal R(\\mathbf w,b)$ 关于参数$\\mathbf w$和$b$的偏导数为：\n",
    "\n",
    "$$\n",
    "\\begin{aligned}\n",
    "\\frac{\\partial \\cal R(\\mathbf w,b)}{\\partial \\mathbf w} = -\\frac{1}{N}\\sum_{n=1}^N \\mathbf x^{(n)}(y^{(n)}- \\hat{y}^{(n)}) = -\\frac{1}{N} \\mathbf X^ \\mathrm{ T }  (\\mathbf y-\\hat{\\mathbf y})\n",
    "\\end{aligned}，（3.6）\n",
    "$$\n",
    "\n",
    "$$\n",
    "\\begin{aligned}\n",
    "\\frac{\\partial \\cal R(\\mathbf w,b)}{\\partial b} = -\\frac{1}{N}\\sum_{n=1}^N (y^{(n)}- \\hat{y}^{(n)}) = -\\frac{1}{N} \\mathbf {sum}(\\mathbf y-\\hat{\\mathbf y})\n",
    "\\end{aligned}。（3.7）\n",
    "$$\n",
    "\n",
    "通常将偏导数的计算过程定义在Logistic回归算子的`backward`函数中，代码实现如下:"
   ]
  },
  {
   "cell_type": "code",
   "execution_count": 13,
   "metadata": {
    "collapsed": false
   },
   "outputs": [],
   "source": [
    "class model_LR(op.Op):\n",
    "    def __init__(self, input_dim):\n",
    "        super(model_LR, self).__init__()\n",
    "        # 存放线性层参数\n",
    "        self.params = {}\n",
    "        # 将线性层的权重参数全部初始化为0\n",
    "        self.params['w'] = paddle.zeros(shape=[input_dim, 1])\n",
    "        # self.params['w'] = paddle.normal(mean=0, std=0.01, shape=[input_dim, 1])\n",
    "        # 将线性层的偏置参数初始化为0\n",
    "        self.params['b'] = paddle.zeros(shape=[1])\n",
    "        # 存放参数的梯度\n",
    "        self.grads = {}\n",
    "        self.X = None\n",
    "        self.outputs = None\n",
    "\n",
    "    def __call__(self, inputs):\n",
    "        return self.forward(inputs)\n",
    "\n",
    "    def forward(self, inputs):\n",
    "        self.X = inputs\n",
    "        # 线性计算\n",
    "        score = paddle.matmul(inputs, self.params['w']) + self.params['b']\n",
    "        # Logistic 函数\n",
    "        self.outputs = logistic(score)\n",
    "        return self.outputs\n",
    "\n",
    "    def backward(self, labels):\n",
    "        \"\"\"\n",
    "        输入：\n",
    "            - labels：真实标签，shape=[N, 1]\n",
    "        \"\"\"\n",
    "        N = labels.shape[0]\n",
    "        # 计算偏导数\n",
    "        self.grads['w'] = -1 / N * paddle.matmul(self.X.t(), (labels - self.outputs))\n",
    "        self.grads['b'] = -1 / N * paddle.sum(labels - self.outputs)"
   ]
  },
  {
   "cell_type": "markdown",
   "metadata": {
    "collapsed": false
   },
   "source": [
    "#### 3.1.4.2 参数更新\n",
    "\n",
    "在计算参数的梯度之后，我们按照下面公式更新参数：\n",
    "\n",
    "$$\n",
    "\\mathbf w\\leftarrow \\mathbf w - \\alpha \\frac{\\partial \\cal R(\\mathbf w,b)}{\\partial \\mathbf w}，（3.8）\n",
    "$$\n",
    "$$\n",
    "b\\leftarrow b - \\alpha \\frac{\\partial \\cal R(\\mathbf w,b)}{\\partial b}，（3.9）\n",
    "$$\n",
    "\n",
    "其中$\\alpha$ 为学习率。\n",
    "\n",
    "将上面的参数更新过程包装为优化器，首先定义一个优化器基类`Optimizer`，方便后续所有的优化器调用。在这个基类中，需要初始化优化器的初始学习率`init_lr`，以及指定优化器需要优化的参数。代码实现如下："
   ]
  },
  {
   "cell_type": "code",
   "execution_count": 14,
   "metadata": {
    "collapsed": false
   },
   "outputs": [],
   "source": [
    "from abc import abstractmethod\r\n",
    "\r\n",
    "# 优化器基类\r\n",
    "class Optimizer(object):\r\n",
    "    def __init__(self, init_lr, model):\r\n",
    "        \"\"\"\r\n",
    "        优化器类初始化\r\n",
    "        \"\"\"\r\n",
    "        # 初始化学习率，用于参数更新的计算\r\n",
    "        self.init_lr = init_lr\r\n",
    "        # 指定优化器需要优化的模型\r\n",
    "        self.model = model\r\n",
    "\r\n",
    "    @abstractmethod\r\n",
    "    def step(self):\r\n",
    "        \"\"\"\r\n",
    "        定义每次迭代如何更新参数\r\n",
    "        \"\"\"\r\n",
    "        pass"
   ]
  },
  {
   "cell_type": "markdown",
   "metadata": {
    "collapsed": false
   },
   "source": [
    "然后实现一个梯度下降法的优化器函数`SimpleBatchGD`来执行参数更新过程。其中`step`函数从模型的`grads`属性取出参数的梯度并更新。代码实现如下："
   ]
  },
  {
   "cell_type": "code",
   "execution_count": 15,
   "metadata": {
    "collapsed": false
   },
   "outputs": [],
   "source": [
    "class SimpleBatchGD(Optimizer):\n",
    "    def __init__(self, init_lr, model):\n",
    "        super(SimpleBatchGD, self).__init__(init_lr=init_lr, model=model)\n",
    "\n",
    "    def step(self):\n",
    "        # 参数更新\n",
    "        # 遍历所有参数，按照公式(3.8)和(3.9)更新参数\n",
    "        if isinstance(self.model.params, dict):\n",
    "            for key in self.model.params.keys():\n",
    "                self.model.params[key] = self.model.params[key] - self.init_lr * self.model.grads[key]"
   ]
  },
  {
   "cell_type": "markdown",
   "metadata": {
    "collapsed": false
   },
   "source": [
    "### 3.1.5 评价指标\n",
    "\n",
    "在分类任务中，通常使用准确率（Accuracy）作为评价指标。如果模型预测的类别与真实类别一致，则说明模型预测正确。准确率即正确预测的数量与总的预测数量的比值：\n",
    "\n",
    "$$\n",
    "\\mathcal{A} \n",
    "= \n",
    "\\frac{1}{N}\n",
    "\t\\sum_{n=1}^N\n",
    "    I\n",
    "    \t(y^{(n)} = \\hat{y}^{(n)}),（3.10）\n",
    "$$\n",
    "\n",
    "其中$I(·)$是指示函数。代码实现如下："
   ]
  },
  {
   "cell_type": "code",
   "execution_count": 16,
   "metadata": {
    "collapsed": false
   },
   "outputs": [
    {
     "name": "stdout",
     "output_type": "stream",
     "text": [
      "accuracy is: Tensor(shape=[1], dtype=float32, place=CUDAPlace(0), stop_gradient=True,\n",
      "       [0.50000000])\n"
     ]
    }
   ],
   "source": [
    "def accuracy(preds, labels):\n",
    "    \"\"\"\n",
    "    输入：\n",
    "        - preds：预测值，二分类时，shape=[N, 1]，N为样本数量，多分类时，shape=[N, C]，C为类别数量\n",
    "        - labels：真实标签，shape=[N, 1]\n",
    "    输出：\n",
    "        - 准确率：shape=[1]\n",
    "    \"\"\"\n",
    "    # 判断是二分类任务还是多分类任务，preds.shape[1]=1时为二分类任务，preds.shape[1]>1时为多分类任务\n",
    "    if preds.shape[1] == 1:\n",
    "        # 二分类时，判断每个概率值是否大于0.5，当大于0.5时，类别为1，否则类别为0\n",
    "        # 使用'paddle.cast'将preds的数据类型转换为float32类型\n",
    "        preds = paddle.cast((preds>=0.5),dtype='float32')\n",
    "    else:\n",
    "        # 多分类时，使用'paddle.argmax'计算最大元素索引作为类别\n",
    "        preds = paddle.argmax(preds,axis=1, dtype='int32')\n",
    "    return paddle.mean(paddle.cast(paddle.equal(preds, labels),dtype='float32'))\n",
    "\n",
    "# 假设模型的预测值为[[0.],[1.],[1.],[0.]]，真实类别为[[1.],[1.],[0.],[0.]]，计算准确率\n",
    "preds = paddle.to_tensor([[0.],[1.],[1.],[0.]])\n",
    "labels = paddle.to_tensor([[1.],[1.],[0.],[0.]])\n",
    "print(\"accuracy is:\", accuracy(preds, labels))"
   ]
  },
  {
   "cell_type": "markdown",
   "metadata": {
    "collapsed": false
   },
   "source": [
    "### 3.1.6 完善Runner类\n",
    "\n",
    "基于RunnerV1，本章的RunnerV2类在训练过程中使用梯度下降法进行网络优化，模型训练过程中计算在训练集和验证集上的损失及评估指标并打印，训练过程中保存最优模型。代码实现如下："
   ]
  },
  {
   "cell_type": "code",
   "execution_count": 17,
   "metadata": {
    "collapsed": false
   },
   "outputs": [],
   "source": [
    "# 用RunnerV2类封装整个训练过程\n",
    "class RunnerV2(object):\n",
    "    def __init__(self, model, optimizer, metric, loss_fn):\n",
    "        self.model = model\n",
    "        self.optimizer = optimizer\n",
    "        self.loss_fn = loss_fn\n",
    "        self.metric = metric\n",
    "        # 记录训练过程中的评价指标变化情况\n",
    "        self.train_scores = []\n",
    "        self.dev_scores = []\n",
    "        # 记录训练过程中的损失函数变化情况\n",
    "        self.train_loss = []\n",
    "        self.dev_loss = []\n",
    "\n",
    "    def train(self, train_set, dev_set, **kwargs):\n",
    "        # 传入训练轮数，如果没有传入值则默认为0\n",
    "        num_epochs = kwargs.get(\"num_epochs\", 0)\n",
    "        # 传入log打印频率，如果没有传入值则默认为100\n",
    "        log_epochs = kwargs.get(\"log_epochs\", 100)\n",
    "        # 传入模型保存路径，如果没有传入值则默认为\"best_model.pdparams\"\n",
    "        save_path = kwargs.get(\"save_path\", \"best_model.pdparams\")\n",
    "        # 梯度打印函数，如果没有传入则默认为\"None\"\n",
    "        print_grads = kwargs.get(\"print_grads\", None)\n",
    "        # 记录全局最优指标\n",
    "        best_score = 0\n",
    "        # 进行num_epochs轮训练\n",
    "        for epoch in range(num_epochs):\n",
    "            X, y = train_set\n",
    "            # 获取模型预测\n",
    "            logits = self.model(X)\n",
    "            # 计算交叉熵损失\n",
    "            trn_loss = self.loss_fn(logits, y).item()\n",
    "            self.train_loss.append(trn_loss)\n",
    "            # 计算评价指标\n",
    "            trn_score = self.metric(logits, y).item()\n",
    "            self.train_scores.append(trn_score)\n",
    "            # 计算参数梯度\n",
    "            self.model.backward(y)\n",
    "            if print_grads is not None:\n",
    "                # 打印每一层的梯度\n",
    "                print_grads(self.model)\n",
    "            # 更新模型参数\n",
    "            self.optimizer.step()\n",
    "            dev_score, dev_loss = self.evaluate(dev_set)\n",
    "            # 如果当前指标为最优指标，保存该模型\n",
    "            if dev_score > best_score:\n",
    "                self.save_model(save_path)\n",
    "                print(f\"best accuracy performence has been updated: {best_score:.5f} --> {dev_score:.5f}\")\n",
    "                best_score = dev_score\n",
    "            if epoch % log_epochs == 0:\n",
    "                print(f\"[Train] epoch: {epoch}, loss: {trn_loss}, score: {trn_score}\")\n",
    "                print(f\"[Dev] epoch: {epoch}, loss: {dev_loss}, score: {dev_score}\")\n",
    "                \n",
    "    def evaluate(self, data_set):\n",
    "        X, y = data_set\n",
    "        # 计算模型输出\n",
    "        logits = self.model(X)\n",
    "        # 计算损失函数\n",
    "        loss = self.loss_fn(logits, y).item()\n",
    "        self.dev_loss.append(loss)\n",
    "        # 计算评价指标\n",
    "        score = self.metric(logits, y).item()\n",
    "        self.dev_scores.append(score)\n",
    "        return score, loss\n",
    "\n",
    "    def predict(self, X):\n",
    "        return self.model(X)\n",
    "\n",
    "    def save_model(self, save_path):\n",
    "        paddle.save(self.model.params, save_path)\n",
    "\n",
    "    def load_model(self, model_path):\n",
    "        self.model.params = paddle.load(model_path)"
   ]
  },
  {
   "cell_type": "markdown",
   "metadata": {
    "collapsed": false
   },
   "source": [
    "### 3.1.7 模型训练\n"
   ]
  },
  {
   "cell_type": "markdown",
   "metadata": {
    "collapsed": false
   },
   "source": [
    "下面进行Logistic回归模型的训练，使用交叉熵损失函数和梯度下降法进行优化。\n",
    "使用训练集和验证集进行模型训练，共训练 500个epoch，每隔50个epoch打印出训练集上的指标。\n",
    "代码实现如下："
   ]
  },
  {
   "cell_type": "code",
   "execution_count": 18,
   "metadata": {
    "collapsed": false
   },
   "outputs": [
    {
     "name": "stdout",
     "output_type": "stream",
     "text": [
      "best accuracy performence has been updated: 0.00000 --> 0.73750\n",
      "[Train] epoch: 0, loss: 0.693359375, score: 0.4999999701976776\n",
      "[Dev] epoch: 0, loss: 0.6839081048965454, score: 0.737500011920929\n",
      "best accuracy performence has been updated: 0.73750 --> 0.74375\n",
      "best accuracy performence has been updated: 0.74375 --> 0.75000\n",
      "best accuracy performence has been updated: 0.75000 --> 0.75625\n",
      "[Train] epoch: 50, loss: 0.48008108139038086, score: 0.7906250357627869\n",
      "[Dev] epoch: 50, loss: 0.5083038210868835, score: 0.7562500238418579\n",
      "best accuracy performence has been updated: 0.75625 --> 0.76250\n",
      "[Train] epoch: 100, loss: 0.4374733865261078, score: 0.8062500357627869\n",
      "[Dev] epoch: 100, loss: 0.47221413254737854, score: 0.7562500238418579\n",
      "[Train] epoch: 150, loss: 0.42071062326431274, score: 0.8109375238418579\n",
      "[Dev] epoch: 150, loss: 0.45897427201271057, score: 0.7562500238418579\n",
      "[Train] epoch: 200, loss: 0.41218772530555725, score: 0.8109375238418579\n",
      "[Dev] epoch: 200, loss: 0.45284023880958557, score: 0.75\n",
      "[Train] epoch: 250, loss: 0.40726566314697266, score: 0.8140624761581421\n",
      "[Dev] epoch: 250, loss: 0.4496605098247528, score: 0.7562500238418579\n",
      "[Train] epoch: 300, loss: 0.4041973650455475, score: 0.8156249523162842\n",
      "[Dev] epoch: 300, loss: 0.4479003846645355, score: 0.7625000476837158\n",
      "[Train] epoch: 350, loss: 0.40217551589012146, score: 0.815625011920929\n",
      "[Dev] epoch: 350, loss: 0.4469268023967743, score: 0.7625000476837158\n",
      "[Train] epoch: 400, loss: 0.4007957875728607, score: 0.815625011920929\n",
      "[Dev] epoch: 400, loss: 0.4464201033115387, score: 0.7625000476837158\n",
      "[Train] epoch: 450, loss: 0.39985084533691406, score: 0.8187499642372131\n",
      "[Dev] epoch: 450, loss: 0.44611817598342896, score: 0.7625000476837158\n",
      "best accuracy performence has been updated: 0.76250 --> 0.76875\n"
     ]
    }
   ],
   "source": [
    "# 固定随机种子，保持每次运行结果一致\n",
    "paddle.seed(102)\n",
    "\n",
    "# 特征维度\n",
    "input_dim = 2\n",
    "# 学习率\n",
    "lr = 0.1\n",
    "\n",
    "# 实例化模型\n",
    "model = model_LR(input_dim=input_dim)\n",
    "# 指定优化器\n",
    "optimizer = SimpleBatchGD(init_lr=lr, model=model)\n",
    "# 指定损失函数\n",
    "loss_fn = BinaryCrossEntropyLoss()\n",
    "# 指定评价方式\n",
    "metric = accuracy\n",
    "\n",
    "# 实例化RunnerV2类，并传入训练配置\n",
    "runner = RunnerV2(model, optimizer, metric, loss_fn)\n",
    "\n",
    "runner.train([X_train, y_train], [X_dev, y_dev], num_epochs=500, log_epochs=50, save_path=\"best_model.pdparams\")"
   ]
  },
  {
   "cell_type": "markdown",
   "metadata": {
    "collapsed": false
   },
   "source": [
    "可视化观察训练集与验证集的准确率和损失的变化情况。"
   ]
  },
  {
   "cell_type": "code",
   "execution_count": 22,
   "metadata": {
    "collapsed": false
   },
   "outputs": [
    {
     "data": {
      "image/png": "[encoded data removed]",
      "text/plain": [
       "<Figure size 720x360 with 2 Axes>"
      ]
     },
     "metadata": {},
     "output_type": "display_data"
    }
   ],
   "source": [
    "# 可视化观察训练集与验证集的指标变化情况\n",
    "def plot(runner,fig_name):\n",
    "    plt.figure(figsize=(10,5))\n",
    "    plt.subplot(1,2,1)\n",
    "    epochs = [i for i in range(len(runner.train_scores))]\n",
    "    # 绘制训练损失变化曲线\n",
    "    plt.plot(epochs, runner.train_loss, color='#e4007f', label=\"Train loss\")\n",
    "    # 绘制评价损失变化曲线\n",
    "    plt.plot(epochs, runner.dev_loss, color='#f19ec2', linestyle='--', label=\"Dev loss\")\n",
    "    # 绘制坐标轴和图例\n",
    "    plt.ylabel(\"loss\", fontsize='large')\n",
    "    plt.xlabel(\"epoch\", fontsize='large')\n",
    "    plt.legend(loc='upper right', fontsize='x-large')\n",
    "    plt.subplot(1,2,2)\n",
    "    # 绘制训练准确率变化曲线\n",
    "    plt.plot(epochs, runner.train_scores, color='#e4007f', label=\"Train accuracy\")\n",
    "    # 绘制评价准确率变化曲线\n",
    "    plt.plot(epochs, runner.dev_scores, color='#f19ec2', linestyle='--', label=\"Dev accuracy\")\n",
    "    # 绘制坐标轴和图例\n",
    "    plt.ylabel(\"score\", fontsize='large')\n",
    "    plt.xlabel(\"epoch\", fontsize='large')\n",
    "    plt.legend(loc='lower right', fontsize='x-large')\n",
    "    plt.tight_layout()\n",
    "    plt.savefig(fig_name)\n",
    "    plt.show()\n",
    "\n",
    "plot(runner,fig_name='linear-acc.pdf')"
   ]
  },
  {
   "cell_type": "markdown",
   "metadata": {
    "collapsed": false
   },
   "source": [
    "从输出结果可以看到，在训练集与验证集上，loss得到了收敛，同时准确率指标都达到了较高的水平，训练比较充分。"
   ]
  },
  {
   "cell_type": "markdown",
   "metadata": {
    "collapsed": false
   },
   "source": [
    "### 3.1.8 模型评价\n",
    "\n",
    "使用测试集对训练完成后的最终模型进行评价，观察模型在测试集上的准确率和loss数据。代码实现如下："
   ]
  },
  {
   "cell_type": "code",
   "execution_count": 23,
   "metadata": {
    "collapsed": false
   },
   "outputs": [
    {
     "name": "stdout",
     "output_type": "stream",
     "text": [
      "[Test] score/loss: 0.8100/0.4356\n"
     ]
    }
   ],
   "source": [
    "score, loss = runner.evaluate([X_test, y_test])\n",
    "print(\"[Test] score/loss: {:.4f}/{:.4f}\".format(score, loss))"
   ]
  },
  {
   "cell_type": "markdown",
   "metadata": {
    "collapsed": false
   },
   "source": [
    "可视化观察拟合的决策边界 $\\boldsymbol{X} \\boldsymbol{w} + b=0$。"
   ]
  },
  {
   "cell_type": "code",
   "execution_count": 24,
   "metadata": {
    "collapsed": false
   },
   "outputs": [],
   "source": [
    "def decision_boundary(w, b, x1):\n",
    "    w1, w2 = w\n",
    "    x2 = (- w1 * x1 - b) / w2\n",
    "    return x2"
   ]
  },
  {
   "cell_type": "code",
   "execution_count": 25,
   "metadata": {
    "collapsed": false
   },
   "outputs": [
    {
     "data": {
      "image/png": "[encoded data removed]",
      "text/plain": [
       "<Figure size 360x360 with 1 Axes>"
      ]
     },
     "metadata": {},
     "output_type": "display_data"
    }
   ],
   "source": [
    "plt.figure(figsize=(5,5))\n",
    "# 绘制原始数据\n",
    "plt.scatter(X[:, 0].tolist(), X[:, 1].tolist(), marker='*', c=y.tolist())\n",
    "\n",
    "w = model.params['w']\n",
    "b = model.params['b']\n",
    "x1 = paddle.linspace(-2, 3, 1000)\n",
    "x2 = decision_boundary(w, b, x1)\n",
    "# 绘制决策边界\n",
    "plt.plot(x1.tolist(), x2.tolist(), color=\"red\")\n",
    "plt.show()"
   ]
  },
  {
   "cell_type": "markdown",
   "metadata": {
    "collapsed": false
   },
   "source": [
    "## 3.2 基于Softmax回归的多分类任务\n",
    "\n",
    "Logistic回归可以有效地解决二分类问题，但在分类任务中，还有一类多分类问题，即类别数$C$大于2 的分类问题。Softmax回归就是Logistic回归在多分类问题上的推广。\n",
    "\n",
    "使用Softmax回归模型对一个简单的数据集进行多分类实验。"
   ]
  },
  {
   "cell_type": "markdown",
   "metadata": {
    "collapsed": false
   },
   "source": [
    "### 3.2.1 数据集构建\n",
    "\n",
    "我们首先构建一个简单的多分类任务，并构建训练集、验证集和测试集。\n",
    "本任务的数据来自3个不同的簇，每个簇对一个类别。我们采集1000条样本，每个样本包含2个特征。\n",
    "\n",
    "数据集的构建函数`make_multi`的代码实现如下："
   ]
  },
  {
   "cell_type": "code",
   "execution_count": 1,
   "metadata": {
    "collapsed": false
   },
   "outputs": [],
   "source": [
    "import numpy as np\n",
    "import paddle\n",
    "\n",
    "def make_multiclass_classification(n_samples=100, n_features=2, n_classes=3, shuffle=True, noise=0.1):\n",
    "    \"\"\"\n",
    "    生成带噪音的多类别数据\n",
    "    输入：\n",
    "        - n_samples：数据量大小，数据类型为int\n",
    "        - n_features：特征数量，数据类型为int\n",
    "        - shuffle：是否打乱数据，数据类型为bool\n",
    "        - noise：以多大的程度增加噪声，数据类型为None或float，noise为None时表示不增加噪声\n",
    "    输出：\n",
    "        - X：特征数据，shape=[n_samples,2]\n",
    "        - y：标签数据, shape=[n_samples,1]\n",
    "    \"\"\"\n",
    "    # 计算每个类别的样本数量\n",
    "    n_samples_per_class = [int(n_samples / n_classes) for k in range(n_classes)]\n",
    "    for i in range(n_samples - sum(n_samples_per_class)):\n",
    "        n_samples_per_class[i % n_classes] += 1\n",
    "    # 将特征和标签初始化为0\n",
    "    X = paddle.zeros([n_samples, n_features])\n",
    "    y = paddle.zeros([n_samples], dtype='int32')\n",
    "    # 随机生成3个簇中心作为类别中心\n",
    "    centroids = paddle.randperm(2 ** n_features)[:n_classes]\n",
    "    centroids_bin = np.unpackbits(centroids.numpy().astype('uint8')).reshape((-1, 8))[:, -n_features:]\n",
    "    centroids = paddle.to_tensor(centroids_bin, dtype='float32')\n",
    "    # 控制簇中心的分离程度\n",
    "    centroids = 1.5 * centroids - 1\n",
    "    # 随机生成特征值\n",
    "    X[:, :n_features] = paddle.randn(shape=[n_samples, n_features])\n",
    "\n",
    "    stop = 0\n",
    "    # 将每个类的特征值控制在簇中心附近\n",
    "    for k, centroid in enumerate(centroids):\n",
    "        start, stop = stop, stop + n_samples_per_class[k]\n",
    "        # 指定标签值\n",
    "        y[start:stop] = k % n_classes\n",
    "        X_k = X[start:stop, :n_features]\n",
    "        # 控制每个类别特征值的分散程度\n",
    "        A = 2 * paddle.rand(shape=[n_features, n_features]) - 1\n",
    "        X_k[...] = paddle.matmul(X_k, A)\n",
    "        X_k += centroid\n",
    "        X[start:stop, :n_features] = X_k\n",
    "\n",
    "    # 如果noise不为None，则给特征加入噪声\n",
    "    if noise > 0.0:\n",
    "        # 生成noise掩膜，用来指定给那些样本加入噪声\n",
    "        noise_mask = paddle.rand([n_samples]) < noise\n",
    "        for i in range(len(noise_mask)):\n",
    "            if noise_mask[i]:\n",
    "                # 给加噪声的样本随机赋标签值\n",
    "                y[i] = paddle.randint(n_classes, shape=[1]).astype('int32')\n",
    "    # 如果shuffle为True，将所有数据打乱\n",
    "    if shuffle:\n",
    "        idx = paddle.randperm(X.shape[0])\n",
    "        X = X[idx]\n",
    "        y = y[idx]\n",
    "\n",
    "    return X, y"
   ]
  },
  {
   "cell_type": "markdown",
   "metadata": {
    "collapsed": false
   },
   "source": [
    "随机采集1000个样本，并进行可视化。"
   ]
  },
  {
   "cell_type": "code",
   "execution_count": 2,
   "metadata": {
    "collapsed": false
   },
   "outputs": [
    {
     "ename": "NameError",
     "evalue": "name 'paddle' is not defined",
     "output_type": "error",
     "traceback": [
      "\u001b[0;31m---------------------------------------------------------------------------\u001b[0m",
      "\u001b[0;31mNameError\u001b[0m                                 Traceback (most recent call last)",
      "\u001b[0;32m/tmp/ipykernel_93/3766463464.py\u001b[0m in \u001b[0;36m<module>\u001b[0;34m\u001b[0m\n\u001b[1;32m      1\u001b[0m \u001b[0;31m# 固定随机种子，保持每次运行结果一致\u001b[0m\u001b[0;34m\u001b[0m\u001b[0;34m\u001b[0m\u001b[0;34m\u001b[0m\u001b[0m\n\u001b[0;32m----> 2\u001b[0;31m \u001b[0mpaddle\u001b[0m\u001b[0;34m.\u001b[0m\u001b[0mseed\u001b[0m\u001b[0;34m(\u001b[0m\u001b[0;36m102\u001b[0m\u001b[0;34m)\u001b[0m\u001b[0;34m\u001b[0m\u001b[0;34m\u001b[0m\u001b[0m\n\u001b[0m\u001b[1;32m      3\u001b[0m \u001b[0;31m# 采样1000个样本\u001b[0m\u001b[0;34m\u001b[0m\u001b[0;34m\u001b[0m\u001b[0;34m\u001b[0m\u001b[0m\n\u001b[1;32m      4\u001b[0m \u001b[0mn_samples\u001b[0m \u001b[0;34m=\u001b[0m \u001b[0;36m1000\u001b[0m\u001b[0;34m\u001b[0m\u001b[0;34m\u001b[0m\u001b[0m\n\u001b[1;32m      5\u001b[0m \u001b[0mX\u001b[0m\u001b[0;34m,\u001b[0m \u001b[0my\u001b[0m \u001b[0;34m=\u001b[0m \u001b[0mmake_multiclass_classification\u001b[0m\u001b[0;34m(\u001b[0m\u001b[0mn_samples\u001b[0m\u001b[0;34m=\u001b[0m\u001b[0mn_samples\u001b[0m\u001b[0;34m,\u001b[0m \u001b[0mn_features\u001b[0m\u001b[0;34m=\u001b[0m\u001b[0;36m2\u001b[0m\u001b[0;34m,\u001b[0m \u001b[0mn_classes\u001b[0m\u001b[0;34m=\u001b[0m\u001b[0;36m3\u001b[0m\u001b[0;34m,\u001b[0m \u001b[0mnoise\u001b[0m\u001b[0;34m=\u001b[0m\u001b[0;36m0.2\u001b[0m\u001b[0;34m)\u001b[0m\u001b[0;34m\u001b[0m\u001b[0;34m\u001b[0m\u001b[0m\n",
      "\u001b[0;31mNameError\u001b[0m: name 'paddle' is not defined"
     ]
    }
   ],
   "source": [
    "# 固定随机种子，保持每次运行结果一致\n",
    "paddle.seed(102)\n",
    "# 采样1000个样本\n",
    "n_samples = 1000\n",
    "X, y = make_multiclass_classification(n_samples=n_samples, n_features=2, n_classes=3, noise=0.2)\n",
    "\n",
    "# 可视化生产的数据集，不同颜色代表不同类别\n",
    "plt.figure(figsize=(5,5))\n",
    "plt.scatter(x=X[:, 0].tolist(), y=X[:, 1].tolist(), marker='*', c=y.tolist())\n",
    "plt.savefig('linear-dataset-vis2.pdf')\n",
    "plt.show()"
   ]
  },
  {
   "cell_type": "markdown",
   "metadata": {
    "collapsed": false
   },
   "source": [
    "将实验数据拆分成训练集、验证集和测试集。其中训练集640条、验证集160条、测试集200条。"
   ]
  },
  {
   "cell_type": "code",
   "execution_count": 28,
   "metadata": {
    "collapsed": false
   },
   "outputs": [
    {
     "name": "stdout",
     "output_type": "stream",
     "text": [
      "X_train shape:  [640, 2] y_train shape:  [640]\n"
     ]
    }
   ],
   "source": [
    "num_train = 640\n",
    "num_dev = 160\n",
    "num_test = 200\n",
    "\n",
    "X_train, y_train = X[:num_train], y[:num_train]\n",
    "X_dev, y_dev = X[num_train:num_train + num_dev], y[num_train:num_train + num_dev]\n",
    "X_test, y_test = X[num_train + num_dev:], y[num_train + num_dev:]\n",
    "\n",
    "# 打印X_train和y_train的维度\n",
    "print(\"X_train shape: \", X_train.shape, \"y_train shape: \", y_train.shape)"
   ]
  },
  {
   "cell_type": "markdown",
   "metadata": {
    "collapsed": false
   },
   "source": [
    "这样，我们就完成了Multi1000数据集的构建。"
   ]
  },
  {
   "cell_type": "code",
   "execution_count": 29,
   "metadata": {
    "collapsed": false
   },
   "outputs": [
    {
     "name": "stdout",
     "output_type": "stream",
     "text": [
      "Tensor(shape=[5], dtype=int32, place=CUDAPlace(0), stop_gradient=True,\n",
      "       [2, 0, 1, 0, 2])\n"
     ]
    }
   ],
   "source": [
    "# 打印前5个数据的标签\n",
    "print(y_train[:5])"
   ]
  },
  {
   "cell_type": "markdown",
   "metadata": {
    "collapsed": false
   },
   "source": [
    "### 3.2.2 模型构建\n",
    "\n",
    "在Softmax回归中，对类别进行预测的方式是预测输入属于每个类别的条件概率。与Logistic 回归不同的是，Softmax回归的输出值个数等于类别数$C$，而每个类别的概率值则通过Softmax函数进行求解。\n",
    "\n",
    "#### 3.2.2.1 Softmax函数\n",
    "\n",
    "Softmax函数可以将多个标量映射为一个概率分布。对于一个$K$维向量，$\\mathbf x=[x_1,\\cdots,x_K]$，Softmax的计算公式为\n",
    "\n",
    "$$\n",
    "\\mathrm{softmax}(x_k) = \\frac{\\exp(x_k)}{\\sum_{i=1}^K \\exp(x_i)}。（3.11）\n",
    "$$\n",
    "\n",
    "在Softmax函数的计算过程中，要注意**上溢出**和**下溢出**的问题。假设Softmax 函数中所有的$x_k$都是相同大小的数值$a$，理论上，所有的输出都应该为$\\frac{1}{k}$。但需要考虑如下两种特殊情况：\n",
    "\n",
    "* $a$为一个非常大的负数，此时$\\exp(a)$ 会发生下溢出现象。计算机在进行数值计算时，当数值过小，会被四舍五入为0。此时，Softmax函数的分母会变为0，导致计算出现问题；\n",
    "* $a$为一个非常大的正数，此时会导致$\\exp(a)$发生上溢出现象，导致计算出现问题。\n",
    "\n",
    "为了解决上溢出和下溢出的问题，在计算Softmax函数时，可以使用$x_k - \\max(\\mathbf x)$代替$x_k$。 此时，通过减去最大值，$x_k$最大为0，避免了上溢出的问题；同时，分母中至少会包含一个值为1的项，从而也避免了下溢出的问题。\n",
    "\n",
    "Softmax函数的代码实现如下："
   ]
  },
  {
   "cell_type": "code",
   "execution_count": 30,
   "metadata": {
    "collapsed": false
   },
   "outputs": [
    {
     "name": "stdout",
     "output_type": "stream",
     "text": [
      "Tensor(shape=[2, 4], dtype=float32, place=CUDAPlace(0), stop_gradient=True,\n",
      "       [[0.21383820, 0.23632778, 0.26118261, 0.28865141],\n",
      "        [0.03205860, 0.08714432, 0.23688284, 0.64391422]])\n"
     ]
    }
   ],
   "source": [
    "# x为tensor\n",
    "def softmax(X):\n",
    "    \"\"\"\n",
    "    输入：\n",
    "        - X：shape=[N, C]，N为向量数量，C为向量维度\n",
    "    \"\"\"\n",
    "    x_max = paddle.max(X, axis=1, keepdim=True)#N,1\n",
    "    x_exp = paddle.exp(X - x_max)\n",
    "    partition = paddle.sum(x_exp, axis=1, keepdim=True)#N,1\n",
    "    return x_exp / partition\n",
    "\n",
    "# 观察softmax的计算方式\n",
    "X = paddle.to_tensor([[0.1, 0.2, 0.3, 0.4],[1,2,3,4]])\n",
    "predict = softmax(X)\n",
    "print(predict)"
   ]
  },
  {
   "cell_type": "markdown",
   "metadata": {
    "collapsed": false
   },
   "source": [
    "#### 3.2.2.2 Softmax回归算子\n",
    "\n",
    "在Softmax回归中，类别标签$y\\in\\{1,2,…,C\\}$。给定一个样本$\\mathbf x$，使用Softmax回归预测的属于类别$c$的条件概率为\n",
    "\n",
    "$$\n",
    "\\begin{aligned}\n",
    "p(y=c|\\mathbf x) &= \\mathrm{softmax}(\\mathbf w_c^T \\mathbf x+b_c)，（3.12）\n",
    "\\end{aligned}\n",
    "$$\n",
    "\n",
    "其中$\\mathbf w_c$是第 $c$ 类的权重向量，$b_c$是第 $c$ 类的偏置。\n",
    "\n",
    "Softmax回归模型其实就是线性函数与Softmax函数的组合。\n",
    "\n",
    "将$N$个样本归为一组进行成批地预测。\n",
    "\n",
    "$$\n",
    "\\hat{\\mathbf Y} = \\mathrm{softmax}(\\boldsymbol{X} \\boldsymbol{W} + \\mathbf b), (3.13)\n",
    "$$\n",
    "\n",
    "其中$\\boldsymbol{X}\\in \\mathbb{R}^{N\\times D}$为$N$个样本的特征矩阵，$\\boldsymbol{W}=[\\mathbf w_1,……,\\mathbf w_C]$为$C$个类的权重向量组成的矩阵，$\\hat{\\mathbf Y}\\in \\mathbb{R}^{C}$为所有类别的预测条件概率组成的矩阵。\n",
    "\n",
    "我们根据公式（3.13）实现Softmax回归算子，代码实现如下："
   ]
  },
  {
   "cell_type": "code",
   "execution_count": 31,
   "metadata": {
    "collapsed": false
   },
   "outputs": [
    {
     "name": "stdout",
     "output_type": "stream",
     "text": [
      "Input is: Tensor(shape=[1, 4], dtype=float32, place=CUDAPlace(0), stop_gradient=True,\n",
      "       [[-0.51168263, -0.10752964,  0.67060655,  0.26857111]])\n",
      "Output is: Tensor(shape=[1, 3], dtype=float32, place=CUDAPlace(0), stop_gradient=True,\n",
      "       [[0.33333334, 0.33333334, 0.33333334]])\n"
     ]
    }
   ],
   "source": [
    "class model_SR(op.Op):\n",
    "    def __init__(self, input_dim, output_dim):\n",
    "        super(model_SR, self).__init__()\n",
    "        self.params = {}\n",
    "        # 将线性层的权重参数全部初始化为0\n",
    "        self.params['W'] = paddle.zeros(shape=[input_dim, output_dim])\n",
    "        # self.params['W'] = paddle.normal(mean=0, std=0.01, shape=[input_dim, output_dim])\n",
    "        # 将线性层的偏置参数初始化为0\n",
    "        self.params['b'] = paddle.zeros(shape=[output_dim])\n",
    "        self.outputs = None\n",
    "\n",
    "    def __call__(self, inputs):\n",
    "        return self.forward(inputs)\n",
    "\n",
    "    def forward(self, inputs):\n",
    "        \"\"\"\n",
    "        输入：\n",
    "            - inputs: shape=[N,D], N是样本数量，D是特征维度\n",
    "        输出：\n",
    "            - outputs：预测值，shape=[N,C]，C是类别数\n",
    "        \"\"\"\n",
    "        # 线性计算\n",
    "        score = paddle.matmul(inputs, self.params['W']) + self.params['b']\n",
    "        # Softmax 函数\n",
    "        self.outputs = softmax(score)\n",
    "        return self.outputs\n",
    "\n",
    "# 随机生成1条长度为4的数据\n",
    "inputs = paddle.randn(shape=[1,4])\n",
    "print('Input is:', inputs)\n",
    "# 实例化模型，这里令输入长度为4，输出类别数为3\n",
    "model = model_SR(input_dim=4, output_dim=3)\n",
    "outputs = model(inputs)\n",
    "print('Output is:', outputs)"
   ]
  },
  {
   "cell_type": "markdown",
   "metadata": {
    "collapsed": false
   },
   "source": [
    "从输出结果可以看出，采用全0初始化后，属于每个类别的条件概率均为$\\frac{1}{C}$。这是因为，不论输入值的大小为多少，线性函数$f(\\mathbf x;\\mathbf W,\\mathbf b)$的输出值恒为0。此时，再经过Softmax函数的处理，每个类别的条件概率恒等。"
   ]
  },
  {
   "cell_type": "markdown",
   "metadata": {
    "collapsed": false
   },
   "source": [
    "### 3.2.3 损失函数\n",
    "\n",
    "Softmax回归同样使用交叉熵损失作为损失函数，并使用梯度下降法对参数进行优化。通常使用$C$维的one-hot类型向量$\\mathbf y \\in \\{0,1\\}^C$来表示多分类任务中的类别标签。对于类别$c$，其向量表示为：\n",
    "\n",
    "$$\n",
    "\\mathbf y = [I(1=c),I(2=c),…,I(C=c)]^T，（3.14）\n",
    "$$\n",
    "\n",
    "其中$I(·)$是指示函数，即括号内的输入为“真”，$I(·)=1$；否则，$I(·)=0$。\n",
    "\n",
    "给定有$N$个训练样本的训练集$\\{(\\mathbf x^{(n)},y^{(n)})\\} ^N_{n=1}$，令$\\hat{\\mathbf y}^{(n)}=\\mathrm{softmax}(\\mathbf W^ \\mathrm{ T } \\mathbf x^{(n)}+\\mathbf b)$为样本$\\mathbf x^{(n)}$在每个类别的后验概率。多分类问题的交叉熵损失函数定义为：\n",
    "\n",
    "$$\n",
    "\\cal R(\\mathbf W,\\mathbf b) = -\\frac{1}{N}\\sum_{n=1}^N (\\mathbf y^{(n)})^ \\mathrm{ T } \\log\\hat{\\mathbf y}^{(n)} = -\\frac{1}{N}\\sum_{n=1}^N \\sum_{c=1}^C \\mathbf y_c^{(n)} \\log\\hat{\\mathbf y}_c^{(n)}.（3.15）\n",
    "$$\n",
    "\n",
    "观察上式，$\\mathbf y_c^{(n)}$在$c$为真实类别时为1，其余都为0。也就是说，交叉熵损失只关心正确类别的预测概率，因此，上式又可以优化为：\n",
    "\n",
    "$$\n",
    "\\cal R(\\mathbf W,\\mathbf b) = -\\frac{1}{N}\\sum_{n=1}^N \\log [\\hat{\\mathbf y}^{(n)}]_{y^{(n)}},（3.16）\n",
    "$$\n",
    "\n",
    "其中$y^{(n)}$是第$n$个样本的标签。\n",
    "\n",
    "因此，多类交叉熵损失函数的代码实现如下："
   ]
  },
  {
   "cell_type": "code",
   "execution_count": 32,
   "metadata": {
    "collapsed": false
   },
   "outputs": [
    {
     "name": "stdout",
     "output_type": "stream",
     "text": [
      "Tensor(shape=[1], dtype=float32, place=CUDAPlace(0), stop_gradient=True,\n",
      "       [1.09861231])\n"
     ]
    }
   ],
   "source": [
    "class MultiCrossEntropyLoss(op.Op):\n",
    "    def __init__(self):\n",
    "        self.predicts = None\n",
    "        self.labels = None\n",
    "        self.num = None\n",
    "\n",
    "    def __call__(self, predicts, labels):\n",
    "        return self.forward(predicts, labels)\n",
    "\n",
    "    def forward(self, predicts, labels):\n",
    "        \"\"\"\n",
    "        输入：\n",
    "            - predicts：预测值，shape=[N, 1]，N为样本数量\n",
    "            - labels：真实标签，shape=[N, 1]\n",
    "        输出：\n",
    "            - 损失值：shape=[1]\n",
    "        \"\"\"\n",
    "        self.predicts = predicts\n",
    "        self.labels = labels\n",
    "        self.num = self.predicts.shape[0]\n",
    "        loss = 0\n",
    "        for i in range(0, self.num):\n",
    "            index = self.labels[i]\n",
    "            loss -= paddle.log(self.predicts[i][index])\n",
    "        return loss / self.num\n",
    "\n",
    "# 测试一下\n",
    "# 假设真实标签为第1类\n",
    "labels = paddle.to_tensor([0])\n",
    "# 计算风险函数\n",
    "mce_loss = MultiCrossEntropyLoss()\n",
    "print(mce_loss(outputs, labels))"
   ]
  },
  {
   "cell_type": "markdown",
   "metadata": {
    "collapsed": false
   },
   "source": [
    "### 3.2.4 模型优化\n",
    "\n",
    "使用梯度下降法进行参数学习。\n",
    "\n",
    "#### 3.2.4.1 梯度计算\n",
    "\n",
    "计算风险函数$\\cal R(\\mathbf W,\\mathbf b)$关于参数$\\mathbf W$和$\\mathbf b$的偏导数。在Softmax回归中，计算方法为：\n",
    "\n",
    "$$\n",
    "\\frac{\\partial \\cal R(\\mathbf W,\\mathbf b)}{\\partial \\mathbf W} = -\\frac{1}{N}\\sum_{n=1}^N \\mathbf x^{(n)}(y^{(n)}- \\hat{ y}^{(n)})^T = -\\frac{1}{N} \\mathbf X^ \\mathrm{ T } (\\mathbf y- \\hat{\\mathbf y}),（3.17）\n",
    "$$\n",
    "\n",
    "$$\n",
    "\\frac{\\partial \\cal R(\\mathbf W,\\mathbf b)}{\\partial \\mathbf b} = -\\frac{1}{N}\\sum_{n=1}^N (y^{(n)}- \\hat{y}^{(n)})^T = -\\frac{1}{N} \\mathbf 1 (\\mathbf y- \\hat{\\mathbf y}).（3.18）\n",
    "$$\n",
    "\n",
    "其中$\\mathbf X\\in \\mathbb{R}^{N\\times D}$为$N$个样本组成的矩阵，$\\mathbf y\\in \\mathbb{R}^{N}$为$N$个样本标签组成的向量，$\\hat{\\mathbf y}\\in \\mathbb{R}^{N}$为$N$个样本的预测标签组成的向量，$\\mathbf{1}$为$N$维的全1向量。\n",
    "\n",
    "将上述计算方法定义在模型的`backward`函数中，代码实现如下："
   ]
  },
  {
   "cell_type": "code",
   "execution_count": 33,
   "metadata": {
    "collapsed": false
   },
   "outputs": [],
   "source": [
    "class model_SR(op.Op):\n",
    "    def __init__(self, input_dim, output_dim):\n",
    "        super(model_SR, self).__init__()\n",
    "        self.params = {}\n",
    "        # 将线性层的权重参数全部初始化为0\n",
    "        self.params['W'] = paddle.zeros(shape=[input_dim, output_dim])\n",
    "        # self.params['W'] = paddle.normal(mean=0, std=0.01, shape=[input_dim, output_dim])\n",
    "        # 将线性层的偏置参数初始化为0\n",
    "        self.params['b'] = paddle.zeros(shape=[output_dim])\n",
    "        # 存放参数的梯度\n",
    "        self.grads = {}\n",
    "        self.X = None\n",
    "        self.outputs = None\n",
    "        self.output_dim = output_dim\n",
    "\n",
    "    def __call__(self, inputs):\n",
    "        return self.forward(inputs)\n",
    "\n",
    "    def forward(self, inputs):\n",
    "        self.X = inputs\n",
    "        # 线性计算\n",
    "        score = paddle.matmul(self.X, self.params['W']) + self.params['b']\n",
    "        # Softmax 函数\n",
    "        self.outputs = softmax(score)\n",
    "        return self.outputs\n",
    "\n",
    "    def backward(self, labels):\n",
    "        \"\"\"\n",
    "        输入：\n",
    "            - labels：真实标签，shape=[N, 1]，其中N为样本数量\n",
    "        \"\"\"\n",
    "        # 计算偏导数\n",
    "        N =labels.shape[0]\n",
    "        labels = paddle.nn.functional.one_hot(labels, self.output_dim)\n",
    "        self.grads['W'] = -1 / N * paddle.matmul(self.X.t(), (labels-self.outputs))\n",
    "        self.grads['b'] = -1 / N * paddle.matmul(paddle.ones(shape=[N]), (labels-self.outputs))"
   ]
  },
  {
   "cell_type": "markdown",
   "metadata": {
    "collapsed": false
   },
   "source": [
    "#### 3.2.4.2 参数更新\n",
    "\n",
    "在计算参数的梯度之后，我们使用3.1.4.2中实现的梯度下降法进行参数更新。"
   ]
  },
  {
   "cell_type": "markdown",
   "metadata": {
    "collapsed": false
   },
   "source": [
    "### 3.2.5 模型训练\n",
    "\n",
    "实例化RunnerV2类，并传入训练配置。使用训练集和验证集进行模型训练，共训练500个epoch。每隔50个epoch打印训练集上的指标。代码实现如下："
   ]
  },
  {
   "cell_type": "code",
   "execution_count": 34,
   "metadata": {
    "collapsed": false
   },
   "outputs": [
    {
     "name": "stdout",
     "output_type": "stream",
     "text": [
      "best accuracy performence has been updated: 0.00000 --> 0.71250\n",
      "[Train] epoch: 0, loss: 1.098615050315857, score: 0.3453125059604645\n",
      "[Dev] epoch: 0, loss: 1.0776067972183228, score: 0.7124999761581421\n",
      "best accuracy performence has been updated: 0.71250 --> 0.71875\n",
      "best accuracy performence has been updated: 0.71875 --> 0.72500\n",
      "best accuracy performence has been updated: 0.72500 --> 0.73125\n",
      "best accuracy performence has been updated: 0.73125 --> 0.73750\n",
      "best accuracy performence has been updated: 0.73750 --> 0.74375\n",
      "best accuracy performence has been updated: 0.74375 --> 0.75625\n",
      "best accuracy performence has been updated: 0.75625 --> 0.76250\n",
      "best accuracy performence has been updated: 0.76250 --> 0.76875\n",
      "[Train] epoch: 100, loss: 0.6804651618003845, score: 0.8015625476837158\n",
      "[Dev] epoch: 100, loss: 0.7366783618927002, score: 0.768750011920929\n",
      "[Train] epoch: 200, loss: 0.6404480338096619, score: 0.8140625357627869\n",
      "[Dev] epoch: 200, loss: 0.7034932971000671, score: 0.7625000476837158\n",
      "best accuracy performence has been updated: 0.76875 --> 0.76875\n",
      "[Train] epoch: 300, loss: 0.6286336779594421, score: 0.817187488079071\n",
      "[Dev] epoch: 300, loss: 0.6940505504608154, score: 0.7625000476837158\n",
      "[Train] epoch: 400, loss: 0.6242581009864807, score: 0.815625011920929\n",
      "[Dev] epoch: 400, loss: 0.6909448504447937, score: 0.7625000476837158\n"
     ]
    },
    {
     "data": {
      "image/png": "[encoded data removed]",
      "text/plain": [
       "<Figure size 720x360 with 2 Axes>"
      ]
     },
     "metadata": {},
     "output_type": "display_data"
    }
   ],
   "source": [
    "# 固定随机种子，保持每次运行结果一致\n",
    "paddle.seed(102)\n",
    "\n",
    "# 特征维度\n",
    "input_dim = 2\n",
    "# 类别数\n",
    "output_dim = 3\n",
    "# 学习率\n",
    "lr = 0.1\n",
    "\n",
    "# 实例化模型\n",
    "model = model_SR(input_dim=input_dim, output_dim=output_dim)\n",
    "# 指定优化器\n",
    "optimizer = SimpleBatchGD(init_lr=lr, model=model)\n",
    "# 指定损失函数\n",
    "loss_fn = MultiCrossEntropyLoss()\n",
    "# 指定评价方式\n",
    "metric = accuracy\n",
    "# 实例化RunnerV2类\n",
    "runner = RunnerV2(model, optimizer, metric, loss_fn)\n",
    "\n",
    "# 模型训练\n",
    "runner.train([X_train, y_train], [X_dev, y_dev], num_epochs=500, log_eopchs=50, eval_epochs=1, save_path=\"best_model.pdparams\")\n",
    "\n",
    "# 可视化观察训练集与验证集的准确率变化情况\n",
    "plot(runner,fig_name='linear-acc2.pdf')"
   ]
  },
  {
   "cell_type": "markdown",
   "metadata": {
    "collapsed": false
   },
   "source": [
    "### 3.2.6 模型评价\n",
    "\n",
    "使用测试集对训练完成后的最终模型进行评价，观察模型在测试集上的准确率。代码实现如下："
   ]
  },
  {
   "cell_type": "code",
   "execution_count": 35,
   "metadata": {
    "collapsed": false
   },
   "outputs": [
    {
     "name": "stdout",
     "output_type": "stream",
     "text": [
      "[Test] score/loss: 0.7750/0.6583\n"
     ]
    }
   ],
   "source": [
    "score, loss = runner.evaluate([X_test, y_test])\n",
    "print(\"[Test] score/loss: {:.4f}/{:.4f}\".format(score, loss))"
   ]
  },
  {
   "cell_type": "markdown",
   "metadata": {
    "collapsed": false
   },
   "source": [
    "可视化观察类别划分结果。"
   ]
  },
  {
   "cell_type": "code",
   "execution_count": 36,
   "metadata": {
    "collapsed": false
   },
   "outputs": [
    {
     "data": {
      "text/plain": [
       "<matplotlib.collections.PathCollection at 0x7fe18c6ba910>"
      ]
     },
     "execution_count": 36,
     "metadata": {},
     "output_type": "execute_result"
    },
    {
     "data": {
      "image/png": "[encoded data removed]",
      "text/plain": [
       "<Figure size 432x288 with 1 Axes>"
      ]
     },
     "metadata": {},
     "output_type": "display_data"
    }
   ],
   "source": [
    "# 均匀生成40000个数据点\n",
    "x1, x2 = paddle.meshgrid(paddle.linspace(-3.5, 2, 200), paddle.linspace(-4.5, 3.5, 200))\n",
    "x = paddle.stack([paddle.flatten(x1), paddle.flatten(x2)], axis=1)\n",
    "# 预测对应类别\n",
    "y = runner.predict(x)\n",
    "y = paddle.argmax(y, axis=1)\n",
    "# 绘制类别区域\n",
    "plt.ylabel('x2')\n",
    "plt.xlabel('x1')\n",
    "plt.scatter(x[:,0].tolist(), x[:,1].tolist(), c=y.tolist(), cmap=plt.cm.Spectral)\n",
    "\n",
    "paddle.seed(102)\n",
    "n_samples = 1000\n",
    "X, y = make_multiclass_classification(n_samples=n_samples, n_features=2, n_classes=3, noise=0.2)\n",
    "\n",
    "plt.scatter(X[:, 0].tolist(), X[:, 1].tolist(), marker='*', c=y.tolist())"
   ]
  },
  {
   "cell_type": "markdown",
   "metadata": {
    "collapsed": false
   },
   "source": [
    "**********\n",
    "\n",
    "**拓展**\n",
    "\n",
    "提前停止是在使用梯度下降法进行模型优化时常用的正则化方法。对于某些拟合能力非常强的机器学习算法，当训练轮数较多时，容易发生过拟合现象，即在训练集上错误率很低，但是在未知数据（或测试集）上错误率很高。为了解决这一问题，通常会在模型优化时，使用验证集上的错误代替期望错误。当验证集上的错误率不在下降时，就停止迭代。\n",
    "\n",
    "在3.4.3节的实验中，模型训练过程中会按照提前停止的思想保存验证集上的最优模型。\n",
    "\n",
    "**********"
   ]
  }
 ],
 "metadata": {
  "kernelspec": {
   "display_name": "Python 3",
   "language": "python",
   "name": "py35-paddle1.2.0"
  },
  "language_info": {
   "codemirror_mode": {
    "name": "ipython",
    "version": 3
   },
   "file_extension": ".py",
   "mimetype": "text/x-python",
   "name": "python",
   "nbconvert_exporter": "python",
   "pygments_lexer": "ipython3",
   "version": "3.7.4"
  }
 },
 "nbformat": 4,
 "nbformat_minor": 1
}
