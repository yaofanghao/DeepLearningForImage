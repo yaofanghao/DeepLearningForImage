{
 "cells": [
  {
   "cell_type": "code",
   "execution_count": null,
   "metadata": {},
   "outputs": [],
   "source": [
    "import cv2\n",
    "import numpy as np\n",
    "import math\n",
    "\n",
    "# 参数设置\n",
    "mode = 0  # 0:img 1:video\n",
    "img_path = \"imgfire/2.jpg\"\n",
    "video_file = \"video3.mp4\"\n",
    "video = cv2.VideoCapture(video_file)\n",
    "# video = cv2.VideoCapture(0)\n",
    "\n",
    "# # 转为hsi空间\n",
    "# def rgb2hsi(img_rgb):\n",
    "#     rows = int(img_rgb.shape[0])\n",
    "#     cols = int(img_rgb.shape[1])\n",
    "#     B, G, R = cv2.split(img_rgb)\n",
    "#     # 归一化到[0,1]\n",
    "#     B = B / 255.0\n",
    "#     G = G / 255.0\n",
    "#     R = R / 255.0\n",
    "#     img_hsi = img_rgb.copy()\n",
    "#     H, S, I = cv2.split(img_hsi)\n",
    "#     for i in range(rows):\n",
    "#         for j in range(cols):\n",
    "#             num = 0.5 * ((R[i, j] - G[i, j]) + (R[i, j] - B[i, j]))\n",
    "#             den = np.sqrt((R[i, j] - G[i, j]) ** 2 + (R[i, j] - B[i, j]) * (G[i, j] - B[i, j]))\n",
    "#             theta = float(np.arccos(num / den))\n",
    "#\n",
    "#             if den == 0:\n",
    "#                 H = 0\n",
    "#             elif B[i, j] <= G[i, j]:\n",
    "#                 H = theta\n",
    "#             else:\n",
    "#                 H = 2 * np.pi - theta\n",
    "#\n",
    "#             min_RGB = min(min(B[i, j], G[i, j]), R[i, j])\n",
    "#             sum = B[i, j] + G[i, j] + R[i, j]\n",
    "#             if sum == 0:\n",
    "#                 S = 0\n",
    "#             else:\n",
    "#                 S = 1 - 3 * min_RGB / sum\n",
    "#\n",
    "#             H = H / (2 * np.pi)\n",
    "#             I = sum / 3.0\n",
    "#\n",
    "#             # 为了便于理解，常常对结果做扩充，即 [0°，360°],[0,100],[0,255]\n",
    "#             img_hsi[i, j, 0] = H * 360\n",
    "#             img_hsi[i, j, 1] = S * 100\n",
    "#             img_hsi[i, j, 2] = I * 255\n",
    "#\n",
    "#             # 或者为了便于计算直方图，都扩充为0~255（同RGB）\n",
    "#             # img_hsi[i, j, 0] = H * 255\n",
    "#             # img_hsi[i, j, 1] = S * 255\n",
    "#             # img_hsi[i, j, 2] = I * 255\n",
    "#\n",
    "#     return img_hsi\n"
   ]
  },
  {
   "cell_type": "markdown",
   "metadata": {},
   "source": [
    "# 图片处理"
   ]
  },
  {
   "cell_type": "code",
   "execution_count": null,
   "metadata": {},
   "outputs": [],
   "source": [
    "# if mode == 0:\n",
    "img = cv2.imread(img_path)\n",
    "blur = cv2.GaussianBlur(img, (7, 7), 0)\n",
    "rgb = cv2.cvtColor(blur, cv2.COLOR_BGR2RGB)\n",
    "rgb\n"
   ]
  },
  {
   "cell_type": "code",
   "execution_count": null,
   "metadata": {},
   "outputs": [],
   "source": [
    "rows = int(rgb.shape[0])\n",
    "cols = int(rgb.shape[1])\n",
    "rows"
   ]
  },
  {
   "cell_type": "code",
   "execution_count": null,
   "metadata": {},
   "outputs": [],
   "source": [
    "rows*cols"
   ]
  },
  {
   "cell_type": "code",
   "execution_count": null,
   "metadata": {},
   "outputs": [],
   "source": [
    "B, G, R = cv2.split(rgb)\n",
    "R"
   ]
  },
  {
   "cell_type": "code",
   "execution_count": null,
   "metadata": {},
   "outputs": [],
   "source": [
    "G"
   ]
  },
  {
   "cell_type": "code",
   "execution_count": null,
   "metadata": {},
   "outputs": [],
   "source": [
    "B"
   ]
  },
  {
   "cell_type": "code",
   "execution_count": null,
   "metadata": {},
   "outputs": [],
   "source": [
    "# 归一化到[0,1]\n",
    "B = B / 255.0\n",
    "G = G / 255.0\n",
    "R = R / 255.0\n",
    "R"
   ]
  },
  {
   "cell_type": "code",
   "execution_count": null,
   "metadata": {},
   "outputs": [],
   "source": [
    "R[0,0]"
   ]
  },
  {
   "cell_type": "code",
   "execution_count": null,
   "metadata": {},
   "outputs": [],
   "source": [
    "# num1 = 0\n",
    "# for i in range(rows):\n",
    "#     for j in range(cols):\n",
    "#         if (R[i, j] > 155/255.0):\n",
    "#             num1 +=1\n",
    "# print(num1)"
   ]
  },
  {
   "cell_type": "code",
   "execution_count": null,
   "metadata": {},
   "outputs": [],
   "source": [
    "# num2 = 0\n",
    "# for i in range(rows):\n",
    "#     for j in range(cols):\n",
    "#         if (R[i, j] - G[i, j] > 26/255.0):\n",
    "#             num2 +=1\n",
    "# print(num2)"
   ]
  },
  {
   "cell_type": "code",
   "execution_count": null,
   "metadata": {},
   "outputs": [],
   "source": [
    "# num3= 0\n",
    "# for i in range(rows):\n",
    "#     for j in range(cols):\n",
    "#         if (G[i, j] - B[i, j] > 26/255.0):\n",
    "#             num3 +=1\n",
    "# print(num3)"
   ]
  },
  {
   "cell_type": "code",
   "execution_count": null,
   "metadata": {},
   "outputs": [],
   "source": [
    "# # 失败，参考该文献的方法，不存在满足条件的像素点\n",
    "# t1 = 155 / 255.0\n",
    "# t2 = 26 / 255.0\n",
    "# t3 = 26 / 255.0\n",
    "\n",
    "# num = 0\n",
    "# mask = rgb.copy()\n",
    "# for i in range(rows):\n",
    "#     for j in range(cols):\n",
    "#         if (R[i, j] > t1):\n",
    "#         # if (R[i, j] > t1) & (R[i, j] - G[i, j] > t2) & (G[i, j] - B[i, j] > t3):\n",
    "#             mask[i, j, 0] = 255\n",
    "#             mask[i, j, 1] = 255\n",
    "#             mask[i, j, 2] = 255\n",
    "#             num+=1\n",
    "#         else:\n",
    "#             mask[i, j, 0] = 0\n",
    "#             mask[i, j, 1] = 0\n",
    "#             mask[i, j, 2] = 0\n",
    "# print(num)\n",
    "\n",
    "# mask"
   ]
  },
  {
   "cell_type": "code",
   "execution_count": null,
   "metadata": {},
   "outputs": [],
   "source": [
    "num = 0\n",
    "mask = rgb.copy()\n",
    "for i in range(rows):\n",
    "    for j in range(cols):\n",
    "        if (R[i, j] > 90/255.0) & (R[i, j] < 110/255.0):\n",
    "            mask[i, j, 0] = 0\n",
    "            mask[i, j, 1] = 0\n",
    "            mask[i, j, 2] = 0\n",
    "            num+=1\n",
    "        else:\n",
    "            mask[i, j, 0] = 255\n",
    "            mask[i, j, 1] = 255\n",
    "            mask[i, j, 2] = 255\n",
    "print(num)\n",
    "\n",
    "output = cv2.bitwise_and(rgb*255, mask)"
   ]
  },
  {
   "cell_type": "code",
   "execution_count": null,
   "metadata": {},
   "outputs": [],
   "source": [
    "cv2.imshow(\"output\", output)\n",
    "cv2.waitKey()\n",
    "cv2.destroyAllWindows()\n"
   ]
  },
  {
   "cell_type": "markdown",
   "metadata": {},
   "source": [
    "# 视频处理"
   ]
  },
  {
   "cell_type": "code",
   "execution_count": null,
   "metadata": {},
   "outputs": [],
   "source": [
    "# while True:\n",
    "#     (grabbed, frame) = video.read()\n",
    "#     if not grabbed:\n",
    "#         break\n",
    "\n",
    "#     blur = cv2.GaussianBlur(frame, (21, 21), 0)\n",
    "#     hsv = cv2.cvtColor(blur, cv2.COLOR_BGR2HSV)\n",
    "#     # h, s, i, hsi = rgb2hsi(frame)\n",
    "\n",
    "#     # 根据情况需要调整阈值上下限\n",
    "#     lower = [0, 20, 100]\n",
    "#     upper = [20, 100, 255]\n",
    "\n",
    "#     lower = np.array(lower, dtype=\"uint8\")\n",
    "#     upper = np.array(upper, dtype=\"uint8\")\n",
    "#     mask = cv2.inRange(hsv, lower, upper)\n",
    "#     # mask = cv2.inRange(hsi, lower, upper)\n",
    "\n",
    "#     output = cv2.bitwise_and(frame, hsv, mask=mask)\n",
    "#     no_red = cv2.countNonZero(mask)\n",
    "#     # output = cv2.bitwise_and(frame, hsi, mask=mask)\n",
    "#     # no_red = cv2.countNonZero(mask)\n",
    "\n",
    "#     cv2.imshow(\"output\", output)\n",
    "#     print(\"output:\", frame)\n",
    "#     if int(no_red) > 20000:\n",
    "#         print('Fire detected')\n",
    "#     # print(int(no_red))\n",
    "#     # print(\"output:\".format(mask))\n",
    "#     if cv2.waitKey(1) & 0xFF == ord('q'):\n",
    "#         break\n",
    "\n",
    "# cv2.destroyAllWindows()\n",
    "# video.release()"
   ]
  }
 ],
 "metadata": {
  "interpreter": {
   "hash": "86007600e5b6c9a1da171e7306281d2c726c74e7e11364567bf42e8cc5d33bac"
  },
  "kernelspec": {
   "display_name": "Python 3.7.8 64-bit (system)",
   "language": "python",
   "name": "python3"
  },
  "language_info": {
   "codemirror_mode": {
    "name": "ipython",
    "version": 3
   },
   "file_extension": ".py",
   "mimetype": "text/x-python",
   "name": "python",
   "nbconvert_exporter": "python",
   "pygments_lexer": "ipython3",
   "version": "3.7.8"
  },
  "orig_nbformat": 4
 },
 "nbformat": 4,
 "nbformat_minor": 2
}
